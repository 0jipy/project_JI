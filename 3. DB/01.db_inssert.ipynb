{
 "cells": [
  {
   "cell_type": "code",
   "execution_count": 2,
   "metadata": {},
   "outputs": [
    {
     "name": "stdout",
     "output_type": "stream",
     "text": [
      "Requirement already satisfied: sqlalchemy in c:\\users\\jlune\\.conda\\envs\\vv\\lib\\site-packages (1.4.7)\n",
      "Requirement already satisfied: greenlet!=0.4.17 in c:\\users\\jlune\\.conda\\envs\\vv\\lib\\site-packages (from sqlalchemy) (1.0.0)\n"
     ]
    }
   ],
   "source": [
    "# install\n",
    "\n",
    "# notebook에서 (코랩, vscode) mysql에 데이터 넣기 위한 라이브러리 설치\n",
    "!pip install sqlalchemy\n",
    "!pip install pymysql"
   ]
  },
  {
   "cell_type": "code",
   "execution_count": 20,
   "metadata": {},
   "outputs": [],
   "source": [
    "# 데이터 불러오기 \n",
    "import pandas as pd\n",
    "import numpy as np\n",
    "import re"
   ]
  },
  {
   "cell_type": "code",
   "execution_count": 22,
   "metadata": {},
   "outputs": [
    {
     "data": {
      "text/html": [
       "<div>\n",
       "<style scoped>\n",
       "    .dataframe tbody tr th:only-of-type {\n",
       "        vertical-align: middle;\n",
       "    }\n",
       "\n",
       "    .dataframe tbody tr th {\n",
       "        vertical-align: top;\n",
       "    }\n",
       "\n",
       "    .dataframe thead th {\n",
       "        text-align: right;\n",
       "    }\n",
       "</style>\n",
       "<table border=\"1\" class=\"dataframe\">\n",
       "  <thead>\n",
       "    <tr style=\"text-align: right;\">\n",
       "      <th></th>\n",
       "      <th>title_kor</th>\n",
       "      <th>opening_date</th>\n",
       "      <th>just_rating</th>\n",
       "      <th>imdb_rating</th>\n",
       "      <th>runtime</th>\n",
       "      <th>synopsis</th>\n",
       "      <th>director</th>\n",
       "      <th>actors</th>\n",
       "      <th>genre</th>\n",
       "      <th>posterLink</th>\n",
       "      <th>netflix</th>\n",
       "      <th>disney</th>\n",
       "      <th>wavve</th>\n",
       "      <th>watcha</th>\n",
       "    </tr>\n",
       "  </thead>\n",
       "  <tbody>\n",
       "    <tr>\n",
       "      <th>0</th>\n",
       "      <td>황무지의 괴물</td>\n",
       "      <td>2022</td>\n",
       "      <td>54%</td>\n",
       "      <td>4.6</td>\n",
       "      <td>1시간31분</td>\n",
       "      <td>19세기 외딴 황무지에 세상과 단절된 채 살아가는 가족이 있다. 이 집의 어린 아들...</td>\n",
       "      <td>NaN</td>\n",
       "      <td>InmaCuesta,AsierFlores,RobertoÁlamo,AlejandraH...</td>\n",
       "      <td>공포,스릴러,드라마</td>\n",
       "      <td>https://images.justwatch.com/poster/259066109/...</td>\n",
       "      <td>1</td>\n",
       "      <td>0</td>\n",
       "      <td>0</td>\n",
       "      <td>0</td>\n",
       "    </tr>\n",
       "    <tr>\n",
       "      <th>1</th>\n",
       "      <td>홈 팀</td>\n",
       "      <td>2022</td>\n",
       "      <td>74%</td>\n",
       "      <td>6</td>\n",
       "      <td>1시간35분</td>\n",
       "      <td>자격 정지 처분을 받은 NFL 감독 숀 페이턴. 아들이 선수로 뛰는 형편없는 유소년...</td>\n",
       "      <td>CharlesKinnane,DanielKinnane</td>\n",
       "      <td>KevinJames,TaylorLautner,RobSchneider,JackieSa...</td>\n",
       "      <td>코미디,스포츠</td>\n",
       "      <td>https://images.justwatch.com/poster/261668749/...</td>\n",
       "      <td>1</td>\n",
       "      <td>0</td>\n",
       "      <td>0</td>\n",
       "      <td>0</td>\n",
       "    </tr>\n",
       "  </tbody>\n",
       "</table>\n",
       "</div>"
      ],
      "text/plain": [
       "  title_kor  opening_date just_rating imdb_rating runtime  \\\n",
       "0   황무지의 괴물          2022         54%         4.6  1시간31분   \n",
       "1       홈 팀          2022         74%           6  1시간35분   \n",
       "\n",
       "                                            synopsis  \\\n",
       "0  19세기 외딴 황무지에 세상과 단절된 채 살아가는 가족이 있다. 이 집의 어린 아들...   \n",
       "1  자격 정지 처분을 받은 NFL 감독 숀 페이턴. 아들이 선수로 뛰는 형편없는 유소년...   \n",
       "\n",
       "                       director  \\\n",
       "0                           NaN   \n",
       "1  CharlesKinnane,DanielKinnane   \n",
       "\n",
       "                                              actors       genre  \\\n",
       "0  InmaCuesta,AsierFlores,RobertoÁlamo,AlejandraH...  공포,스릴러,드라마   \n",
       "1  KevinJames,TaylorLautner,RobSchneider,JackieSa...     코미디,스포츠   \n",
       "\n",
       "                                          posterLink  netflix  disney  wavve  \\\n",
       "0  https://images.justwatch.com/poster/259066109/...        1       0      0   \n",
       "1  https://images.justwatch.com/poster/261668749/...        1       0      0   \n",
       "\n",
       "   watcha  \n",
       "0       0  \n",
       "1       0  "
      ]
     },
     "execution_count": 22,
     "metadata": {},
     "output_type": "execute_result"
    }
   ],
   "source": [
    "df_movie = pd.read_csv(r'./data/movie_db0331.csv')\n",
    "df_movie.head(2)"
   ]
  },
  {
   "cell_type": "code",
   "execution_count": 23,
   "metadata": {},
   "outputs": [
    {
     "data": {
      "text/plain": [
       "title_kor       0\n",
       "opening_date    0\n",
       "just_rating     0\n",
       "imdb_rating     0\n",
       "runtime         0\n",
       "synopsis        0\n",
       "director        0\n",
       "actors          0\n",
       "genre           0\n",
       "posterLink      0\n",
       "netflix         0\n",
       "disney          0\n",
       "wavve           0\n",
       "watcha          0\n",
       "dtype: int64"
      ]
     },
     "execution_count": 23,
     "metadata": {},
     "output_type": "execute_result"
    }
   ],
   "source": [
    "# ProgrammingError: nan can not be used with MySQL 에러 방지\n",
    "# MySQL이 파이썬의 NaN을 받아들이지 못하므로, 모두 None로 변경한다.\n",
    "df_movie = df_movie.where(pd.isnull(df_movie), None)\n",
    "pd.notnull(df_movie).sum() "
   ]
  },
  {
   "cell_type": "code",
   "execution_count": 30,
   "metadata": {},
   "outputs": [
    {
     "name": "stdout",
     "output_type": "stream",
     "text": [
      "['title_kor' 'opening_date' 'just_rating' 'imdb_rating' 'runtime'\n",
      " 'synopsis' 'director' 'actors' 'genre' 'posterLink' 'netflix' 'disney'\n",
      " 'wavve' 'watcha']\n"
     ]
    }
   ],
   "source": [
    "print(df_movie.columns.values)"
   ]
  },
  {
   "cell_type": "code",
   "execution_count": 34,
   "metadata": {},
   "outputs": [
    {
     "name": "stdout",
     "output_type": "stream",
     "text": [
      "title_kor, opening_date, just_rating, imdb_rating, runtime, synopsis, director, actors, genre, posterLink, netflix, disney, wavve, watcha, "
     ]
    }
   ],
   "source": [
    "for i in df_movie.columns.values:\n",
    "    print(i, end=', ')"
   ]
  },
  {
   "cell_type": "code",
   "execution_count": 27,
   "metadata": {},
   "outputs": [],
   "source": [
    "data = df_movie"
   ]
  },
  {
   "cell_type": "code",
   "execution_count": null,
   "metadata": {},
   "outputs": [],
   "source": [
    "#\n",
    "테이블명.\n",
    "컬럼명 str\n"
   ]
  },
  {
   "cell_type": "code",
   "execution_count": null,
   "metadata": {},
   "outputs": [],
   "source": [
    "with conn:\n",
    "    with conn.cursor() as cur:\n",
    "        cur.execute('CREATE DATABASE testdb')\n",
    "        conn.commit()"
   ]
  },
  {
   "cell_type": "code",
   "execution_count": null,
   "metadata": {},
   "outputs": [],
   "source": [
    "# 1. pymysql 설치 및 불러오기\n",
    "# pip install pymysql\n",
    "import pymysql\n",
    "\n",
    "# 2. 데이터베이스 연결\n",
    "db = pymysql.connect(host='3.35.111.73', port=3306, user='carbon', password='1111',\n",
    "                     charset='utf8')   # charset: 인코딩 설정\n",
    "\n",
    "# 3. curosr 사용\n",
    "cursor = db.cursor() \n",
    "\n",
    "# # 2. 데이터베이스 연결\n",
    "# db = pymysql.connect(host='3.35.111.73', port=3306, user='carbon', password='1111',\n",
    "#                      db='testdb', charset='utf8')   # charset: 인코딩 설정\n",
    "\n",
    "\n",
    "# 4. 쿼리문 작성\n",
    "# 컬럼명: 테이블의 컬럼명과 동일하게 입력\n",
    "# %s 개수: 컬럼 개수만큼 입력\n",
    "# sql = 'INSERT INTO disney(title ,opening_date ,just_rating ,imdb_rating ,runtime ,synopsis ,director ,actors ,genre ,poster_link, netflix, disneyplus, wavve, watcha) VALUES(%s, %s, %s, %s, %s, %s, %s, %s, %s, %s, %s,%s, %s, %s)'\n",
    "sql = 'INSERT INTO total(title_kor, opening_date, just_rating, imdb_rating, runtime, synopsis, director, actors, genre, posterLink, netflix, disney, wavve, watcha) VALUES(%s, %s, %s, %s, %s, %s, %s, %s, %s, %s, %s, %s, %s, %s)'\n",
    "\n",
    "cursor.execute('CREATE DATABASE testdb')\n",
    "\n",
    "\n",
    "\n",
    "# 5. 데이터 import\n",
    "for idx in range(len(data)):\n",
    "    cursor.execute(sql, tuple(data.values[idx]))\n",
    "\n",
    "# 6. 데이터베이스 업데이트 및 작업 종료\n",
    "db.commit() \n",
    "\n",
    "# 7. 데이터베이스 닫기 \n",
    "db.close()\n",
    "\n",
    "# 주의사항 ( csv파일에 오류가 생겼을지)\n",
    "# csv파일을 열었을시에 문자가 깨지는 현상이 발생하는 경우\n",
    "# 1. 해당 csv파일을 notepad(메모장)파일로 열고 (연결프로그램 -> 메모장)\n",
    "# 2. 다른 이름으로 저장 인코딩 (UTF-8(BOM)) 형태로 csv파일에 덮어 씌우기\n",
    "# 3. 그래도 오류가 발생 시 해당 csv파일을 열고난 후 파일형식 : CSV(쉼표로 분리)로 저장"
   ]
  },
  {
   "cell_type": "code",
   "execution_count": null,
   "metadata": {},
   "outputs": [],
   "source": [
    "conn = pymysql.connect(host='3.35.111.73',\n",
    "                       port=3306,\n",
    "                       user='carbon',\n",
    "                       password='1111',\n",
    "                       charset='utf8')\n",
    "\n",
    "\n",
    "with conn:\n",
    "    with conn.cursor() as cur:\n",
    "        cur.execute('CREATE DATABASE testdb')\n",
    "        conn.commit()"
   ]
  },
  {
   "cell_type": "markdown",
   "metadata": {},
   "source": [
    "크리에이트 까지 쓰려면 애초에 디비까지 들어가면 안되. 그냥 커넥트만. "
   ]
  },
  {
   "cell_type": "code",
   "execution_count": 86,
   "metadata": {},
   "outputs": [],
   "source": [
    "import pymysql\n",
    "\n",
    "# 커넥트 생성\n",
    "conn = pymysql.connect(host='3.35.111.73', port=3306, user='carbon', password='1111',\n",
    "                     charset='utf8')   # charset: 인코딩 설정\n",
    "\n",
    "# 커서 생성\n",
    "cursor = conn.cursor()\n",
    "\n",
    "\n",
    "### 쿼리문 실행.\n",
    "\n",
    "cursor.execute('CREATE DATABASE bblue')  # 디비 만들기\n",
    "cursor.execute('USE bblue')   # 디비 선택\n",
    "\n",
    "# 테이블 만들기 및 실행.\n",
    "sql1 = '''CREATE TABLE bblue.user(\n",
    "        id int(11) NOT NULL AUTO_INCREMENT PRIMARY KEY,\n",
    "        name varchar(255),\n",
    "        email varchar(255)\n",
    "        )\n",
    "        '''\n",
    "cursor.execute(sql1)\n",
    "\n",
    "# user table 에 값 insert\n",
    "sql2 = \"INSERT INTO user (name, email) VALUES (%s, %s)\"\n",
    "\n",
    "sql3 = \"SELECT * FROM user ORDER BY name\"\n",
    "\n",
    "with conn:\n",
    "    with conn.cursor() as cur:\n",
    "        cur.execute(sql2, ('Jaehee', 'jaehee@example.com'))\n",
    "        cur.execute(sql2, ('Jeongeun', 'jeongeun@example.com'))\n",
    "        cur.execute(sql3)\n",
    "        conn.commit()"
   ]
  },
  {
   "cell_type": "code",
   "execution_count": null,
   "metadata": {},
   "outputs": [],
   "source": [
    "db = pymysql.connect(host='3.35.111.73', port=3306, user='carbon', password='1111',\n",
    "                     charset='utf8')   # charset: 인코딩 설정"
   ]
  },
  {
   "cell_type": "markdown",
   "metadata": {},
   "source": [
    "CREATE DATABASE"
   ]
  },
  {
   "cell_type": "code",
   "execution_count": 80,
   "metadata": {},
   "outputs": [],
   "source": [
    "import pymysql\n",
    "\n",
    "# conn = pymysql.connect(host='localhost',\n",
    "#                        user='testuser',\n",
    "#                        password='password!@',\n",
    "#                        charset='utf8')\n",
    "\n",
    "conn = pymysql.connect(host='3.35.111.73',\n",
    "                       port=3306,\n",
    "                       user='carbon',\n",
    "                       password='1111',\n",
    "                       charset='utf8')\n",
    "\n",
    "\n",
    "with conn:\n",
    "    with conn.cursor() as cur:\n",
    "        cur.execute('CREATE DATABASE testdb')\n",
    "        conn.commit()\n",
    "\n"
   ]
  },
  {
   "cell_type": "markdown",
   "metadata": {},
   "source": [
    "SHOW DATABASES"
   ]
  },
  {
   "cell_type": "code",
   "execution_count": 75,
   "metadata": {},
   "outputs": [
    {
     "name": "stdout",
     "output_type": "stream",
     "text": [
      "('MOVIS_db',)\n",
      "('blue',)\n",
      "('information_schema',)\n",
      "('jikbang',)\n",
      "('mysql',)\n",
      "('performance_schema',)\n",
      "('testdb',)\n",
      "('world',)\n",
      "('z_proj',)\n"
     ]
    },
    {
     "ename": "Error",
     "evalue": "Already closed",
     "output_type": "error",
     "traceback": [
      "\u001b[1;31m---------------------------------------------------------------------------\u001b[0m",
      "\u001b[1;31mInterfaceError\u001b[0m                            Traceback (most recent call last)",
      "\u001b[1;32m<ipython-input-75-3bad9f4a7efc>\u001b[0m in \u001b[0;36m<module>\u001b[1;34m\u001b[0m\n\u001b[0;32m     31\u001b[0m     \u001b[1;32mwith\u001b[0m \u001b[0mconn\u001b[0m\u001b[1;33m.\u001b[0m\u001b[0mcursor\u001b[0m\u001b[1;33m(\u001b[0m\u001b[1;33m)\u001b[0m \u001b[1;32mas\u001b[0m \u001b[0mcur\u001b[0m\u001b[1;33m:\u001b[0m\u001b[1;33m\u001b[0m\u001b[1;33m\u001b[0m\u001b[0m\n\u001b[1;32m---> 32\u001b[1;33m         \u001b[0mcur\u001b[0m\u001b[1;33m.\u001b[0m\u001b[0mexecute\u001b[0m\u001b[1;33m(\u001b[0m\u001b[0msql\u001b[0m\u001b[1;33m)\u001b[0m\u001b[1;33m\u001b[0m\u001b[1;33m\u001b[0m\u001b[0m\n\u001b[0m\u001b[0;32m     33\u001b[0m         \u001b[0mconn\u001b[0m\u001b[1;33m.\u001b[0m\u001b[0mcommit\u001b[0m\u001b[1;33m(\u001b[0m\u001b[1;33m)\u001b[0m\u001b[1;33m\u001b[0m\u001b[1;33m\u001b[0m\u001b[0m\n",
      "\u001b[1;32m~\\.conda\\envs\\vv\\lib\\site-packages\\pymysql\\cursors.py\u001b[0m in \u001b[0;36mexecute\u001b[1;34m(self, query, args)\u001b[0m\n\u001b[0;32m    147\u001b[0m \u001b[1;33m\u001b[0m\u001b[0m\n\u001b[1;32m--> 148\u001b[1;33m         \u001b[0mresult\u001b[0m \u001b[1;33m=\u001b[0m \u001b[0mself\u001b[0m\u001b[1;33m.\u001b[0m\u001b[0m_query\u001b[0m\u001b[1;33m(\u001b[0m\u001b[0mquery\u001b[0m\u001b[1;33m)\u001b[0m\u001b[1;33m\u001b[0m\u001b[1;33m\u001b[0m\u001b[0m\n\u001b[0m\u001b[0;32m    149\u001b[0m         \u001b[0mself\u001b[0m\u001b[1;33m.\u001b[0m\u001b[0m_executed\u001b[0m \u001b[1;33m=\u001b[0m \u001b[0mquery\u001b[0m\u001b[1;33m\u001b[0m\u001b[1;33m\u001b[0m\u001b[0m\n",
      "\u001b[1;32m~\\.conda\\envs\\vv\\lib\\site-packages\\pymysql\\cursors.py\u001b[0m in \u001b[0;36m_query\u001b[1;34m(self, q)\u001b[0m\n\u001b[0;32m    309\u001b[0m         \u001b[0mself\u001b[0m\u001b[1;33m.\u001b[0m\u001b[0m_clear_result\u001b[0m\u001b[1;33m(\u001b[0m\u001b[1;33m)\u001b[0m\u001b[1;33m\u001b[0m\u001b[1;33m\u001b[0m\u001b[0m\n\u001b[1;32m--> 310\u001b[1;33m         \u001b[0mconn\u001b[0m\u001b[1;33m.\u001b[0m\u001b[0mquery\u001b[0m\u001b[1;33m(\u001b[0m\u001b[0mq\u001b[0m\u001b[1;33m)\u001b[0m\u001b[1;33m\u001b[0m\u001b[1;33m\u001b[0m\u001b[0m\n\u001b[0m\u001b[0;32m    311\u001b[0m         \u001b[0mself\u001b[0m\u001b[1;33m.\u001b[0m\u001b[0m_do_get_result\u001b[0m\u001b[1;33m(\u001b[0m\u001b[1;33m)\u001b[0m\u001b[1;33m\u001b[0m\u001b[1;33m\u001b[0m\u001b[0m\n",
      "\u001b[1;32m~\\.conda\\envs\\vv\\lib\\site-packages\\pymysql\\connections.py\u001b[0m in \u001b[0;36mquery\u001b[1;34m(self, sql, unbuffered)\u001b[0m\n\u001b[0;32m    546\u001b[0m             \u001b[0msql\u001b[0m \u001b[1;33m=\u001b[0m \u001b[0msql\u001b[0m\u001b[1;33m.\u001b[0m\u001b[0mencode\u001b[0m\u001b[1;33m(\u001b[0m\u001b[0mself\u001b[0m\u001b[1;33m.\u001b[0m\u001b[0mencoding\u001b[0m\u001b[1;33m,\u001b[0m \u001b[1;34m\"surrogateescape\"\u001b[0m\u001b[1;33m)\u001b[0m\u001b[1;33m\u001b[0m\u001b[1;33m\u001b[0m\u001b[0m\n\u001b[1;32m--> 547\u001b[1;33m         \u001b[0mself\u001b[0m\u001b[1;33m.\u001b[0m\u001b[0m_execute_command\u001b[0m\u001b[1;33m(\u001b[0m\u001b[0mCOMMAND\u001b[0m\u001b[1;33m.\u001b[0m\u001b[0mCOM_QUERY\u001b[0m\u001b[1;33m,\u001b[0m \u001b[0msql\u001b[0m\u001b[1;33m)\u001b[0m\u001b[1;33m\u001b[0m\u001b[1;33m\u001b[0m\u001b[0m\n\u001b[0m\u001b[0;32m    548\u001b[0m         \u001b[0mself\u001b[0m\u001b[1;33m.\u001b[0m\u001b[0m_affected_rows\u001b[0m \u001b[1;33m=\u001b[0m \u001b[0mself\u001b[0m\u001b[1;33m.\u001b[0m\u001b[0m_read_query_result\u001b[0m\u001b[1;33m(\u001b[0m\u001b[0munbuffered\u001b[0m\u001b[1;33m=\u001b[0m\u001b[0munbuffered\u001b[0m\u001b[1;33m)\u001b[0m\u001b[1;33m\u001b[0m\u001b[1;33m\u001b[0m\u001b[0m\n",
      "\u001b[1;32m~\\.conda\\envs\\vv\\lib\\site-packages\\pymysql\\connections.py\u001b[0m in \u001b[0;36m_execute_command\u001b[1;34m(self, command, sql)\u001b[0m\n\u001b[0;32m    792\u001b[0m         \u001b[1;32mif\u001b[0m \u001b[1;32mnot\u001b[0m \u001b[0mself\u001b[0m\u001b[1;33m.\u001b[0m\u001b[0m_sock\u001b[0m\u001b[1;33m:\u001b[0m\u001b[1;33m\u001b[0m\u001b[1;33m\u001b[0m\u001b[0m\n\u001b[1;32m--> 793\u001b[1;33m             \u001b[1;32mraise\u001b[0m \u001b[0merr\u001b[0m\u001b[1;33m.\u001b[0m\u001b[0mInterfaceError\u001b[0m\u001b[1;33m(\u001b[0m\u001b[1;36m0\u001b[0m\u001b[1;33m,\u001b[0m \u001b[1;34m\"\"\u001b[0m\u001b[1;33m)\u001b[0m\u001b[1;33m\u001b[0m\u001b[1;33m\u001b[0m\u001b[0m\n\u001b[0m\u001b[0;32m    794\u001b[0m \u001b[1;33m\u001b[0m\u001b[0m\n",
      "\u001b[1;31mInterfaceError\u001b[0m: (0, '')",
      "\nDuring handling of the above exception, another exception occurred:\n",
      "\u001b[1;31mError\u001b[0m                                     Traceback (most recent call last)",
      "\u001b[1;32m<ipython-input-75-3bad9f4a7efc>\u001b[0m in \u001b[0;36m<module>\u001b[1;34m\u001b[0m\n\u001b[0;32m     31\u001b[0m     \u001b[1;32mwith\u001b[0m \u001b[0mconn\u001b[0m\u001b[1;33m.\u001b[0m\u001b[0mcursor\u001b[0m\u001b[1;33m(\u001b[0m\u001b[1;33m)\u001b[0m \u001b[1;32mas\u001b[0m \u001b[0mcur\u001b[0m\u001b[1;33m:\u001b[0m\u001b[1;33m\u001b[0m\u001b[1;33m\u001b[0m\u001b[0m\n\u001b[0;32m     32\u001b[0m         \u001b[0mcur\u001b[0m\u001b[1;33m.\u001b[0m\u001b[0mexecute\u001b[0m\u001b[1;33m(\u001b[0m\u001b[0msql\u001b[0m\u001b[1;33m)\u001b[0m\u001b[1;33m\u001b[0m\u001b[1;33m\u001b[0m\u001b[0m\n\u001b[1;32m---> 33\u001b[1;33m         \u001b[0mconn\u001b[0m\u001b[1;33m.\u001b[0m\u001b[0mcommit\u001b[0m\u001b[1;33m(\u001b[0m\u001b[1;33m)\u001b[0m\u001b[1;33m\u001b[0m\u001b[1;33m\u001b[0m\u001b[0m\n\u001b[0m",
      "\u001b[1;32m~\\.conda\\envs\\vv\\lib\\site-packages\\pymysql\\connections.py\u001b[0m in \u001b[0;36m__exit__\u001b[1;34m(***failed resolving arguments***)\u001b[0m\n\u001b[0;32m    358\u001b[0m     \u001b[1;32mdef\u001b[0m \u001b[0m__exit__\u001b[0m\u001b[1;33m(\u001b[0m\u001b[0mself\u001b[0m\u001b[1;33m,\u001b[0m \u001b[1;33m*\u001b[0m\u001b[0mexc_info\u001b[0m\u001b[1;33m)\u001b[0m\u001b[1;33m:\u001b[0m\u001b[1;33m\u001b[0m\u001b[1;33m\u001b[0m\u001b[0m\n\u001b[0;32m    359\u001b[0m         \u001b[1;32mdel\u001b[0m \u001b[0mexc_info\u001b[0m\u001b[1;33m\u001b[0m\u001b[1;33m\u001b[0m\u001b[0m\n\u001b[1;32m--> 360\u001b[1;33m         \u001b[0mself\u001b[0m\u001b[1;33m.\u001b[0m\u001b[0mclose\u001b[0m\u001b[1;33m(\u001b[0m\u001b[1;33m)\u001b[0m\u001b[1;33m\u001b[0m\u001b[1;33m\u001b[0m\u001b[0m\n\u001b[0m\u001b[0;32m    361\u001b[0m \u001b[1;33m\u001b[0m\u001b[0m\n\u001b[0;32m    362\u001b[0m     \u001b[1;32mdef\u001b[0m \u001b[0m_create_ssl_ctx\u001b[0m\u001b[1;33m(\u001b[0m\u001b[0mself\u001b[0m\u001b[1;33m,\u001b[0m \u001b[0msslp\u001b[0m\u001b[1;33m)\u001b[0m\u001b[1;33m:\u001b[0m\u001b[1;33m\u001b[0m\u001b[1;33m\u001b[0m\u001b[0m\n",
      "\u001b[1;32m~\\.conda\\envs\\vv\\lib\\site-packages\\pymysql\\connections.py\u001b[0m in \u001b[0;36mclose\u001b[1;34m(self)\u001b[0m\n\u001b[0;32m    402\u001b[0m         \"\"\"\n\u001b[0;32m    403\u001b[0m         \u001b[1;32mif\u001b[0m \u001b[0mself\u001b[0m\u001b[1;33m.\u001b[0m\u001b[0m_closed\u001b[0m\u001b[1;33m:\u001b[0m\u001b[1;33m\u001b[0m\u001b[1;33m\u001b[0m\u001b[0m\n\u001b[1;32m--> 404\u001b[1;33m             \u001b[1;32mraise\u001b[0m \u001b[0merr\u001b[0m\u001b[1;33m.\u001b[0m\u001b[0mError\u001b[0m\u001b[1;33m(\u001b[0m\u001b[1;34m\"Already closed\"\u001b[0m\u001b[1;33m)\u001b[0m\u001b[1;33m\u001b[0m\u001b[1;33m\u001b[0m\u001b[0m\n\u001b[0m\u001b[0;32m    405\u001b[0m         \u001b[0mself\u001b[0m\u001b[1;33m.\u001b[0m\u001b[0m_closed\u001b[0m \u001b[1;33m=\u001b[0m \u001b[1;32mTrue\u001b[0m\u001b[1;33m\u001b[0m\u001b[1;33m\u001b[0m\u001b[0m\n\u001b[0;32m    406\u001b[0m         \u001b[1;32mif\u001b[0m \u001b[0mself\u001b[0m\u001b[1;33m.\u001b[0m\u001b[0m_sock\u001b[0m \u001b[1;32mis\u001b[0m \u001b[1;32mNone\u001b[0m\u001b[1;33m:\u001b[0m\u001b[1;33m\u001b[0m\u001b[1;33m\u001b[0m\u001b[0m\n",
      "\u001b[1;31mError\u001b[0m: Already closed"
     ]
    }
   ],
   "source": [
    "import pymysql\n",
    "\n",
    "# conn = pymysql.connect(host='localhost',\n",
    "#                        user='testuser',\n",
    "#                        password='Fktm068**',\n",
    "#                        db='testdb',\n",
    "#                        charset='utf8')\n",
    "\n",
    "conn = pymysql.connect(host='3.35.111.73',\n",
    "                       port=3306,\n",
    "                       user='carbon',\n",
    "                       password='1111',\n",
    "                       charset='utf8')\n",
    "\n",
    "sql = 'SHOW DATABASES'\n",
    "\n",
    "with conn:\n",
    "    with conn.cursor() as cur:\n",
    "        cur.execute(sql)\n",
    "        for data in cur:\n",
    "            print(data)\n"
   ]
  },
  {
   "cell_type": "markdown",
   "metadata": {},
   "source": [
    "CREATE TABLE"
   ]
  },
  {
   "cell_type": "code",
   "execution_count": null,
   "metadata": {},
   "outputs": [],
   "source": [
    "import pymysql\n",
    "\n",
    "# conn = pymysql.connect(host='localhost',\n",
    "#                        user='testuser',\n",
    "#                        password='Fktm068**',\n",
    "#                        db='testdb',\n",
    "#                        charset='utf8')\n",
    "\n",
    "conn = pymysql.connect(host='3.35.111.73',\n",
    "                       port=3306,\n",
    "                       user='carbon',\n",
    "                       password='1111',\n",
    "                       db='testdb',\n",
    "                       charset='utf8')\n",
    "\n",
    "sql = '''CREATE TABLE user (\n",
    "        id int(11) NOT NULL AUTO_INCREMENT PRIMARY KEY,\n",
    "        name varchar(255),\n",
    "        email varchar(255)\n",
    "        )\n",
    "        '''\n",
    "\n",
    "with conn:\n",
    "    with conn.cursor() as cur:\n",
    "        cur.execute(sql)\n",
    "        conn.commit()"
   ]
  },
  {
   "cell_type": "markdown",
   "metadata": {},
   "source": [
    "SHOW TABLES FROM testdb"
   ]
  },
  {
   "cell_type": "code",
   "execution_count": 60,
   "metadata": {},
   "outputs": [
    {
     "name": "stdout",
     "output_type": "stream",
     "text": [
      "('user',)\n"
     ]
    }
   ],
   "source": [
    "conn = pymysql.connect(host='3.35.111.73',\n",
    "                       port=3306,\n",
    "                       user='carbon',\n",
    "                       password='1111',\n",
    "                       charset='utf8')\n",
    "\n",
    "sql = 'SHOW TABLES FROM testdb' # from testdb 로 셀렉트가 되는듯. \n",
    "\n",
    "with conn:\n",
    "    with conn.cursor() as cur:\n",
    "        cur.execute(sql)\n",
    "        for data in cur:\n",
    "            print(data)"
   ]
  },
  {
   "cell_type": "markdown",
   "metadata": {},
   "source": [
    "show columns from user from testdb"
   ]
  },
  {
   "cell_type": "code",
   "execution_count": 61,
   "metadata": {},
   "outputs": [
    {
     "name": "stdout",
     "output_type": "stream",
     "text": [
      "('id', 'int', 'NO', 'PRI', None, 'auto_increment')\n",
      "('name', 'varchar(255)', 'YES', '', None, '')\n",
      "('email', 'varchar(255)', 'YES', '', None, '')\n"
     ]
    }
   ],
   "source": [
    "conn = pymysql.connect(host='3.35.111.73',\n",
    "                       port=3306,\n",
    "                       user='carbon',\n",
    "                       password='1111',\n",
    "                       charset='utf8')\n",
    "sql = 'show columns from user from testdb'\n",
    "with conn:\n",
    "    with conn.cursor() as cur:\n",
    "        cur.execute(sql)\n",
    "        for data in cur:\n",
    "            print(data)"
   ]
  },
  {
   "cell_type": "markdown",
   "metadata": {},
   "source": [
    "INSERT INTO user (name, email) VALUES (%s, %s)\n",
    " - 계속 추가 된다"
   ]
  },
  {
   "cell_type": "code",
   "execution_count": 64,
   "metadata": {},
   "outputs": [],
   "source": [
    "import pymysql\n",
    "\n",
    "# conn = pymysql.connect(host='localhost',\n",
    "#                        user='testuser',\n",
    "#                        password='Fktm068**',\n",
    "#                        db='testdb',\n",
    "#                        charset='utf8')\n",
    "\n",
    "conn = pymysql.connect(host='3.35.111.73',\n",
    "                       port=3306,\n",
    "                       user='carbon',\n",
    "                       password='1111',\n",
    "                       db='testdb',\n",
    "                       charset='utf8')\n",
    "\n",
    "sql = \"INSERT INTO user (name, email) VALUES (%s, %s)\"\n",
    "\n",
    "with conn:\n",
    "    with conn.cursor() as cur:\n",
    "        cur.execute(sql, ('Jaehee', 'jaehee@example.com'))\n",
    "        cur.execute(sql, ('Jeongeun', 'jeongeun@example.com'))\n",
    "        conn.commit()"
   ]
  },
  {
   "cell_type": "markdown",
   "metadata": {},
   "source": [
    "\"SELECT * FROM user ORDER BY name\""
   ]
  },
  {
   "cell_type": "code",
   "execution_count": 66,
   "metadata": {},
   "outputs": [
    {
     "name": "stdout",
     "output_type": "stream",
     "text": [
      "(1, 'Jaehee', 'jaehee@example.com')\n",
      "(3, 'Jaehee', 'jaehee@example.com')\n",
      "(5, 'Jaehee', 'jaehee@example.com')\n",
      "(2, 'Jeongeun', 'jeongeun@example.com')\n",
      "(4, 'Jeongeun', 'jeongeun@example.com')\n",
      "(6, 'Jeongeun', 'jeongeun@example.com')\n"
     ]
    }
   ],
   "source": [
    "import pymysql\n",
    "\n",
    "conn = pymysql.connect(host='3.35.111.73',\n",
    "                       port=3306,\n",
    "                       user='carbon',\n",
    "                       password='1111',\n",
    "                       db='testdb',\n",
    "                       charset='utf8')\n",
    "\n",
    "sql = \"SELECT * FROM user ORDER BY name\"\n",
    "\n",
    "with conn:\n",
    "    with conn.cursor() as cur:\n",
    "        cur.execute(sql)\n",
    "        result = cur.fetchall()\n",
    "        for data in result:\n",
    "            print(data)"
   ]
  },
  {
   "cell_type": "code",
   "execution_count": null,
   "metadata": {},
   "outputs": [],
   "source": []
  },
  {
   "cell_type": "code",
   "execution_count": null,
   "metadata": {},
   "outputs": [],
   "source": [
    "import pymysql\n",
    "\n",
    "path = \n",
    "\n",
    "# 커넥트 생성\n",
    "conn = pymysql.connect(host='3.35.111.73',\n",
    "                       port=3306,\n",
    "                       user='carbon',\n",
    "                       password='1111',\n",
    "                       db='testdb',\n",
    "                       charset='utf8')\n",
    "\n",
    "# 커서 생성\n",
    "cursor = conn.cursor()\n",
    "\n",
    "\n",
    "### 쿼리문 실행.\n",
    "\n",
    "cursor.execute('CREATE DATABASE bblue')  # 디비 만들기\n",
    "cursor.execute('USE bblue')   # 디비 선택\n",
    "\n",
    "# 테이블 만들기 및 실행.\n",
    "sql1 = '''CREATE TABLE bblue.user(\n",
    "        id int(11) NOT NULL AUTO_INCREMENT PRIMARY KEY,\n",
    "        name varchar(255),\n",
    "        email varchar(255)\n",
    "        )\n",
    "        '''\n",
    "cursor.execute(sql1)\n",
    "\n",
    "# user table 에 값 insert\n",
    "sql2 = \"INSERT INTO user (name, email) VALUES (%s, %s)\"\n",
    "\n",
    "sql3 = \"SELECT * FROM user ORDER BY name\"\n",
    "\n",
    "with conn:\n",
    "    with conn.cursor() as cur:\n",
    "        cur.execute(sql2, ('Jaehee', 'jaehee@example.com'))\n",
    "        cur.execute(sql2, ('Jeongeun', 'jeongeun@example.com'))\n",
    "        cur.execute(sql3)\n",
    "        conn.commit()"
   ]
  }
 ],
 "metadata": {
  "interpreter": {
   "hash": "e08354e700eb3ddbac8177cd6172bbfd21b8370c2ad096419acef00e0fcc09a0"
  },
  "kernelspec": {
   "display_name": "Python 3.8.8 ('vv')",
   "language": "python",
   "name": "python3"
  },
  "language_info": {
   "codemirror_mode": {
    "name": "ipython",
    "version": 3
   },
   "file_extension": ".py",
   "mimetype": "text/x-python",
   "name": "python",
   "nbconvert_exporter": "python",
   "pygments_lexer": "ipython3",
   "version": "3.8.8"
  },
  "orig_nbformat": 4
 },
 "nbformat": 4,
 "nbformat_minor": 2
}
