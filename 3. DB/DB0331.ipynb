{
 "cells": [
  {
   "cell_type": "markdown",
   "metadata": {},
   "source": [
    "## DB insert \n",
    "    - path 입력받아 DB insert : MySQL, AWS EC2  "
   ]
  },
  {
   "cell_type": "code",
   "execution_count": 1,
   "metadata": {},
   "outputs": [],
   "source": [
    "# install\n",
    "\n",
    "# !pip install pymysql"
   ]
  },
  {
   "cell_type": "code",
   "execution_count": 2,
   "metadata": {},
   "outputs": [],
   "source": [
    "import pandas as pd\n",
    "import numpy as np"
   ]
  },
  {
   "cell_type": "code",
   "execution_count": 3,
   "metadata": {},
   "outputs": [],
   "source": [
    "# df를 읽어올때 keep_default_na=False 옵션으로 NaN 값을 None으로 바꾸어 \n",
    "# MySQL 데이터 추가 시 에러를 방지한다. \n",
    "# 파일 패스를 지정해 주고 사용하면 된다.\n",
    "\n",
    "path = './synopsis_filter.csv'"
   ]
  },
  {
   "cell_type": "code",
   "execution_count": 4,
   "metadata": {},
   "outputs": [
    {
     "data": {
      "text/plain": [
       "serial         0\n",
       "title          0\n",
       "release        0\n",
       "just_rating    0\n",
       "imdb_rating    0\n",
       "runtime        0\n",
       "synopsis       0\n",
       "director       0\n",
       "actors         0\n",
       "genre          0\n",
       "poster_link    0\n",
       "netflix        0\n",
       "disney         0\n",
       "wavve          0\n",
       "watcha         0\n",
       "dtype: int64"
      ]
     },
     "execution_count": 4,
     "metadata": {},
     "output_type": "execute_result"
    }
   ],
   "source": [
    "# 데이터프레임 생성 # NaN 결측값을 확인한다.\n",
    "data = pd.read_csv(path, keep_default_na=False)\n",
    "data.isnull().sum()"
   ]
  },
  {
   "cell_type": "code",
   "execution_count": 7,
   "metadata": {},
   "outputs": [],
   "source": [
    "import pymysql\n",
    "\n",
    "# DB에 connect\n",
    "conn = pymysql.connect(host='3.35.111.73',\n",
    "                       port=3306,\n",
    "                       user='carbon',\n",
    "                       password='1111',\n",
    "                #        db='JI_MOVIS',\n",
    "                       db='testdb',\n",
    "                       charset='utf8')\n",
    "\n",
    "# 커서 생성\n",
    "cursor = conn.cursor()\n",
    "\n",
    "\"\"\" 쿼리문 작성 및 실행 \"\"\"\n",
    "\n",
    "# testdb 에 Base 테이블 생성\n",
    "sql1 = '''CREATE TABLE testdb.test0401\n",
    "        (       \n",
    "                MV_NO int(13) NOT NULL PRIMARY KEY,\n",
    "                TITLE varchar(4000),\n",
    "                OPEN_DATE varchar(1000),\n",
    "                JUST_RATING varchar(1000),\n",
    "                IMDB_RATING varchar(1000),\n",
    "                RUNTIME varchar(500),\n",
    "                SYNOPSIS text(65535),\n",
    "                DIRECTOR varchar(1000),\n",
    "                ACTORS text(100),\n",
    "                GENRE varchar(4000),\n",
    "                POSTER_LINK varchar(1000),\n",
    "                NETFLIX int,\n",
    "                DISNEY int,\n",
    "                WAVVE int,\n",
    "                WATCHA int\n",
    "        ) '''\n",
    "        \n",
    "cursor.execute(sql1)\n",
    "\n",
    "# user table 에 값 insert\n",
    "sql2 = '''INSERT INTO test0401 (MV_NO, TITLE, OPEN_DATE, JUST_RATING, IMDB_RATING, \n",
    "                RUNTIME, SYNOPSIS, DIRECTOR, ACTORS, GENRE, POSTER_LINK, NETFLIX, DISNEY, WAVVE, WATCHA) \n",
    "                VALUES(%s, %s, %s, %s, %s, %s, %s, %s, %s, %s, %s, %s, %s, %s, %s)'''\n",
    "                \n",
    "for idx in range(len(data)):\n",
    "    cursor.execute(sql2, tuple(data.values[idx]))  # data.values[idx] 는 배열이기에 튜플타입을 활용한다. \n",
    "\n",
    "conn.commit()\n",
    "conn.close()\n",
    "\n",
    "# with 방법을 고려하는 것도 가능하다. 오픈 클로즈 필요없이 with 구문이 끝나면 자동 종료된다. \n",
    "# 에러가 났을때 연결이 close() 되지 않는 것을 방지하는 차원에서 사용가능.\n",
    "\n",
    "# with conn:\n",
    "#     with conn.cursor() as cur:\n",
    "#         cur.execute(sql1)\n",
    "#         cur.execute(sql2, (value))\n",
    "#         cur.execute(sql2, (value))\n",
    "#         conn.commit()\n",
    "### 커밋 후 with 구문으로 자동 종료."
   ]
  },
  {
   "cell_type": "markdown",
   "metadata": {},
   "source": [
    "- MySQL data를 확인해보도록 하자. ROW에 입력되는 데이터는 다음과 같다."
   ]
  },
  {
   "cell_type": "code",
   "execution_count": null,
   "metadata": {},
   "outputs": [],
   "source": [
    "data.columns            # 컬럼 확인.\n",
    "data.values[1]          # ROW data 확인\n",
    "tuple(data.values[0])   # tuple 형태로 변환된 값 확인.  "
   ]
  },
  {
   "cell_type": "markdown",
   "metadata": {},
   "source": [
    "# 실제 사용 코드  _ 0401"
   ]
  },
  {
   "cell_type": "code",
   "execution_count": null,
   "metadata": {},
   "outputs": [],
   "source": [
    "import pymysql\n",
    "\n",
    "# DB에 connect\n",
    "conn = pymysql.connect(host='3.35.111.73',\n",
    "                       port=3306,\n",
    "                       user='carbon',\n",
    "                       password='1111',\n",
    "                       db='JI_MOVIS',  \n",
    "                       charset='utf8')\n",
    "\n",
    "# 커서 생성\n",
    "cursor = conn.cursor()\n",
    "\n",
    "\"\"\" 쿼리문 작성 및 실행 \"\"\"\n",
    "\n",
    "# testdb 에 Base 테이블 생성\n",
    "sql1 = '''CREATE TABLE JI_MOVIS.base\n",
    "        (       \n",
    "                MV_NO int(13) NOT NULL PRIMARY KEY,\n",
    "                TITLE varchar(4000),\n",
    "                OPEN_DATE varchar(1000),\n",
    "                JUST_RATING varchar(1000),\n",
    "                IMDB_RATING varchar(1000),\n",
    "                RUNTIME varchar(500),\n",
    "                SYNOPSIS text(65535),\n",
    "                DIRECTOR varchar(1000),\n",
    "                ACTORS text(100),\n",
    "                GENRE varchar(4000),\n",
    "                POSTER_LINK varchar(1000),\n",
    "                NETFLIX int,\n",
    "                DISNEY int,\n",
    "                WAVVE int,\n",
    "                WATCHA int\n",
    "        ) '''\n",
    "        \n",
    "cursor.execute(sql1)\n",
    "\n",
    "# user table 에 값 insert\n",
    "sql2 = '''INSERT INTO base (MV_NO, TITLE, OPEN_DATE, JUST_RATING, IMDB_RATING, \n",
    "                RUNTIME, SYNOPSIS, DIRECTOR, ACTORS, GENRE, POSTER_LINK, NETFLIX, DISNEY, WAVVE, WATCHA) \n",
    "                VALUES(%s, %s, %s, %s, %s, %s, %s, %s, %s, %s, %s, %s, %s, %s, %s)'''\n",
    "                \n",
    "for idx in range(len(data)):\n",
    "    cursor.execute(sql2, tuple(data.values[idx]))  # data.values[idx] 는 배열이기에 튜플타입을 활용한다. \n",
    "\n",
    "conn.commit()\n",
    "conn.close()"
   ]
  }
 ],
 "metadata": {
  "interpreter": {
   "hash": "e08354e700eb3ddbac8177cd6172bbfd21b8370c2ad096419acef00e0fcc09a0"
  },
  "kernelspec": {
   "display_name": "Python 3.8.8 ('vv')",
   "language": "python",
   "name": "python3"
  },
  "language_info": {
   "codemirror_mode": {
    "name": "ipython",
    "version": 3
   },
   "file_extension": ".py",
   "mimetype": "text/x-python",
   "name": "python",
   "nbconvert_exporter": "python",
   "pygments_lexer": "ipython3",
   "version": "3.8.8"
  },
  "orig_nbformat": 4
 },
 "nbformat": 4,
 "nbformat_minor": 2
}
