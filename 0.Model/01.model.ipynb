{
 "cells": [
  {
   "cell_type": "markdown",
   "metadata": {},
   "source": [
    "# 개발상의 유의점 \n",
    "\n",
    "1. 중복된 키값으로 추천을 받을 때 에러\n",
    "- ex) 연인 (1992 작), 연인 (2002 작) . 다른영화가 같은 키값으로 들어올때\n",
    "\n",
    "    recommand 함수가 영화를 특정하지 못해 에러가 발생. 그러나 두 영화에 임의로 레이블을 달아서 구분한다면. 다른 중복처리 또한 일반화가 안되는 문제. 그렇다고 중복데이터를 제거하기에는 두 영화 모두 가치가 있을때. 고민점.\n",
    "\n",
    "2. 필수코드. get_recommendation : 출처는 Ckworld ML ch07.추천시스템에서 도서추천때 개발된 코드이니 확인하시면 좋습니다.\n",
    "    - 핵심은 키(제목)값과 index 처리 이며. 제목을 인풋으로 넣고 인덱스를 돌려받아. 해당 인덱스를 가진 영화를 5개 보여주는 방식입니다."
   ]
  },
  {
   "cell_type": "code",
   "execution_count": 2,
   "metadata": {},
   "outputs": [],
   "source": [
    "#########\n",
    "\n",
    "# def get_recommendation(title, cos_sim=cos_sim):\n",
    "#     index = indices[title]\n",
    "#     sim_scores = pd.Series(cos_sim[index])\n",
    "#     movie_indices = sim_scores.sort_values(ascending=False).head(6).tail(5).index\n",
    "#     result = df_for_title.title.iloc[movie_indices]\n",
    "#     return result\n",
    "\n",
    "#########"
   ]
  },
  {
   "cell_type": "markdown",
   "metadata": {},
   "source": [
    "-"
   ]
  },
  {
   "cell_type": "code",
   "execution_count": 3,
   "metadata": {},
   "outputs": [],
   "source": [
    "import numpy as np\n",
    "import pandas as pd\n",
    "import warnings\n",
    "warnings.filterwarnings('ignore')\n",
    "\n",
    "# import missingno as msno\n",
    "# from sklearn.feature_extraction.text import TfidfVectorizer\n",
    "# from IPython.display import Image\n",
    "# from sklearn.metrics.pairwise import cosine_similarity  #코사인유사도. pariwise는 쌍대비교 (두개체가 동일한지, 얼마나 유사한지를 판단)"
   ]
  },
  {
   "cell_type": "code",
   "execution_count": 4,
   "metadata": {},
   "outputs": [],
   "source": [
    "# 데이터 경로는 각자환경에 맞게.\n",
    "df_temp = pd.read_excel(\"C:/Users/jlune/carbon/project_JI/0.Model/data/wavve_total.xlsx\", \n",
    "na_values='NaN')"
   ]
  },
  {
   "cell_type": "code",
   "execution_count": 5,
   "metadata": {},
   "outputs": [
    {
     "data": {
      "text/plain": [
       "(   Unnamed: 0  Unnamed: 0.1              제목     개봉일                평점  \\\n",
       " 0           0             0  반지의 제왕: 반지 원정대  (2001)     95%  8.9 (1m)   \n",
       " 1           1             1            남색대문  (2002)     79%  7.3 (3k)   \n",
       " 2           2             2       멀홀랜드 드라이브  (2001)   86%  7.9 (344k)   \n",
       " 3           3             3   해리 포터와 마법사의 돌  (2001)   87%  7.6 (743k)   \n",
       " 4           4             4           펄프 픽션  (1994)     95%  8.9 (1m)   \n",
       " \n",
       "                            장르     재생시간                  감독  \\\n",
       " 0              판타지 , 액션 , 드라마  2시간 59분       Peter Jackson   \n",
       " 1  드라마 , 로맨스 , Made in Europe  1시간 25분        Yee Chin-Yen   \n",
       " 2  스릴러 , 드라마 , Made in Europe  2시간 27분         David Lynch   \n",
       " 3               판타지 , 가족 , 액션  2시간 32분      Chris Columbus   \n",
       " 4              스릴러 , 범죄 , 드라마  2시간 34분   Quentin Tarantino   \n",
       " \n",
       "                                                  출연진  \\\n",
       " 0  Elijah Wood,Ian McKellen,Liv Tyler,Viggo Morte...   \n",
       " 1  Gwei Lun-mei,Chen Bolin,Liang Yolin,Chau Ching...   \n",
       " 2  Naomi Watts,Laura Harring,Justin Theroux,Ann M...   \n",
       " 3  Daniel Radcliffe,Rupert Grint,Emma Watson,Rich...   \n",
       " 4  John Travolta,Samuel L. Jackson,Uma Thurman,Br...   \n",
       " \n",
       "                                                 시놉시스  \n",
       " 0  호빗이라 불리우는 난장이 종족 중의 한 명인 프로도는 자신의 삼촌에게서 우연히 절대...  \n",
       " 1  고등학생인 커로우와 위에전은 자매처럼 지내는 단짝 친구이다. 위에전은 수영부의 장스...  \n",
       " 2  헐리웃 스타의 꿈을 안고 LA에 온 베티(나오미 왓츠)는 멀홀랜드 드라이브에서 일어...  \n",
       " 3  해리 포터는 위압적인 버논 숙부와 냉담한 이모 페투니아, 욕심 많고 버릇없는 사촌 ...  \n",
       " 4  펌프킨와 허니 버니가 레스토랑에서 강도 행각을 벌이기 시작한다. 빈센트와 그 동료 ...  ,\n",
       " 10821,\n",
       " Index(['Unnamed: 0', 'Unnamed: 0.1', '제목', '개봉일', '평점', '장르', '재생시간', '감독',\n",
       "        '출연진', '시놉시스'],\n",
       "       dtype='object'))"
      ]
     },
     "execution_count": 5,
     "metadata": {},
     "output_type": "execute_result"
    }
   ],
   "source": [
    "df_temp.head(), len(df_temp), df_temp.columns"
   ]
  },
  {
   "cell_type": "code",
   "execution_count": 6,
   "metadata": {},
   "outputs": [],
   "source": [
    "# 개봉년도 기준 sorting\n",
    "# index 초기화 및 필요컬럼 추출\n",
    "df_temp.sort_values(by='개봉일', ascending=False, inplace=True)\n",
    "df_temp.reset_index(inplace=True)\n",
    "df_temp = df_temp.loc[:,'제목':'시놉시스']"
   ]
  },
  {
   "cell_type": "code",
   "execution_count": 7,
   "metadata": {},
   "outputs": [
    {
     "data": {
      "text/html": [
       "<div>\n",
       "<style scoped>\n",
       "    .dataframe tbody tr th:only-of-type {\n",
       "        vertical-align: middle;\n",
       "    }\n",
       "\n",
       "    .dataframe tbody tr th {\n",
       "        vertical-align: top;\n",
       "    }\n",
       "\n",
       "    .dataframe thead th {\n",
       "        text-align: right;\n",
       "    }\n",
       "</style>\n",
       "<table border=\"1\" class=\"dataframe\">\n",
       "  <thead>\n",
       "    <tr style=\"text-align: right;\">\n",
       "      <th></th>\n",
       "      <th>제목</th>\n",
       "      <th>개봉일</th>\n",
       "      <th>평점</th>\n",
       "      <th>장르</th>\n",
       "      <th>재생시간</th>\n",
       "      <th>감독</th>\n",
       "      <th>출연진</th>\n",
       "      <th>시놉시스</th>\n",
       "    </tr>\n",
       "  </thead>\n",
       "  <tbody>\n",
       "    <tr>\n",
       "      <th>0</th>\n",
       "      <td>싱어송</td>\n",
       "      <td>(2022)</td>\n",
       "      <td>NaN</td>\n",
       "      <td>드라마</td>\n",
       "      <td>1시간 42분</td>\n",
       "      <td>Na O-heon</td>\n",
       "      <td>Heo Ga-yoon,Yoo Young-jae,Moon Ji Hoo</td>\n",
       "      <td>노래가 하고 싶어 무작정 서울로 상경한 ‘선혜’와\\n 하루 빨리 유명해지고 싶은 무...</td>\n",
       "    </tr>\n",
       "    <tr>\n",
       "      <th>1</th>\n",
       "      <td>특송</td>\n",
       "      <td>(2022)</td>\n",
       "      <td>71%  6.9</td>\n",
       "      <td>액션 , 범죄 , 스릴러</td>\n",
       "      <td>1시간 49분</td>\n",
       "      <td>Park Dae-min</td>\n",
       "      <td>Park So-dam,Kim Eui-sung,Song Sae-byuk,Yeom Hy...</td>\n",
       "      <td>예상치 못한 배송사고로 걷잡을 수 없는 사건에 휘말린 특송 전문 드라이버 은하. 어...</td>\n",
       "    </tr>\n",
       "    <tr>\n",
       "      <th>2</th>\n",
       "      <td>더 테러 라이브 인 하이스쿨</td>\n",
       "      <td>(2022)</td>\n",
       "      <td>46%  4.3</td>\n",
       "      <td>공포 , 스릴러</td>\n",
       "      <td>1시간 28분</td>\n",
       "      <td>Lee Ann Kurr</td>\n",
       "      <td>Montse Hernandez,Cheyenne Haynes,Anthony Keyva...</td>\n",
       "      <td>어릴 적부터 단짝이었던 제인과 메릿. 고등학교에 올라가면서 소원해진 관계를 회복하고...</td>\n",
       "    </tr>\n",
       "    <tr>\n",
       "      <th>3</th>\n",
       "      <td>셰터드</td>\n",
       "      <td>(2022)</td>\n",
       "      <td>64%  5.0</td>\n",
       "      <td>스릴러</td>\n",
       "      <td>1시간 32분</td>\n",
       "      <td>Luis Prieto</td>\n",
       "      <td>Cameron Monaghan,Lilly Krug,Frank Grillo,Sasha...</td>\n",
       "      <td>외딴 집에 사는 부유한 그는 완벽한 미모의 섹시한 그녀를 만나고 격정적인 밤을 보낸...</td>\n",
       "    </tr>\n",
       "    <tr>\n",
       "      <th>4</th>\n",
       "      <td>해리 포터 20주년: 리턴 투 호그와트</td>\n",
       "      <td>(2022)</td>\n",
       "      <td>89%  8.0 (34k)</td>\n",
       "      <td>다큐멘터리 , 가족</td>\n",
       "      <td>1시간 43분</td>\n",
       "      <td>Eran Creevy ,  Joe Pearlman ,  Casey Patterso...</td>\n",
       "      <td>Daniel Radcliffe,Rupert Grint,Emma Watson,Bonn...</td>\n",
       "      <td>‘해리포터와 마법사의 돌' 20주년 기념 스페셜. 다니엘 래드클리프, 루퍼트 그린트...</td>\n",
       "    </tr>\n",
       "    <tr>\n",
       "      <th>5</th>\n",
       "      <td>걸 위드 더 카메라</td>\n",
       "      <td>(2022)</td>\n",
       "      <td>NaN</td>\n",
       "      <td>다큐멘터리</td>\n",
       "      <td>1시간 9분</td>\n",
       "      <td>Ahn Hee-su</td>\n",
       "      <td>NaN</td>\n",
       "      <td>20대 초중반의 또래를 타깃으로 이미지의 중의적 의미, 그 사이의 괴리감에 대해 함...</td>\n",
       "    </tr>\n",
       "    <tr>\n",
       "      <th>6</th>\n",
       "      <td>트로트는 인생이다</td>\n",
       "      <td>(2022)</td>\n",
       "      <td>45%</td>\n",
       "      <td>드라마 , 코미디</td>\n",
       "      <td>1시간 16분</td>\n",
       "      <td>NaN</td>\n",
       "      <td>Jang So-young,Kim Kyung-Jin,Kim Sol-bi</td>\n",
       "      <td>트로트 가수 ‘신하’(김경진, 김동찬)는 최근 고민이 많다\\n 아무리 신곡을 내고 ...</td>\n",
       "    </tr>\n",
       "    <tr>\n",
       "      <th>7</th>\n",
       "      <td>키미</td>\n",
       "      <td>(2022)</td>\n",
       "      <td>75%  6.3 (14k)</td>\n",
       "      <td>스릴러 , 범죄 , 드라마</td>\n",
       "      <td>2시간 29분</td>\n",
       "      <td>Steven Soderbergh</td>\n",
       "      <td>Zoë Kravitz,Byron Bowers,Jaime Camil,Erika Chr...</td>\n",
       "      <td>코로나19가 덮친 시애틀, 광장 공포증 환자인 앤절라는 집을 두문불출하며  키미라는...</td>\n",
       "    </tr>\n",
       "    <tr>\n",
       "      <th>8</th>\n",
       "      <td>효자</td>\n",
       "      <td>(2022)</td>\n",
       "      <td>55%</td>\n",
       "      <td>공포 , 코미디</td>\n",
       "      <td>1시간 57분</td>\n",
       "      <td>Lee Hoon-guk</td>\n",
       "      <td>Kim Roi-ha,Lee Cheol-min,Jung Kyung-ho,Park Hy...</td>\n",
       "      <td>엄마가 돌아가시고 얼마 지나지 않아 닥친 태풍 소식에 5명의 형제들은 함께 산소를 ...</td>\n",
       "    </tr>\n",
       "    <tr>\n",
       "      <th>9</th>\n",
       "      <td>대한민국 대통령</td>\n",
       "      <td>(2022)</td>\n",
       "      <td>75%</td>\n",
       "      <td>다큐멘터리</td>\n",
       "      <td>1시간 11분</td>\n",
       "      <td>NaN</td>\n",
       "      <td>Lee Jae-myung,Yoon Suk-yeol,Sim Sang-jung,Ahn ...</td>\n",
       "      <td>5년마다 찾아오는 대한민국 최고의 이벤트 대선을 앞두고, 정치인부터 국민들에게 직접...</td>\n",
       "    </tr>\n",
       "  </tbody>\n",
       "</table>\n",
       "</div>"
      ],
      "text/plain": [
       "                      제목     개봉일               평점              장르     재생시간  \\\n",
       "0                    싱어송  (2022)              NaN             드라마  1시간 42분   \n",
       "1                     특송  (2022)         71%  6.9   액션 , 범죄 , 스릴러  1시간 49분   \n",
       "2        더 테러 라이브 인 하이스쿨  (2022)         46%  4.3        공포 , 스릴러  1시간 28분   \n",
       "3                    셰터드  (2022)         64%  5.0             스릴러  1시간 32분   \n",
       "4  해리 포터 20주년: 리턴 투 호그와트  (2022)   89%  8.0 (34k)      다큐멘터리 , 가족  1시간 43분   \n",
       "5             걸 위드 더 카메라  (2022)              NaN           다큐멘터리   1시간 9분   \n",
       "6              트로트는 인생이다  (2022)              45%       드라마 , 코미디  1시간 16분   \n",
       "7                     키미  (2022)   75%  6.3 (14k)  스릴러 , 범죄 , 드라마  2시간 29분   \n",
       "8                     효자  (2022)              55%        공포 , 코미디  1시간 57분   \n",
       "9               대한민국 대통령  (2022)              75%           다큐멘터리  1시간 11분   \n",
       "\n",
       "                                                  감독  \\\n",
       "0                                          Na O-heon   \n",
       "1                                       Park Dae-min   \n",
       "2                                       Lee Ann Kurr   \n",
       "3                                        Luis Prieto   \n",
       "4   Eran Creevy ,  Joe Pearlman ,  Casey Patterso...   \n",
       "5                                         Ahn Hee-su   \n",
       "6                                                NaN   \n",
       "7                                  Steven Soderbergh   \n",
       "8                                       Lee Hoon-guk   \n",
       "9                                                NaN   \n",
       "\n",
       "                                                 출연진  \\\n",
       "0              Heo Ga-yoon,Yoo Young-jae,Moon Ji Hoo   \n",
       "1  Park So-dam,Kim Eui-sung,Song Sae-byuk,Yeom Hy...   \n",
       "2  Montse Hernandez,Cheyenne Haynes,Anthony Keyva...   \n",
       "3  Cameron Monaghan,Lilly Krug,Frank Grillo,Sasha...   \n",
       "4  Daniel Radcliffe,Rupert Grint,Emma Watson,Bonn...   \n",
       "5                                                NaN   \n",
       "6             Jang So-young,Kim Kyung-Jin,Kim Sol-bi   \n",
       "7  Zoë Kravitz,Byron Bowers,Jaime Camil,Erika Chr...   \n",
       "8  Kim Roi-ha,Lee Cheol-min,Jung Kyung-ho,Park Hy...   \n",
       "9  Lee Jae-myung,Yoon Suk-yeol,Sim Sang-jung,Ahn ...   \n",
       "\n",
       "                                                시놉시스  \n",
       "0  노래가 하고 싶어 무작정 서울로 상경한 ‘선혜’와\\n 하루 빨리 유명해지고 싶은 무...  \n",
       "1  예상치 못한 배송사고로 걷잡을 수 없는 사건에 휘말린 특송 전문 드라이버 은하. 어...  \n",
       "2  어릴 적부터 단짝이었던 제인과 메릿. 고등학교에 올라가면서 소원해진 관계를 회복하고...  \n",
       "3  외딴 집에 사는 부유한 그는 완벽한 미모의 섹시한 그녀를 만나고 격정적인 밤을 보낸...  \n",
       "4  ‘해리포터와 마법사의 돌' 20주년 기념 스페셜. 다니엘 래드클리프, 루퍼트 그린트...  \n",
       "5  20대 초중반의 또래를 타깃으로 이미지의 중의적 의미, 그 사이의 괴리감에 대해 함...  \n",
       "6  트로트 가수 ‘신하’(김경진, 김동찬)는 최근 고민이 많다\\n 아무리 신곡을 내고 ...  \n",
       "7  코로나19가 덮친 시애틀, 광장 공포증 환자인 앤절라는 집을 두문불출하며  키미라는...  \n",
       "8  엄마가 돌아가시고 얼마 지나지 않아 닥친 태풍 소식에 5명의 형제들은 함께 산소를 ...  \n",
       "9  5년마다 찾아오는 대한민국 최고의 이벤트 대선을 앞두고, 정치인부터 국민들에게 직접...  "
      ]
     },
     "execution_count": 7,
     "metadata": {},
     "output_type": "execute_result"
    }
   ],
   "source": [
    "df_temp.head(10)"
   ]
  },
  {
   "cell_type": "markdown",
   "metadata": {},
   "source": [
    "- df 만들고 전처리 part"
   ]
  },
  {
   "cell_type": "code",
   "execution_count": 8,
   "metadata": {},
   "outputs": [],
   "source": [
    "# !pip install missingno"
   ]
  },
  {
   "cell_type": "code",
   "execution_count": 9,
   "metadata": {},
   "outputs": [
    {
     "name": "stdout",
     "output_type": "stream",
     "text": [
      "AxesSubplot(0.125,0.125;0.698618x0.755)\n",
      "Index(['제목', '개봉일', '평점', '장르', '재생시간', '감독', '출연진', '시놉시스'], dtype='object')\n"
     ]
    },
    {
     "data": {
      "image/png": "[encoded data removed]",
      "text/plain": [
       "<Figure size 1800x720 with 2 Axes>"
      ]
     },
     "metadata": {
      "needs_background": "light"
     },
     "output_type": "display_data"
    }
   ],
   "source": [
    "# 결측치를 시각적 표현으로 돌려줌. 컬럼네임을 영어로 할것.\n",
    "import missingno as msno\n",
    "print(msno.matrix(df_temp))\n",
    "print(df_temp.columns)"
   ]
  },
  {
   "cell_type": "code",
   "execution_count": 10,
   "metadata": {},
   "outputs": [
    {
     "data": {
      "text/plain": [
       "0        False\n",
       "1        False\n",
       "2        False\n",
       "3        False\n",
       "4        False\n",
       "         ...  \n",
       "10816    False\n",
       "10817    False\n",
       "10818    False\n",
       "10819    False\n",
       "10820    False\n",
       "Length: 10821, dtype: bool"
      ]
     },
     "execution_count": 10,
     "metadata": {},
     "output_type": "execute_result"
    }
   ],
   "source": [
    "# 중복값확인 = 0\n",
    "df_temp.duplicated()"
   ]
  },
  {
   "cell_type": "code",
   "execution_count": 11,
   "metadata": {},
   "outputs": [
    {
     "data": {
      "text/plain": [
       "(제목        0\n",
       " 개봉일       0\n",
       " 평점      632\n",
       " 장르      197\n",
       " 재생시간      0\n",
       " 감독      401\n",
       " 출연진     518\n",
       " 시놉시스     28\n",
       " dtype: int64,\n",
       " 10821)"
      ]
     },
     "execution_count": 11,
     "metadata": {},
     "output_type": "execute_result"
    }
   ],
   "source": [
    "# 결측치 확인 다수 있으나, 중요 피쳐 아니야. \n",
    "df_temp.isnull().sum(), len(df_temp)"
   ]
  },
  {
   "cell_type": "code",
   "execution_count": 12,
   "metadata": {},
   "outputs": [
    {
     "data": {
      "text/html": [
       "<div>\n",
       "<style scoped>\n",
       "    .dataframe tbody tr th:only-of-type {\n",
       "        vertical-align: middle;\n",
       "    }\n",
       "\n",
       "    .dataframe tbody tr th {\n",
       "        vertical-align: top;\n",
       "    }\n",
       "\n",
       "    .dataframe thead th {\n",
       "        text-align: right;\n",
       "    }\n",
       "</style>\n",
       "<table border=\"1\" class=\"dataframe\">\n",
       "  <thead>\n",
       "    <tr style=\"text-align: right;\">\n",
       "      <th></th>\n",
       "      <th>제목</th>\n",
       "      <th>개봉일</th>\n",
       "      <th>평점</th>\n",
       "      <th>장르</th>\n",
       "      <th>재생시간</th>\n",
       "      <th>감독</th>\n",
       "      <th>출연진</th>\n",
       "      <th>시놉시스</th>\n",
       "    </tr>\n",
       "  </thead>\n",
       "  <tbody>\n",
       "    <tr>\n",
       "      <th>0</th>\n",
       "      <td>싱어송</td>\n",
       "      <td>(2022)</td>\n",
       "      <td>NaN</td>\n",
       "      <td>드라마</td>\n",
       "      <td>1시간 42분</td>\n",
       "      <td>Na O-heon</td>\n",
       "      <td>Heo Ga-yoon,Yoo Young-jae,Moon Ji Hoo</td>\n",
       "      <td>노래가 하고 싶어 무작정 서울로 상경한 ‘선혜’와\\n 하루 빨리 유명해지고 싶은 무...</td>\n",
       "    </tr>\n",
       "    <tr>\n",
       "      <th>1</th>\n",
       "      <td>특송</td>\n",
       "      <td>(2022)</td>\n",
       "      <td>71%  6.9</td>\n",
       "      <td>액션 , 범죄 , 스릴러</td>\n",
       "      <td>1시간 49분</td>\n",
       "      <td>Park Dae-min</td>\n",
       "      <td>Park So-dam,Kim Eui-sung,Song Sae-byuk,Yeom Hy...</td>\n",
       "      <td>예상치 못한 배송사고로 걷잡을 수 없는 사건에 휘말린 특송 전문 드라이버 은하. 어...</td>\n",
       "    </tr>\n",
       "    <tr>\n",
       "      <th>2</th>\n",
       "      <td>더 테러 라이브 인 하이스쿨</td>\n",
       "      <td>(2022)</td>\n",
       "      <td>46%  4.3</td>\n",
       "      <td>공포 , 스릴러</td>\n",
       "      <td>1시간 28분</td>\n",
       "      <td>Lee Ann Kurr</td>\n",
       "      <td>Montse Hernandez,Cheyenne Haynes,Anthony Keyva...</td>\n",
       "      <td>어릴 적부터 단짝이었던 제인과 메릿. 고등학교에 올라가면서 소원해진 관계를 회복하고...</td>\n",
       "    </tr>\n",
       "  </tbody>\n",
       "</table>\n",
       "</div>"
      ],
      "text/plain": [
       "                제목     개봉일         평점             장르     재생시간             감독  \\\n",
       "0              싱어송  (2022)        NaN            드라마  1시간 42분      Na O-heon   \n",
       "1               특송  (2022)   71%  6.9  액션 , 범죄 , 스릴러  1시간 49분   Park Dae-min   \n",
       "2  더 테러 라이브 인 하이스쿨  (2022)   46%  4.3       공포 , 스릴러  1시간 28분   Lee Ann Kurr   \n",
       "\n",
       "                                                 출연진  \\\n",
       "0              Heo Ga-yoon,Yoo Young-jae,Moon Ji Hoo   \n",
       "1  Park So-dam,Kim Eui-sung,Song Sae-byuk,Yeom Hy...   \n",
       "2  Montse Hernandez,Cheyenne Haynes,Anthony Keyva...   \n",
       "\n",
       "                                                시놉시스  \n",
       "0  노래가 하고 싶어 무작정 서울로 상경한 ‘선혜’와\\n 하루 빨리 유명해지고 싶은 무...  \n",
       "1  예상치 못한 배송사고로 걷잡을 수 없는 사건에 휘말린 특송 전문 드라이버 은하. 어...  \n",
       "2  어릴 적부터 단짝이었던 제인과 메릿. 고등학교에 올라가면서 소원해진 관계를 회복하고...  "
      ]
     },
     "execution_count": 12,
     "metadata": {},
     "output_type": "execute_result"
    }
   ],
   "source": [
    "df = df_temp.copy()\n",
    "df.head(3)"
   ]
  },
  {
   "cell_type": "code",
   "execution_count": 13,
   "metadata": {},
   "outputs": [
    {
     "name": "stdout",
     "output_type": "stream",
     "text": [
      "<class 'pandas.core.frame.DataFrame'>\n",
      "RangeIndex: 10821 entries, 0 to 10820\n",
      "Data columns (total 8 columns):\n",
      " #   Column  Non-Null Count  Dtype \n",
      "---  ------  --------------  ----- \n",
      " 0   제목      10821 non-null  object\n",
      " 1   개봉일     10821 non-null  object\n",
      " 2   평점      10189 non-null  object\n",
      " 3   장르      10624 non-null  object\n",
      " 4   재생시간    10821 non-null  object\n",
      " 5   감독      10420 non-null  object\n",
      " 6   출연진     10303 non-null  object\n",
      " 7   시놉시스    10793 non-null  object\n",
      "dtypes: object(8)\n",
      "memory usage: 676.4+ KB\n"
     ]
    }
   ],
   "source": [
    "df.info()"
   ]
  },
  {
   "cell_type": "code",
   "execution_count": 14,
   "metadata": {},
   "outputs": [
    {
     "data": {
      "text/plain": [
       "제목      3288\n",
       "개봉일     3288\n",
       "평점      3218\n",
       "장르      3288\n",
       "재생시간    3288\n",
       "감독      3199\n",
       "출연진     3223\n",
       "시놉시스    3284\n",
       "dtype: int64"
      ]
     },
     "execution_count": 14,
     "metadata": {},
     "output_type": "execute_result"
    }
   ],
   "source": [
    "## df[조건식] #na=False 옵션은 조건은 트루 폴스로 비교할때 na 값이 들어가 오류가 나기에 그것을 무시하라는 의미\n",
    "## 10821개의 데이터중 액션은 3288개.\n",
    "df[df['장르'].str.contains('액션', na=False)].count(axis=0)"
   ]
  },
  {
   "cell_type": "code",
   "execution_count": 15,
   "metadata": {},
   "outputs": [],
   "source": [
    "# 장르 번호 부여 용 dict 셋팅 \n",
    "idx = {'1':'액션', '2':'애니메이션', '3':'코미디', '4':'범죄',\n",
    "       '5':'다큐멘터리', '6':'드라마', '7':'판타지', '8':'역사',\n",
    "       '9':'공포', '10':'가족', '11':'음악', '12':'스릴러',\n",
    "       '13':'로맨스', '14':'SF', '15':'스포츠', '16':'전쟁',\n",
    "       '17':'서부', '18':'Reality TV', '19':'Made in Europe'}"
   ]
  },
  {
   "cell_type": "code",
   "execution_count": 16,
   "metadata": {},
   "outputs": [
    {
     "name": "stdout",
     "output_type": "stream",
     "text": [
      "[3288, 829, 3040, 1756, 651, 5598, 1459, 494, 1822, 880, 318, 3486, 2037, 1328, 218, 474, 114, 6, 1618] 19 개 장르\n"
     ]
    }
   ],
   "source": [
    "# 장르별 영화 분포를 보고자 시리즈 셋팅.\n",
    "s = []\n",
    "for i in idx:\n",
    "    gene = len(df[df['장르'].str.contains(idx[i], na=False)])\n",
    "    s.append(gene)\n",
    "    # print(gene)\n",
    "# g1 = len(df[df['장르'].str.contains('액션')])\n",
    "# idx[\"1\"]\n",
    "print(s, len(s),'개 장르') "
   ]
  },
  {
   "cell_type": "code",
   "execution_count": 17,
   "metadata": {},
   "outputs": [
    {
     "data": {
      "text/html": [
       "<div>\n",
       "<style scoped>\n",
       "    .dataframe tbody tr th:only-of-type {\n",
       "        vertical-align: middle;\n",
       "    }\n",
       "\n",
       "    .dataframe tbody tr th {\n",
       "        vertical-align: top;\n",
       "    }\n",
       "\n",
       "    .dataframe thead th {\n",
       "        text-align: right;\n",
       "    }\n",
       "</style>\n",
       "<table border=\"1\" class=\"dataframe\">\n",
       "  <thead>\n",
       "    <tr style=\"text-align: right;\">\n",
       "      <th></th>\n",
       "      <th>Category_id</th>\n",
       "      <th>genre</th>\n",
       "      <th>Count_jenre</th>\n",
       "    </tr>\n",
       "  </thead>\n",
       "  <tbody>\n",
       "    <tr>\n",
       "      <th>0</th>\n",
       "      <td>1</td>\n",
       "      <td>액션</td>\n",
       "      <td>3288</td>\n",
       "    </tr>\n",
       "    <tr>\n",
       "      <th>1</th>\n",
       "      <td>2</td>\n",
       "      <td>애니메이션</td>\n",
       "      <td>829</td>\n",
       "    </tr>\n",
       "    <tr>\n",
       "      <th>2</th>\n",
       "      <td>3</td>\n",
       "      <td>코미디</td>\n",
       "      <td>3040</td>\n",
       "    </tr>\n",
       "    <tr>\n",
       "      <th>3</th>\n",
       "      <td>4</td>\n",
       "      <td>범죄</td>\n",
       "      <td>1756</td>\n",
       "    </tr>\n",
       "    <tr>\n",
       "      <th>4</th>\n",
       "      <td>5</td>\n",
       "      <td>다큐멘터리</td>\n",
       "      <td>651</td>\n",
       "    </tr>\n",
       "    <tr>\n",
       "      <th>5</th>\n",
       "      <td>6</td>\n",
       "      <td>드라마</td>\n",
       "      <td>5598</td>\n",
       "    </tr>\n",
       "    <tr>\n",
       "      <th>6</th>\n",
       "      <td>7</td>\n",
       "      <td>판타지</td>\n",
       "      <td>1459</td>\n",
       "    </tr>\n",
       "    <tr>\n",
       "      <th>7</th>\n",
       "      <td>8</td>\n",
       "      <td>역사</td>\n",
       "      <td>494</td>\n",
       "    </tr>\n",
       "    <tr>\n",
       "      <th>8</th>\n",
       "      <td>9</td>\n",
       "      <td>공포</td>\n",
       "      <td>1822</td>\n",
       "    </tr>\n",
       "    <tr>\n",
       "      <th>9</th>\n",
       "      <td>10</td>\n",
       "      <td>가족</td>\n",
       "      <td>880</td>\n",
       "    </tr>\n",
       "    <tr>\n",
       "      <th>10</th>\n",
       "      <td>11</td>\n",
       "      <td>음악</td>\n",
       "      <td>318</td>\n",
       "    </tr>\n",
       "    <tr>\n",
       "      <th>11</th>\n",
       "      <td>12</td>\n",
       "      <td>스릴러</td>\n",
       "      <td>3486</td>\n",
       "    </tr>\n",
       "    <tr>\n",
       "      <th>12</th>\n",
       "      <td>13</td>\n",
       "      <td>로맨스</td>\n",
       "      <td>2037</td>\n",
       "    </tr>\n",
       "    <tr>\n",
       "      <th>13</th>\n",
       "      <td>14</td>\n",
       "      <td>SF</td>\n",
       "      <td>1328</td>\n",
       "    </tr>\n",
       "    <tr>\n",
       "      <th>14</th>\n",
       "      <td>15</td>\n",
       "      <td>스포츠</td>\n",
       "      <td>218</td>\n",
       "    </tr>\n",
       "    <tr>\n",
       "      <th>15</th>\n",
       "      <td>16</td>\n",
       "      <td>전쟁</td>\n",
       "      <td>474</td>\n",
       "    </tr>\n",
       "    <tr>\n",
       "      <th>16</th>\n",
       "      <td>17</td>\n",
       "      <td>서부</td>\n",
       "      <td>114</td>\n",
       "    </tr>\n",
       "    <tr>\n",
       "      <th>17</th>\n",
       "      <td>18</td>\n",
       "      <td>Reality TV</td>\n",
       "      <td>6</td>\n",
       "    </tr>\n",
       "    <tr>\n",
       "      <th>18</th>\n",
       "      <td>19</td>\n",
       "      <td>Made in Europe</td>\n",
       "      <td>1618</td>\n",
       "    </tr>\n",
       "  </tbody>\n",
       "</table>\n",
       "</div>"
      ],
      "text/plain": [
       "   Category_id           genre  Count_jenre\n",
       "0            1              액션         3288\n",
       "1            2           애니메이션          829\n",
       "2            3             코미디         3040\n",
       "3            4              범죄         1756\n",
       "4            5           다큐멘터리          651\n",
       "5            6             드라마         5598\n",
       "6            7             판타지         1459\n",
       "7            8              역사          494\n",
       "8            9              공포         1822\n",
       "9           10              가족          880\n",
       "10          11              음악          318\n",
       "11          12             스릴러         3486\n",
       "12          13             로맨스         2037\n",
       "13          14              SF         1328\n",
       "14          15             스포츠          218\n",
       "15          16              전쟁          474\n",
       "16          17              서부          114\n",
       "17          18      Reality TV            6\n",
       "18          19  Made in Europe         1618"
      ]
     },
     "execution_count": 17,
     "metadata": {},
     "output_type": "execute_result"
    }
   ],
   "source": [
    "df_g = pd.DataFrame(list(idx.items()),\n",
    "        columns=['Category_id', 'genre'],\n",
    "        index=None)\n",
    "df_g['Count_jenre'] = s  # 장르 개수 카운트한 컬럼 합치기\n",
    "df_g\n",
    "\n",
    "# 드라마와 스릴러 코미디 로맨스 가 4대 장르인데. 장르별 추천은 완성못했으므로 추후 가중치를 달리 쓸 수 있을지 고민거리로."
   ]
  },
  {
   "cell_type": "code",
   "execution_count": 18,
   "metadata": {},
   "outputs": [],
   "source": [
    "# df_syn은 모델 원을 위해 (시놉기반)\n",
    "# df_info는 모델 투를 위해 (장르, 감독, 출연진, 시놉, 제목은 어떻게 하지?)\n",
    "df_syn = df[['제목','시놉시스']]\n",
    "df_info = df[['제목', '시놉시스', '장르', '감독', '출연진']]\n",
    "# df_syn.head(5)\n",
    "# df_info.head()"
   ]
  },
  {
   "cell_type": "code",
   "execution_count": 19,
   "metadata": {},
   "outputs": [
    {
     "data": {
      "text/plain": [
       "제목      10670\n",
       "시놉시스    10787\n",
       "dtype: int64"
      ]
     },
     "execution_count": 19,
     "metadata": {},
     "output_type": "execute_result"
    }
   ],
   "source": [
    "df_syn.nunique() #제목의 개수가 적은것을 보아. 같은 이름의 영화가 17개 가량 있다."
   ]
  },
  {
   "cell_type": "code",
   "execution_count": 20,
   "metadata": {},
   "outputs": [
    {
     "data": {
      "text/plain": [
       "제목      10670\n",
       "시놉시스    10787\n",
       "장르       2932\n",
       "감독       6596\n",
       "출연진     10292\n",
       "dtype: int64"
      ]
     },
     "execution_count": 20,
     "metadata": {},
     "output_type": "execute_result"
    }
   ],
   "source": [
    "df_info.nunique() # 감독은 보통 1명인데 4000개 가량 중복된다는 걸 미루어 보아. \n",
    "                  # 원 - 투의 유사도 변화를 체킹해봐야."
   ]
  },
  {
   "cell_type": "code",
   "execution_count": 21,
   "metadata": {},
   "outputs": [
    {
     "data": {
      "text/plain": [
       "10793"
      ]
     },
     "execution_count": 21,
     "metadata": {},
     "output_type": "execute_result"
    }
   ],
   "source": [
    "# 줄거리가 없는 영화 삭제후 item개수 확인\n",
    "df_syn = df_syn.dropna(subset=['시놉시스']) #시놉시스가 NaN값이면 행 삭제.\n",
    "len(df_syn)"
   ]
  },
  {
   "cell_type": "markdown",
   "metadata": {},
   "source": [
    "# 추천시스템 One_two"
   ]
  },
  {
   "cell_type": "markdown",
   "metadata": {},
   "source": [
    "- 일반적으로 유사도를 측정하기 위해 정량화 하는 방법\n",
    "    - 단순히 같은 단어의 개수를 사용하는 법\n",
    "    - 형태소로 나누어 형태소를 비교하는 법\n",
    "    - 자소 단위로 나누어 비교하는법 자소 : 자음하나 모음하나 단위.\n",
    "    -     \n",
    "        \n",
    "- 이 책 (자연어처리 - 앵무새) 에서는 딥러닝을 기반으로 텍스트의 유사도를 측정할 것.\n",
    "    텍스트를 벡터화 (수치화) 한 후 벡터간의 유사도를 판단할것. (보충하겠음)\n",
    "    \n",
    "- 자주 쓰이는 4개의 유사도 측정방법은\n",
    "\n",
    "    자카드 유사도,\n",
    "    유클리디언 유사도 (걍 거리)\n",
    "    맨해튼 유사도 (네모네모박스 최적 거리)\n",
    "    코사인 유사도 (벡터간의 각도 비교로 유사도 판단)"
   ]
  },
  {
   "cell_type": "markdown",
   "metadata": {},
   "source": [
    "- 벡터화 전략은 TF-IDF (단어 빈도-역문서 빈도) 벡터화"
   ]
  },
  {
   "cell_type": "code",
   "execution_count": 22,
   "metadata": {},
   "outputs": [],
   "source": [
    "# from sklearn.feature_extraction.text import CountVectorizer \n",
    "from sklearn.feature_extraction.text import TfidfVectorizer"
   ]
  },
  {
   "cell_type": "code",
   "execution_count": 23,
   "metadata": {},
   "outputs": [
    {
     "data": {
      "text/plain": [
       "10793"
      ]
     },
     "execution_count": 23,
     "metadata": {},
     "output_type": "execute_result"
    }
   ],
   "source": [
    "# error index 관련 return self._engine.get_loc(casted_key) #drop으로 중간 인덱스를 날렸기 때문으로 추정\n",
    " # >>> index reset 으로 해결.\n",
    "df_syn.reset_index(drop=True, inplace=True)\n",
    "sent = []\n",
    "\n",
    "for i in (range(0,len(df_syn))):\n",
    "    content = df_syn['시놉시스'][i]\n",
    "    sent.append(content)\n",
    "len(sent)\n",
    "# 10821개 # 10793개"
   ]
  },
  {
   "cell_type": "code",
   "execution_count": 24,
   "metadata": {},
   "outputs": [],
   "source": [
    "tfidf=TfidfVectorizer()\n",
    "tfidf_matrix=tfidf.fit_transform(sent)"
   ]
  },
  {
   "cell_type": "code",
   "execution_count": 25,
   "metadata": {},
   "outputs": [
    {
     "data": {
      "image/jpeg": "[encoded data removed]",
      "text/plain": [
       "<IPython.core.display.Image object>"
      ]
     },
     "execution_count": 25,
     "metadata": {},
     "output_type": "execute_result"
    }
   ],
   "source": [
    "# !pip install IPython\n",
    "from IPython.display import Image\n",
    "Image('data/tfidf_matrix.jpg') #tfidf matrix 의 모습"
   ]
  },
  {
   "cell_type": "code",
   "execution_count": null,
   "metadata": {},
   "outputs": [],
   "source": [
    "print(tfidf_matrix) # 형태 보고자 할땐 프린트 해볼것."
   ]
  },
  {
   "cell_type": "code",
   "execution_count": 27,
   "metadata": {},
   "outputs": [
    {
     "data": {
      "text/plain": [
       "(1, 160805)"
      ]
     },
     "execution_count": 27,
     "metadata": {},
     "output_type": "execute_result"
    }
   ],
   "source": [
    "tfidf_matrix[0].shape #(1, 160805) 희소백터의 문제 보여. sparce\n",
    "# print(np.asarray(tfidf_matrix[0]))"
   ]
  },
  {
   "cell_type": "code",
   "execution_count": 28,
   "metadata": {},
   "outputs": [
    {
     "data": {
      "text/plain": [
       "((10793, 10793), numpy.ndarray)"
      ]
     },
     "execution_count": 28,
     "metadata": {},
     "output_type": "execute_result"
    }
   ],
   "source": [
    "from sklearn.metrics.pairwise import cosine_similarity\n",
    "cos_sim = cosine_similarity(tfidf_matrix, tfidf_matrix)\n",
    "cos_sim.shape, type(cos_sim)"
   ]
  },
  {
   "cell_type": "code",
   "execution_count": 29,
   "metadata": {},
   "outputs": [
    {
     "data": {
      "text/plain": [
       "10793"
      ]
     },
     "execution_count": 29,
     "metadata": {},
     "output_type": "execute_result"
    }
   ],
   "source": [
    "# 제목열과 시놉시스만 가져와서 셋팅. 깔끔한 방식은 아니니 df 상황에 맞추어 고려할것.\n",
    "df_for_title = df_syn.copy()\n",
    "len(df_for_title)"
   ]
  },
  {
   "cell_type": "code",
   "execution_count": 30,
   "metadata": {},
   "outputs": [
    {
     "data": {
      "text/html": [
       "<div>\n",
       "<style scoped>\n",
       "    .dataframe tbody tr th:only-of-type {\n",
       "        vertical-align: middle;\n",
       "    }\n",
       "\n",
       "    .dataframe tbody tr th {\n",
       "        vertical-align: top;\n",
       "    }\n",
       "\n",
       "    .dataframe thead th {\n",
       "        text-align: right;\n",
       "    }\n",
       "</style>\n",
       "<table border=\"1\" class=\"dataframe\">\n",
       "  <thead>\n",
       "    <tr style=\"text-align: right;\">\n",
       "      <th></th>\n",
       "      <th>title</th>\n",
       "      <th>시놉시스</th>\n",
       "    </tr>\n",
       "  </thead>\n",
       "  <tbody>\n",
       "    <tr>\n",
       "      <th>0</th>\n",
       "      <td>싱어송</td>\n",
       "      <td>노래가 하고 싶어 무작정 서울로 상경한 ‘선혜’와\\n 하루 빨리 유명해지고 싶은 무...</td>\n",
       "    </tr>\n",
       "    <tr>\n",
       "      <th>1</th>\n",
       "      <td>특송</td>\n",
       "      <td>예상치 못한 배송사고로 걷잡을 수 없는 사건에 휘말린 특송 전문 드라이버 은하. 어...</td>\n",
       "    </tr>\n",
       "    <tr>\n",
       "      <th>2</th>\n",
       "      <td>더 테러 라이브 인 하이스쿨</td>\n",
       "      <td>어릴 적부터 단짝이었던 제인과 메릿. 고등학교에 올라가면서 소원해진 관계를 회복하고...</td>\n",
       "    </tr>\n",
       "    <tr>\n",
       "      <th>3</th>\n",
       "      <td>셰터드</td>\n",
       "      <td>외딴 집에 사는 부유한 그는 완벽한 미모의 섹시한 그녀를 만나고 격정적인 밤을 보낸...</td>\n",
       "    </tr>\n",
       "    <tr>\n",
       "      <th>4</th>\n",
       "      <td>해리 포터 20주년: 리턴 투 호그와트</td>\n",
       "      <td>‘해리포터와 마법사의 돌' 20주년 기념 스페셜. 다니엘 래드클리프, 루퍼트 그린트...</td>\n",
       "    </tr>\n",
       "  </tbody>\n",
       "</table>\n",
       "</div>"
      ],
      "text/plain": [
       "                   title                                               시놉시스\n",
       "0                    싱어송  노래가 하고 싶어 무작정 서울로 상경한 ‘선혜’와\\n 하루 빨리 유명해지고 싶은 무...\n",
       "1                     특송  예상치 못한 배송사고로 걷잡을 수 없는 사건에 휘말린 특송 전문 드라이버 은하. 어...\n",
       "2        더 테러 라이브 인 하이스쿨  어릴 적부터 단짝이었던 제인과 메릿. 고등학교에 올라가면서 소원해진 관계를 회복하고...\n",
       "3                    셰터드  외딴 집에 사는 부유한 그는 완벽한 미모의 섹시한 그녀를 만나고 격정적인 밤을 보낸...\n",
       "4  해리 포터 20주년: 리턴 투 호그와트  ‘해리포터와 마법사의 돌' 20주년 기념 스페셜. 다니엘 래드클리프, 루퍼트 그린트..."
      ]
     },
     "execution_count": 30,
     "metadata": {},
     "output_type": "execute_result"
    }
   ],
   "source": [
    "df_for_title.rename(columns= {'제목' : 'title'}, inplace=True)\n",
    "df_for_title.head()"
   ]
  },
  {
   "cell_type": "code",
   "execution_count": 31,
   "metadata": {},
   "outputs": [],
   "source": [
    "# indices = pd.Series(df.index, index=df.title)\n",
    "indices = pd.Series(df_for_title.index, index=df_for_title.title)\n",
    "# 코드의 의미는 df_syn의 인덱스를 시리즈로.. 요게 본체\n",
    "# 신기하게 본체의 인덱스를 제목으로 사용한다. \n",
    "# 나중에 인덱스를 key로 제목을 출력하기 위함  = 신기방기 한 방법"
   ]
  },
  {
   "cell_type": "code",
   "execution_count": 32,
   "metadata": {},
   "outputs": [
    {
     "data": {
      "text/plain": [
       "title\n",
       "싱어송                          0\n",
       "특송                           1\n",
       "더 테러 라이브 인 하이스쿨              2\n",
       "셰터드                          3\n",
       "해리 포터 20주년: 리턴 투 호그와트        4\n",
       "                         ...  \n",
       "북극의 나누크                  10788\n",
       "키드                       10789\n",
       "The Pawnshop             10790\n",
       "The Rink                 10791\n",
       "The Fireman              10792\n",
       "Length: 10793, dtype: int64"
      ]
     },
     "execution_count": 32,
     "metadata": {},
     "output_type": "execute_result"
    }
   ],
   "source": [
    "indices # title 열을 인덱스로 사용. 인덱스 값을 밸류로 사용. 서로 바뀐 구조."
   ]
  },
  {
   "cell_type": "code",
   "execution_count": 33,
   "metadata": {},
   "outputs": [],
   "source": [
    "def get_recommendation(title, cos_sim=cos_sim):\n",
    "    index = indices[title]\n",
    "    sim_scores = pd.Series(cos_sim[index])\n",
    "    movie_indices = sim_scores.sort_values(ascending=False).head(6).tail(5).index\n",
    "    result = df_for_title.title.iloc[movie_indices]\n",
    "    return result"
   ]
  },
  {
   "cell_type": "code",
   "execution_count": 34,
   "metadata": {},
   "outputs": [
    {
     "data": {
      "text/plain": [
       "2450                롤링 투 유\n",
       "9916                    연인\n",
       "1522               애나벨 집으로\n",
       "1502                  드림랜드\n",
       "7978    닉과 노라의 인피니트 플레이리스트\n",
       "Name: title, dtype: object"
      ]
     },
     "execution_count": 34,
     "metadata": {},
     "output_type": "execute_result"
    }
   ],
   "source": [
    "get_recommendation('셰터드')"
   ]
  },
  {
   "cell_type": "code",
   "execution_count": 35,
   "metadata": {},
   "outputs": [
    {
     "data": {
      "text/plain": [
       "8053               동거, 동락\n",
       "3                     셰터드\n",
       "2309               최후의 배틀\n",
       "5410    더 바버 : 사라진 연쇄 살인마\n",
       "7203              머신건 프리처\n",
       "Name: title, dtype: object"
      ]
     },
     "execution_count": 35,
     "metadata": {},
     "output_type": "execute_result"
    }
   ],
   "source": [
    "get_recommendation('드림랜드')"
   ]
  },
  {
   "cell_type": "code",
   "execution_count": 36,
   "metadata": {},
   "outputs": [
    {
     "data": {
      "text/plain": [
       "7166     실종: 악령의 부활\n",
       "4554        바운티 헌터스\n",
       "3739        황야의 총잡이\n",
       "10487          사망유희\n",
       "1218         원티드 킬러\n",
       "Name: title, dtype: object"
      ]
     },
     "execution_count": 36,
     "metadata": {},
     "output_type": "execute_result"
    }
   ],
   "source": [
    "get_recommendation('최후의 배틀')"
   ]
  },
  {
   "cell_type": "code",
   "execution_count": 37,
   "metadata": {},
   "outputs": [],
   "source": [
    "# get_recommendation('연인') ## 중복 키값으로 에러 반환"
   ]
  },
  {
   "cell_type": "markdown",
   "metadata": {},
   "source": [
    " - "
   ]
  },
  {
   "cell_type": "code",
   "execution_count": 38,
   "metadata": {},
   "outputs": [
    {
     "data": {
      "text/plain": [
       "2335     웨스트 오브 헬\n",
       "4982       최후의 인류\n",
       "618          최미역행\n",
       "679           러브컷\n",
       "10514    카산드라 크로싱\n",
       "Name: title, dtype: object"
      ]
     },
     "execution_count": 38,
     "metadata": {},
     "output_type": "execute_result"
    }
   ],
   "source": [
    "get_recommendation('부산행')"
   ]
  },
  {
   "cell_type": "code",
   "execution_count": 39,
   "metadata": {},
   "outputs": [
    {
     "data": {
      "text/plain": [
       "20"
      ]
     },
     "execution_count": 39,
     "metadata": {},
     "output_type": "execute_result"
    }
   ],
   "source": [
    "# 20개만 추려 상관관계 보고자.\n",
    "alist = []\n",
    "for i in range(20):\n",
    "    c = df_syn['제목'][i]\n",
    "    alist.append(c)\n",
    "# alist\n",
    "len(alist)"
   ]
  },
  {
   "cell_type": "code",
   "execution_count": 40,
   "metadata": {},
   "outputs": [],
   "source": [
    "# get_recommendation('코만도')\n",
    "# get_recommendation('베스트셀러')"
   ]
  },
  {
   "cell_type": "code",
   "execution_count": null,
   "metadata": {},
   "outputs": [],
   "source": [
    "# 인덱스 만들기 \n",
    "lambda x : x for "
   ]
  },
  {
   "cell_type": "code",
   "execution_count": 47,
   "metadata": {},
   "outputs": [
    {
     "ename": "SyntaxError",
     "evalue": "'return' outside function (3596570567.py, line 3)",
     "output_type": "error",
     "traceback": [
      "\u001b[1;36m  Input \u001b[1;32mIn [47]\u001b[1;36m\u001b[0m\n\u001b[1;33m    return get_recommendation(i)\u001b[0m\n\u001b[1;37m    ^\u001b[0m\n\u001b[1;31mSyntaxError\u001b[0m\u001b[1;31m:\u001b[0m 'return' outside function\n"
     ]
    }
   ],
   "source": [
    "# type(get_recommendation(영화제목)) : 판다스의 시리즈\n",
    "index_movie = [lambda x]\n",
    "for i in alist:\n",
    "    try:\n",
    "        series = get_recommendation(i)\n",
    "        pd.DataFrame([])\n",
    "        # print(i)\n",
    "    except:\n",
    "        pass"
   ]
  },
  {
   "cell_type": "code",
   "execution_count": 48,
   "metadata": {},
   "outputs": [
    {
     "data": {
      "text/plain": [
       "pandas.core.series.Series"
      ]
     },
     "execution_count": 48,
     "metadata": {},
     "output_type": "execute_result"
    }
   ],
   "source": [
    "type(get_recommendation('라스트 콘서트'))"
   ]
  },
  {
   "cell_type": "code",
   "execution_count": null,
   "metadata": {},
   "outputs": [
    {
     "data": {
      "text/plain": [
       "Index(['title', '시놉시스'], dtype='object')"
      ]
     },
     "execution_count": 154,
     "metadata": {},
     "output_type": "execute_result"
    }
   ],
   "source": [
    "df_for_title.columns"
   ]
  },
  {
   "cell_type": "code",
   "execution_count": null,
   "metadata": {},
   "outputs": [
    {
     "name": "stdout",
     "output_type": "stream",
     "text": [
      "[8715, 9916]\n"
     ]
    }
   ],
   "source": [
    "# 영화이름을 치면. 인덱스 반환\n",
    "print(df_for_title.index[(df_for_title['title'] == '연인')].to_list())"
   ]
  },
  {
   "cell_type": "code",
   "execution_count": null,
   "metadata": {},
   "outputs": [
    {
     "data": {
      "text/plain": [
       "(8715    연인\n",
       " Name: title, dtype: object,\n",
       " \"중국 역사상 가장 황금기였던 당나라. 그러나 서기 859년, 당 왕조는 바야흐로 쇠퇴의 길에 들어서게 된다. 무능한 왕조와 부패한 대신들로 나라 전체가 불안에 휩싸이고 온 나라에 반란군이 들끓는다. 그 중 가장 이름난 반란조직이 바로 '비도문' (House of Flying Daggers)이다. 비밀조직인 비도문은 민중에게 관에 저항할 것을 호소하고, 자유를 추구하였다. 도성 근처에 위치한 팽 티안 지방에 출몰하는 비도문은 민중들을 혼란시키고, 관의 힘을 약하게 하여 지방 관리들에게는 그야말로 눈엣가시 같은 존재이다.  비도문이 관과 싸워온지 수년이 흐르고, 우두머리가 전투에서 살해당하게 된다. 하지만 이후에도 조직은 점점 세를 얻어간다. 결국 팽 티안 성의 관리인 레오(유덕화)와 진(금성무)은 열흘 안에 이 조직의 새로운 우두머리를 잡아오라는 명을 받는다. 레오는 인근지방 홍등가에 새로 나타난 무희인 메이(장쯔이)를 의심하게 되는데, 실은 그녀는 죽은 비도문 두목의 딸이다. 레오는 메이를 데려다 심문을 하지만 입을 열지 않자 다른 수를 꾸민다. 진으로 하여금 ‘풍’이라는 떠돌이 무사로 변장을 하게 해 메이를 감옥에서 구출한 뒤 그녀의 신임을 얻어내고 함께 '비도문'의 은신처로 떠나는 계획을 세운 것이다.  이들의 계획은 성공을 거둬 결국 진과 메이는 은둔처까지의 긴 여정을 함께 하게 되고 얼마 지나지 않아 메이는 베일에 싸인 자신의 동반자에게 점점 감정을 갖게 된다. 진 역시 메이의 매력에 흠뻑 빠져드는 자신을 발견하게 되고 둘은 서로의 감정을 부정하려 애쓰지만 그럴수록 그들의 마음은 더욱 더 서로를 갈망하게 된다. 그러나 처음의 계획과는 달리 진을 정말로 죽이려는 낯선 무사들이 나타나고 비도문은 점점 실체를 드러내는데... 진과 메이, 그들의 사랑은 진심일까?\")"
      ]
     },
     "execution_count": 175,
     "metadata": {},
     "output_type": "execute_result"
    }
   ],
   "source": [
    "# x에 영화의 인덱스를 치세요~ \n",
    "x = 8715\n",
    "# df_for_title['title'][(df_for_title.index == x)].tolist()\n",
    "df_for_title['title'][(df_for_title.index == x)], df_for_title['시놉시스'][x]"
   ]
  },
  {
   "cell_type": "code",
   "execution_count": null,
   "metadata": {},
   "outputs": [
    {
     "data": {
      "text/plain": [
       "(10689    7년만의 외출\n",
       " Name: title, dtype: object,\n",
       " '편집인인 리처드(Richard Sherman: 톰 이웰 분)는 부인과 아들을 피서지에 보낸 후, 오랜만에 혼자 생활을 하며 해방감을 맛본다. 그때 불현듯 그의 마음을 사로잡은 생각이 \"만약 내가 바람을 피워본다면\"이라는 것. 마침 같은 아파트 2층에 말할 수 없이 아름다운 금발 미녀가 이사를 온다. 우여곡절 끝에 그녀를 자기 아파트로 초대하는데, 리처드에겐 선천적으로 과대망상벽이 있다. 아가씨를 초대해놓고 그녀가 나타나길 기다리는 동안, 그는 혼자 간호원과 연애를 한다거나 자기 여비서와 맹렬한 사랑에 빠지는 등의 황당무계한 망상에 빠져든다.  한편 금발 미녀와의 이상한 상상에도 탐닉해 있을 즈음, 피서지의 아내로부터 전화가 걸려온다. 아내는 그곳에서 리처드의 친구인 탐을 만났다고 말한다. 리처드는 이제 아내의 거동을 불안하게 느끼고 별의별 망상을 다한다. 다음날 리처드는 자기망상의 원인을 한 의사의 연구 논문에서 찾아낸다. 그 의사는 \"모든 남자는 결혼 7년째에 이르면 바람을 피고 싶은 충동에 시달린다\"고 주장한다. 그의 망상벽은 한층 심해진다. 그가 금발 아가씨에 대한 관심을 갖게 되면서부터, 망상의 불안하고 그로테스크한 정도가 심화되는 것 같았다. 예컨대, 금발 미녀가 갑자기 TV방송에 나와 자기와 리처드와의 수상한 관계를 까발리는 등의 망상은 리처드를 완전히 녹초상태에 빠지게 한다. 초조해진 그는 아가씨를 유혹해 함께 영화를 보러간다. 영화관에서 나온 직후, 유명한 지하철 통풍구 씬이 등장한다.  그날밤 금발 미녀는 날씨가 너무 덥다고 냉방장치가 있는 리처드의 방으로 와서 하루밤을 지내게 되나 두 사람 사이에는 아무 일도 없었다. 하지만 리처드는 이번엔 아내가 자신에게 피스톨을 쏘는 망상때문에 실신지경이 되고 만다. 다음날 상냥하고 마음씨 친절한 아가씨의 보살핌으로 겨우 기력을 회복한 리처드. 입에 아가씨가 찍어놓은 감사의 키스 마크를 간직한 채, 모든 망상을 청산하고 유쾌히 아내와 아들이 있는 피서지에 합세하러 떠난다.')"
      ]
     },
     "execution_count": 163,
     "metadata": {},
     "output_type": "execute_result"
    }
   ],
   "source": [
    "# x에 영화의 인덱스를 치세요~ \n",
    "x = 10689\n",
    "# df_for_title['title'][(df_for_title.index == x)].tolist()\n",
    "df_for_title['title'][(df_for_title.index == x)], df_for_title['시놉시스'][x]"
   ]
  },
  {
   "cell_type": "code",
   "execution_count": null,
   "metadata": {},
   "outputs": [],
   "source": [
    "print (df.index[(df['Name'] == 'blue')].tolist())"
   ]
  },
  {
   "cell_type": "code",
   "execution_count": null,
   "metadata": {},
   "outputs": [
    {
     "data": {
      "text/html": [
       "<div>\n",
       "<style scoped>\n",
       "    .dataframe tbody tr th:only-of-type {\n",
       "        vertical-align: middle;\n",
       "    }\n",
       "\n",
       "    .dataframe tbody tr th {\n",
       "        vertical-align: top;\n",
       "    }\n",
       "\n",
       "    .dataframe thead th {\n",
       "        text-align: right;\n",
       "    }\n",
       "</style>\n",
       "<table border=\"1\" class=\"dataframe\">\n",
       "  <thead>\n",
       "    <tr style=\"text-align: right;\">\n",
       "      <th></th>\n",
       "      <th>title</th>\n",
       "      <th>시놉시스</th>\n",
       "    </tr>\n",
       "  </thead>\n",
       "  <tbody>\n",
       "    <tr>\n",
       "      <th>0</th>\n",
       "      <td>싱어송</td>\n",
       "      <td>노래가 하고 싶어 무작정 서울로 상경한 ‘선혜’와\\n 하루 빨리 유명해지고 싶은 무...</td>\n",
       "    </tr>\n",
       "    <tr>\n",
       "      <th>1</th>\n",
       "      <td>특송</td>\n",
       "      <td>예상치 못한 배송사고로 걷잡을 수 없는 사건에 휘말린 특송 전문 드라이버 은하. 어...</td>\n",
       "    </tr>\n",
       "    <tr>\n",
       "      <th>2</th>\n",
       "      <td>더 테러 라이브 인 하이스쿨</td>\n",
       "      <td>어릴 적부터 단짝이었던 제인과 메릿. 고등학교에 올라가면서 소원해진 관계를 회복하고...</td>\n",
       "    </tr>\n",
       "    <tr>\n",
       "      <th>3</th>\n",
       "      <td>셰터드</td>\n",
       "      <td>외딴 집에 사는 부유한 그는 완벽한 미모의 섹시한 그녀를 만나고 격정적인 밤을 보낸...</td>\n",
       "    </tr>\n",
       "    <tr>\n",
       "      <th>4</th>\n",
       "      <td>해리 포터 20주년: 리턴 투 호그와트</td>\n",
       "      <td>‘해리포터와 마법사의 돌' 20주년 기념 스페셜. 다니엘 래드클리프, 루퍼트 그린트...</td>\n",
       "    </tr>\n",
       "    <tr>\n",
       "      <th>...</th>\n",
       "      <td>...</td>\n",
       "      <td>...</td>\n",
       "    </tr>\n",
       "    <tr>\n",
       "      <th>10788</th>\n",
       "      <td>북극의 나누크</td>\n",
       "      <td>로버트 플래허티는 몇명의 이누이트의 안내로 북극을 탐험하고 돌아온 뒤 영화를 완성하...</td>\n",
       "    </tr>\n",
       "    <tr>\n",
       "      <th>10789</th>\n",
       "      <td>키드</td>\n",
       "      <td>부유한 화가에게 버림받고 갓난 어린 아이를 병원에서 낳은 여자가 키울 능력이 없어 ...</td>\n",
       "    </tr>\n",
       "    <tr>\n",
       "      <th>10790</th>\n",
       "      <td>The Pawnshop</td>\n",
       "      <td>A pawnbroker's assistant deals with his grumpy...</td>\n",
       "    </tr>\n",
       "    <tr>\n",
       "      <th>10791</th>\n",
       "      <td>The Rink</td>\n",
       "      <td>After amusements working in a restaurant, Char...</td>\n",
       "    </tr>\n",
       "    <tr>\n",
       "      <th>10792</th>\n",
       "      <td>The Fireman</td>\n",
       "      <td>Firefighter Charlie Chaplin is tricked into le...</td>\n",
       "    </tr>\n",
       "  </tbody>\n",
       "</table>\n",
       "<p>10793 rows × 2 columns</p>\n",
       "</div>"
      ],
      "text/plain": [
       "                       title  \\\n",
       "0                        싱어송   \n",
       "1                         특송   \n",
       "2            더 테러 라이브 인 하이스쿨   \n",
       "3                        셰터드   \n",
       "4      해리 포터 20주년: 리턴 투 호그와트   \n",
       "...                      ...   \n",
       "10788                북극의 나누크   \n",
       "10789                     키드   \n",
       "10790           The Pawnshop   \n",
       "10791               The Rink   \n",
       "10792            The Fireman   \n",
       "\n",
       "                                                    시놉시스  \n",
       "0      노래가 하고 싶어 무작정 서울로 상경한 ‘선혜’와\\n 하루 빨리 유명해지고 싶은 무...  \n",
       "1      예상치 못한 배송사고로 걷잡을 수 없는 사건에 휘말린 특송 전문 드라이버 은하. 어...  \n",
       "2      어릴 적부터 단짝이었던 제인과 메릿. 고등학교에 올라가면서 소원해진 관계를 회복하고...  \n",
       "3      외딴 집에 사는 부유한 그는 완벽한 미모의 섹시한 그녀를 만나고 격정적인 밤을 보낸...  \n",
       "4      ‘해리포터와 마법사의 돌' 20주년 기념 스페셜. 다니엘 래드클리프, 루퍼트 그린트...  \n",
       "...                                                  ...  \n",
       "10788  로버트 플래허티는 몇명의 이누이트의 안내로 북극을 탐험하고 돌아온 뒤 영화를 완성하...  \n",
       "10789  부유한 화가에게 버림받고 갓난 어린 아이를 병원에서 낳은 여자가 키울 능력이 없어 ...  \n",
       "10790  A pawnbroker's assistant deals with his grumpy...  \n",
       "10791  After amusements working in a restaurant, Char...  \n",
       "10792  Firefighter Charlie Chaplin is tricked into le...  \n",
       "\n",
       "[10793 rows x 2 columns]"
      ]
     },
     "execution_count": 145,
     "metadata": {},
     "output_type": "execute_result"
    }
   ],
   "source": [
    "df_for_title.f"
   ]
  },
  {
   "cell_type": "code",
   "execution_count": null,
   "metadata": {},
   "outputs": [
    {
     "data": {
      "text/plain": [
       "9511                성룡의 C.I.A\n",
       "1396                 스파이 지니어스\n",
       "4411    끝까지 살아 남아라 : 제2차 세계대전\n",
       "5009                    핫 퍼슈트\n",
       "1707                터키쉬 아이스크림\n",
       "Name: title, dtype: object"
      ]
     },
     "execution_count": 164,
     "metadata": {},
     "output_type": "execute_result"
    }
   ],
   "source": [
    "get_recommendation('폴리스 스토리 4: 간단임무')"
   ]
  },
  {
   "cell_type": "code",
   "execution_count": null,
   "metadata": {},
   "outputs": [
    {
     "data": {
      "text/plain": [
       "['싱어송',\n",
       " '특송',\n",
       " '더 테러 라이브 인 하이스쿨',\n",
       " '셰터드',\n",
       " '해리 포터 20주년: 리턴 투 호그와트',\n",
       " '걸 위드 더 카메라',\n",
       " '트로트는 인생이다',\n",
       " '키미',\n",
       " '효자',\n",
       " '대한민국 대통령',\n",
       " '코만도',\n",
       " '야쿠자 어쌔신',\n",
       " 'Trouble Sleeping',\n",
       " '사진사의 여자',\n",
       " '머시블랙: 저주 받은 아이',\n",
       " '경관의 피',\n",
       " '수호무적',\n",
       " '삼국지 관운장: 청룡언월도',\n",
       " '맨발의 승리',\n",
       " '베스트셀러']"
      ]
     },
     "execution_count": 165,
     "metadata": {},
     "output_type": "execute_result"
    }
   ],
   "source": [
    "alist"
   ]
  },
  {
   "cell_type": "code",
   "execution_count": null,
   "metadata": {},
   "outputs": [
    {
     "data": {
      "text/plain": [
       "'s'"
      ]
     },
     "execution_count": 179,
     "metadata": {},
     "output_type": "execute_result"
    }
   ],
   "source": [
    "a = 'str'\n",
    "a[0]"
   ]
  },
  {
   "cell_type": "code",
   "execution_count": null,
   "metadata": {},
   "outputs": [
    {
     "data": {
      "text/plain": [
       "2711     멋진 얼간이들\n",
       "5269          킬러\n",
       "6480     줌 피시 월드\n",
       "1362     데이 앤 나잇\n",
       "10080      꿈의 구장\n",
       "Name: title, dtype: object"
      ]
     },
     "execution_count": 182,
     "metadata": {},
     "output_type": "execute_result"
    }
   ],
   "source": [
    "get_recommendation(alist[0])\n",
    "get_recommendation(alist[1])\n",
    "get_recommendation(alist[2])\n",
    "get_recommendation(alist[3])\n",
    "get_recommendation(alist[4])\n",
    "get_recommendation(alist[5])\n",
    "get_recommendation(alist[6])\n",
    "get_recommendation(alist[7])\n",
    "get_recommendation(alist[8])\n",
    "get_recommendation(alist[9])\n",
    "# get_recommendation(alist[10])\n",
    "get_recommendation(alist[11])\n",
    "get_recommendation(alist[12])\n",
    "get_recommendation(alist[13])\n",
    "get_recommendation(alist[14])\n",
    "get_recommendation(alist[15])\n",
    "get_recommendation(alist[16])\n",
    "get_recommendation(alist[17])\n",
    "get_recommendation(alist[18])\n",
    "# get_recommendation(alist[19])"
   ]
  },
  {
   "cell_type": "code",
   "execution_count": null,
   "metadata": {},
   "outputs": [
    {
     "ename": "KeyError",
     "evalue": "'싱'",
     "output_type": "error",
     "traceback": [
      "\u001b[1;31m---------------------------------------------------------------------------\u001b[0m",
      "\u001b[1;31mKeyError\u001b[0m                                  Traceback (most recent call last)",
      "File \u001b[1;32mC:\\ProgramData\\Anaconda3\\lib\\site-packages\\pandas\\core\\indexes\\base.py:3080\u001b[0m, in \u001b[0;36mIndex.get_loc\u001b[1;34m(self, key, method, tolerance)\u001b[0m\n\u001b[0;32m   <a href='file:///c%3A/ProgramData/Anaconda3/lib/site-packages/pandas/core/indexes/base.py?line=3078'>3079</a>\u001b[0m \u001b[39mtry\u001b[39;00m:\n\u001b[1;32m-> <a href='file:///c%3A/ProgramData/Anaconda3/lib/site-packages/pandas/core/indexes/base.py?line=3079'>3080</a>\u001b[0m     \u001b[39mreturn\u001b[39;00m \u001b[39mself\u001b[39;49m\u001b[39m.\u001b[39;49m_engine\u001b[39m.\u001b[39;49mget_loc(casted_key)\n\u001b[0;32m   <a href='file:///c%3A/ProgramData/Anaconda3/lib/site-packages/pandas/core/indexes/base.py?line=3080'>3081</a>\u001b[0m \u001b[39mexcept\u001b[39;00m \u001b[39mKeyError\u001b[39;00m \u001b[39mas\u001b[39;00m err:\n",
      "File \u001b[1;32mpandas\\_libs\\index.pyx:70\u001b[0m, in \u001b[0;36mpandas._libs.index.IndexEngine.get_loc\u001b[1;34m()\u001b[0m\n",
      "File \u001b[1;32mpandas\\_libs\\index.pyx:96\u001b[0m, in \u001b[0;36mpandas._libs.index.IndexEngine.get_loc\u001b[1;34m()\u001b[0m\n",
      "File \u001b[1;32mpandas\\_libs\\index.pyx:126\u001b[0m, in \u001b[0;36mpandas._libs.index.IndexEngine._get_loc_duplicates\u001b[1;34m()\u001b[0m\n",
      "File \u001b[1;32mpandas\\_libs\\index.pyx:133\u001b[0m, in \u001b[0;36mpandas._libs.index.IndexEngine._maybe_get_bool_indexer\u001b[1;34m()\u001b[0m\n",
      "File \u001b[1;32mpandas\\_libs\\index.pyx:150\u001b[0m, in \u001b[0;36mpandas._libs.index.IndexEngine._unpack_bool_indexer\u001b[1;34m()\u001b[0m\n",
      "\u001b[1;31mKeyError\u001b[0m: '싱'",
      "\nThe above exception was the direct cause of the following exception:\n",
      "\u001b[1;31mKeyError\u001b[0m                                  Traceback (most recent call last)",
      "\u001b[1;32mc:\\Users\\jlune\\carbon\\project_JI\\0.Model\\01.model.ipynb Cell 62'\u001b[0m in \u001b[0;36m<cell line: 1>\u001b[1;34m()\u001b[0m\n\u001b[0;32m      <a href='vscode-notebook-cell:/c%3A/Users/jlune/carbon/project_JI/0.Model/01.model.ipynb#ch0000096?line=0'>1</a>\u001b[0m \u001b[39mfor\u001b[39;00m i \u001b[39min\u001b[39;00m alist:\n\u001b[1;32m----> <a href='vscode-notebook-cell:/c%3A/Users/jlune/carbon/project_JI/0.Model/01.model.ipynb#ch0000096?line=1'>2</a>\u001b[0m     x \u001b[39m=\u001b[39mget_recommendation(i[\u001b[39m0\u001b[39;49m])\n",
      "\u001b[1;32mc:\\Users\\jlune\\carbon\\project_JI\\0.Model\\01.model.ipynb Cell 38'\u001b[0m in \u001b[0;36mget_recommendation\u001b[1;34m(title, cos_sim)\u001b[0m\n\u001b[0;32m      <a href='vscode-notebook-cell:/c%3A/Users/jlune/carbon/project_JI/0.Model/01.model.ipynb#ch0000045?line=0'>1</a>\u001b[0m \u001b[39mdef\u001b[39;00m \u001b[39mget_recommendation\u001b[39m(title, cos_sim\u001b[39m=\u001b[39mcos_sim):\n\u001b[1;32m----> <a href='vscode-notebook-cell:/c%3A/Users/jlune/carbon/project_JI/0.Model/01.model.ipynb#ch0000045?line=1'>2</a>\u001b[0m     index \u001b[39m=\u001b[39m indices[title]\n\u001b[0;32m      <a href='vscode-notebook-cell:/c%3A/Users/jlune/carbon/project_JI/0.Model/01.model.ipynb#ch0000045?line=2'>3</a>\u001b[0m     sim_scores \u001b[39m=\u001b[39m pd\u001b[39m.\u001b[39mSeries(cos_sim[index])\n\u001b[0;32m      <a href='vscode-notebook-cell:/c%3A/Users/jlune/carbon/project_JI/0.Model/01.model.ipynb#ch0000045?line=3'>4</a>\u001b[0m     movie_indices \u001b[39m=\u001b[39m sim_scores\u001b[39m.\u001b[39msort_values(ascending\u001b[39m=\u001b[39m\u001b[39mFalse\u001b[39;00m)\u001b[39m.\u001b[39mhead(\u001b[39m6\u001b[39m)\u001b[39m.\u001b[39mtail(\u001b[39m5\u001b[39m)\u001b[39m.\u001b[39mindex\n",
      "File \u001b[1;32mC:\\ProgramData\\Anaconda3\\lib\\site-packages\\pandas\\core\\series.py:853\u001b[0m, in \u001b[0;36mSeries.__getitem__\u001b[1;34m(self, key)\u001b[0m\n\u001b[0;32m    <a href='file:///c%3A/ProgramData/Anaconda3/lib/site-packages/pandas/core/series.py?line=849'>850</a>\u001b[0m     \u001b[39mreturn\u001b[39;00m \u001b[39mself\u001b[39m\u001b[39m.\u001b[39m_values[key]\n\u001b[0;32m    <a href='file:///c%3A/ProgramData/Anaconda3/lib/site-packages/pandas/core/series.py?line=851'>852</a>\u001b[0m \u001b[39melif\u001b[39;00m key_is_scalar:\n\u001b[1;32m--> <a href='file:///c%3A/ProgramData/Anaconda3/lib/site-packages/pandas/core/series.py?line=852'>853</a>\u001b[0m     \u001b[39mreturn\u001b[39;00m \u001b[39mself\u001b[39;49m\u001b[39m.\u001b[39;49m_get_value(key)\n\u001b[0;32m    <a href='file:///c%3A/ProgramData/Anaconda3/lib/site-packages/pandas/core/series.py?line=854'>855</a>\u001b[0m \u001b[39mif\u001b[39;00m is_hashable(key):\n\u001b[0;32m    <a href='file:///c%3A/ProgramData/Anaconda3/lib/site-packages/pandas/core/series.py?line=855'>856</a>\u001b[0m     \u001b[39m# Otherwise index.get_value will raise InvalidIndexError\u001b[39;00m\n\u001b[0;32m    <a href='file:///c%3A/ProgramData/Anaconda3/lib/site-packages/pandas/core/series.py?line=856'>857</a>\u001b[0m     \u001b[39mtry\u001b[39;00m:\n\u001b[0;32m    <a href='file:///c%3A/ProgramData/Anaconda3/lib/site-packages/pandas/core/series.py?line=857'>858</a>\u001b[0m         \u001b[39m# For labels that don't resolve as scalars like tuples and frozensets\u001b[39;00m\n",
      "File \u001b[1;32mC:\\ProgramData\\Anaconda3\\lib\\site-packages\\pandas\\core\\series.py:961\u001b[0m, in \u001b[0;36mSeries._get_value\u001b[1;34m(self, label, takeable)\u001b[0m\n\u001b[0;32m    <a href='file:///c%3A/ProgramData/Anaconda3/lib/site-packages/pandas/core/series.py?line=957'>958</a>\u001b[0m     \u001b[39mreturn\u001b[39;00m \u001b[39mself\u001b[39m\u001b[39m.\u001b[39m_values[label]\n\u001b[0;32m    <a href='file:///c%3A/ProgramData/Anaconda3/lib/site-packages/pandas/core/series.py?line=959'>960</a>\u001b[0m \u001b[39m# Similar to Index.get_value, but we do not fall back to positional\u001b[39;00m\n\u001b[1;32m--> <a href='file:///c%3A/ProgramData/Anaconda3/lib/site-packages/pandas/core/series.py?line=960'>961</a>\u001b[0m loc \u001b[39m=\u001b[39m \u001b[39mself\u001b[39;49m\u001b[39m.\u001b[39;49mindex\u001b[39m.\u001b[39;49mget_loc(label)\n\u001b[0;32m    <a href='file:///c%3A/ProgramData/Anaconda3/lib/site-packages/pandas/core/series.py?line=961'>962</a>\u001b[0m \u001b[39mreturn\u001b[39;00m \u001b[39mself\u001b[39m\u001b[39m.\u001b[39mindex\u001b[39m.\u001b[39m_get_values_for_loc(\u001b[39mself\u001b[39m, loc, label)\n",
      "File \u001b[1;32mC:\\ProgramData\\Anaconda3\\lib\\site-packages\\pandas\\core\\indexes\\base.py:3082\u001b[0m, in \u001b[0;36mIndex.get_loc\u001b[1;34m(self, key, method, tolerance)\u001b[0m\n\u001b[0;32m   <a href='file:///c%3A/ProgramData/Anaconda3/lib/site-packages/pandas/core/indexes/base.py?line=3079'>3080</a>\u001b[0m         \u001b[39mreturn\u001b[39;00m \u001b[39mself\u001b[39m\u001b[39m.\u001b[39m_engine\u001b[39m.\u001b[39mget_loc(casted_key)\n\u001b[0;32m   <a href='file:///c%3A/ProgramData/Anaconda3/lib/site-packages/pandas/core/indexes/base.py?line=3080'>3081</a>\u001b[0m     \u001b[39mexcept\u001b[39;00m \u001b[39mKeyError\u001b[39;00m \u001b[39mas\u001b[39;00m err:\n\u001b[1;32m-> <a href='file:///c%3A/ProgramData/Anaconda3/lib/site-packages/pandas/core/indexes/base.py?line=3081'>3082</a>\u001b[0m         \u001b[39mraise\u001b[39;00m \u001b[39mKeyError\u001b[39;00m(key) \u001b[39mfrom\u001b[39;00m \u001b[39merr\u001b[39;00m\n\u001b[0;32m   <a href='file:///c%3A/ProgramData/Anaconda3/lib/site-packages/pandas/core/indexes/base.py?line=3083'>3084</a>\u001b[0m \u001b[39mif\u001b[39;00m tolerance \u001b[39mis\u001b[39;00m \u001b[39mnot\u001b[39;00m \u001b[39mNone\u001b[39;00m:\n\u001b[0;32m   <a href='file:///c%3A/ProgramData/Anaconda3/lib/site-packages/pandas/core/indexes/base.py?line=3084'>3085</a>\u001b[0m     tolerance \u001b[39m=\u001b[39m \u001b[39mself\u001b[39m\u001b[39m.\u001b[39m_convert_tolerance(tolerance, np\u001b[39m.\u001b[39masarray(key))\n",
      "\u001b[1;31mKeyError\u001b[0m: '싱'"
     ]
    }
   ],
   "source": [
    "for i in alist:\n",
    "    x =get_recommendation(i[])\n"
   ]
  },
  {
   "cell_type": "code",
   "execution_count": null,
   "metadata": {},
   "outputs": [
    {
     "data": {
      "text/plain": [
       "10310            13일의 금요일 4\n",
       "10386            13일의 금요일 2\n",
       "7807               13일의 금요일\n",
       "9037                빅 팻 라이어\n",
       "10143    13일의 금요일 7: 새로운 살인\n",
       "Name: title, dtype: object"
      ]
     },
     "execution_count": 130,
     "metadata": {},
     "output_type": "execute_result"
    }
   ],
   "source": [
    "get_recommendation('13일의 금요일 6: 제이슨 살아있다')"
   ]
  },
  {
   "cell_type": "code",
   "execution_count": null,
   "metadata": {},
   "outputs": [
    {
     "data": {
      "text/plain": [
       "4802    세일러복과 기관총 – 졸업\n",
       "4675            퍼펙트 웨폰\n",
       "2187          혈랑: 붉은전사\n",
       "5428             밀실 살인\n",
       "9962              일촉즉발\n",
       "Name: title, dtype: object"
      ]
     },
     "execution_count": 131,
     "metadata": {},
     "output_type": "execute_result"
    }
   ],
   "source": [
    "get_recommendation('떠오르는 태양')"
   ]
  },
  {
   "cell_type": "code",
   "execution_count": null,
   "metadata": {},
   "outputs": [
    {
     "data": {
      "text/plain": [
       "1888     버터플라이 복서\n",
       "5984         피해자들\n",
       "6118         더 저지\n",
       "5145      사랑이 이긴다\n",
       "10130        레인 맨\n",
       "Name: title, dtype: object"
      ]
     },
     "execution_count": 132,
     "metadata": {},
     "output_type": "execute_result"
    }
   ],
   "source": [
    "get_recommendation('로드 투 차이나')"
   ]
  },
  {
   "cell_type": "code",
   "execution_count": null,
   "metadata": {},
   "outputs": [
    {
     "data": {
      "text/plain": [
       "2741                   맨디\n",
       "2506    파라노말 액티비티: 드림 하우스\n",
       "5064              퇴마; 무녀굴\n",
       "1180             어드벤처 보이즈\n",
       "7012                트레스패스\n",
       "Name: title, dtype: object"
      ]
     },
     "execution_count": 134,
     "metadata": {},
     "output_type": "execute_result"
    }
   ],
   "source": [
    "get_recommendation('돈 세이 워드')  # 주변 공백 입력도 처리해주는 함수 개발해야 for 안에서 레커멘드 호출시 에러. 이유를..."
   ]
  },
  {
   "cell_type": "code",
   "execution_count": null,
   "metadata": {},
   "outputs": [
    {
     "data": {
      "text/plain": [
       "9085              트랜스포터\n",
       "9506             언더 더 선\n",
       "6307         더 웹툰: 예고살인\n",
       "2483    적인걸5: 측천무후 지유명도\n",
       "5008           포인트 브레이크\n",
       "Name: title, dtype: object"
      ]
     },
     "execution_count": 135,
     "metadata": {},
     "output_type": "execute_result"
    }
   ],
   "source": [
    "get_recommendation('사랑의 파도')"
   ]
  },
  {
   "cell_type": "code",
   "execution_count": null,
   "metadata": {},
   "outputs": [
    {
     "data": {
      "text/plain": [
       "4168    봉신연의: 영웅의 귀환\n",
       "1790          완벽한 손님\n",
       "9421            중화영웅\n",
       "110            최선의 삶\n",
       "3017         라이즈 위 텔\n",
       "Name: title, dtype: object"
      ]
     },
     "execution_count": 137,
     "metadata": {},
     "output_type": "execute_result"
    }
   ],
   "source": [
    "get_recommendation('적각비협')"
   ]
  },
  {
   "cell_type": "code",
   "execution_count": null,
   "metadata": {},
   "outputs": [
    {
     "data": {
      "text/plain": [
       "667                 메가 블리자드\n",
       "8960           매트릭스 3: 레볼루션\n",
       "2248     로스트 바이킹: 전쟁의 신의 아들\n",
       "6293              페어런트 트레이닝\n",
       "10055                 다크 엔젤\n",
       "Name: title, dtype: object"
      ]
     },
     "execution_count": 138,
     "metadata": {},
     "output_type": "execute_result"
    }
   ],
   "source": [
    "get_recommendation('포카혼타스')"
   ]
  },
  {
   "cell_type": "code",
   "execution_count": null,
   "metadata": {},
   "outputs": [
    {
     "data": {
      "text/plain": [
       "2513    허리케인: 배틀 오브 브리튼\n",
       "8583             안소니 짐머\n",
       "2605          303 전투비행단\n",
       "855                 비커밍\n",
       "5340    대전차 특공대: 스페셜 포스\n",
       "Name: title, dtype: object"
      ]
     },
     "execution_count": 139,
     "metadata": {},
     "output_type": "execute_result"
    }
   ],
   "source": [
    "get_recommendation('이탈자')"
   ]
  },
  {
   "cell_type": "code",
   "execution_count": null,
   "metadata": {},
   "outputs": [],
   "source": []
  }
 ],
 "metadata": {
  "interpreter": {
   "hash": "b3ba2566441a7c06988d0923437866b63cedc61552a5af99d1f4fb67d367b25f"
  },
  "kernelspec": {
   "display_name": "Python 3.8.8 ('base')",
   "language": "python",
   "name": "python3"
  },
  "language_info": {
   "codemirror_mode": {
    "name": "ipython",
    "version": 3
   },
   "file_extension": ".py",
   "mimetype": "text/x-python",
   "name": "python",
   "nbconvert_exporter": "python",
   "pygments_lexer": "ipython3",
   "version": "3.8.8"
  },
  "orig_nbformat": 4
 },
 "nbformat": 4,
 "nbformat_minor": 2
}
