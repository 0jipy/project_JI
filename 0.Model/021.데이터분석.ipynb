{
 "cells": [
  {
   "cell_type": "code",
   "execution_count": 1,
   "metadata": {},
   "outputs": [],
   "source": [
    "# 데이터분석"
   ]
  },
  {
   "cell_type": "code",
   "execution_count": 2,
   "metadata": {},
   "outputs": [],
   "source": [
    "import pandas as pd"
   ]
  },
  {
   "cell_type": "code",
   "execution_count": 7,
   "metadata": {},
   "outputs": [],
   "source": [
    "df = pd.read_csv('./backup.csv')\n",
    "df_U4 = pd.read_csv(\"./input_t.csv\")\n",
    "df_result = pd.read_csv(\"./result_cosU.csv\")"
   ]
  },
  {
   "cell_type": "code",
   "execution_count": 5,
   "metadata": {},
   "outputs": [
    {
     "data": {
      "text/html": [
       "<div>\n",
       "<style scoped>\n",
       "    .dataframe tbody tr th:only-of-type {\n",
       "        vertical-align: middle;\n",
       "    }\n",
       "\n",
       "    .dataframe tbody tr th {\n",
       "        vertical-align: top;\n",
       "    }\n",
       "\n",
       "    .dataframe thead th {\n",
       "        text-align: right;\n",
       "    }\n",
       "</style>\n",
       "<table border=\"1\" class=\"dataframe\">\n",
       "  <thead>\n",
       "    <tr style=\"text-align: right;\">\n",
       "      <th></th>\n",
       "      <th>title_kor</th>\n",
       "      <th>opening_date</th>\n",
       "      <th>genre</th>\n",
       "      <th>director</th>\n",
       "      <th>actors</th>\n",
       "      <th>synopsis</th>\n",
       "      <th>imdb_rating</th>\n",
       "      <th>just_rating</th>\n",
       "      <th>runtime</th>\n",
       "      <th>posterLink</th>\n",
       "      <th>Mark</th>\n",
       "    </tr>\n",
       "  </thead>\n",
       "  <tbody>\n",
       "    <tr>\n",
       "      <th>0</th>\n",
       "      <td>증기선 윌리</td>\n",
       "      <td>1928.0</td>\n",
       "      <td>애니메이션</td>\n",
       "      <td>UbIwerks</td>\n",
       "      <td>WaltDisney</td>\n",
       "      <td>첫 미키 마우스 애니메이션 개봉작이자 동시 녹음을 활용한 최초의 애니메이션. 배 위...</td>\n",
       "      <td>80%</td>\n",
       "      <td>80%</td>\n",
       "      <td>8min</td>\n",
       "      <td>https://images.justwatch.com/poster/18697230/s592</td>\n",
       "      <td>D</td>\n",
       "    </tr>\n",
       "    <tr>\n",
       "      <th>1</th>\n",
       "      <td>Flowers and Trees</td>\n",
       "      <td>1932.0</td>\n",
       "      <td>애니메이션</td>\n",
       "      <td>BurtGillett</td>\n",
       "      <td>ClarenceNash,EstherCampbell,MarionDarlington,P...</td>\n",
       "      <td>A jealous stump threatens two trees that are i...</td>\n",
       "      <td>73%</td>\n",
       "      <td>73%</td>\n",
       "      <td>8min</td>\n",
       "      <td>https://images.justwatch.com/poster/11993645/s592</td>\n",
       "      <td>D</td>\n",
       "    </tr>\n",
       "    <tr>\n",
       "      <th>2</th>\n",
       "      <td>아기 돼지 삼형제</td>\n",
       "      <td>1933.0</td>\n",
       "      <td>애니메이션,코미디,가족,음악</td>\n",
       "      <td>BurtGillett</td>\n",
       "      <td>BillyBletcher,PintoColvig,DorothyCompton,MaryM...</td>\n",
       "      <td>아카데미 상을 받은 이 단편에서, 아기 돼지 삼 형제는 각자의 집을 짓는다. 하나는...</td>\n",
       "      <td>74%</td>\n",
       "      <td>74%</td>\n",
       "      <td>8min</td>\n",
       "      <td>https://images.justwatch.com/poster/19274730/s592</td>\n",
       "      <td>D</td>\n",
       "    </tr>\n",
       "    <tr>\n",
       "      <th>3</th>\n",
       "      <td>The Tortoise and the Hare</td>\n",
       "      <td>1935.0</td>\n",
       "      <td>판타지,다큐멘터리</td>\n",
       "      <td>WilfredJackson</td>\n",
       "      <td>EddieHolden,NedNorton,PintoColvig,MarcelliteGa...</td>\n",
       "      <td>The Tortoise and the Hare is an animated short...</td>\n",
       "      <td>73%</td>\n",
       "      <td>73%</td>\n",
       "      <td>9min</td>\n",
       "      <td>https://images.justwatch.com/poster/138275030/...</td>\n",
       "      <td>D</td>\n",
       "    </tr>\n",
       "    <tr>\n",
       "      <th>4</th>\n",
       "      <td>현명한 암탉</td>\n",
       "      <td>1934.0</td>\n",
       "      <td>애니메이션</td>\n",
       "      <td>WilfredJackson</td>\n",
       "      <td>FlorenceGill,ClarenceNash,PurvPullen</td>\n",
       "      <td>고전 단편 애니메이션 '현명한 암탉'에 도날드 덕이 데뷔한다. 옥수수를 심고 있는 ...</td>\n",
       "      <td>70%</td>\n",
       "      <td>70%</td>\n",
       "      <td>8min</td>\n",
       "      <td>https://images.justwatch.com/poster/241272125/...</td>\n",
       "      <td>D</td>\n",
       "    </tr>\n",
       "  </tbody>\n",
       "</table>\n",
       "</div>"
      ],
      "text/plain": [
       "                   title_kor  opening_date            genre        director  \\\n",
       "0                     증기선 윌리        1928.0            애니메이션        UbIwerks   \n",
       "1          Flowers and Trees        1932.0            애니메이션     BurtGillett   \n",
       "2                  아기 돼지 삼형제        1933.0  애니메이션,코미디,가족,음악     BurtGillett   \n",
       "3  The Tortoise and the Hare        1935.0        판타지,다큐멘터리  WilfredJackson   \n",
       "4                     현명한 암탉        1934.0            애니메이션  WilfredJackson   \n",
       "\n",
       "                                              actors  \\\n",
       "0                                         WaltDisney   \n",
       "1  ClarenceNash,EstherCampbell,MarionDarlington,P...   \n",
       "2  BillyBletcher,PintoColvig,DorothyCompton,MaryM...   \n",
       "3  EddieHolden,NedNorton,PintoColvig,MarcelliteGa...   \n",
       "4               FlorenceGill,ClarenceNash,PurvPullen   \n",
       "\n",
       "                                            synopsis imdb_rating just_rating  \\\n",
       "0  첫 미키 마우스 애니메이션 개봉작이자 동시 녹음을 활용한 최초의 애니메이션. 배 위...         80%         80%   \n",
       "1  A jealous stump threatens two trees that are i...         73%         73%   \n",
       "2  아카데미 상을 받은 이 단편에서, 아기 돼지 삼 형제는 각자의 집을 짓는다. 하나는...         74%         74%   \n",
       "3  The Tortoise and the Hare is an animated short...         73%         73%   \n",
       "4  고전 단편 애니메이션 '현명한 암탉'에 도날드 덕이 데뷔한다. 옥수수를 심고 있는 ...         70%         70%   \n",
       "\n",
       "  runtime                                         posterLink Mark  \n",
       "0    8min  https://images.justwatch.com/poster/18697230/s592    D  \n",
       "1    8min  https://images.justwatch.com/poster/11993645/s592    D  \n",
       "2    8min  https://images.justwatch.com/poster/19274730/s592    D  \n",
       "3    9min  https://images.justwatch.com/poster/138275030/...    D  \n",
       "4    8min  https://images.justwatch.com/poster/241272125/...    D  "
      ]
     },
     "execution_count": 5,
     "metadata": {},
     "output_type": "execute_result"
    }
   ],
   "source": [
    "df.head()"
   ]
  },
  {
   "cell_type": "code",
   "execution_count": 6,
   "metadata": {},
   "outputs": [],
   "source": [
    "from sklearn.feature_extraction.text import CountVectorizer \n",
    "from sklearn.feature_extraction.text import TfidfVectorizer\n",
    "\n",
    "t = TfidfVectorizer()"
   ]
  },
  {
   "cell_type": "code",
   "execution_count": 16,
   "metadata": {},
   "outputs": [
    {
     "data": {
      "text/plain": [
       "list"
      ]
     },
     "execution_count": 16,
     "metadata": {},
     "output_type": "execute_result"
    }
   ],
   "source": [
    "synop = list(df_U4['input_t'])\n",
    "type(synop)"
   ]
  },
  {
   "cell_type": "code",
   "execution_count": 23,
   "metadata": {},
   "outputs": [
    {
     "name": "stdout",
     "output_type": "stream",
     "text": [
      "<class 'pandas.core.frame.DataFrame'>\n",
      "RangeIndex: 9763 entries, 0 to 9762\n",
      "Data columns (total 4 columns):\n",
      " #   Column      Non-Null Count  Dtype \n",
      "---  ------      --------------  ----- \n",
      " 0   Unnamed: 0  9763 non-null   int64 \n",
      " 1   title       9763 non-null   object\n",
      " 2   synopsis    9763 non-null   object\n",
      " 3   input_t     9763 non-null   object\n",
      "dtypes: int64(1), object(3)\n",
      "memory usage: 305.2+ KB\n"
     ]
    }
   ],
   "source": [
    "df_U4.info()                    "
   ]
  },
  {
   "cell_type": "code",
   "execution_count": null,
   "metadata": {},
   "outputs": [],
   "source": []
  },
  {
   "cell_type": "code",
   "execution_count": 21,
   "metadata": {},
   "outputs": [
    {
     "data": {
      "text/plain": [
       "[['증기선',\n",
       "  '윌리',\n",
       "  '애니메이션',\n",
       "  'UbIwerks',\n",
       "  'WaltDisney',\n",
       "  '첫',\n",
       "  '미키',\n",
       "  '마우스',\n",
       "  '애니메이션',\n",
       "  '개봉작이자',\n",
       "  '동시',\n",
       "  '녹음을',\n",
       "  '활용한',\n",
       "  '최초의',\n",
       "  '애니메이션.',\n",
       "  '배',\n",
       "  '위의',\n",
       "  '장난꾸러기',\n",
       "  '선원',\n",
       "  '미키는',\n",
       "  '미니를',\n",
       "  '기쁘게',\n",
       "  '하기',\n",
       "  '위해',\n",
       "  '동물들을',\n",
       "  '악기',\n",
       "  '삼아',\n",
       "  '“짚',\n",
       "  '속의',\n",
       "  '칠면조”를',\n",
       "  '연주한다.',\n",
       "  '포악한',\n",
       "  '피트',\n",
       "  '선장의',\n",
       "  '화를',\n",
       "  '돋운',\n",
       "  '미키는',\n",
       "  '조리실에서',\n",
       "  '감자',\n",
       "  '깎는',\n",
       "  '일을',\n",
       "  '하게',\n",
       "  '된다.'],\n",
       " ['Flowers',\n",
       "  'and',\n",
       "  'Trees',\n",
       "  '애니메이션',\n",
       "  'BurtGillett',\n",
       "  'ClarenceNash,EstherCampbell,MarionDarlington,PintoColvig,WaltDisney',\n",
       "  'A',\n",
       "  'jealous',\n",
       "  'stump',\n",
       "  'threatens',\n",
       "  'two',\n",
       "  'trees',\n",
       "  'that',\n",
       "  'are',\n",
       "  'in',\n",
       "  'love',\n",
       "  'by',\n",
       "  'starting',\n",
       "  'a',\n",
       "  'forest',\n",
       "  'fire.',\n",
       "  'When',\n",
       "  'the',\n",
       "  'rain',\n",
       "  'comes',\n",
       "  'and',\n",
       "  'puts',\n",
       "  'out',\n",
       "  'the',\n",
       "  'fire',\n",
       "  'the',\n",
       "  'forest',\n",
       "  'revives',\n",
       "  'and',\n",
       "  'celebrates',\n",
       "  'the',\n",
       "  'wedding.'],\n",
       " ['아기',\n",
       "  '돼지',\n",
       "  '삼형제',\n",
       "  '애니메이션,코미디,가족,음악',\n",
       "  'BurtGillett',\n",
       "  'BillyBletcher,PintoColvig,DorothyCompton,MaryModer',\n",
       "  '아카데미',\n",
       "  '상을',\n",
       "  '받은',\n",
       "  '이',\n",
       "  '단편에서,',\n",
       "  '아기',\n",
       "  '돼지',\n",
       "  '삼',\n",
       "  '형제는',\n",
       "  '각자의',\n",
       "  '집을',\n",
       "  '짓는다.',\n",
       "  '하나는',\n",
       "  '짚으로,',\n",
       "  '하나는',\n",
       "  '나무로,',\n",
       "  '하나는',\n",
       "  '늑대를',\n",
       "  '막을',\n",
       "  '수',\n",
       "  '있는',\n",
       "  '벽돌로.',\n",
       "  '커다란',\n",
       "  '나쁜',\n",
       "  '늑대가',\n",
       "  '찾아와',\n",
       "  '초가집과',\n",
       "  '나무집을',\n",
       "  '불어',\n",
       "  '날려',\n",
       "  '버린다.',\n",
       "  '세',\n",
       "  '마리의',\n",
       "  '돼지들은',\n",
       "  '현실적인',\n",
       "  '돼지의',\n",
       "  '벽돌집으로',\n",
       "  '피신하고,',\n",
       "  '늑대는',\n",
       "  '벽돌',\n",
       "  '집을',\n",
       "  '불어',\n",
       "  '무너뜨리지',\n",
       "  '못한다.'],\n",
       " ['현명한',\n",
       "  '암탉',\n",
       "  '애니메이션',\n",
       "  'WilfredJackson',\n",
       "  'FlorenceGill,ClarenceNash,PurvPullen',\n",
       "  '고전',\n",
       "  '단편',\n",
       "  '애니메이션',\n",
       "  \"'현명한\",\n",
       "  \"암탉'에\",\n",
       "  '도날드',\n",
       "  '덕이',\n",
       "  '데뷔한다.',\n",
       "  '옥수수를',\n",
       "  '심고',\n",
       "  '있는',\n",
       "  '작은',\n",
       "  '암탉은',\n",
       "  '돼지',\n",
       "  '피터와',\n",
       "  '도날드',\n",
       "  '덕으로부터',\n",
       "  '도움을',\n",
       "  '요청하지만,',\n",
       "  '둘',\n",
       "  '다',\n",
       "  \"'배가\",\n",
       "  \"아프다'며\",\n",
       "  '거절한다.',\n",
       "  '옥수수를',\n",
       "  '수확할',\n",
       "  '때가',\n",
       "  '되자',\n",
       "  '돼지',\n",
       "  '피터와',\n",
       "  '도날드는',\n",
       "  '여전히',\n",
       "  '암탉을',\n",
       "  '돕지',\n",
       "  '않고,',\n",
       "  '이에',\n",
       "  '암탉과',\n",
       "  '병아리들은',\n",
       "  '직접',\n",
       "  '수확을',\n",
       "  '한다.',\n",
       "  '마침내',\n",
       "  '암탉은',\n",
       "  '옥수수를',\n",
       "  '요리하고,',\n",
       "  '도날드와',\n",
       "  '돼지',\n",
       "  '피터에게',\n",
       "  '요리를',\n",
       "  '권하지만,',\n",
       "  '자세히',\n",
       "  '보니',\n",
       "  '그들은',\n",
       "  '놀라운',\n",
       "  '사실을',\n",
       "  '발견한다.']]"
      ]
     },
     "execution_count": 21,
     "metadata": {},
     "output_type": "execute_result"
    }
   ],
   "source": [
    "t_synop = [r.split() for r in synop]\n",
    "t_synop[:4]"
   ]
  },
  {
   "cell_type": "code",
   "execution_count": 19,
   "metadata": {},
   "outputs": [
    {
     "data": {
      "text/plain": [
       "[43, 37, 50, 61]"
      ]
     },
     "execution_count": 19,
     "metadata": {},
     "output_type": "execute_result"
    }
   ],
   "source": [
    "len_by_t = [len(t) for t in t_synop]\n",
    "len_by_t[:4]"
   ]
  },
  {
   "cell_type": "code",
   "execution_count": 22,
   "metadata": {},
   "outputs": [
    {
     "data": {
      "text/plain": [
       "['증기선',\n",
       " '윌리',\n",
       " '애니메이션',\n",
       " 'UbIwerks',\n",
       " 'WaltDisney',\n",
       " '첫',\n",
       " '미키',\n",
       " '마우스',\n",
       " '애니메이션',\n",
       " '개봉작이자',\n",
       " '동시',\n",
       " '녹음을',\n",
       " '활용한',\n",
       " '최초의',\n",
       " '애니메이션.',\n",
       " '배',\n",
       " '위의',\n",
       " '장난꾸러기',\n",
       " '선원',\n",
       " '미키는',\n",
       " '미니를',\n",
       " '기쁘게',\n",
       " '하기',\n",
       " '위해',\n",
       " '동물들을',\n",
       " '악기',\n",
       " '삼아',\n",
       " '“짚',\n",
       " '속의',\n",
       " '칠면조”를',\n",
       " '연주한다.',\n",
       " '포악한',\n",
       " '피트',\n",
       " '선장의',\n",
       " '화를',\n",
       " '돋운',\n",
       " '미키는',\n",
       " '조리실에서',\n",
       " '감자',\n",
       " '깎는',\n",
       " '일을',\n",
       " '하게',\n",
       " '된다.']"
      ]
     },
     "execution_count": 22,
     "metadata": {},
     "output_type": "execute_result"
    }
   ],
   "source": [
    "t_synop[0]"
   ]
  },
  {
   "cell_type": "code",
   "execution_count": 25,
   "metadata": {},
   "outputs": [
    {
     "data": {
      "text/plain": [
       "[137, 236, 213, 238]"
      ]
     },
     "execution_count": 25,
     "metadata": {},
     "output_type": "execute_result"
    }
   ],
   "source": [
    "len_by_um = [len(s.replace(' ','')) for s in synop]\n",
    "len_by_um[:4]"
   ]
  },
  {
   "cell_type": "code",
   "execution_count": 33,
   "metadata": {},
   "outputs": [
    {
     "name": "stderr",
     "output_type": "stream",
     "text": [
      "<ipython-input-33-666077623eb8>:7: MatplotlibDeprecationWarning: The 'nonposy' parameter of __init__() has been renamed 'nonpositive' since Matplotlib 3.3; support for the old name will be dropped two minor releases later.\n",
      "  plt.yscale('log', nonposy='clip')\n"
     ]
    },
    {
     "data": {
      "text/plain": [
       "Text(0, 0.5, 'count_synop_text')"
      ]
     },
     "execution_count": 33,
     "metadata": {},
     "output_type": "execute_result"
    },
    {
     "data": {
      "image/png": "[encoded data removed]",
      "text/plain": [
       "<Figure size 864x360 with 1 Axes>"
      ]
     },
     "metadata": {
      "needs_background": "light"
     },
     "output_type": "display_data"
    }
   ],
   "source": [
    "import matplotlib.pyplot as plt\n",
    "\n",
    "plt.figure(figsize=(12,5))\n",
    "\n",
    "plt.hist(len_by_t, bins=50, alpha=0.5, color='r', label='word')\n",
    "plt.hist(len_by_um, bins=50, alpha=0.5, color='b', label='alphabet')\n",
    "plt.yscale('log', nonposy='clip')\n",
    "\n",
    "plt.title('synop_text length Histogram')\n",
    "plt.xlabel('synop_text_length')\n",
    "plt.ylabel('count_synop_text')\n",
    "\n",
    "# plt.show()\n"
   ]
  },
  {
   "cell_type": "code",
   "execution_count": 35,
   "metadata": {},
   "outputs": [],
   "source": [
    "#문장최소길이\n",
    "import numpy as np"
   ]
  },
  {
   "cell_type": "code",
   "execution_count": 49,
   "metadata": {},
   "outputs": [
    {
     "data": {
      "text/plain": [
       "86.0"
      ]
     },
     "execution_count": 49,
     "metadata": {},
     "output_type": "execute_result"
    }
   ],
   "source": [
    "np.max(len_by_t) # 250개\n",
    "np.min(len_by_t) # 5개\n",
    "np.mean(len_by_t).round(1) # 69.3개\n",
    "np.median(len_by_t) #63개\n",
    "np.percentile(len_by_t, 25) # 39.0개\n",
    "np.percentile(len_by_t, 75) # 86.0개"
   ]
  },
  {
   "cell_type": "code",
   "execution_count": 55,
   "metadata": {},
   "outputs": [
    {
     "data": {
      "image/png": "[encoded data removed]",
      "text/plain": [
       "<Figure size 864x864 with 1 Axes>"
      ]
     },
     "metadata": {
      "needs_background": "light"
     },
     "output_type": "display_data"
    }
   ],
   "source": [
    "plt.figure(figsize=(12,12))\n",
    "plt.boxplot([len_by_t], labels=['token'], showmeans=True)\n",
    "plt.show()"
   ]
  },
  {
   "cell_type": "code",
   "execution_count": 56,
   "metadata": {},
   "outputs": [
    {
     "data": {
      "image/png": "[encoded data removed]",
      "text/plain": [
       "<Figure size 864x864 with 1 Axes>"
      ]
     },
     "metadata": {
      "needs_background": "light"
     },
     "output_type": "display_data"
    }
   ],
   "source": [
    "plt.figure(figsize=(12,12))\n",
    "plt.boxplot([len_by_um], labels=['token'], showmeans=True)\n",
    "plt.show()"
   ]
  },
  {
   "cell_type": "code",
   "execution_count": 2,
   "metadata": {},
   "outputs": [],
   "source": [
    "# !pip install wordcloud"
   ]
  },
  {
   "cell_type": "code",
   "execution_count": 3,
   "metadata": {},
   "outputs": [
    {
     "ename": "ModuleNotFoundError",
     "evalue": "No module named 'wordcloud'",
     "output_type": "error",
     "traceback": [
      "\u001b[1;31m---------------------------------------------------------------------------\u001b[0m",
      "\u001b[1;31mModuleNotFoundError\u001b[0m                       Traceback (most recent call last)",
      "\u001b[1;32m<ipython-input-3-021e0a03a31f>\u001b[0m in \u001b[0;36m<module>\u001b[1;34m\u001b[0m\n\u001b[1;32m----> 1\u001b[1;33m \u001b[1;32mfrom\u001b[0m \u001b[0mwordcloud\u001b[0m \u001b[1;32mimport\u001b[0m \u001b[0mWordCloud\u001b[0m\u001b[1;33m\u001b[0m\u001b[1;33m\u001b[0m\u001b[0m\n\u001b[0m",
      "\u001b[1;31mModuleNotFoundError\u001b[0m: No module named 'wordcloud'"
     ]
    }
   ],
   "source": [
    "from wordcloud import WordCloud"
   ]
  },
  {
   "cell_type": "code",
   "execution_count": 4,
   "metadata": {},
   "outputs": [],
   "source": [
    "import seaborn"
   ]
  },
  {
   "cell_type": "code",
   "execution_count": 5,
   "metadata": {},
   "outputs": [
    {
     "ename": "NameError",
     "evalue": "name 'sdfasdfasdfsadfksdlkfjksldjflkajkdlfjqowiejflaskjfdklsjdkfjalskjdf' is not defined",
     "output_type": "error",
     "traceback": [
      "\u001b[1;31m---------------------------------------------------------------------------\u001b[0m",
      "\u001b[1;31mNameError\u001b[0m                                 Traceback (most recent call last)",
      "\u001b[1;32m<ipython-input-5-b06fecc97478>\u001b[0m in \u001b[0;36m<module>\u001b[1;34m\u001b[0m\n\u001b[1;32m----> 1\u001b[1;33m \u001b[0msdfasdfasdfsadfksdlkfjksldjflkajkdlfjqowiejflaskjfdklsjdkfjalskjdf\u001b[0m\u001b[1;33m\u001b[0m\u001b[1;33m\u001b[0m\u001b[0m\n\u001b[0m",
      "\u001b[1;31mNameError\u001b[0m: name 'sdfasdfasdfsadfksdlkfjksldjflkajkdlfjqowiejflaskjfdklsjdkfjalskjdf' is not defined"
     ]
    }
   ],
   "source": [
    "sdfasdfasdfsadfksdlkfjksldjflkajkdlfjqowiejflaskjfdklsjdkfjalskjdf\n",
    "\n",
    "\n",
    "asldkjflksadjflkajsdkfjqoiejrlkasjdfkljsa9f9oiqjef"
   ]
  },
  {
   "cell_type": "code",
   "execution_count": null,
   "metadata": {},
   "outputs": [],
   "source": []
  },
  {
   "cell_type": "code",
   "execution_count": null,
   "metadata": {},
   "outputs": [],
   "source": []
  },
  {
   "cell_type": "code",
   "execution_count": null,
   "metadata": {},
   "outputs": [],
   "source": []
  },
  {
   "cell_type": "code",
   "execution_count": null,
   "metadata": {},
   "outputs": [],
   "source": [
    "asdlkf"
   ]
  }
 ],
 "metadata": {
  "interpreter": {
   "hash": "e08354e700eb3ddbac8177cd6172bbfd21b8370c2ad096419acef00e0fcc09a0"
  },
  "kernelspec": {
   "display_name": "Python 3.8.8 64-bit ('vv': conda)",
   "language": "python",
   "name": "python3"
  },
  "language_info": {
   "codemirror_mode": {
    "name": "ipython",
    "version": 3
   },
   "file_extension": ".py",
   "mimetype": "text/x-python",
   "name": "python",
   "nbconvert_exporter": "python",
   "pygments_lexer": "ipython3",
   "version": "3.8.8"
  },
  "orig_nbformat": 4
 },
 "nbformat": 4,
 "nbformat_minor": 2
}
