{
 "cells": [
  {
   "cell_type": "code",
   "execution_count": 1,
   "metadata": {},
   "outputs": [],
   "source": [
    "import numpy as np\n",
    "import pandas as pd\n",
    "import warnings\n",
    "warnings.filterwarnings('ignore')\n",
    "import matplotlib_inline\n",
    "# import missingno as msno\n",
    "from sklearn.feature_extraction.text import TfidfVectorizer\n",
    "from IPython.display import Image\n",
    "from sklearn.metrics.pairwise import cosine_similarity, euclidean_distances, manhattan_distance"
   ]
  },
  {
   "cell_type": "markdown",
   "metadata": {},
   "source": [
    "0. 데이터 준비"
   ]
  },
  {
   "cell_type": "code",
   "execution_count": 2,
   "metadata": {},
   "outputs": [],
   "source": [
    "import os\n",
    "# print(os.getcwd())"
   ]
  },
  {
   "cell_type": "code",
   "execution_count": 7,
   "metadata": {},
   "outputs": [],
   "source": [
    "# 경로설정 버전 1\n",
    "# 폴더이름 + 파일이름. \n",
    "# (노트북의 위치는 중요치 않고. 폴더이름 + 파일이름으로 절대 경로를 생성)"
   ]
  },
  {
   "cell_type": "code",
   "execution_count": 8,
   "metadata": {},
   "outputs": [
    {
     "data": {
      "text/plain": [
       "'C:\\\\Users\\\\jlune\\\\carbon\\\\project_JI\\\\0.Model\\\\data\\\\MovieCrawlerFile_wavve.csv'"
      ]
     },
     "execution_count": 8,
     "metadata": {},
     "output_type": "execute_result"
    }
   ],
   "source": [
    "# 폴더경로 얻기.\n",
    "base1 = os.path.dirname(r'C:\\Users\\jlune\\carbon\\project_JI\\0.Model\\data\\MovieCrawlerFile_disney.csv')\n",
    "# 파일위치에 절대경로 넣어주시면 됩니다.\n",
    "file1 = os.path.basename(r'C:\\Users\\jlune\\carbon\\project_JI\\0.Model\\data\\MovieCrawlerFile_wavve.csv')\n",
    "file2 = os.path.basename(r'C:\\Users\\jlune\\carbon\\project_JI\\0.Model\\data\\MovieCrawlerFile_netflix.csv')\n",
    "file3 = os.path.basename(r'C:\\Users\\jlune\\carbon\\project_JI\\0.Model\\data\\MovieCrawlerFile_wacha.csv')\n",
    "file4 = os.path.basename(r'C:\\Users\\jlune\\carbon\\project_JI\\0.Model\\data\\MovieCrawlerFile_disney.csv')\n",
    "base1 +'\\\\'+file1 # os.path.join(base1,file1)"
   ]
  },
  {
   "cell_type": "code",
   "execution_count": 9,
   "metadata": {},
   "outputs": [],
   "source": [
    "# ver2는 노트북이 있는 폴더를 base로 하여. /data 폴더를 만들어 파일들을 넣었다고 가정.\n",
    "# base dir + 하위 경로\n",
    "# r'C:\\Users\\jlune\\carbon\\project_JI\\0.Model + \\data\\MovieCrawlerFile_disney.csv 형태\n",
    "os.getcwd() # 현재폴더 경로 확인\n",
    "pp = os.path.join(os.getcwd()+r'\\data\\filename')\n",
    "# pd.read_csv(pp)"
   ]
  },
  {
   "cell_type": "code",
   "execution_count": 11,
   "metadata": {},
   "outputs": [
    {
     "name": "stdout",
     "output_type": "stream",
     "text": [
      "10780 3449 5591 978\n"
     ]
    }
   ],
   "source": [
    "temp1 = pd.read_csv(os.path.join(base1, file1))\n",
    "temp2 = pd.read_csv(os.path.join(base1, file2))\n",
    "temp3 = pd.read_csv(os.path.join(base1, file3))\n",
    "temp4 = pd.read_csv(os.path.join(base1, file4))\n",
    "print(len(temp1), len(temp2), len(temp3), len(temp4))"
   ]
  },
  {
   "cell_type": "code",
   "execution_count": 12,
   "metadata": {},
   "outputs": [
    {
     "data": {
      "text/plain": [
       "20798"
      ]
     },
     "execution_count": 12,
     "metadata": {},
     "output_type": "execute_result"
    }
   ],
   "source": [
    "10780 + 3449 + 5591 + 978"
   ]
  },
  {
   "cell_type": "code",
   "execution_count": 13,
   "metadata": {},
   "outputs": [
    {
     "data": {
      "text/plain": [
       "Index(['actors', 'director', 'genre', 'imdb_rating', 'just_rating',\n",
       "       'opening_date', 'posterLink', 'runtime', 'synopsis', 'title_kor'],\n",
       "      dtype='object')"
      ]
     },
     "execution_count": 13,
     "metadata": {},
     "output_type": "execute_result"
    }
   ],
   "source": [
    "temp1.head().columns"
   ]
  },
  {
   "cell_type": "code",
   "execution_count": 15,
   "metadata": {},
   "outputs": [
    {
     "data": {
      "text/html": [
       "<div>\n",
       "<style scoped>\n",
       "    .dataframe tbody tr th:only-of-type {\n",
       "        vertical-align: middle;\n",
       "    }\n",
       "\n",
       "    .dataframe tbody tr th {\n",
       "        vertical-align: top;\n",
       "    }\n",
       "\n",
       "    .dataframe thead th {\n",
       "        text-align: right;\n",
       "    }\n",
       "</style>\n",
       "<table border=\"1\" class=\"dataframe\">\n",
       "  <thead>\n",
       "    <tr style=\"text-align: right;\">\n",
       "      <th></th>\n",
       "      <th>actors</th>\n",
       "      <th>director</th>\n",
       "      <th>genre</th>\n",
       "      <th>imdb_rating</th>\n",
       "      <th>just_rating</th>\n",
       "      <th>opening_date</th>\n",
       "      <th>posterLink</th>\n",
       "      <th>runtime</th>\n",
       "      <th>synopsis</th>\n",
       "      <th>title_kor</th>\n",
       "      <th>Mark</th>\n",
       "    </tr>\n",
       "  </thead>\n",
       "  <tbody>\n",
       "    <tr>\n",
       "      <th>0</th>\n",
       "      <td>C.V.France,HelenHaye,JillEsmond,EdmundGwenn,Jo...</td>\n",
       "      <td>AlfredHitchcock</td>\n",
       "      <td>드라마</td>\n",
       "      <td>5.7</td>\n",
       "      <td>61%</td>\n",
       "      <td>1931.0</td>\n",
       "      <td>https://images.justwatch.com/poster/184474051/...</td>\n",
       "      <td>1시간22분</td>\n",
       "      <td>부자 가족 힐크리스트는 자신들의 땅에 공장을 짓기 위해 가난한 농부가 보낸 투자사기...</td>\n",
       "      <td>스킨 게임</td>\n",
       "      <td>vv</td>\n",
       "    </tr>\n",
       "  </tbody>\n",
       "</table>\n",
       "</div>"
      ],
      "text/plain": [
       "                                              actors         director genre  \\\n",
       "0  C.V.France,HelenHaye,JillEsmond,EdmundGwenn,Jo...  AlfredHitchcock   드라마   \n",
       "\n",
       "  imdb_rating just_rating  opening_date  \\\n",
       "0         5.7         61%        1931.0   \n",
       "\n",
       "                                          posterLink runtime  \\\n",
       "0  https://images.justwatch.com/poster/184474051/...  1시간22분   \n",
       "\n",
       "                                            synopsis title_kor Mark  \n",
       "0  부자 가족 힐크리스트는 자신들의 땅에 공장을 짓기 위해 가난한 농부가 보낸 투자사기...     스킨 게임   vv  "
      ]
     },
     "execution_count": 15,
     "metadata": {},
     "output_type": "execute_result"
    }
   ],
   "source": [
    "temp1['Mark'] = 'vv' # 웨이브. 소문자.\n",
    "temp2['Mark'] = 'N' #넷플\n",
    "temp3['Mark'] = 'W' #왓챠\n",
    "temp4['Mark'] = 'D' #디즈니\n",
    "temp1.head(1)"
   ]
  },
  {
   "cell_type": "code",
   "execution_count": 109,
   "metadata": {},
   "outputs": [
    {
     "name": "stdout",
     "output_type": "stream",
     "text": [
      "<class 'pandas.core.frame.DataFrame'>\n",
      "Int64Index: 20798 entries, 0 to 977\n",
      "Data columns (total 11 columns):\n",
      " #   Column        Non-Null Count  Dtype  \n",
      "---  ------        --------------  -----  \n",
      " 0   actors        19704 non-null  object \n",
      " 1   director      19901 non-null  object \n",
      " 2   genre         20351 non-null  object \n",
      " 3   imdb_rating   19639 non-null  object \n",
      " 4   just_rating   19639 non-null  object \n",
      " 5   opening_date  20686 non-null  float64\n",
      " 6   posterLink    11677 non-null  object \n",
      " 7   runtime       20686 non-null  object \n",
      " 8   synopsis      20643 non-null  object \n",
      " 9   title_kor     20686 non-null  object \n",
      " 10  Mark          20798 non-null  object \n",
      "dtypes: float64(1), object(10)\n",
      "memory usage: 1.9+ MB\n"
     ]
    }
   ],
   "source": [
    "t1 = pd.concat([temp1, temp2] , axis=0)\n",
    "t2 = pd.concat([t1,temp3], axis=0)\n",
    "t3 = pd.concat([t2,temp4], axis=0)\n",
    "# t1.info()\n",
    "t3.info() #개봉일이 opening year로 스트링으로 바꿀것. "
   ]
  },
  {
   "cell_type": "code",
   "execution_count": 110,
   "metadata": {},
   "outputs": [],
   "source": [
    "# 컬럼순서및 sorting\n",
    "#  df = df[['name', 'sex', 'age', 'height']]\n",
    "# df\n",
    "y = t3.columns.tolist()"
   ]
  },
  {
   "cell_type": "code",
   "execution_count": 111,
   "metadata": {},
   "outputs": [],
   "source": [
    "df_total = t3[['title_kor','opening_date','genre','director','actors','synopsis',\n",
    "         'imdb_rating','just_rating','runtime','posterLink','Mark']]\n",
    "dt_backborn = df_total.copy()  # 백업용 카피\n",
    "# dt_backborn.to_csv('backup.csv', index=None)"
   ]
  },
  {
   "cell_type": "code",
   "execution_count": 112,
   "metadata": {},
   "outputs": [],
   "source": [
    "df_total.drop_duplicates(subset=['title_kor'], inplace=True, ignore_index=True)"
   ]
  },
  {
   "cell_type": "code",
   "execution_count": 113,
   "metadata": {},
   "outputs": [
    {
     "name": "stdout",
     "output_type": "stream",
     "text": [
      "<class 'pandas.core.frame.DataFrame'>\n",
      "RangeIndex: 14484 entries, 0 to 14483\n",
      "Data columns (total 11 columns):\n",
      " #   Column        Non-Null Count  Dtype \n",
      "---  ------        --------------  ----- \n",
      " 0   title_kor     14483 non-null  object\n",
      " 1   opening_date  14484 non-null  object\n",
      " 2   genre         14248 non-null  object\n",
      " 3   director      13894 non-null  object\n",
      " 4   actors        13794 non-null  object\n",
      " 5   synopsis      14451 non-null  object\n",
      " 6   imdb_rating   13736 non-null  object\n",
      " 7   just_rating   13736 non-null  object\n",
      " 8   runtime       14483 non-null  object\n",
      " 9   posterLink    11146 non-null  object\n",
      " 10  Mark          14484 non-null  object\n",
      "dtypes: object(11)\n",
      "memory usage: 1.2+ MB\n"
     ]
    }
   ],
   "source": [
    "# opening_date type  float => str으로 변경.\n",
    "df_total = df_total.astype({'opening_date':'str'})\n",
    "# 1928.0 에서 년도만 취하기 -> 1928\n",
    "df_total['opening_date'] = [x[:-2] for x in df_total.opening_date.values]\n",
    "# df_total.head(2)\n",
    "df_total.info()"
   ]
  },
  {
   "cell_type": "code",
   "execution_count": 135,
   "metadata": {},
   "outputs": [],
   "source": [
    "df_total.sort_values(by=['opening_date'],ascending=True, inplace=True, ignore_index=True)\n",
    "df_total\n",
    "df_total.to_csv(r'./save/df_total.csv')"
   ]
  },
  {
   "cell_type": "code",
   "execution_count": 170,
   "metadata": {},
   "outputs": [],
   "source": [
    "df = df_total.copy()"
   ]
  },
  {
   "cell_type": "markdown",
   "metadata": {},
   "source": [
    "### 1. 전처리 및 sorting"
   ]
  },
  {
   "cell_type": "code",
   "execution_count": 171,
   "metadata": {},
   "outputs": [
    {
     "data": {
      "text/plain": [
       "14484"
      ]
     },
     "execution_count": 171,
     "metadata": {},
     "output_type": "execute_result"
    }
   ],
   "source": [
    "len(df)"
   ]
  },
  {
   "cell_type": "code",
   "execution_count": 172,
   "metadata": {},
   "outputs": [
    {
     "data": {
      "text/plain": [
       "title_kor          1\n",
       "opening_date       0\n",
       "genre            236\n",
       "director         590\n",
       "actors           690\n",
       "synopsis          33\n",
       "imdb_rating      748\n",
       "just_rating      748\n",
       "runtime            1\n",
       "posterLink      3338\n",
       "Mark               0\n",
       "dtype: int64"
      ]
     },
     "execution_count": 172,
     "metadata": {},
     "output_type": "execute_result"
    }
   ],
   "source": [
    "# 제목 데이터 확인 및 결측치 분석\n",
    "# title 결측치가 103개인데 급한대로 수정 못하니 드랍하고 갑니다.\n",
    "# 추후 데이터 확인시 보완. 할것. 0324\n",
    "df.isnull().sum()\n",
    "# df['title_kor'].isnull()"
   ]
  },
  {
   "cell_type": "code",
   "execution_count": 173,
   "metadata": {},
   "outputs": [
    {
     "data": {
      "text/plain": [
       "14483"
      ]
     },
     "execution_count": 173,
     "metadata": {},
     "output_type": "execute_result"
    }
   ],
   "source": [
    "df = df.dropna(subset=['title_kor']) # 제목의 결측치 드랍.\n",
    "len(df)"
   ]
  },
  {
   "cell_type": "code",
   "execution_count": 174,
   "metadata": {},
   "outputs": [
    {
     "data": {
      "text/plain": [
       "14451"
      ]
     },
     "execution_count": 174,
     "metadata": {},
     "output_type": "execute_result"
    }
   ],
   "source": [
    "df.isnull().sum() # 시놉의 결측치 드랍\n",
    "df = df.dropna(subset=['synopsis'])\n",
    "len(df)"
   ]
  },
  {
   "cell_type": "code",
   "execution_count": 175,
   "metadata": {},
   "outputs": [
    {
     "data": {
      "text/plain": [
       "title_kor          0\n",
       "opening_date       0\n",
       "genre              0\n",
       "director         569\n",
       "actors           670\n",
       "synopsis           0\n",
       "imdb_rating        0\n",
       "just_rating      726\n",
       "runtime            0\n",
       "posterLink      3319\n",
       "Mark               0\n",
       "dtype: int64"
      ]
     },
     "execution_count": 175,
     "metadata": {},
     "output_type": "execute_result"
    }
   ],
   "source": [
    "# 장르데이터 널값 채우기\n",
    "# 평점데이터 널값 3.0으로 채우기. 0~10까지. 3.점이하 의미없음으로 보아 3점으로 채워준다. \n",
    "df.genre.fillna('missing', inplace=True)\n",
    "df.imdb_rating.fillna('3.0', inplace=True)\n",
    "df.isnull().sum()"
   ]
  },
  {
   "cell_type": "code",
   "execution_count": 176,
   "metadata": {},
   "outputs": [
    {
     "data": {
      "text/plain": [
       "14451"
      ]
     },
     "execution_count": 176,
     "metadata": {},
     "output_type": "execute_result"
    }
   ],
   "source": [
    "len(df) #14451개로 출발 #마크 정확치 않다. 방법찾아야. "
   ]
  },
  {
   "cell_type": "code",
   "execution_count": 177,
   "metadata": {},
   "outputs": [],
   "source": [
    "# 인덱스 리셋. \n",
    "df.reset_index(drop=True, inplace=True)"
   ]
  },
  {
   "cell_type": "markdown",
   "metadata": {},
   "source": [
    "### 2. "
   ]
  },
  {
   "cell_type": "code",
   "execution_count": 178,
   "metadata": {},
   "outputs": [
    {
     "data": {
      "text/plain": [
       "Index(['title_kor', 'opening_date', 'genre', 'director', 'actors', 'synopsis',\n",
       "       'imdb_rating', 'just_rating', 'runtime', 'posterLink', 'Mark'],\n",
       "      dtype='object')"
      ]
     },
     "execution_count": 178,
     "metadata": {},
     "output_type": "execute_result"
    }
   ],
   "source": [
    "# 텍스트결합용. df 셋팅\n",
    "# 전략은 row의 data 분리 후 합치기. 제목. 장르 감독 액터 시놉 마크? \n",
    "# (마크는 개인화 버전 OTT 별 추천에서나 고려해봐야 할듯)\n",
    "\n",
    "\n",
    "df.columns"
   ]
  },
  {
   "cell_type": "code",
   "execution_count": 179,
   "metadata": {},
   "outputs": [
    {
     "data": {
      "text/plain": [
       "array([['증기선 윌리', '1928', '애니메이션', 'UbIwerks', 'WaltDisney',\n",
       "        '첫 미키 마우스 애니메이션 개봉작이자 동시 녹음을 활용한 최초의 애니메이션. 배 위의 장난꾸러기 선원 미키는 미니를 기쁘게 하기 위해 동물들을 악기 삼아 “짚 속의 칠면조”를 연주한다. 포악한 피트 선장의 화를 돋운 미키는 조리실에서 감자 깎는 일을 하게 된다.',\n",
       "        '80%', '80%', '8min',\n",
       "        'https://images.justwatch.com/poster/18697230/s592', 'D']],\n",
       "      dtype=object)"
      ]
     },
     "execution_count": 179,
     "metadata": {},
     "output_type": "execute_result"
    }
   ],
   "source": [
    "df[:1].values"
   ]
  },
  {
   "cell_type": "code",
   "execution_count": 180,
   "metadata": {},
   "outputs": [
    {
     "data": {
      "text/plain": [
       "array([['스킨 게임', '드라마']], dtype=object)"
      ]
     },
     "execution_count": 180,
     "metadata": {},
     "output_type": "execute_result"
    }
   ],
   "source": [
    "df[['title_kor','genre']][1:2].values"
   ]
  },
  {
   "cell_type": "code",
   "execution_count": 181,
   "metadata": {},
   "outputs": [],
   "source": [
    "# for p in df_input.imdb_rating.values:\n",
    "#     if len(p) > 3:\n",
    "#         p=p[:2]\n",
    "#         imdb\n",
    "#     else:\n",
    "#         p=' '\n",
    "# df_input.isnull().sum()"
   ]
  },
  {
   "cell_type": "code",
   "execution_count": 182,
   "metadata": {},
   "outputs": [],
   "source": [
    "# 텍스트 결합을 위한 input 준비\n",
    "# df_input = df.iloc[:,0:7] #제목부터 시놉 까지 셀렉 + imdb rating\n",
    "df_input = df.iloc[:,0:6] # 평점 당장 사용 어려워 드랍\n",
    "df_input = df_input.drop(['opening_date'], axis=1)"
   ]
  },
  {
   "cell_type": "code",
   "execution_count": 183,
   "metadata": {},
   "outputs": [
    {
     "data": {
      "text/plain": [
       "Index(['title_kor', 'genre', 'director', 'actors', 'synopsis'], dtype='object')"
      ]
     },
     "execution_count": 183,
     "metadata": {},
     "output_type": "execute_result"
    }
   ],
   "source": [
    "df_input.columns"
   ]
  },
  {
   "cell_type": "code",
   "execution_count": 184,
   "metadata": {},
   "outputs": [
    {
     "data": {
      "text/plain": [
       "array([['스킨 게임', '드라마', 'AlfredHitchcock',\n",
       "        'C.V.France,HelenHaye,JillEsmond,EdmundGwenn,JohnLongden,PhyllisKonstam,FrankLawton,EdwardChapman,DoraGregory,GeorgeBancroft,R.E.Jeffrey,HerbertRoss,RonaldFrankau,RodneyAckland,IvorBarnard,WallyPatch',\n",
       "        '부자 가족 힐크리스트는 자신들의 땅에 공장을 짓기 위해 가난한 농부가 보낸 투자사기 전문가 혼블로워와 싸움을 시작한다.\\n 그러던 어느 날 힐크리스트 부인은 혼블로워의 부인이 매춘을 했다는 사실을 알게 되고 이 사실을 그의 사업에 이용하여 협박편지를 보낸다. 그러자 결국 클로 혼블로워 부인은 자살을 하게 된다.']],\n",
       "      dtype=object)"
      ]
     },
     "execution_count": 184,
     "metadata": {},
     "output_type": "execute_result"
    }
   ],
   "source": [
    "a= df_input[1:2].values\n",
    "a"
   ]
  },
  {
   "cell_type": "code",
   "execution_count": 185,
   "metadata": {},
   "outputs": [
    {
     "data": {
      "text/plain": [
       "(5,\n",
       " ['스킨 게임',\n",
       "  '드라마',\n",
       "  'AlfredHitchcock',\n",
       "  'C.V.France,HelenHaye,JillEsmond,EdmundGwenn,JohnLongden,PhyllisKonstam,FrankLawton,EdwardChapman,DoraGregory,GeorgeBancroft,R.E.Jeffrey,HerbertRoss,RonaldFrankau,RodneyAckland,IvorBarnard,WallyPatch',\n",
       "  '부자 가족 힐크리스트는 자신들의 땅에 공장을 짓기 위해 가난한 농부가 보낸 투자사기 전문가 혼블로워와 싸움을 시작한다.\\n 그러던 어느 날 힐크리스트 부인은 혼블로워의 부인이 매춘을 했다는 사실을 알게 되고 이 사실을 그의 사업에 이용하여 협박편지를 보낸다. 그러자 결국 클로 혼블로워 부인은 자살을 하게 된다.'])"
      ]
     },
     "execution_count": 185,
     "metadata": {},
     "output_type": "execute_result"
    }
   ],
   "source": [
    "b = a[0][:]\n",
    "b[:].tolist()\n",
    "len(b[:].tolist()), b[:].tolist()"
   ]
  },
  {
   "cell_type": "code",
   "execution_count": 186,
   "metadata": {},
   "outputs": [
    {
     "data": {
      "text/plain": [
       "'스킨 게임 드라마 AlfredHitchcock C.V.France,HelenHaye,JillEsmond,EdmundGwenn,JohnLongden,PhyllisKonstam,FrankLawton,EdwardChapman,DoraGregory,GeorgeBancroft,R.E.Jeffrey,HerbertRoss,RonaldFrankau,RodneyAckland,IvorBarnard,WallyPatch 부자 가족 힐크리스트는 자신들의 땅에 공장을 짓기 위해 가난한 농부가 보낸 투자사기 전문가 혼블로워와 싸움을 시작한다.\\n 그러던 어느 날 힐크리스트 부인은 혼블로워의 부인이 매춘을 했다는 사실을 알게 되고 이 사실을 그의 사업에 이용하여 협박편지를 보낸다. 그러자 결국 클로 혼블로워 부인은 자살을 하게 된다.'"
      ]
     },
     "execution_count": 186,
     "metadata": {},
     "output_type": "execute_result"
    }
   ],
   "source": [
    "intext = \" \".join(b[:].tolist())\n",
    "intext.replace('\"','')  #리플레이스 고민. 안먹네.\n",
    "intext"
   ]
  },
  {
   "cell_type": "code",
   "execution_count": 187,
   "metadata": {},
   "outputs": [
    {
     "data": {
      "text/plain": [
       "str"
      ]
     },
     "execution_count": 187,
     "metadata": {},
     "output_type": "execute_result"
    }
   ],
   "source": [
    "type(str('1.0'))"
   ]
  },
  {
   "cell_type": "code",
   "execution_count": 188,
   "metadata": {},
   "outputs": [
    {
     "name": "stdout",
     "output_type": "stream",
     "text": [
      "0\n",
      "1\n",
      "2\n",
      "3\n",
      "4\n"
     ]
    }
   ],
   "source": [
    "for i in range(5):\n",
    "    print(i)"
   ]
  },
  {
   "cell_type": "code",
   "execution_count": 189,
   "metadata": {},
   "outputs": [
    {
     "data": {
      "text/plain": [
       "0        증기선 윌리 애니메이션 UbIwerks WaltDisney 첫 미키 마우스 애니메이...\n",
       "1        스킨 게임 드라마 AlfredHitchcock C.V.France,HelenHaye...\n",
       "2        리치 앤 스트레인지 드라마,로맨스,스릴러,코미디 AlfredHitchcock Hen...\n",
       "3        공공의 적 드라마,범죄 WilliamA.Wellman JamesCagney,Jean...\n",
       "4        그랜드 호텔 로맨스,드라마,MadeinEurope EdmundGoulding Gre...\n",
       "                               ...                        \n",
       "14446    위크엔드 어웨이 스릴러,드라마,범죄 KimFarrant LeightonMeester...\n",
       "14447    텍사스 전기톱 학살 2022 공포,스릴러,범죄 DavidBlueGarcia Sara...\n",
       "14448    얼어버린 시간 속에서 역사,드라마 PeterFlinth NikolajCoster-W...\n",
       "14449    레스틀리스 스릴러,액션,범죄   FranckGastambide,SimonAbkari...\n",
       "14450    삼국지 관운장: 청룡언월도 missing 대예림 관지빈,육수명,진송 천하를 호령하던...\n",
       "Length: 14451, dtype: object"
      ]
     },
     "execution_count": 189,
     "metadata": {},
     "output_type": "execute_result"
    }
   ],
   "source": [
    "t_list = []\n",
    "df_input.fillna(' ', inplace=True) # 후에 공백으로 채우던 결과 변경되는지 확인\n",
    "for i in range(len(df)):\n",
    "    s1 = df_input[i:i+1].values\n",
    "    # print(i)\n",
    "    try:\n",
    "        s2 = str(\" \".join(s1[0][:].tolist()))\n",
    "    except:\n",
    "        print(i)\n",
    "        pass\n",
    "    t_list.append(s2)\n",
    "pd.Series(t_list)"
   ]
  },
  {
   "cell_type": "code",
   "execution_count": 190,
   "metadata": {},
   "outputs": [
    {
     "data": {
      "text/plain": [
       "'증기선 윌리 애니메이션 UbIwerks WaltDisney 첫 미키 마우스 애니메이션 개봉작이자 동시 녹음을 활용한 최초의 애니메이션. 배 위의 장난꾸러기 선원 미키는 미니를 기쁘게 하기 위해 동물들을 악기 삼아 “짚 속의 칠면조”를 연주한다. 포악한 피트 선장의 화를 돋운 미키는 조리실에서 감자 깎는 일을 하게 된다.'"
      ]
     },
     "execution_count": 190,
     "metadata": {},
     "output_type": "execute_result"
    }
   ],
   "source": [
    "t_list[0]"
   ]
  },
  {
   "cell_type": "code",
   "execution_count": 191,
   "metadata": {},
   "outputs": [
    {
     "data": {
      "text/plain": [
       "14451"
      ]
     },
     "execution_count": 191,
     "metadata": {},
     "output_type": "execute_result"
    }
   ],
   "source": [
    "len(df)"
   ]
  },
  {
   "cell_type": "code",
   "execution_count": 192,
   "metadata": {},
   "outputs": [],
   "source": [
    "df_U4 = df[['title_kor','synopsis']].rename(columns={\"title_kor\":\"title\", \"synopsis\":'synopsis'})"
   ]
  },
  {
   "cell_type": "code",
   "execution_count": 193,
   "metadata": {},
   "outputs": [
    {
     "data": {
      "text/html": [
       "<div>\n",
       "<style scoped>\n",
       "    .dataframe tbody tr th:only-of-type {\n",
       "        vertical-align: middle;\n",
       "    }\n",
       "\n",
       "    .dataframe tbody tr th {\n",
       "        vertical-align: top;\n",
       "    }\n",
       "\n",
       "    .dataframe thead th {\n",
       "        text-align: right;\n",
       "    }\n",
       "</style>\n",
       "<table border=\"1\" class=\"dataframe\">\n",
       "  <thead>\n",
       "    <tr style=\"text-align: right;\">\n",
       "      <th></th>\n",
       "      <th>title</th>\n",
       "      <th>synopsis</th>\n",
       "    </tr>\n",
       "  </thead>\n",
       "  <tbody>\n",
       "    <tr>\n",
       "      <th>0</th>\n",
       "      <td>증기선 윌리</td>\n",
       "      <td>첫 미키 마우스 애니메이션 개봉작이자 동시 녹음을 활용한 최초의 애니메이션. 배 위...</td>\n",
       "    </tr>\n",
       "    <tr>\n",
       "      <th>1</th>\n",
       "      <td>스킨 게임</td>\n",
       "      <td>부자 가족 힐크리스트는 자신들의 땅에 공장을 짓기 위해 가난한 농부가 보낸 투자사기...</td>\n",
       "    </tr>\n",
       "    <tr>\n",
       "      <th>2</th>\n",
       "      <td>리치 앤 스트레인지</td>\n",
       "      <td>영화는 노동자인 프레드와 그의 부인 에밀리가 그들이 살아있는 동안 평생 뭐든지 할 ...</td>\n",
       "    </tr>\n",
       "    <tr>\n",
       "      <th>3</th>\n",
       "      <td>공공의 적</td>\n",
       "      <td>금주령 시대, 탐 파워스는 술집, 당구장 등을 어슬렁대며 퍼티 노우즈 같은 불량한 ...</td>\n",
       "    </tr>\n",
       "    <tr>\n",
       "      <th>4</th>\n",
       "      <td>그랜드 호텔</td>\n",
       "      <td>독일에 있는 그랜드호텔을 무대로 한 인간군상극(人間群像劇)이다. 무대는 각계 각층의...</td>\n",
       "    </tr>\n",
       "    <tr>\n",
       "      <th>...</th>\n",
       "      <td>...</td>\n",
       "      <td>...</td>\n",
       "    </tr>\n",
       "    <tr>\n",
       "      <th>14446</th>\n",
       "      <td>위크엔드 어웨이</td>\n",
       "      <td>크로아티아에 함께 여행 온 절친이 사라졌다. 베스는 친구의 행적을 필사적으로 추적하...</td>\n",
       "    </tr>\n",
       "    <tr>\n",
       "      <th>14447</th>\n",
       "      <td>텍사스 전기톱 학살 2022</td>\n",
       "      <td>텍사스의 한 유령 도시. 이곳에 생기를 불어넣겠다는 꿈을 안고 도착한 인플루언서들....</td>\n",
       "    </tr>\n",
       "    <tr>\n",
       "      <th>14448</th>\n",
       "      <td>얼어버린 시간 속에서</td>\n",
       "      <td>잃어버린 지도를 찾기 위해 탐험을 떠난 이들. 두 남자가 광활한 그린란드에서 생존을...</td>\n",
       "    </tr>\n",
       "    <tr>\n",
       "      <th>14449</th>\n",
       "      <td>레스틀리스</td>\n",
       "      <td>극단적인 방법으로 사건을 은폐해 버린 부패 경찰. 정체불명의 목격자로부터 협박을 받...</td>\n",
       "    </tr>\n",
       "    <tr>\n",
       "      <th>14450</th>\n",
       "      <td>삼국지 관운장: 청룡언월도</td>\n",
       "      <td>천하를 호령하던 삼국 최고의 명장 ‘관우’가  오나라의 침략에 의해 죽음을 맞이하고...</td>\n",
       "    </tr>\n",
       "  </tbody>\n",
       "</table>\n",
       "<p>14451 rows × 2 columns</p>\n",
       "</div>"
      ],
      "text/plain": [
       "                 title                                           synopsis\n",
       "0               증기선 윌리  첫 미키 마우스 애니메이션 개봉작이자 동시 녹음을 활용한 최초의 애니메이션. 배 위...\n",
       "1                스킨 게임  부자 가족 힐크리스트는 자신들의 땅에 공장을 짓기 위해 가난한 농부가 보낸 투자사기...\n",
       "2           리치 앤 스트레인지  영화는 노동자인 프레드와 그의 부인 에밀리가 그들이 살아있는 동안 평생 뭐든지 할 ...\n",
       "3                공공의 적  금주령 시대, 탐 파워스는 술집, 당구장 등을 어슬렁대며 퍼티 노우즈 같은 불량한 ...\n",
       "4               그랜드 호텔  독일에 있는 그랜드호텔을 무대로 한 인간군상극(人間群像劇)이다. 무대는 각계 각층의...\n",
       "...                ...                                                ...\n",
       "14446         위크엔드 어웨이  크로아티아에 함께 여행 온 절친이 사라졌다. 베스는 친구의 행적을 필사적으로 추적하...\n",
       "14447  텍사스 전기톱 학살 2022  텍사스의 한 유령 도시. 이곳에 생기를 불어넣겠다는 꿈을 안고 도착한 인플루언서들....\n",
       "14448      얼어버린 시간 속에서  잃어버린 지도를 찾기 위해 탐험을 떠난 이들. 두 남자가 광활한 그린란드에서 생존을...\n",
       "14449            레스틀리스  극단적인 방법으로 사건을 은폐해 버린 부패 경찰. 정체불명의 목격자로부터 협박을 받...\n",
       "14450   삼국지 관운장: 청룡언월도  천하를 호령하던 삼국 최고의 명장 ‘관우’가  오나라의 침략에 의해 죽음을 맞이하고...\n",
       "\n",
       "[14451 rows x 2 columns]"
      ]
     },
     "execution_count": 193,
     "metadata": {},
     "output_type": "execute_result"
    }
   ],
   "source": [
    "df_U4  # 평점도 달아줘야해."
   ]
  },
  {
   "cell_type": "code",
   "execution_count": 194,
   "metadata": {},
   "outputs": [],
   "source": [
    "df_U4['input_t'] = t_list"
   ]
  },
  {
   "cell_type": "code",
   "execution_count": 195,
   "metadata": {},
   "outputs": [
    {
     "data": {
      "text/html": [
       "<div>\n",
       "<style scoped>\n",
       "    .dataframe tbody tr th:only-of-type {\n",
       "        vertical-align: middle;\n",
       "    }\n",
       "\n",
       "    .dataframe tbody tr th {\n",
       "        vertical-align: top;\n",
       "    }\n",
       "\n",
       "    .dataframe thead th {\n",
       "        text-align: right;\n",
       "    }\n",
       "</style>\n",
       "<table border=\"1\" class=\"dataframe\">\n",
       "  <thead>\n",
       "    <tr style=\"text-align: right;\">\n",
       "      <th></th>\n",
       "      <th>title</th>\n",
       "      <th>synopsis</th>\n",
       "      <th>input_t</th>\n",
       "    </tr>\n",
       "  </thead>\n",
       "  <tbody>\n",
       "    <tr>\n",
       "      <th>0</th>\n",
       "      <td>증기선 윌리</td>\n",
       "      <td>첫 미키 마우스 애니메이션 개봉작이자 동시 녹음을 활용한 최초의 애니메이션. 배 위...</td>\n",
       "      <td>증기선 윌리 애니메이션 UbIwerks WaltDisney 첫 미키 마우스 애니메이...</td>\n",
       "    </tr>\n",
       "    <tr>\n",
       "      <th>1</th>\n",
       "      <td>스킨 게임</td>\n",
       "      <td>부자 가족 힐크리스트는 자신들의 땅에 공장을 짓기 위해 가난한 농부가 보낸 투자사기...</td>\n",
       "      <td>스킨 게임 드라마 AlfredHitchcock C.V.France,HelenHaye...</td>\n",
       "    </tr>\n",
       "    <tr>\n",
       "      <th>2</th>\n",
       "      <td>리치 앤 스트레인지</td>\n",
       "      <td>영화는 노동자인 프레드와 그의 부인 에밀리가 그들이 살아있는 동안 평생 뭐든지 할 ...</td>\n",
       "      <td>리치 앤 스트레인지 드라마,로맨스,스릴러,코미디 AlfredHitchcock Hen...</td>\n",
       "    </tr>\n",
       "    <tr>\n",
       "      <th>3</th>\n",
       "      <td>공공의 적</td>\n",
       "      <td>금주령 시대, 탐 파워스는 술집, 당구장 등을 어슬렁대며 퍼티 노우즈 같은 불량한 ...</td>\n",
       "      <td>공공의 적 드라마,범죄 WilliamA.Wellman JamesCagney,Jean...</td>\n",
       "    </tr>\n",
       "    <tr>\n",
       "      <th>4</th>\n",
       "      <td>그랜드 호텔</td>\n",
       "      <td>독일에 있는 그랜드호텔을 무대로 한 인간군상극(人間群像劇)이다. 무대는 각계 각층의...</td>\n",
       "      <td>그랜드 호텔 로맨스,드라마,MadeinEurope EdmundGoulding Gre...</td>\n",
       "    </tr>\n",
       "    <tr>\n",
       "      <th>...</th>\n",
       "      <td>...</td>\n",
       "      <td>...</td>\n",
       "      <td>...</td>\n",
       "    </tr>\n",
       "    <tr>\n",
       "      <th>14446</th>\n",
       "      <td>위크엔드 어웨이</td>\n",
       "      <td>크로아티아에 함께 여행 온 절친이 사라졌다. 베스는 친구의 행적을 필사적으로 추적하...</td>\n",
       "      <td>위크엔드 어웨이 스릴러,드라마,범죄 KimFarrant LeightonMeester...</td>\n",
       "    </tr>\n",
       "    <tr>\n",
       "      <th>14447</th>\n",
       "      <td>텍사스 전기톱 학살 2022</td>\n",
       "      <td>텍사스의 한 유령 도시. 이곳에 생기를 불어넣겠다는 꿈을 안고 도착한 인플루언서들....</td>\n",
       "      <td>텍사스 전기톱 학살 2022 공포,스릴러,범죄 DavidBlueGarcia Sara...</td>\n",
       "    </tr>\n",
       "    <tr>\n",
       "      <th>14448</th>\n",
       "      <td>얼어버린 시간 속에서</td>\n",
       "      <td>잃어버린 지도를 찾기 위해 탐험을 떠난 이들. 두 남자가 광활한 그린란드에서 생존을...</td>\n",
       "      <td>얼어버린 시간 속에서 역사,드라마 PeterFlinth NikolajCoster-W...</td>\n",
       "    </tr>\n",
       "    <tr>\n",
       "      <th>14449</th>\n",
       "      <td>레스틀리스</td>\n",
       "      <td>극단적인 방법으로 사건을 은폐해 버린 부패 경찰. 정체불명의 목격자로부터 협박을 받...</td>\n",
       "      <td>레스틀리스 스릴러,액션,범죄   FranckGastambide,SimonAbkari...</td>\n",
       "    </tr>\n",
       "    <tr>\n",
       "      <th>14450</th>\n",
       "      <td>삼국지 관운장: 청룡언월도</td>\n",
       "      <td>천하를 호령하던 삼국 최고의 명장 ‘관우’가  오나라의 침략에 의해 죽음을 맞이하고...</td>\n",
       "      <td>삼국지 관운장: 청룡언월도 missing 대예림 관지빈,육수명,진송 천하를 호령하던...</td>\n",
       "    </tr>\n",
       "  </tbody>\n",
       "</table>\n",
       "<p>14451 rows × 3 columns</p>\n",
       "</div>"
      ],
      "text/plain": [
       "                 title                                           synopsis  \\\n",
       "0               증기선 윌리  첫 미키 마우스 애니메이션 개봉작이자 동시 녹음을 활용한 최초의 애니메이션. 배 위...   \n",
       "1                스킨 게임  부자 가족 힐크리스트는 자신들의 땅에 공장을 짓기 위해 가난한 농부가 보낸 투자사기...   \n",
       "2           리치 앤 스트레인지  영화는 노동자인 프레드와 그의 부인 에밀리가 그들이 살아있는 동안 평생 뭐든지 할 ...   \n",
       "3                공공의 적  금주령 시대, 탐 파워스는 술집, 당구장 등을 어슬렁대며 퍼티 노우즈 같은 불량한 ...   \n",
       "4               그랜드 호텔  독일에 있는 그랜드호텔을 무대로 한 인간군상극(人間群像劇)이다. 무대는 각계 각층의...   \n",
       "...                ...                                                ...   \n",
       "14446         위크엔드 어웨이  크로아티아에 함께 여행 온 절친이 사라졌다. 베스는 친구의 행적을 필사적으로 추적하...   \n",
       "14447  텍사스 전기톱 학살 2022  텍사스의 한 유령 도시. 이곳에 생기를 불어넣겠다는 꿈을 안고 도착한 인플루언서들....   \n",
       "14448      얼어버린 시간 속에서  잃어버린 지도를 찾기 위해 탐험을 떠난 이들. 두 남자가 광활한 그린란드에서 생존을...   \n",
       "14449            레스틀리스  극단적인 방법으로 사건을 은폐해 버린 부패 경찰. 정체불명의 목격자로부터 협박을 받...   \n",
       "14450   삼국지 관운장: 청룡언월도  천하를 호령하던 삼국 최고의 명장 ‘관우’가  오나라의 침략에 의해 죽음을 맞이하고...   \n",
       "\n",
       "                                                 input_t  \n",
       "0      증기선 윌리 애니메이션 UbIwerks WaltDisney 첫 미키 마우스 애니메이...  \n",
       "1      스킨 게임 드라마 AlfredHitchcock C.V.France,HelenHaye...  \n",
       "2      리치 앤 스트레인지 드라마,로맨스,스릴러,코미디 AlfredHitchcock Hen...  \n",
       "3      공공의 적 드라마,범죄 WilliamA.Wellman JamesCagney,Jean...  \n",
       "4      그랜드 호텔 로맨스,드라마,MadeinEurope EdmundGoulding Gre...  \n",
       "...                                                  ...  \n",
       "14446  위크엔드 어웨이 스릴러,드라마,범죄 KimFarrant LeightonMeester...  \n",
       "14447  텍사스 전기톱 학살 2022 공포,스릴러,범죄 DavidBlueGarcia Sara...  \n",
       "14448  얼어버린 시간 속에서 역사,드라마 PeterFlinth NikolajCoster-W...  \n",
       "14449  레스틀리스 스릴러,액션,범죄   FranckGastambide,SimonAbkari...  \n",
       "14450  삼국지 관운장: 청룡언월도 missing 대예림 관지빈,육수명,진송 천하를 호령하던...  \n",
       "\n",
       "[14451 rows x 3 columns]"
      ]
     },
     "execution_count": 195,
     "metadata": {},
     "output_type": "execute_result"
    }
   ],
   "source": [
    "df_U4"
   ]
  },
  {
   "cell_type": "code",
   "execution_count": 203,
   "metadata": {},
   "outputs": [
    {
     "data": {
      "text/plain": [
       "'증기선 윌리 애니메이션 UbIwerks WaltDisney 첫 미키 마우스 애니메이션 개봉작이자 동시 녹음을 활용한 최초의 애니메이션. 배 위의 장난꾸러기 선원 미키는 미니를 기쁘게 하기 위해 동물들을 악기 삼아 “짚 속의 칠면조”를 연주한다. 포악한 피트 선장의 화를 돋운 미키는 조리실에서 감자 깎는 일을 하게 된다.'"
      ]
     },
     "execution_count": 203,
     "metadata": {},
     "output_type": "execute_result"
    }
   ],
   "source": [
    "# df_U4['input_t'][0]"
   ]
  },
  {
   "cell_type": "markdown",
   "metadata": {},
   "source": [
    "## 3. 피쳐 벡터라이즈"
   ]
  },
  {
   "cell_type": "code",
   "execution_count": 204,
   "metadata": {},
   "outputs": [
    {
     "data": {
      "text/plain": [
       "14451"
      ]
     },
     "execution_count": 204,
     "metadata": {},
     "output_type": "execute_result"
    }
   ],
   "source": [
    "df_U4.reset_index(drop=True, inplace=True)\n",
    "sent = []\n",
    "\n",
    "for i in (range(0,len(df_U4))):\n",
    "    content = df_U4['input_t'][i]\n",
    "    sent.append(content)\n",
    "len(sent)"
   ]
  },
  {
   "cell_type": "code",
   "execution_count": 205,
   "metadata": {},
   "outputs": [],
   "source": [
    "from sklearn.feature_extraction.text import CountVectorizer \n",
    "from sklearn.feature_extraction.text import TfidfVectorizer\n",
    "\n",
    "tfidf=TfidfVectorizer()\n",
    "tfidf_matrix=tfidf.fit_transform(sent)"
   ]
  },
  {
   "cell_type": "code",
   "execution_count": 206,
   "metadata": {},
   "outputs": [
    {
     "data": {
      "text/plain": [
       "(1, 339429)"
      ]
     },
     "execution_count": 206,
     "metadata": {},
     "output_type": "execute_result"
    }
   ],
   "source": [
    "tfidf_matrix[0].shape\n",
    "# (1, 160805) 모델 원으 경우. "
   ]
  },
  {
   "cell_type": "code",
   "execution_count": 207,
   "metadata": {},
   "outputs": [
    {
     "data": {
      "text/plain": [
       "((14451, 14451), numpy.ndarray)"
      ]
     },
     "execution_count": 207,
     "metadata": {},
     "output_type": "execute_result"
    }
   ],
   "source": [
    "# cos U\n",
    "from sklearn.metrics.pairwise import cosine_similarity\n",
    "cos_sim = cosine_similarity(tfidf_matrix, tfidf_matrix)\n",
    "cos_sim.shape, type(cos_sim)"
   ]
  },
  {
   "cell_type": "code",
   "execution_count": 208,
   "metadata": {},
   "outputs": [
    {
     "data": {
      "text/plain": [
       "title\n",
       "증기선 윌리        0\n",
       "스킨 게임         1\n",
       "리치 앤 스트레인지    2\n",
       "공공의 적         3\n",
       "그랜드 호텔        4\n",
       "dtype: int64"
      ]
     },
     "execution_count": 208,
     "metadata": {},
     "output_type": "execute_result"
    }
   ],
   "source": [
    "indices = pd.Series(df_U4.index, index=df_U4.title)\n",
    "indices.head()"
   ]
  },
  {
   "cell_type": "code",
   "execution_count": 209,
   "metadata": {},
   "outputs": [],
   "source": [
    "# 상위10개\n",
    "def get_recommendation(title, cos_sim=cos_sim):\n",
    "    index = indices[title]\n",
    "    sim_scores = pd.Series(cos_sim[index])\n",
    "    movie_indices = sim_scores.sort_values(ascending=False).head(11).tail(10).index\n",
    "    result = df_U4.title.iloc[movie_indices]\n",
    "    return result"
   ]
  },
  {
   "cell_type": "code",
   "execution_count": 45,
   "metadata": {},
   "outputs": [
    {
     "data": {
      "text/plain": [
       "7980                성기사단: 어둠의 마법사\n",
       "2706                      마법사의 제자\n",
       "3071               로덴시아: 마법왕국의 전설\n",
       "9421                  라야와 마지막 드래곤\n",
       "2699                     라스트 에어벤더\n",
       "3802    드래곤 네스트: 평화 기사단 VS 블랙 드래곤\n",
       "8709                        헤븐퀘스트\n",
       "8259                         헤드헌터\n",
       "4201                  우리별 일호와 얼룩소\n",
       "6434                 스키타이: 불멸의 전사\n",
       "Name: title, dtype: object"
      ]
     },
     "execution_count": 45,
     "metadata": {},
     "output_type": "execute_result"
    }
   ],
   "source": [
    "get_recommendation('반지의 제왕: 반지 원정대')\n",
    "\n",
    "# 9010     반지의 제왕: 두 개의 탑\n",
    "# 1350      성기사단: 어둠의 마법사\n",
    "# 7364            마법사의 제자\n",
    "# 2087       잃어버린 제국을 찾아서\n",
    "# 2170    신데렐라: 마법 반지의 비밀\n",
    "# 모델 원. 차이점 생각해볼것 .겹치는 단어가 많이 늘었어. 벡터화에따라 \n",
    "# 현재는 cos u (가장 좋기도 하다.)에 따라 판단. 단어단위기도 한데. 불용어 처리 및 전처리 후에 테스트 다시 볼 것. "
   ]
  },
  {
   "cell_type": "code",
   "execution_count": 210,
   "metadata": {},
   "outputs": [
    {
     "data": {
      "text/plain": [
       "2147        반지의 제왕: 두 개의 탑\n",
       "2299         반지의 제왕: 왕의 귀환\n",
       "4825            호빗: 뜻밖의 여정\n",
       "6084          호빗: 다섯 군대 전투\n",
       "5318          호빗: 스마우그의 폐허\n",
       "11221        성기사단: 어둠의 마법사\n",
       "2770                    킹콩\n",
       "3726                러블리 본즈\n",
       "10505                모털 엔진\n",
       "14005    잉글리시 북 클럽: 반지의 제왕\n",
       "Name: title, dtype: object"
      ]
     },
     "execution_count": 210,
     "metadata": {},
     "output_type": "execute_result"
    }
   ],
   "source": [
    "get_recommendation('반지의 제왕: 반지 원정대') # 변경 후 "
   ]
  },
  {
   "cell_type": "code",
   "execution_count": 46,
   "metadata": {},
   "outputs": [
    {
     "data": {
      "text/plain": [
       "2985                  엘르\n",
       "8806    사이다처럼 말이 톡톡 솟아올라\n",
       "6406             #리얼리티하이\n",
       "9628              스케이터 걸\n",
       "9726             더 프리빌리지\n",
       "515          수잔 브링크의 아리랑\n",
       "2405     엘 시크레토: 비밀의 눈동자\n",
       "8556              파리의 인어\n",
       "9708              히즈 올 댓\n",
       "3259                늑대소년\n",
       "Name: title, dtype: object"
      ]
     },
     "execution_count": 46,
     "metadata": {},
     "output_type": "execute_result"
    }
   ],
   "source": [
    "# 연인 중복 키값 에러 확인\n",
    "get_recommendation('연인')"
   ]
  },
  {
   "cell_type": "code",
   "execution_count": 211,
   "metadata": {},
   "outputs": [
    {
     "data": {
      "text/plain": [
       "14385              셰터드\n",
       "13140             개인교습\n",
       "334             감각의 제국\n",
       "1007       수잔 브링크의 아리랑\n",
       "9999               템프팅\n",
       "8619        에브리씽, 에브리씽\n",
       "7610        Cold War 2\n",
       "8901     엘리스의 50가지 그림자\n",
       "930                니키타\n",
       "441                라 붐\n",
       "Name: title, dtype: object"
      ]
     },
     "execution_count": 211,
     "metadata": {},
     "output_type": "execute_result"
    }
   ],
   "source": [
    "get_recommendation('연인') #변경 후."
   ]
  },
  {
   "cell_type": "code",
   "execution_count": 212,
   "metadata": {},
   "outputs": [
    {
     "ename": "SyntaxError",
     "evalue": "invalid syntax (4064119701.py, line 1)",
     "output_type": "error",
     "traceback": [
      "\u001b[1;36m  File \u001b[1;32m\"C:\\Users\\jlune\\AppData\\Local\\Temp\\ipykernel_22432\\4064119701.py\"\u001b[1;36m, line \u001b[1;32m1\u001b[0m\n\u001b[1;33m    get_recommendation('코만도') 중복 키값 에러.  왓챠에서 두개 겹쳐 .\u001b[0m\n\u001b[1;37m                               ^\u001b[0m\n\u001b[1;31mSyntaxError\u001b[0m\u001b[1;31m:\u001b[0m invalid syntax\n"
     ]
    }
   ],
   "source": [
    "# get_recommendation('코만도') 중복 키값 에러.  왓챠에서 두개 겹쳐 ."
   ]
  },
  {
   "cell_type": "code",
   "execution_count": 48,
   "metadata": {},
   "outputs": [
    {
     "data": {
      "text/plain": [
       "6633              웨스트 오브 헬\n",
       "5139                  7:19\n",
       "8993            뉴스 오브 더 월드\n",
       "6177                    달링\n",
       "9017              프리키 데스데이\n",
       "9578    이스케이프 룸 2: 노 웨이 아웃\n",
       "2792                 더티 픽처\n",
       "6676              워킹 데드 나잇\n",
       "7173              아메리칸 라이더\n",
       "5883             홍콩 좀비 히어로\n",
       "Name: title, dtype: object"
      ]
     },
     "execution_count": 48,
     "metadata": {},
     "output_type": "execute_result"
    }
   ],
   "source": [
    "get_recommendation('부산행')\n",
    "# 2335     웨스트 오브 헬\n",
    "# 4982       최후의 인류\n",
    "# 618          최미역행\n",
    "# 679           러브컷\n",
    "# 10514    카산드라 크로싱\n",
    "# Name: title, dtype: object\n",
    "\n",
    "# 웨스트 오브 헬 만 남고 나머지 순위 왜 바뀌었는지 감독 .배우 등으로 체크. 그후 시각화 고려"
   ]
  },
  {
   "cell_type": "code",
   "execution_count": 213,
   "metadata": {},
   "outputs": [
    {
     "data": {
      "text/plain": [
       "7877       서울역\n",
       "9754        염력\n",
       "4589       도가니\n",
       "5622       사이비\n",
       "5406     롤러코스터\n",
       "6175        거인\n",
       "8854       더 킹\n",
       "11535      기생충\n",
       "10350      마약왕\n",
       "4111      부당거래\n",
       "Name: title, dtype: object"
      ]
     },
     "execution_count": 213,
     "metadata": {},
     "output_type": "execute_result"
    }
   ],
   "source": [
    "get_recommendation('부산행')"
   ]
  },
  {
   "cell_type": "code",
   "execution_count": 214,
   "metadata": {},
   "outputs": [
    {
     "data": {
      "text/plain": [
       "6440             갓즈 포켓\n",
       "5172                터키\n",
       "19             외로운 유령들\n",
       "5197     신데렐라: 트랩 오브 허\n",
       "5508            사랑과 전쟁\n",
       "3658         부다페스트 로큰롤\n",
       "1679         미키의 크리스마스\n",
       "94            플루토와 소시지\n",
       "13316        추억의 검정고무신\n",
       "5647      미피의 동물원 보물찾기\n",
       "Name: title, dtype: object"
      ]
     },
     "execution_count": 214,
     "metadata": {},
     "output_type": "execute_result"
    }
   ],
   "source": [
    "get_recommendation('증기선 윌리')"
   ]
  },
  {
   "cell_type": "code",
   "execution_count": 215,
   "metadata": {},
   "outputs": [
    {
     "data": {
      "text/plain": [
       "4509             삼국지: 명장 관우\n",
       "12720               신해석 삼국지\n",
       "14234                 진삼국무쌍\n",
       "9847            삼국지: 황건적의 난\n",
       "3575             삼국지: 용의 부활\n",
       "5211              대명겁: 천하대전\n",
       "9692     로스트 바이킹: 전쟁의 신의 아들\n",
       "12640          삼국지 : 무신 조자룡\n",
       "13643                     킨\n",
       "11567                  도술혈전\n",
       "Name: title, dtype: object"
      ]
     },
     "execution_count": 215,
     "metadata": {},
     "output_type": "execute_result"
    }
   ],
   "source": [
    "get_recommendation('삼국지 관운장: 청룡언월도')"
   ]
  },
  {
   "cell_type": "code",
   "execution_count": 216,
   "metadata": {},
   "outputs": [
    {
     "data": {
      "text/plain": [
       "10317              택시 5\n",
       "11366            퍼스트 러브\n",
       "10051    어웨이크너: 히어로의 탄생\n",
       "8776            다크 메르디안\n",
       "2714               호스티지\n",
       "1257               중경삼림\n",
       "11289           블랙 앤 블루\n",
       "3493              모던 보이\n",
       "12346              잘리카투\n",
       "5280            복잡한 이야기\n",
       "Name: title, dtype: object"
      ]
     },
     "execution_count": 216,
     "metadata": {},
     "output_type": "execute_result"
    }
   ],
   "source": [
    "get_recommendation('레스틀리스')"
   ]
  },
  {
   "cell_type": "code",
   "execution_count": 217,
   "metadata": {},
   "outputs": [
    {
     "data": {
      "text/plain": [
       "3979                 인셉션\n",
       "3485              다크 나이트\n",
       "6516         Interstelar\n",
       "5326         아웃 오브 더 퍼니스\n",
       "10545    엔드 게임: 생이 끝나갈 때\n",
       "7833         배트맨: 배드 블러드\n",
       "5347                 돈 존\n",
       "8774                덩케르크\n",
       "5308      더 울프 오브 월 스트리트\n",
       "2731             배트맨 비긴즈\n",
       "Name: title, dtype: object"
      ]
     },
     "execution_count": 217,
     "metadata": {},
     "output_type": "execute_result"
    }
   ],
   "source": [
    "get_recommendation('다크 나이트 라이즈')"
   ]
  },
  {
   "cell_type": "code",
   "execution_count": 218,
   "metadata": {},
   "outputs": [
    {
     "data": {
      "text/plain": [
       "2731                           배트맨 비긴즈\n",
       "5447     레고 배트맨: 더 무비 - DC 수퍼히어로즈 유나이트\n",
       "4813                        다크 나이트 라이즈\n",
       "8779                         레고 배트맨 무비\n",
       "1278                           배트맨 포에버\n",
       "13184                   토네이도: 지구 재앙의 날\n",
       "13945                           아웃브레이크\n",
       "9173                      감염: 지구 최후의 날\n",
       "6426                              닌자터틀\n",
       "7892                      배트맨: 더 킬링 조크\n",
       "Name: title, dtype: object"
      ]
     },
     "execution_count": 218,
     "metadata": {},
     "output_type": "execute_result"
    }
   ],
   "source": [
    "get_recommendation('다크 나이트')"
   ]
  },
  {
   "cell_type": "code",
   "execution_count": 219,
   "metadata": {},
   "outputs": [
    {
     "data": {
      "text/plain": [
       "1660           그린 마일\n",
       "5859              설계\n",
       "10149    해브 어 나이스 데이\n",
       "2121          언디스퓨티드\n",
       "3533           멋진 하루\n",
       "13240           프리즈너\n",
       "3148             미스트\n",
       "8720             빠삐용\n",
       "405             사부출마\n",
       "2047         역고력고신년재\n",
       "Name: title, dtype: object"
      ]
     },
     "execution_count": 219,
     "metadata": {},
     "output_type": "execute_result"
    }
   ],
   "source": [
    "get_recommendation('쇼생크 탈출')"
   ]
  },
  {
   "cell_type": "code",
   "execution_count": 220,
   "metadata": {},
   "outputs": [
    {
     "data": {
      "text/plain": [
       "303                       대부 2\n",
       "911                       대부 3\n",
       "6280      파라다이스 로스트: 마약 카르텔의 왕\n",
       "11642    점박이 한반도의 공룡 2: 새로운 낙원\n",
       "1736                      빅 대디\n",
       "1505                   마녀의 사랑법\n",
       "12186           비밀정보원: 인 더 프리즌\n",
       "3113                  코드네임 더 몰\n",
       "1965      Apocalypse Now Redux\n",
       "10350                      마약왕\n",
       "Name: title, dtype: object"
      ]
     },
     "execution_count": 220,
     "metadata": {},
     "output_type": "execute_result"
    }
   ],
   "source": [
    "get_recommendation('대부')"
   ]
  },
  {
   "cell_type": "code",
   "execution_count": 221,
   "metadata": {},
   "outputs": [
    {
     "data": {
      "text/plain": [
       "7341         내부자들\n",
       "4454            퀵\n",
       "12382           돈\n",
       "12141         비스트\n",
       "8860         1987\n",
       "5436     더 테러 라이브\n",
       "12753     남산의 부장들\n",
       "9781           창궐\n",
       "8812          원라인\n",
       "11711         말모이\n",
       "Name: title, dtype: object"
      ]
     },
     "execution_count": 221,
     "metadata": {},
     "output_type": "execute_result"
    }
   ],
   "source": [
    "get_recommendation('마약왕')"
   ]
  },
  {
   "cell_type": "code",
   "execution_count": null,
   "metadata": {},
   "outputs": [],
   "source": [
    "# 평점기반으로 추천 위아래. 점수 변경되도록. 스코어 나오게"
   ]
  },
  {
   "cell_type": "code",
   "execution_count": 222,
   "metadata": {},
   "outputs": [
    {
     "data": {
      "text/plain": [
       "[8386]"
      ]
     },
     "execution_count": 222,
     "metadata": {},
     "output_type": "execute_result"
    }
   ],
   "source": [
    "def get_index(title, df=df_U4):\n",
    "    index = df_U4.index[(df_U4['title'] == title)].to_list()\n",
    "    return index \n",
    "\n",
    "get_index('부산행')"
   ]
  },
  {
   "cell_type": "code",
   "execution_count": 227,
   "metadata": {},
   "outputs": [
    {
     "data": {
      "text/plain": [
       "[8104]"
      ]
     },
     "execution_count": 227,
     "metadata": {},
     "output_type": "execute_result"
    }
   ],
   "source": [
    "get_index('핵소 고지')"
   ]
  },
  {
   "cell_type": "code",
   "execution_count": 228,
   "metadata": {},
   "outputs": [
    {
     "data": {
      "text/plain": [
       "(8104    핵소 고지\n",
       " Name: title, dtype: object,\n",
       " '비폭력주의자인 도스는 전쟁으로부터 조국과 소중한 사람들을 지키기 위해 총을 들지 않아도 되는 의무병으로 육군에 자진 입대한다. 총을 들 수 없다는 이유로 필수 훈련 중 하나인 총기 훈련 마저 거부한 도스는 동료 병사들과 군 전체의 비난과 조롱을 받게 된다. 결국 군사재판까지 받게 되지만 끝까지 자신의 신념을 굽히지 않은 도스에게 군 상부는 오키나와 전투에 총기 없이 의무병으로 참전할 것을 허락하는데…')"
      ]
     },
     "execution_count": 228,
     "metadata": {},
     "output_type": "execute_result"
    }
   ],
   "source": [
    "def get_title(index, df=df_U4):\n",
    "    title = df_U4['title'][(df_U4.index == index)], df_U4['synopsis'][index]\n",
    "    return title\n",
    "\n",
    "get_title(8104)"
   ]
  },
  {
   "cell_type": "code",
   "execution_count": 229,
   "metadata": {},
   "outputs": [
    {
     "name": "stdout",
     "output_type": "stream",
     "text": [
      "[1051]\n"
     ]
    }
   ],
   "source": [
    "# 중복검출기 영화이름을 치면. 인덱스 반환\n",
    "print(df_U4.index[(df_U4['title'] == '연인')].to_list())"
   ]
  },
  {
   "cell_type": "code",
   "execution_count": 52,
   "metadata": {},
   "outputs": [
    {
     "data": {
      "text/plain": [
       "20"
      ]
     },
     "execution_count": 52,
     "metadata": {},
     "output_type": "execute_result"
    }
   ],
   "source": [
    "# # 20개만 추려 상관관계 보고자.\n",
    "# alist = []\n",
    "# for i in range(20):\n",
    "#     c = df['title_kor'][i]\n",
    "#     alist.append(c)\n",
    "# # alist\n",
    "# len(alist)\n",
    "# # 베스트셀러, 및 코만도 중복 키 값으로 에러 일어날것. 아래 에러패스 방법"
   ]
  },
  {
   "cell_type": "code",
   "execution_count": 231,
   "metadata": {},
   "outputs": [
    {
     "data": {
      "text/plain": [
       "(14451,\n",
       " 0                 증기선 윌리\n",
       " 1                  스킨 게임\n",
       " 2             리치 앤 스트레인지\n",
       " 3                  공공의 적\n",
       " 4                 그랜드 호텔\n",
       "               ...       \n",
       " 14446           위크엔드 어웨이\n",
       " 14447    텍사스 전기톱 학살 2022\n",
       " 14448        얼어버린 시간 속에서\n",
       " 14449              레스틀리스\n",
       " 14450     삼국지 관운장: 청룡언월도\n",
       " Name: title_kor, Length: 14451, dtype: object)"
      ]
     },
     "execution_count": 231,
     "metadata": {},
     "output_type": "execute_result"
    }
   ],
   "source": [
    "# 모든영화 추천 상위 10개씩.\n",
    "ab_list = df['title_kor'][:]\n",
    "len(ab_list), ab_list"
   ]
  },
  {
   "cell_type": "code",
   "execution_count": 232,
   "metadata": {},
   "outputs": [
    {
     "name": "stdout",
     "output_type": "stream",
     "text": [
      "내 꿈은 컬러 꿈 #1 : the Green Moon\n"
     ]
    },
    {
     "data": {
      "text/html": [
       "<div>\n",
       "<style scoped>\n",
       "    .dataframe tbody tr th:only-of-type {\n",
       "        vertical-align: middle;\n",
       "    }\n",
       "\n",
       "    .dataframe tbody tr th {\n",
       "        vertical-align: top;\n",
       "    }\n",
       "\n",
       "    .dataframe thead th {\n",
       "        text-align: right;\n",
       "    }\n",
       "</style>\n",
       "<table border=\"1\" class=\"dataframe\">\n",
       "  <thead>\n",
       "    <tr style=\"text-align: right;\">\n",
       "      <th></th>\n",
       "      <th>0</th>\n",
       "      <th>1</th>\n",
       "      <th>2</th>\n",
       "      <th>3</th>\n",
       "      <th>4</th>\n",
       "      <th>5</th>\n",
       "      <th>6</th>\n",
       "      <th>7</th>\n",
       "      <th>8</th>\n",
       "      <th>9</th>\n",
       "    </tr>\n",
       "  </thead>\n",
       "  <tbody>\n",
       "    <tr>\n",
       "      <th>증기선 윌리</th>\n",
       "      <td>갓즈 포켓</td>\n",
       "      <td>터키</td>\n",
       "      <td>외로운 유령들</td>\n",
       "      <td>신데렐라: 트랩 오브 허</td>\n",
       "      <td>사랑과 전쟁</td>\n",
       "      <td>부다페스트 로큰롤</td>\n",
       "      <td>미키의 크리스마스</td>\n",
       "      <td>플루토와 소시지</td>\n",
       "      <td>추억의 검정고무신</td>\n",
       "      <td>미피의 동물원 보물찾기</td>\n",
       "    </tr>\n",
       "    <tr>\n",
       "      <th>스킨 게임</th>\n",
       "      <td>더 퍼지: 최초의 시작</td>\n",
       "      <td>듀플렉스</td>\n",
       "      <td>영 앤 이노센트</td>\n",
       "      <td>39 계단</td>\n",
       "      <td>허비: 돌아오다</td>\n",
       "      <td>오 마이 파더!</td>\n",
       "      <td>덤보</td>\n",
       "      <td>더 디바이스</td>\n",
       "      <td>용재강호</td>\n",
       "      <td>나는 나를 파괴할 권리가 있다</td>\n",
       "    </tr>\n",
       "    <tr>\n",
       "      <th>리치 앤 스트레인지</th>\n",
       "      <td>럭키 원스</td>\n",
       "      <td>데스 룰렛</td>\n",
       "      <td>까시</td>\n",
       "      <td>리노의 도박사</td>\n",
       "      <td>크루즈 패밀리</td>\n",
       "      <td>비와 당신의 이야기</td>\n",
       "      <td>나의 연기 워크샵</td>\n",
       "      <td>영 앤 이노센트</td>\n",
       "      <td>서브웨이</td>\n",
       "      <td>스튜핏 영 하트</td>\n",
       "    </tr>\n",
       "    <tr>\n",
       "      <th>공공의 적</th>\n",
       "      <td>미싱 윌리엄</td>\n",
       "      <td>포효하는 20년대</td>\n",
       "      <td>스타 탄생</td>\n",
       "      <td>더 해머</td>\n",
       "      <td>라이즈 오브 더 풋솔져 3</td>\n",
       "      <td>하이 앤 마이티</td>\n",
       "      <td>프로페서 앤 매드맨</td>\n",
       "      <td>나이팅게일: 폴링 인 러브</td>\n",
       "      <td>장산범</td>\n",
       "      <td>그랜드 호텔</td>\n",
       "    </tr>\n",
       "    <tr>\n",
       "      <th>그랜드 호텔</th>\n",
       "      <td>미스터 마구</td>\n",
       "      <td>퀸 크리스티나</td>\n",
       "      <td>스미스씨 워싱톤에 가다</td>\n",
       "      <td>위대한 독재자</td>\n",
       "      <td>몬스터 호텔 3</td>\n",
       "      <td>밀리언 달러 호텔</td>\n",
       "      <td>그랜드 부다페스트 호텔</td>\n",
       "      <td>비욘드</td>\n",
       "      <td>트로트는 인생이다</td>\n",
       "      <td>아문센</td>\n",
       "    </tr>\n",
       "    <tr>\n",
       "      <th>...</th>\n",
       "      <td>...</td>\n",
       "      <td>...</td>\n",
       "      <td>...</td>\n",
       "      <td>...</td>\n",
       "      <td>...</td>\n",
       "      <td>...</td>\n",
       "      <td>...</td>\n",
       "      <td>...</td>\n",
       "      <td>...</td>\n",
       "      <td>...</td>\n",
       "    </tr>\n",
       "    <tr>\n",
       "      <th>위크엔드 어웨이</th>\n",
       "      <td>더 클리닉</td>\n",
       "      <td>사이코메트리</td>\n",
       "      <td>블랙 스완: 흑화</td>\n",
       "      <td>스트레인저랜드</td>\n",
       "      <td>꼬마잠수함 올리</td>\n",
       "      <td>행복도시</td>\n",
       "      <td>브레이킹 더 웨이브</td>\n",
       "      <td>사라진 소녀들</td>\n",
       "      <td>그토록 오랫동안</td>\n",
       "      <td>더 프리빌리지</td>\n",
       "    </tr>\n",
       "    <tr>\n",
       "      <th>텍사스 전기톱 학살 2022</th>\n",
       "      <td>텍사스 전기톱 연쇄살인사건 2019</td>\n",
       "      <td>도살자들: 돌아온 텍사스 전기톱 살인자</td>\n",
       "      <td>미샤와 늑대들</td>\n",
       "      <td>포기븐</td>\n",
       "      <td>800 블렛</td>\n",
       "      <td>더 브레이브</td>\n",
       "      <td>옐로우 로즈</td>\n",
       "      <td>즐거운 경찰</td>\n",
       "      <td>고스트 오브 슈거랜드: 그는 어디에</td>\n",
       "      <td>기억의 전쟁</td>\n",
       "    </tr>\n",
       "    <tr>\n",
       "      <th>얼어버린 시간 속에서</th>\n",
       "      <td>펭귄 블룸</td>\n",
       "      <td>사라진 소녀들</td>\n",
       "      <td>동경 표류일기</td>\n",
       "      <td>1940: 최강의 독일 전차부대</td>\n",
       "      <td>레드 씨 다이빙 리조트</td>\n",
       "      <td>다크 아마존</td>\n",
       "      <td>오스</td>\n",
       "      <td>도미노</td>\n",
       "      <td>아르마딜로</td>\n",
       "      <td>빅샤크2: 해저2만리</td>\n",
       "    </tr>\n",
       "    <tr>\n",
       "      <th>레스틀리스</th>\n",
       "      <td>택시 5</td>\n",
       "      <td>퍼스트 러브</td>\n",
       "      <td>어웨이크너: 히어로의 탄생</td>\n",
       "      <td>다크 메르디안</td>\n",
       "      <td>호스티지</td>\n",
       "      <td>중경삼림</td>\n",
       "      <td>블랙 앤 블루</td>\n",
       "      <td>모던 보이</td>\n",
       "      <td>잘리카투</td>\n",
       "      <td>복잡한 이야기</td>\n",
       "    </tr>\n",
       "    <tr>\n",
       "      <th>삼국지 관운장: 청룡언월도</th>\n",
       "      <td>삼국지: 명장 관우</td>\n",
       "      <td>신해석 삼국지</td>\n",
       "      <td>진삼국무쌍</td>\n",
       "      <td>삼국지: 황건적의 난</td>\n",
       "      <td>삼국지: 용의 부활</td>\n",
       "      <td>대명겁: 천하대전</td>\n",
       "      <td>로스트 바이킹: 전쟁의 신의 아들</td>\n",
       "      <td>삼국지 : 무신 조자룡</td>\n",
       "      <td>킨</td>\n",
       "      <td>도술혈전</td>\n",
       "    </tr>\n",
       "  </tbody>\n",
       "</table>\n",
       "<p>14450 rows × 10 columns</p>\n",
       "</div>"
      ],
      "text/plain": [
       "                                   0                      1               2  \\\n",
       "증기선 윌리                         갓즈 포켓                     터키         외로운 유령들   \n",
       "스킨 게임                   더 퍼지: 최초의 시작                   듀플렉스        영 앤 이노센트   \n",
       "리치 앤 스트레인지                     럭키 원스                  데스 룰렛              까시   \n",
       "공공의 적                         미싱 윌리엄              포효하는 20년대           스타 탄생   \n",
       "그랜드 호텔                        미스터 마구                퀸 크리스티나    스미스씨 워싱톤에 가다   \n",
       "...                              ...                    ...             ...   \n",
       "위크엔드 어웨이                       더 클리닉                 사이코메트리       블랙 스완: 흑화   \n",
       "텍사스 전기톱 학살 2022  텍사스 전기톱 연쇄살인사건 2019  도살자들: 돌아온 텍사스 전기톱 살인자         미샤와 늑대들   \n",
       "얼어버린 시간 속에서                    펭귄 블룸                사라진 소녀들         동경 표류일기   \n",
       "레스틀리스                           택시 5                 퍼스트 러브  어웨이크너: 히어로의 탄생   \n",
       "삼국지 관운장: 청룡언월도            삼국지: 명장 관우                신해석 삼국지           진삼국무쌍   \n",
       "\n",
       "                                 3               4           5  \\\n",
       "증기선 윌리               신데렐라: 트랩 오브 허          사랑과 전쟁   부다페스트 로큰롤   \n",
       "스킨 게임                        39 계단        허비: 돌아오다    오 마이 파더!   \n",
       "리치 앤 스트레인지                 리노의 도박사         크루즈 패밀리  비와 당신의 이야기   \n",
       "공공의 적                         더 해머  라이즈 오브 더 풋솔져 3    하이 앤 마이티   \n",
       "그랜드 호텔                     위대한 독재자        몬스터 호텔 3   밀리언 달러 호텔   \n",
       "...                            ...             ...         ...   \n",
       "위크엔드 어웨이                   스트레인저랜드        꼬마잠수함 올리        행복도시   \n",
       "텍사스 전기톱 학살 2022                포기븐          800 블렛      더 브레이브   \n",
       "얼어버린 시간 속에서      1940: 최강의 독일 전차부대    레드 씨 다이빙 리조트      다크 아마존   \n",
       "레스틀리스                      다크 메르디안            호스티지        중경삼림   \n",
       "삼국지 관운장: 청룡언월도         삼국지: 황건적의 난      삼국지: 용의 부활   대명겁: 천하대전   \n",
       "\n",
       "                                  6               7                    8  \\\n",
       "증기선 윌리                    미키의 크리스마스        플루토와 소시지            추억의 검정고무신   \n",
       "스킨 게임                            덤보          더 디바이스                 용재강호   \n",
       "리치 앤 스트레인지                나의 연기 워크샵        영 앤 이노센트                 서브웨이   \n",
       "공공의 적                    프로페서 앤 매드맨  나이팅게일: 폴링 인 러브                  장산범   \n",
       "그랜드 호텔                 그랜드 부다페스트 호텔             비욘드            트로트는 인생이다   \n",
       "...                             ...             ...                  ...   \n",
       "위크엔드 어웨이                 브레이킹 더 웨이브         사라진 소녀들             그토록 오랫동안   \n",
       "텍사스 전기톱 학살 2022              옐로우 로즈          즐거운 경찰  고스트 오브 슈거랜드: 그는 어디에   \n",
       "얼어버린 시간 속에서                      오스             도미노                아르마딜로   \n",
       "레스틀리스                       블랙 앤 블루           모던 보이                 잘리카투   \n",
       "삼국지 관운장: 청룡언월도   로스트 바이킹: 전쟁의 신의 아들    삼국지 : 무신 조자룡                    킨   \n",
       "\n",
       "                                9  \n",
       "증기선 윌리               미피의 동물원 보물찾기  \n",
       "스킨 게임            나는 나를 파괴할 권리가 있다  \n",
       "리치 앤 스트레인지               스튜핏 영 하트  \n",
       "공공의 적                      그랜드 호텔  \n",
       "그랜드 호텔                        아문센  \n",
       "...                           ...  \n",
       "위크엔드 어웨이                  더 프리빌리지  \n",
       "텍사스 전기톱 학살 2022            기억의 전쟁  \n",
       "얼어버린 시간 속에서           빅샤크2: 해저2만리  \n",
       "레스틀리스                     복잡한 이야기  \n",
       "삼국지 관운장: 청룡언월도               도술혈전  \n",
       "\n",
       "[14450 rows x 10 columns]"
      ]
     },
     "execution_count": 232,
     "metadata": {},
     "output_type": "execute_result"
    }
   ],
   "source": [
    "df_result = pd.DataFrame()    \n",
    "for i in ab_list:\n",
    "    try : \n",
    "        s = pd.DataFrame(get_recommendation(i))\n",
    "        s.columns = [i]   # 컬럼네임 title => 영화제목으로 변경\n",
    "        # s.rename(columns={'title':i})\n",
    "        s.reset_index(drop=True, inplace=True) # 인덱스, 컨캣 시 에러를 띄우는 인덱스 정렬용.\n",
    "        df_result = pd.concat([df_result, s], axis=1)  # 열 방향으로 컨캣\n",
    "    except:\n",
    "        print(i)  # 키 중복으로 겟 레커멘드가. 영화를 특정하지 못함. 인덱스 반환으로 제목 확인. 중복된 제목임.\n",
    "        pass\n",
    "df_result.T"
   ]
  },
  {
   "cell_type": "code",
   "execution_count": 241,
   "metadata": {},
   "outputs": [],
   "source": [
    "result0327 = df_result.T.copy()\n",
    "result0327.to_csv(r'./save/result0327.csv', index=None)"
   ]
  },
  {
   "cell_type": "code",
   "execution_count": 234,
   "metadata": {},
   "outputs": [],
   "source": [
    "df_U4.to_csv(r\"./save/input_t0327.csv\")"
   ]
  },
  {
   "cell_type": "code",
   "execution_count": 242,
   "metadata": {},
   "outputs": [
    {
     "data": {
      "text/plain": [
       "12106    Hello Carbot The Movie: Save The Moon\n",
       "9648                   Green Days by the River\n",
       "10807                흐린 하늘에 웃다 외전 - 벚꽃, 천망의 가교\n",
       "3243                           Shrek the Halls\n",
       "7040                                    물속의 도시\n",
       "4965                   볼츠와 블립 극장판 : 달나라 리그의 전투\n",
       "5184                                 앵두야, 연애하자\n",
       "8351                     Drain The Ocean: WWII\n",
       "11340                         The Silent Party\n",
       "6329                                      트라이브\n",
       "Name: title, dtype: object"
      ]
     },
     "execution_count": 242,
     "metadata": {},
     "output_type": "execute_result"
    }
   ],
   "source": [
    "get_recommendation('내 꿈은 컬러 꿈 #1 : the Green Moon')"
   ]
  },
  {
   "cell_type": "code",
   "execution_count": 235,
   "metadata": {},
   "outputs": [
    {
     "data": {
      "text/plain": [
       "[12264]"
      ]
     },
     "execution_count": 235,
     "metadata": {},
     "output_type": "execute_result"
    }
   ],
   "source": [
    "get_index('내 꿈은 컬러 꿈 #1 : the Green Moon')"
   ]
  },
  {
   "cell_type": "code",
   "execution_count": 236,
   "metadata": {},
   "outputs": [
    {
     "data": {
      "text/plain": [
       "(12264    내 꿈은 컬러 꿈 #1 : the Green Moon\n",
       " Name: title, dtype: object,\n",
       " '어느 날, 난데없이 거짓말처럼 하늘에 뜬 녹색의 달. 속칭 잘나가는 무리의 일원이 되고 싶었던 파스칼은 녹색 달을 통해 숨어있던 용기를 발산하고, 성장통을 겪기 시작한다.')"
      ]
     },
     "execution_count": 236,
     "metadata": {},
     "output_type": "execute_result"
    }
   ],
   "source": [
    "get_title(12264)"
   ]
  },
  {
   "cell_type": "code",
   "execution_count": 238,
   "metadata": {},
   "outputs": [
    {
     "data": {
      "text/plain": [
       "title_kor                        내 꿈은 컬러 꿈 #1 : the Green Moon\n",
       "genre                                                      드라마\n",
       "director                                                GunKim\n",
       "actors                                           JulesleGendre\n",
       "synopsis     어느 날, 난데없이 거짓말처럼 하늘에 뜬 녹색의 달. 속칭 잘나가는 무리의 일원이 ...\n",
       "Name: 12264, dtype: object"
      ]
     },
     "execution_count": 238,
     "metadata": {},
     "output_type": "execute_result"
    }
   ],
   "source": [
    "df_input.iloc[''][:]"
   ]
  },
  {
   "cell_type": "code",
   "execution_count": 240,
   "metadata": {},
   "outputs": [
    {
     "ename": "KeyError",
     "evalue": "'코만도'",
     "output_type": "error",
     "traceback": [
      "\u001b[1;31m---------------------------------------------------------------------------\u001b[0m",
      "\u001b[1;31mKeyError\u001b[0m                                  Traceback (most recent call last)",
      "\u001b[1;32m~\\AppData\\Local\\Temp\\ipykernel_22432\\2782450184.py\u001b[0m in \u001b[0;36m<module>\u001b[1;34m\u001b[0m\n\u001b[1;32m----> 1\u001b[1;33m \u001b[0mget_title\u001b[0m\u001b[1;33m(\u001b[0m\u001b[1;34m'코만도'\u001b[0m\u001b[1;33m)\u001b[0m\u001b[1;33m\u001b[0m\u001b[1;33m\u001b[0m\u001b[0m\n\u001b[0m",
      "\u001b[1;32m~\\AppData\\Local\\Temp\\ipykernel_22432\\2148810944.py\u001b[0m in \u001b[0;36mget_title\u001b[1;34m(index, df)\u001b[0m\n\u001b[0;32m      1\u001b[0m \u001b[1;32mdef\u001b[0m \u001b[0mget_title\u001b[0m\u001b[1;33m(\u001b[0m\u001b[0mindex\u001b[0m\u001b[1;33m,\u001b[0m \u001b[0mdf\u001b[0m\u001b[1;33m=\u001b[0m\u001b[0mdf_U4\u001b[0m\u001b[1;33m)\u001b[0m\u001b[1;33m:\u001b[0m\u001b[1;33m\u001b[0m\u001b[1;33m\u001b[0m\u001b[0m\n\u001b[1;32m----> 2\u001b[1;33m     \u001b[0mtitle\u001b[0m \u001b[1;33m=\u001b[0m \u001b[0mdf_U4\u001b[0m\u001b[1;33m[\u001b[0m\u001b[1;34m'title'\u001b[0m\u001b[1;33m]\u001b[0m\u001b[1;33m[\u001b[0m\u001b[1;33m(\u001b[0m\u001b[0mdf_U4\u001b[0m\u001b[1;33m.\u001b[0m\u001b[0mindex\u001b[0m \u001b[1;33m==\u001b[0m \u001b[0mindex\u001b[0m\u001b[1;33m)\u001b[0m\u001b[1;33m]\u001b[0m\u001b[1;33m,\u001b[0m \u001b[0mdf_U4\u001b[0m\u001b[1;33m[\u001b[0m\u001b[1;34m'synopsis'\u001b[0m\u001b[1;33m]\u001b[0m\u001b[1;33m[\u001b[0m\u001b[0mindex\u001b[0m\u001b[1;33m]\u001b[0m\u001b[1;33m\u001b[0m\u001b[1;33m\u001b[0m\u001b[0m\n\u001b[0m\u001b[0;32m      3\u001b[0m     \u001b[1;32mreturn\u001b[0m \u001b[0mtitle\u001b[0m\u001b[1;33m\u001b[0m\u001b[1;33m\u001b[0m\u001b[0m\n\u001b[0;32m      4\u001b[0m \u001b[1;33m\u001b[0m\u001b[0m\n\u001b[0;32m      5\u001b[0m \u001b[0mget_title\u001b[0m\u001b[1;33m(\u001b[0m\u001b[1;36m8104\u001b[0m\u001b[1;33m)\u001b[0m\u001b[1;33m\u001b[0m\u001b[1;33m\u001b[0m\u001b[0m\n",
      "\u001b[1;32m~\\.conda\\envs\\venv\\lib\\site-packages\\pandas\\core\\series.py\u001b[0m in \u001b[0;36m__getitem__\u001b[1;34m(self, key)\u001b[0m\n\u001b[0;32m    940\u001b[0m \u001b[1;33m\u001b[0m\u001b[0m\n\u001b[0;32m    941\u001b[0m         \u001b[1;32melif\u001b[0m \u001b[0mkey_is_scalar\u001b[0m\u001b[1;33m:\u001b[0m\u001b[1;33m\u001b[0m\u001b[1;33m\u001b[0m\u001b[0m\n\u001b[1;32m--> 942\u001b[1;33m             \u001b[1;32mreturn\u001b[0m \u001b[0mself\u001b[0m\u001b[1;33m.\u001b[0m\u001b[0m_get_value\u001b[0m\u001b[1;33m(\u001b[0m\u001b[0mkey\u001b[0m\u001b[1;33m)\u001b[0m\u001b[1;33m\u001b[0m\u001b[1;33m\u001b[0m\u001b[0m\n\u001b[0m\u001b[0;32m    943\u001b[0m \u001b[1;33m\u001b[0m\u001b[0m\n\u001b[0;32m    944\u001b[0m         \u001b[1;32mif\u001b[0m \u001b[0mis_hashable\u001b[0m\u001b[1;33m(\u001b[0m\u001b[0mkey\u001b[0m\u001b[1;33m)\u001b[0m\u001b[1;33m:\u001b[0m\u001b[1;33m\u001b[0m\u001b[1;33m\u001b[0m\u001b[0m\n",
      "\u001b[1;32m~\\.conda\\envs\\venv\\lib\\site-packages\\pandas\\core\\series.py\u001b[0m in \u001b[0;36m_get_value\u001b[1;34m(self, label, takeable)\u001b[0m\n\u001b[0;32m   1049\u001b[0m \u001b[1;33m\u001b[0m\u001b[0m\n\u001b[0;32m   1050\u001b[0m         \u001b[1;31m# Similar to Index.get_value, but we do not fall back to positional\u001b[0m\u001b[1;33m\u001b[0m\u001b[1;33m\u001b[0m\u001b[1;33m\u001b[0m\u001b[0m\n\u001b[1;32m-> 1051\u001b[1;33m         \u001b[0mloc\u001b[0m \u001b[1;33m=\u001b[0m \u001b[0mself\u001b[0m\u001b[1;33m.\u001b[0m\u001b[0mindex\u001b[0m\u001b[1;33m.\u001b[0m\u001b[0mget_loc\u001b[0m\u001b[1;33m(\u001b[0m\u001b[0mlabel\u001b[0m\u001b[1;33m)\u001b[0m\u001b[1;33m\u001b[0m\u001b[1;33m\u001b[0m\u001b[0m\n\u001b[0m\u001b[0;32m   1052\u001b[0m         \u001b[1;32mreturn\u001b[0m \u001b[0mself\u001b[0m\u001b[1;33m.\u001b[0m\u001b[0mindex\u001b[0m\u001b[1;33m.\u001b[0m\u001b[0m_get_values_for_loc\u001b[0m\u001b[1;33m(\u001b[0m\u001b[0mself\u001b[0m\u001b[1;33m,\u001b[0m \u001b[0mloc\u001b[0m\u001b[1;33m,\u001b[0m \u001b[0mlabel\u001b[0m\u001b[1;33m)\u001b[0m\u001b[1;33m\u001b[0m\u001b[1;33m\u001b[0m\u001b[0m\n\u001b[0;32m   1053\u001b[0m \u001b[1;33m\u001b[0m\u001b[0m\n",
      "\u001b[1;32m~\\.conda\\envs\\venv\\lib\\site-packages\\pandas\\core\\indexes\\range.py\u001b[0m in \u001b[0;36mget_loc\u001b[1;34m(self, key, method, tolerance)\u001b[0m\n\u001b[0;32m    386\u001b[0m                 \u001b[1;32mexcept\u001b[0m \u001b[0mValueError\u001b[0m \u001b[1;32mas\u001b[0m \u001b[0merr\u001b[0m\u001b[1;33m:\u001b[0m\u001b[1;33m\u001b[0m\u001b[1;33m\u001b[0m\u001b[0m\n\u001b[0;32m    387\u001b[0m                     \u001b[1;32mraise\u001b[0m \u001b[0mKeyError\u001b[0m\u001b[1;33m(\u001b[0m\u001b[0mkey\u001b[0m\u001b[1;33m)\u001b[0m \u001b[1;32mfrom\u001b[0m \u001b[0merr\u001b[0m\u001b[1;33m\u001b[0m\u001b[1;33m\u001b[0m\u001b[0m\n\u001b[1;32m--> 388\u001b[1;33m             \u001b[1;32mraise\u001b[0m \u001b[0mKeyError\u001b[0m\u001b[1;33m(\u001b[0m\u001b[0mkey\u001b[0m\u001b[1;33m)\u001b[0m\u001b[1;33m\u001b[0m\u001b[1;33m\u001b[0m\u001b[0m\n\u001b[0m\u001b[0;32m    389\u001b[0m         \u001b[1;32mreturn\u001b[0m \u001b[0msuper\u001b[0m\u001b[1;33m(\u001b[0m\u001b[1;33m)\u001b[0m\u001b[1;33m.\u001b[0m\u001b[0mget_loc\u001b[0m\u001b[1;33m(\u001b[0m\u001b[0mkey\u001b[0m\u001b[1;33m,\u001b[0m \u001b[0mmethod\u001b[0m\u001b[1;33m=\u001b[0m\u001b[0mmethod\u001b[0m\u001b[1;33m,\u001b[0m \u001b[0mtolerance\u001b[0m\u001b[1;33m=\u001b[0m\u001b[0mtolerance\u001b[0m\u001b[1;33m)\u001b[0m\u001b[1;33m\u001b[0m\u001b[1;33m\u001b[0m\u001b[0m\n\u001b[0;32m    390\u001b[0m \u001b[1;33m\u001b[0m\u001b[0m\n",
      "\u001b[1;31mKeyError\u001b[0m: '코만도'"
     ]
    }
   ],
   "source": [
    "get_title('코만도')"
   ]
  },
  {
   "cell_type": "code",
   "execution_count": 244,
   "metadata": {},
   "outputs": [],
   "source": [
    "# !pip install missingno\n",
    "import missingno as mnso"
   ]
  },
  {
   "cell_type": "code",
   "execution_count": 245,
   "metadata": {},
   "outputs": [
    {
     "data": {
      "text/plain": [
       "<matplotlib.axes._subplots.AxesSubplot at 0x1622a2c27b8>"
      ]
     },
     "execution_count": 245,
     "metadata": {},
     "output_type": "execute_result"
    },
    {
     "data": {
      "image/png": "[encoded data removed]",
      "text/plain": [
       "<Figure size 1800x720 with 3 Axes>"
      ]
     },
     "metadata": {
      "needs_background": "light"
     },
     "output_type": "display_data"
    }
   ],
   "source": [
    "mnso.bar(df)"
   ]
  },
  {
   "cell_type": "code",
   "execution_count": 247,
   "metadata": {},
   "outputs": [
    {
     "name": "stdout",
     "output_type": "stream",
     "text": [
      "director's null rate :3.94%\n",
      "actors's null rate :4.64%\n",
      "just_rating's null rate :5.02%\n",
      "posterLink's null rate :22.97%\n"
     ]
    }
   ],
   "source": [
    "for i in df.columns: \n",
    "    null_rate = df[i].isna().sum() / len(df) * 100 \n",
    "    if null_rate > 0 : \n",
    "        print(\"{}'s null rate :{}%\".format(i,round(null_rate,2)))\n",
    "\n",
    "# 출처: https://stricky.tistory.com/451 [The DataBase that i am good at]"
   ]
  },
  {
   "cell_type": "code",
   "execution_count": 248,
   "metadata": {},
   "outputs": [],
   "source": [
    "# 장르 번호 부여 용 dict 셋팅 \n",
    "idx = {'1':'액션', '2':'애니메이션', '3':'코미디', '4':'범죄',\n",
    "       '5':'다큐멘터리', '6':'드라마', '7':'판타지', '8':'역사',\n",
    "       '9':'공포', '10':'가족', '11':'음악', '12':'스릴러',\n",
    "       '13':'로맨스', '14':'SF', '15':'스포츠', '16':'전쟁',\n",
    "       '17':'서부', '18':'Reality TV', '19':'Made in Europe'}"
   ]
  },
  {
   "cell_type": "code",
   "execution_count": 250,
   "metadata": {},
   "outputs": [
    {
     "name": "stdout",
     "output_type": "stream",
     "text": [
      "[3800, 1243, 4371, 2091, 1237, 7307, 1888, 673, 2064, 1333, 499, 4067, 2656, 1567, 332, 592, 150, 0, 0] 19 개 장르\n"
     ]
    }
   ],
   "source": [
    "# 장르별 영화 분포를 보고자 시리즈 셋팅.\n",
    "g = []\n",
    "for i in idx:\n",
    "    gen = len(df[df['genre'].str.contains(idx[i], na=False)])\n",
    "    g.append(gen)\n",
    "    # print(gene)\n",
    "# g1 = len(df[df['장르'].str.contains('액션')])\n",
    "# idx[\"1\"]\n",
    "print(g, len(g),'개 장르') "
   ]
  },
  {
   "cell_type": "code",
   "execution_count": 253,
   "metadata": {},
   "outputs": [],
   "source": [
    "df_g = pd.DataFrame(list(idx.items()),\n",
    "        columns=['Category_id', 'genre'],\n",
    "        index=None)\n",
    "df_g['Count_jenre'] = g  # 장르 개수 카운트한 컬럼 합치기\n",
    "df_g.sort_values(by=['Count_jenre'], ascending=False, inplace=True)"
   ]
  },
  {
   "cell_type": "code",
   "execution_count": 254,
   "metadata": {},
   "outputs": [
    {
     "data": {
      "text/html": [
       "<div>\n",
       "<style scoped>\n",
       "    .dataframe tbody tr th:only-of-type {\n",
       "        vertical-align: middle;\n",
       "    }\n",
       "\n",
       "    .dataframe tbody tr th {\n",
       "        vertical-align: top;\n",
       "    }\n",
       "\n",
       "    .dataframe thead th {\n",
       "        text-align: right;\n",
       "    }\n",
       "</style>\n",
       "<table border=\"1\" class=\"dataframe\">\n",
       "  <thead>\n",
       "    <tr style=\"text-align: right;\">\n",
       "      <th></th>\n",
       "      <th>Category_id</th>\n",
       "      <th>genre</th>\n",
       "      <th>Count_jenre</th>\n",
       "    </tr>\n",
       "  </thead>\n",
       "  <tbody>\n",
       "    <tr>\n",
       "      <th>5</th>\n",
       "      <td>6</td>\n",
       "      <td>드라마</td>\n",
       "      <td>7307</td>\n",
       "    </tr>\n",
       "    <tr>\n",
       "      <th>2</th>\n",
       "      <td>3</td>\n",
       "      <td>코미디</td>\n",
       "      <td>4371</td>\n",
       "    </tr>\n",
       "    <tr>\n",
       "      <th>11</th>\n",
       "      <td>12</td>\n",
       "      <td>스릴러</td>\n",
       "      <td>4067</td>\n",
       "    </tr>\n",
       "    <tr>\n",
       "      <th>0</th>\n",
       "      <td>1</td>\n",
       "      <td>액션</td>\n",
       "      <td>3800</td>\n",
       "    </tr>\n",
       "    <tr>\n",
       "      <th>12</th>\n",
       "      <td>13</td>\n",
       "      <td>로맨스</td>\n",
       "      <td>2656</td>\n",
       "    </tr>\n",
       "    <tr>\n",
       "      <th>3</th>\n",
       "      <td>4</td>\n",
       "      <td>범죄</td>\n",
       "      <td>2091</td>\n",
       "    </tr>\n",
       "    <tr>\n",
       "      <th>8</th>\n",
       "      <td>9</td>\n",
       "      <td>공포</td>\n",
       "      <td>2064</td>\n",
       "    </tr>\n",
       "    <tr>\n",
       "      <th>6</th>\n",
       "      <td>7</td>\n",
       "      <td>판타지</td>\n",
       "      <td>1888</td>\n",
       "    </tr>\n",
       "    <tr>\n",
       "      <th>13</th>\n",
       "      <td>14</td>\n",
       "      <td>SF</td>\n",
       "      <td>1567</td>\n",
       "    </tr>\n",
       "    <tr>\n",
       "      <th>9</th>\n",
       "      <td>10</td>\n",
       "      <td>가족</td>\n",
       "      <td>1333</td>\n",
       "    </tr>\n",
       "    <tr>\n",
       "      <th>1</th>\n",
       "      <td>2</td>\n",
       "      <td>애니메이션</td>\n",
       "      <td>1243</td>\n",
       "    </tr>\n",
       "    <tr>\n",
       "      <th>4</th>\n",
       "      <td>5</td>\n",
       "      <td>다큐멘터리</td>\n",
       "      <td>1237</td>\n",
       "    </tr>\n",
       "    <tr>\n",
       "      <th>7</th>\n",
       "      <td>8</td>\n",
       "      <td>역사</td>\n",
       "      <td>673</td>\n",
       "    </tr>\n",
       "    <tr>\n",
       "      <th>15</th>\n",
       "      <td>16</td>\n",
       "      <td>전쟁</td>\n",
       "      <td>592</td>\n",
       "    </tr>\n",
       "    <tr>\n",
       "      <th>10</th>\n",
       "      <td>11</td>\n",
       "      <td>음악</td>\n",
       "      <td>499</td>\n",
       "    </tr>\n",
       "    <tr>\n",
       "      <th>14</th>\n",
       "      <td>15</td>\n",
       "      <td>스포츠</td>\n",
       "      <td>332</td>\n",
       "    </tr>\n",
       "    <tr>\n",
       "      <th>16</th>\n",
       "      <td>17</td>\n",
       "      <td>서부</td>\n",
       "      <td>150</td>\n",
       "    </tr>\n",
       "    <tr>\n",
       "      <th>17</th>\n",
       "      <td>18</td>\n",
       "      <td>Reality TV</td>\n",
       "      <td>0</td>\n",
       "    </tr>\n",
       "    <tr>\n",
       "      <th>18</th>\n",
       "      <td>19</td>\n",
       "      <td>Made in Europe</td>\n",
       "      <td>0</td>\n",
       "    </tr>\n",
       "  </tbody>\n",
       "</table>\n",
       "</div>"
      ],
      "text/plain": [
       "   Category_id           genre  Count_jenre\n",
       "5            6             드라마         7307\n",
       "2            3             코미디         4371\n",
       "11          12             스릴러         4067\n",
       "0            1              액션         3800\n",
       "12          13             로맨스         2656\n",
       "3            4              범죄         2091\n",
       "8            9              공포         2064\n",
       "6            7             판타지         1888\n",
       "13          14              SF         1567\n",
       "9           10              가족         1333\n",
       "1            2           애니메이션         1243\n",
       "4            5           다큐멘터리         1237\n",
       "7            8              역사          673\n",
       "15          16              전쟁          592\n",
       "10          11              음악          499\n",
       "14          15             스포츠          332\n",
       "16          17              서부          150\n",
       "17          18      Reality TV            0\n",
       "18          19  Made in Europe            0"
      ]
     },
     "execution_count": 254,
     "metadata": {},
     "output_type": "execute_result"
    }
   ],
   "source": [
    "df_g"
   ]
  },
  {
   "cell_type": "code",
   "execution_count": 278,
   "metadata": {},
   "outputs": [
    {
     "data": {
      "text/plain": [
       "5       드라마\n",
       "2       코미디\n",
       "11      스릴러\n",
       "0        액션\n",
       "12      로맨스\n",
       "3        범죄\n",
       "8        공포\n",
       "6       판타지\n",
       "13       SF\n",
       "9        가족\n",
       "1     애니메이션\n",
       "4     다큐멘터리\n",
       "7        역사\n",
       "15       전쟁\n",
       "10       음악\n",
       "14      스포츠\n",
       "16       서부\n",
       "Name: genre, dtype: object"
      ]
     },
     "execution_count": 278,
     "metadata": {},
     "output_type": "execute_result"
    }
   ],
   "source": [
    "df_g['genre'][:-2]"
   ]
  },
  {
   "cell_type": "code",
   "execution_count": 268,
   "metadata": {},
   "outputs": [
    {
     "data": {
      "text/plain": [
       "['드라마',\n",
       " '코미디',\n",
       " '스릴러',\n",
       " '액션',\n",
       " '로맨스',\n",
       " '범죄',\n",
       " '공포',\n",
       " '판타지',\n",
       " 'SF',\n",
       " '가족',\n",
       " '애니메이션',\n",
       " '다큐멘터리',\n",
       " '역사',\n",
       " '전쟁',\n",
       " '음악',\n",
       " '스포츠',\n",
       " '서부',\n",
       " 'Reality TV',\n",
       " 'Made in Europe']"
      ]
     },
     "execution_count": 268,
     "metadata": {},
     "output_type": "execute_result"
    }
   ],
   "source": [
    "[ c for c in df_g['genre'].values]"
   ]
  },
  {
   "cell_type": "code",
   "execution_count": 284,
   "metadata": {},
   "outputs": [
    {
     "data": {
      "image/png": "[encoded data removed]",
      "text/plain": [
       "<Figure size 864x360 with 1 Axes>"
      ]
     },
     "metadata": {
      "needs_background": "light"
     },
     "output_type": "display_data"
    }
   ],
   "source": [
    "import matplotlib.pyplot as plt\n",
    "import numpy as np\n",
    "\n",
    "# 한글 폰트 사용을 위해서 세팅\n",
    "from matplotlib import font_manager, rc\n",
    "font_path = \"C:/Windows/Fonts/malgun.ttf\"\n",
    "font = font_manager.FontProperties(fname=font_path).get_name()\n",
    "rc('font', family=font)\n",
    "\n",
    "plt.figure(figsize=(12,5))\n",
    "plt.title('장르별 영화 분포 조사 (중복 허용)')\n",
    "# x = np.arange(3)\n",
    "x = df_g['genre']\n",
    "years = [ c for c in df_g['genre'].values]\n",
    "# values = [100, 400, 900]\n",
    "values = df_g['Count_jenre']\n",
    "\n",
    "# plt.bar(x, values, color=['r', 'g', 'b'])\n",
    "# plt.bar(x, values, color='dodgerblue')\n",
    "# plt.bar(x, values, color='C2')\n",
    "plt.bar(x, values, color='#e35f62')\n",
    "plt.xticks(x, years, rotation=45)\n",
    "plt.xlabel('장르',size=15)\n",
    "plt.ylabel('영화수',size=12)\n",
    "\n",
    "plt.show()"
   ]
  },
  {
   "cell_type": "code",
   "execution_count": 293,
   "metadata": {},
   "outputs": [],
   "source": [
    "labels = [ c for c in df_g['genre'].values] "
   ]
  },
  {
   "cell_type": "code",
   "execution_count": 296,
   "metadata": {},
   "outputs": [
    {
     "data": {
      "text/plain": [
       "'리스트'"
      ]
     },
     "execution_count": 296,
     "metadata": {},
     "output_type": "execute_result"
    }
   ],
   "source": [
    "['리스트','1번','2번'][0]"
   ]
  },
  {
   "cell_type": "code",
   "execution_count": 295,
   "metadata": {},
   "outputs": [
    {
     "data": {
      "text/plain": [
       "['드라마',\n",
       " '코미디',\n",
       " '스릴러',\n",
       " '액션',\n",
       " '로맨스',\n",
       " '범죄',\n",
       " '공포',\n",
       " '판타지',\n",
       " 'SF',\n",
       " '가족',\n",
       " '애니메이션',\n",
       " '다큐멘터리',\n",
       " '역사',\n",
       " '전쟁',\n",
       " '음악',\n",
       " '스포츠',\n",
       " '서부',\n",
       " 'Reality TV',\n",
       " 'Made in Europe']"
      ]
     },
     "execution_count": 295,
     "metadata": {},
     "output_type": "execute_result"
    }
   ],
   "source": [
    "labels_tostr = labels\n",
    "for label in labels:\n",
    "    la = np."
   ]
  },
  {
   "cell_type": "code",
   "execution_count": 297,
   "metadata": {},
   "outputs": [
    {
     "data": {
      "text/plain": [
       "5                드라마\n",
       "2                코미디\n",
       "11               스릴러\n",
       "0                 액션\n",
       "12               로맨스\n",
       "3                 범죄\n",
       "8                 공포\n",
       "6                판타지\n",
       "13                SF\n",
       "9                 가족\n",
       "1              애니메이션\n",
       "4              다큐멘터리\n",
       "7                 역사\n",
       "15                전쟁\n",
       "10                음악\n",
       "14               스포츠\n",
       "16                서부\n",
       "17        Reality TV\n",
       "18    Made in Europe\n",
       "Name: genre, dtype: object"
      ]
     },
     "execution_count": 297,
     "metadata": {},
     "output_type": "execute_result"
    }
   ],
   "source": [
    "frequency = df_g['genre']\n",
    "frequency"
   ]
  },
  {
   "cell_type": "code",
   "execution_count": null,
   "metadata": {},
   "outputs": [],
   "source": [
    "df_g['Count_jenre']"
   ]
  },
  {
   "cell_type": "code",
   "execution_count": 307,
   "metadata": {},
   "outputs": [
    {
     "data": {
      "text/plain": [
       "str"
      ]
     },
     "execution_count": 307,
     "metadata": {},
     "output_type": "execute_result"
    }
   ],
   "source": [
    "lala = \",\".join(labels)\n",
    "type(lala)"
   ]
  },
  {
   "cell_type": "code",
   "execution_count": 328,
   "metadata": {},
   "outputs": [
    {
     "data": {
      "text/plain": [
       "5     20.370783\n",
       "2     12.185670\n",
       "11    11.338166\n",
       "0     10.593811\n",
       "12     7.404516\n",
       "3      5.829384\n",
       "8      5.754112\n",
       "6      5.263451\n",
       "13     4.368553\n",
       "9      3.716197\n",
       "1      3.465291\n",
       "4      3.448564\n",
       "7      1.876220\n",
       "15     1.650404\n",
       "10     1.391135\n",
       "14     0.925565\n",
       "16     0.418177\n",
       "17     0.000000\n",
       "18     0.000000\n",
       "Name: Count_jenre, dtype: float64"
      ]
     },
     "execution_count": 328,
     "metadata": {},
     "output_type": "execute_result"
    }
   ],
   "source": [
    "df_g['Count_jenre'] / sum(df_g['Count_jenre']) * 100"
   ]
  },
  {
   "cell_type": "code",
   "execution_count": 311,
   "metadata": {},
   "outputs": [
    {
     "name": "stdout",
     "output_type": "stream",
     "text": [
      "['드라마', '코미디', '스릴러', '액션', '로맨스', '범죄', '공포', '판타지', 'SF', '가족', '애니메이션', '다큐멘터리', '역사', '전쟁', '음악', '스포츠', '서부', 'Reality TV', 'Made in Europe']\n"
     ]
    }
   ],
   "source": [
    "print(labels)"
   ]
  },
  {
   "cell_type": "code",
   "execution_count": 321,
   "metadata": {},
   "outputs": [
    {
     "data": {
      "text/plain": [
       "['드라마', '코미디', '스릴러', '액션', '로맨스']"
      ]
     },
     "execution_count": 321,
     "metadata": {},
     "output_type": "execute_result"
    }
   ],
   "source": [
    "labels = [ c for c in df_g['genre'].values]\n",
    "labels[0:5]"
   ]
  },
  {
   "cell_type": "code",
   "execution_count": 344,
   "metadata": {},
   "outputs": [
    {
     "data": {
      "text/plain": [
       "5     20.370783\n",
       "2     12.185670\n",
       "11    11.338166\n",
       "0     10.593811\n",
       "12     7.404516\n",
       "Name: Count_jenre, dtype: float64"
      ]
     },
     "execution_count": 344,
     "metadata": {},
     "output_type": "execute_result"
    }
   ],
   "source": [
    "ratio = (df_g['Count_jenre'] / df_g['Count_jenre'].sum()) * 100\n",
    "ratio[0:5]"
   ]
  },
  {
   "cell_type": "code",
   "execution_count": 345,
   "metadata": {},
   "outputs": [
    {
     "data": {
      "text/plain": [
       "5     20.370783\n",
       "2     12.185670\n",
       "11    11.338166\n",
       "0     10.593811\n",
       "12     7.404516\n",
       "3      5.829384\n",
       "8      5.754112\n",
       "6      5.263451\n",
       "13     4.368553\n",
       "9      3.716197\n",
       "1      3.465291\n",
       "4      3.448564\n",
       "7      1.876220\n",
       "15     1.650404\n",
       "10     1.391135\n",
       "14     0.925565\n",
       "16     0.418177\n",
       "17     0.000000\n",
       "18     0.000000\n",
       "Name: Count_jenre, dtype: float64"
      ]
     },
     "execution_count": 345,
     "metadata": {},
     "output_type": "execute_result"
    }
   ],
   "source": [
    "ratio"
   ]
  },
  {
   "cell_type": "code",
   "execution_count": 355,
   "metadata": {},
   "outputs": [
    {
     "data": {
      "image/png": "[encoded data removed]",
      "text/plain": [
       "<Figure size 432x288 with 1 Axes>"
      ]
     },
     "metadata": {},
     "output_type": "display_data"
    }
   ],
   "source": [
    "# 상위7개 카테고리 비율 \n",
    "\n",
    "# ratio = ((df_g['Count_jenre'] / df_g['Count_jenre'].sum()) * 100)[0:6] # 값.\n",
    "ratio = df_g['Count_jenre'][0:7]\n",
    "labels = [ c for c in df_g['genre'].values][0:7]\n",
    "# labels = labels[0:5]\n",
    "\n",
    "# frequency = df_g['Count_jenre']\n",
    "# cake = df_g({'frequency':frequency}, \n",
    "#                    index = lala)\n",
    "# cake['frequency'].plot(kind='pie')\n",
    "\n",
    "plt.pie(ratio, labels=labels, autopct='%.1f%%', explode=[0.1,0.05,0.05,0.05,0.05,0.05,0.05])\n",
    "plt.show()"
   ]
  },
  {
   "cell_type": "code",
   "execution_count": null,
   "metadata": {},
   "outputs": [],
   "source": [
    "# 장르 분석 해줄 필요가 있는데. "
   ]
  }
 ],
 "metadata": {
  "interpreter": {
   "hash": "0ded29b58bc560b714828df704c6cb5a38d3bf429cb4a866f4958899775cbcf6"
  },
  "kernelspec": {
   "display_name": "Python 3.7.1 64-bit ('venv': conda)",
   "language": "python",
   "name": "python3"
  },
  "language_info": {
   "codemirror_mode": {
    "name": "ipython",
    "version": 3
   },
   "file_extension": ".py",
   "mimetype": "text/x-python",
   "name": "python",
   "nbconvert_exporter": "python",
   "pygments_lexer": "ipython3",
   "version": "3.7.1"
  },
  "orig_nbformat": 4
 },
 "nbformat": 4,
 "nbformat_minor": 2
}
