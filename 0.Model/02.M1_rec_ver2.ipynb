{
 "cells": [
  {
   "cell_type": "code",
   "execution_count": 2,
   "metadata": {},
   "outputs": [],
   "source": [
    "#########\n",
    "\n",
    "# from sklearn.metrics.pairwise import cosine_similarity\n",
    "\n",
    "# def get_recommendation(title, cos_sim=cos_sim):\n",
    "#     index = indices[title]\n",
    "#     sim_scores = pd.Series(cos_sim[index])\n",
    "#     movie_indices = sim_scores.sort_values(ascending=False).head(6).tail(5).index\n",
    "#     result = df_for_title.title.iloc[movie_indices]\n",
    "#     return result\n",
    "\n",
    "#########"
   ]
  },
  {
   "cell_type": "code",
   "execution_count": 3,
   "metadata": {},
   "outputs": [],
   "source": [
    "# #########\n",
    "\n",
    "# # 영화이름을 치면 인덱스를 반환\n",
    "# def get_index(title, df=df_for_title):\n",
    "#     index = df_for_title.index[(df_for_title['title'] == title)].to_list()\n",
    "#     return index  \n",
    "\n",
    "# ######### "
   ]
  },
  {
   "cell_type": "code",
   "execution_count": 4,
   "metadata": {},
   "outputs": [],
   "source": [
    "# #########\n",
    "\n",
    "# # 인덱스를 치면 영화제목 및 시놉시스를 반환\n",
    "# def get_title(index, df=df_for_title):\n",
    "#     title = df_for_title['title'][(df_for_title.index == index)], df_for_title['시놉시스'][index]\n",
    "#     return title\n",
    "\n",
    "# #########"
   ]
  },
  {
   "cell_type": "code",
   "execution_count": 1,
   "metadata": {},
   "outputs": [],
   "source": [
    "import numpy as np\n",
    "import pandas as pd\n",
    "import warnings\n",
    "warnings.filterwarnings('ignore')\n",
    "import matplotlib_inline\n",
    "import missingno as msno\n",
    "from sklearn.feature_extraction.text import TfidfVectorizer\n",
    "from IPython.display import Image\n",
    "from sklearn.metrics.pairwise import cosine_similarity, euclidean_distances, manhattan_distances"
   ]
  },
  {
   "cell_type": "markdown",
   "metadata": {},
   "source": [
    "0. 데이터 준비"
   ]
  },
  {
   "cell_type": "code",
   "execution_count": 2,
   "metadata": {},
   "outputs": [
    {
     "name": "stdout",
     "output_type": "stream",
     "text": [
      "c:\\Users\\jlune\\carbon\\project_JI\\0.Model\n"
     ]
    }
   ],
   "source": [
    "import os\n",
    "print(os.getcwd())"
   ]
  },
  {
   "cell_type": "code",
   "execution_count": 5,
   "metadata": {},
   "outputs": [
    {
     "data": {
      "text/plain": [
       "'c:\\\\Users\\\\jlune\\\\carbon\\\\project_JI\\\\0.Model'"
      ]
     },
     "execution_count": 5,
     "metadata": {},
     "output_type": "execute_result"
    }
   ],
   "source": [
    "base_dir"
   ]
  },
  {
   "cell_type": "code",
   "execution_count": 13,
   "metadata": {},
   "outputs": [],
   "source": [
    "base_dir = os.getcwd()\n",
    "path_movie_disney = os.path.join(base_dir+\"\\data\\\\MovieCrawlerFile_disney.csv\")\n",
    "path_movie_netflix = os.path.join(base_dir+\"\\data\\\\MovieCrawlerFile_netflix.csv\")\n",
    "path_movie_wacha = os.path.join(base_dir+\"\\data\\\\MovieCrawlerFile_wachapath_movie_wacha.csv\")\n",
    "\n",
    "temp1 = "
   ]
  },
  {
   "cell_type": "code",
   "execution_count": 14,
   "metadata": {},
   "outputs": [
    {
     "data": {
      "text/plain": [
       "'c:\\\\Users\\\\jlune\\\\carbon\\\\project_JI\\\\0.Model\\\\data\\\\MovieCrawlerFile_disney.csv'"
      ]
     },
     "execution_count": 14,
     "metadata": {},
     "output_type": "execute_result"
    }
   ],
   "source": [
    "path_movie_disney"
   ]
  },
  {
   "cell_type": "code",
   "execution_count": 6,
   "metadata": {},
   "outputs": [
    {
     "name": "stdout",
     "output_type": "stream",
     "text": [
      "user\\Desktop\\Python\n"
     ]
    }
   ],
   "source": [
    "import os \n",
    "print(os.path.join('user','Desktop','Python'))\n",
    "\n",
    "# 출처: https://study2give.tistory.com/entry/Python-파일-경로-설정 [공부해서 남주자]"
   ]
  },
  {
   "cell_type": "code",
   "execution_count": null,
   "metadata": {},
   "outputs": [],
   "source": []
  }
 ],
 "metadata": {
  "interpreter": {
   "hash": "0ded29b58bc560b714828df704c6cb5a38d3bf429cb4a866f4958899775cbcf6"
  },
  "kernelspec": {
   "display_name": "Python 3.7.1 64-bit ('venv': conda)",
   "language": "python",
   "name": "python3"
  },
  "language_info": {
   "codemirror_mode": {
    "name": "ipython",
    "version": 3
   },
   "file_extension": ".py",
   "mimetype": "text/x-python",
   "name": "python",
   "nbconvert_exporter": "python",
   "pygments_lexer": "ipython3",
   "version": "3.7.1"
  },
  "orig_nbformat": 4
 },
 "nbformat": 4,
 "nbformat_minor": 2
}
