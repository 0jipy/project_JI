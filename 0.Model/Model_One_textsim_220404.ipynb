{
 "cells": [
  {
   "cell_type": "markdown",
   "metadata": {},
   "source": [
    "# 모델 원  "
   ]
  },
  {
   "cell_type": "markdown",
   "metadata": {},
   "source": [
    "- 컨텐츠 기반 추천 알고리즘\n",
    "    - item count : 영화 14,672개\n",
    "    - input text : 제목, 개봉일, 장르, 감독, 출연배우, 시놉시스가 결합된 텍스트\n",
    "    - vectorizer : 단어빈도-역문서빈도 벡터화 > 사이킷런, TF-IDF vectorizer\n",
    "    - similarity : Cosine Similarity > 사이킷런, pairwise.cosine_similarity\n",
    "    - result     : 유사도 상위 N=10 개의 영화 추천.\n",
    "    - representation  : 영화 포스터로 시각적 표현."
   ]
  },
  {
   "cell_type": "markdown",
   "metadata": {},
   "source": [
    "0. installation"
   ]
  },
  {
   "cell_type": "code",
   "execution_count": 1,
   "metadata": {},
   "outputs": [],
   "source": [
    "import os\n",
    "import numpy as np\n",
    "import pandas as pd\n",
    "import warnings\n",
    "warnings.filterwarnings('ignore')\n",
    "import matplotlib.pyplot as plt\n",
    "from sklearn.feature_extraction.text import TfidfVectorizer\n",
    "from sklearn.metrics.pairwise import cosine_similarity, euclidean_distances, manhattan_distances"
   ]
  },
  {
   "cell_type": "markdown",
   "metadata": {},
   "source": [
    "1. DATA preparation"
   ]
  },
  {
   "cell_type": "code",
   "execution_count": 2,
   "metadata": {},
   "outputs": [],
   "source": [
    "# 경로 지정.\n",
    "dir_path = os.getcwd()\n",
    "file_path = 'movie_db_0331.csv'\n",
    "path = os.path.join(dir_path, file_path)"
   ]
  },
  {
   "cell_type": "code",
   "execution_count": 3,
   "metadata": {},
   "outputs": [],
   "source": [
    "# 데이터 불러오기\n",
    "temp_df= pd.read_csv(path)"
   ]
  },
  {
   "cell_type": "code",
   "execution_count": 4,
   "metadata": {},
   "outputs": [
    {
     "name": "stdout",
     "output_type": "stream",
     "text": [
      "<class 'pandas.core.frame.DataFrame'>\n",
      "RangeIndex: 14672 entries, 0 to 14671\n",
      "Data columns (total 15 columns):\n",
      " #   Column       Non-Null Count  Dtype \n",
      "---  ------       --------------  ----- \n",
      " 0   serial       14672 non-null  int64 \n",
      " 1   title        14672 non-null  object\n",
      " 2   release      14672 non-null  int64 \n",
      " 3   just_rating  14012 non-null  object\n",
      " 4   imdb_rating  14012 non-null  object\n",
      " 5   runtime      14672 non-null  object\n",
      " 6   synopsis     14672 non-null  object\n",
      " 7   director     14130 non-null  object\n",
      " 8   actors       14050 non-null  object\n",
      " 9   genre        14479 non-null  object\n",
      " 10  poster_link  14672 non-null  object\n",
      " 11  netflix      14672 non-null  int64 \n",
      " 12  disney       14672 non-null  int64 \n",
      " 13  wavve        14672 non-null  int64 \n",
      " 14  watcha       14672 non-null  int64 \n",
      "dtypes: int64(6), object(9)\n",
      "memory usage: 1.7+ MB\n"
     ]
    }
   ],
   "source": [
    "temp_df.info()"
   ]
  },
  {
   "cell_type": "code",
   "execution_count": 8,
   "metadata": {},
   "outputs": [
    {
     "name": "stdout",
     "output_type": "stream",
     "text": [
      "14672 개의 아이템\n"
     ]
    },
    {
     "data": {
      "text/html": [
       "<div>\n",
       "<style scoped>\n",
       "    .dataframe tbody tr th:only-of-type {\n",
       "        vertical-align: middle;\n",
       "    }\n",
       "\n",
       "    .dataframe tbody tr th {\n",
       "        vertical-align: top;\n",
       "    }\n",
       "\n",
       "    .dataframe thead th {\n",
       "        text-align: right;\n",
       "    }\n",
       "</style>\n",
       "<table border=\"1\" class=\"dataframe\">\n",
       "  <thead>\n",
       "    <tr style=\"text-align: right;\">\n",
       "      <th></th>\n",
       "      <th>serial</th>\n",
       "      <th>title</th>\n",
       "      <th>release</th>\n",
       "      <th>just_rating</th>\n",
       "      <th>imdb_rating</th>\n",
       "      <th>runtime</th>\n",
       "      <th>synopsis</th>\n",
       "      <th>director</th>\n",
       "      <th>actors</th>\n",
       "      <th>genre</th>\n",
       "      <th>poster_link</th>\n",
       "      <th>netflix</th>\n",
       "      <th>disney</th>\n",
       "      <th>wavve</th>\n",
       "      <th>watcha</th>\n",
       "    </tr>\n",
       "  </thead>\n",
       "  <tbody>\n",
       "    <tr>\n",
       "      <th>0</th>\n",
       "      <td>261279536</td>\n",
       "      <td>효자</td>\n",
       "      <td>2022</td>\n",
       "      <td>55%</td>\n",
       "      <td>55%</td>\n",
       "      <td>1시간57분</td>\n",
       "      <td>엄마가 돌아가시고 얼마 지나지 않아 닥친 태풍 소식에 5명의 형제들은 함께 산소를 ...</td>\n",
       "      <td>LeeHoon-guk</td>\n",
       "      <td>KimRoi-ha,LeeCheol-min,JungKyung-ho,ParkHyo-jo...</td>\n",
       "      <td>공포,코미디</td>\n",
       "      <td>https://images.justwatch.com/poster/261279536/...</td>\n",
       "      <td>0</td>\n",
       "      <td>0</td>\n",
       "      <td>1</td>\n",
       "      <td>0</td>\n",
       "    </tr>\n",
       "    <tr>\n",
       "      <th>1</th>\n",
       "      <td>259066109</td>\n",
       "      <td>황무지의 괴물</td>\n",
       "      <td>2022</td>\n",
       "      <td>54%</td>\n",
       "      <td>4.6</td>\n",
       "      <td>1시간31분</td>\n",
       "      <td>19세기 외딴 황무지에 세상과 단절된 채 살아가는 가족이 있다. 이 집의 어린 아들...</td>\n",
       "      <td>NaN</td>\n",
       "      <td>InmaCuesta,AsierFlores,RobertoÁlamo,AlejandraH...</td>\n",
       "      <td>공포,스릴러,드라마</td>\n",
       "      <td>https://images.justwatch.com/poster/259066109/...</td>\n",
       "      <td>1</td>\n",
       "      <td>0</td>\n",
       "      <td>0</td>\n",
       "      <td>0</td>\n",
       "    </tr>\n",
       "    <tr>\n",
       "      <th>2</th>\n",
       "      <td>261668749</td>\n",
       "      <td>홈 팀</td>\n",
       "      <td>2022</td>\n",
       "      <td>74%</td>\n",
       "      <td>6</td>\n",
       "      <td>1시간35분</td>\n",
       "      <td>자격 정지 처분을 받은 NFL 감독 숀 페이턴. 아들이 선수로 뛰는 형편없는 유소년...</td>\n",
       "      <td>CharlesKinnane,DanielKinnane</td>\n",
       "      <td>KevinJames,TaylorLautner,RobSchneider,JackieSa...</td>\n",
       "      <td>코미디,스포츠</td>\n",
       "      <td>https://images.justwatch.com/poster/261668749/...</td>\n",
       "      <td>1</td>\n",
       "      <td>0</td>\n",
       "      <td>0</td>\n",
       "      <td>0</td>\n",
       "    </tr>\n",
       "    <tr>\n",
       "      <th>3</th>\n",
       "      <td>259326899</td>\n",
       "      <td>해적: 도깨비 깃발</td>\n",
       "      <td>2022</td>\n",
       "      <td>74%</td>\n",
       "      <td>6.1</td>\n",
       "      <td>2시간6분</td>\n",
       "      <td>자칭 고려 제일검인 의적단 두목 무치와 바다를 평정한 해적선의 주인 해랑. 한 배에...</td>\n",
       "      <td>KimJoung-hoon</td>\n",
       "      <td>KangHa-neul,HanHyo-joo,LeeKwang-soo,KwonSang-w...</td>\n",
       "      <td>코미디,액션</td>\n",
       "      <td>https://images.justwatch.com/poster/259326899/...</td>\n",
       "      <td>1</td>\n",
       "      <td>0</td>\n",
       "      <td>0</td>\n",
       "      <td>0</td>\n",
       "    </tr>\n",
       "    <tr>\n",
       "      <th>4</th>\n",
       "      <td>258528334</td>\n",
       "      <td>해리 포터 20주년: 리턴 투 호그와트</td>\n",
       "      <td>2022</td>\n",
       "      <td>89%</td>\n",
       "      <td>8</td>\n",
       "      <td>1시간43분</td>\n",
       "      <td>‘해리포터와 마법사의 돌' 20주년 기념 스페셜. 다니엘 래드클리프, 루퍼트 그린트...</td>\n",
       "      <td>EranCreevy,JoePearlman,CaseyPatterson,GiorgioT...</td>\n",
       "      <td>DanielRadcliffe,RupertGrint,EmmaWatson,BonnieW...</td>\n",
       "      <td>다큐멘터리,가족</td>\n",
       "      <td>https://images.justwatch.com/poster/258528334/...</td>\n",
       "      <td>0</td>\n",
       "      <td>0</td>\n",
       "      <td>1</td>\n",
       "      <td>0</td>\n",
       "    </tr>\n",
       "  </tbody>\n",
       "</table>\n",
       "</div>"
      ],
      "text/plain": [
       "      serial                  title  release just_rating imdb_rating runtime  \\\n",
       "0  261279536                     효자     2022         55%         55%  1시간57분   \n",
       "1  259066109                황무지의 괴물     2022         54%         4.6  1시간31분   \n",
       "2  261668749                    홈 팀     2022         74%           6  1시간35분   \n",
       "3  259326899             해적: 도깨비 깃발     2022         74%         6.1   2시간6분   \n",
       "4  258528334  해리 포터 20주년: 리턴 투 호그와트     2022         89%           8  1시간43분   \n",
       "\n",
       "                                            synopsis  \\\n",
       "0  엄마가 돌아가시고 얼마 지나지 않아 닥친 태풍 소식에 5명의 형제들은 함께 산소를 ...   \n",
       "1  19세기 외딴 황무지에 세상과 단절된 채 살아가는 가족이 있다. 이 집의 어린 아들...   \n",
       "2  자격 정지 처분을 받은 NFL 감독 숀 페이턴. 아들이 선수로 뛰는 형편없는 유소년...   \n",
       "3  자칭 고려 제일검인 의적단 두목 무치와 바다를 평정한 해적선의 주인 해랑. 한 배에...   \n",
       "4  ‘해리포터와 마법사의 돌' 20주년 기념 스페셜. 다니엘 래드클리프, 루퍼트 그린트...   \n",
       "\n",
       "                                            director  \\\n",
       "0                                        LeeHoon-guk   \n",
       "1                                                NaN   \n",
       "2                       CharlesKinnane,DanielKinnane   \n",
       "3                                      KimJoung-hoon   \n",
       "4  EranCreevy,JoePearlman,CaseyPatterson,GiorgioT...   \n",
       "\n",
       "                                              actors       genre  \\\n",
       "0  KimRoi-ha,LeeCheol-min,JungKyung-ho,ParkHyo-jo...      공포,코미디   \n",
       "1  InmaCuesta,AsierFlores,RobertoÁlamo,AlejandraH...  공포,스릴러,드라마   \n",
       "2  KevinJames,TaylorLautner,RobSchneider,JackieSa...     코미디,스포츠   \n",
       "3  KangHa-neul,HanHyo-joo,LeeKwang-soo,KwonSang-w...      코미디,액션   \n",
       "4  DanielRadcliffe,RupertGrint,EmmaWatson,BonnieW...    다큐멘터리,가족   \n",
       "\n",
       "                                         poster_link  netflix  disney  wavve  \\\n",
       "0  https://images.justwatch.com/poster/261279536/...        0       0      1   \n",
       "1  https://images.justwatch.com/poster/259066109/...        1       0      0   \n",
       "2  https://images.justwatch.com/poster/261668749/...        1       0      0   \n",
       "3  https://images.justwatch.com/poster/259326899/...        1       0      0   \n",
       "4  https://images.justwatch.com/poster/258528334/...        0       0      1   \n",
       "\n",
       "   watcha  \n",
       "0       0  \n",
       "1       0  \n",
       "2       0  \n",
       "3       0  \n",
       "4       0  "
      ]
     },
     "execution_count": 8,
     "metadata": {},
     "output_type": "execute_result"
    }
   ],
   "source": [
    "print(str(len(temp_df))+\" 개의 아이템\")\n",
    "temp_df.head(5)\n"
   ]
  },
  {
   "cell_type": "code",
   "execution_count": 10,
   "metadata": {},
   "outputs": [],
   "source": [
    "# 필요컬럼 셀렉트\n",
    "copy = temp_df.copy()\n",
    "df = temp_df[['title','release','genre','director','actors','synopsis']]"
   ]
  },
  {
   "cell_type": "code",
   "execution_count": 13,
   "metadata": {},
   "outputs": [
    {
     "data": {
      "text/plain": [
       "title         0\n",
       "release       0\n",
       "genre       193\n",
       "director    542\n",
       "actors      622\n",
       "synopsis      0\n",
       "dtype: int64"
      ]
     },
     "execution_count": 13,
     "metadata": {},
     "output_type": "execute_result"
    }
   ],
   "source": [
    "# 결측값 확인 > 핵심 데이터를 시놉시스로 보아, 결측값 보정 없음.\n",
    "df.isna().sum() "
   ]
  },
  {
   "cell_type": "code",
   "execution_count": 16,
   "metadata": {},
   "outputs": [
    {
     "data": {
      "text/plain": [
       "283"
      ]
     },
     "execution_count": 16,
     "metadata": {},
     "output_type": "execute_result"
    }
   ],
   "source": [
    "# 제목이 같으나, 개봉연도가 다른 영화의 개수 확인\n",
    "df.title.duplicated().sum()"
   ]
  },
  {
   "cell_type": "code",
   "execution_count": 34,
   "metadata": {},
   "outputs": [
    {
     "name": "stdout",
     "output_type": "stream",
     "text": [
      "<class 'pandas.core.frame.DataFrame'>\n",
      "RangeIndex: 14672 entries, 0 to 14671\n",
      "Data columns (total 6 columns):\n",
      " #   Column    Non-Null Count  Dtype \n",
      "---  ------    --------------  ----- \n",
      " 0   title     14672 non-null  object\n",
      " 1   release   14672 non-null  object\n",
      " 2   genre     14672 non-null  object\n",
      " 3   director  14672 non-null  object\n",
      " 4   actors    14672 non-null  object\n",
      " 5   synopsis  14672 non-null  object\n",
      "dtypes: object(6)\n",
      "memory usage: 687.9+ KB\n"
     ]
    }
   ],
   "source": [
    "# 문자열을 합쳐서 input text 로 사용하기 위해 모든 컬럼의 데이터 타입을 문자열로 변경.\n",
    "df = df.astype(str)\n",
    "df.info()"
   ]
  },
  {
   "cell_type": "code",
   "execution_count": 37,
   "metadata": {},
   "outputs": [
    {
     "data": {
      "text/plain": [
       "[['효자',\n",
       "  '2022',\n",
       "  '공포,코미디',\n",
       "  'LeeHoon-guk',\n",
       "  'KimRoi-ha,LeeCheol-min,JungKyung-ho,ParkHyo-joon,JeonWoon-jong,NaMi-Hee,YunWoon-Kyung,MoonKyeong-min,AnMin-yeong,KimMin-sik,KimFeel',\n",
       "  '엄마가 돌아가시고 얼마 지나지 않아 닥친 태풍 소식에 5명의 형제들은 함께 산소를 찾아간다  그런데, 이게 도대체 무슨 일? 부서진 관 사이로 엄마의 시신이 온데간데 사라졌다?  알 수 없는 기막힌 상황에 집으로 돌아오자 좀비로 변한 엄마가 이들을 기다리는데...']]"
      ]
     },
     "execution_count": 37,
     "metadata": {},
     "output_type": "execute_result"
    }
   ],
   "source": [
    "df[0:1].values.tolist()"
   ]
  },
  {
   "cell_type": "code",
   "execution_count": 41,
   "metadata": {},
   "outputs": [
    {
     "data": {
      "text/plain": [
       "'효자 2022 공포,코미디 LeeHoon-guk KimRoi-ha,LeeCheol-min,JungKyung-ho,ParkHyo-joon,JeonWoon-jong,NaMi-Hee,YunWoon-Kyung,MoonKyeong-min,AnMin-yeong,KimMin-sik,KimFeel 엄마가 돌아가시고 얼마 지나지 않아 닥친 태풍 소식에 5명의 형제들은 함께 산소를 찾아간다  그런데, 이게 도대체 무슨 일? 부서진 관 사이로 엄마의 시신이 온데간데 사라졌다?  알 수 없는 기막힌 상황에 집으로 돌아오자 좀비로 변한 엄마가 이들을 기다리는데...'"
      ]
     },
     "execution_count": 41,
     "metadata": {},
     "output_type": "execute_result"
    }
   ],
   "source": [
    "\" \".join(df[0:1].values.tolist()[0])"
   ]
  },
  {
   "cell_type": "code",
   "execution_count": 51,
   "metadata": {},
   "outputs": [
    {
     "data": {
      "text/plain": [
       "14672"
      ]
     },
     "execution_count": 51,
     "metadata": {},
     "output_type": "execute_result"
    }
   ],
   "source": [
    "# 결합 텍스트를 리스트에 담아 df 마지막 열에 추가.\n",
    "input_text = []\n",
    "df.fillna(' ', inplace=True)\n",
    "for i in range(len(df)):\n",
    "    var1 = \" \".join(df[i:i+1].values.tolist()[0])\n",
    "    input_text.append(var1)\n",
    "len(input_text)"
   ]
  },
  {
   "cell_type": "code",
   "execution_count": 53,
   "metadata": {},
   "outputs": [
    {
     "data": {
      "text/html": [
       "<div>\n",
       "<style scoped>\n",
       "    .dataframe tbody tr th:only-of-type {\n",
       "        vertical-align: middle;\n",
       "    }\n",
       "\n",
       "    .dataframe tbody tr th {\n",
       "        vertical-align: top;\n",
       "    }\n",
       "\n",
       "    .dataframe thead th {\n",
       "        text-align: right;\n",
       "    }\n",
       "</style>\n",
       "<table border=\"1\" class=\"dataframe\">\n",
       "  <thead>\n",
       "    <tr style=\"text-align: right;\">\n",
       "      <th></th>\n",
       "      <th>title</th>\n",
       "      <th>release</th>\n",
       "      <th>genre</th>\n",
       "      <th>director</th>\n",
       "      <th>actors</th>\n",
       "      <th>synopsis</th>\n",
       "      <th>input_text</th>\n",
       "    </tr>\n",
       "  </thead>\n",
       "  <tbody>\n",
       "    <tr>\n",
       "      <th>0</th>\n",
       "      <td>효자</td>\n",
       "      <td>2022</td>\n",
       "      <td>공포,코미디</td>\n",
       "      <td>LeeHoon-guk</td>\n",
       "      <td>KimRoi-ha,LeeCheol-min,JungKyung-ho,ParkHyo-jo...</td>\n",
       "      <td>엄마가 돌아가시고 얼마 지나지 않아 닥친 태풍 소식에 5명의 형제들은 함께 산소를 ...</td>\n",
       "      <td>효자 2022 공포,코미디 LeeHoon-guk KimRoi-ha,LeeCheol-...</td>\n",
       "    </tr>\n",
       "    <tr>\n",
       "      <th>1</th>\n",
       "      <td>황무지의 괴물</td>\n",
       "      <td>2022</td>\n",
       "      <td>공포,스릴러,드라마</td>\n",
       "      <td></td>\n",
       "      <td>InmaCuesta,AsierFlores,RobertoÁlamo,AlejandraH...</td>\n",
       "      <td>19세기 외딴 황무지에 세상과 단절된 채 살아가는 가족이 있다. 이 집의 어린 아들...</td>\n",
       "      <td>황무지의 괴물 2022 공포,스릴러,드라마   InmaCuesta,AsierFlor...</td>\n",
       "    </tr>\n",
       "    <tr>\n",
       "      <th>2</th>\n",
       "      <td>홈 팀</td>\n",
       "      <td>2022</td>\n",
       "      <td>코미디,스포츠</td>\n",
       "      <td>CharlesKinnane,DanielKinnane</td>\n",
       "      <td>KevinJames,TaylorLautner,RobSchneider,JackieSa...</td>\n",
       "      <td>자격 정지 처분을 받은 NFL 감독 숀 페이턴. 아들이 선수로 뛰는 형편없는 유소년...</td>\n",
       "      <td>홈 팀 2022 코미디,스포츠 CharlesKinnane,DanielKinnane ...</td>\n",
       "    </tr>\n",
       "    <tr>\n",
       "      <th>3</th>\n",
       "      <td>해적: 도깨비 깃발</td>\n",
       "      <td>2022</td>\n",
       "      <td>코미디,액션</td>\n",
       "      <td>KimJoung-hoon</td>\n",
       "      <td>KangHa-neul,HanHyo-joo,LeeKwang-soo,KwonSang-w...</td>\n",
       "      <td>자칭 고려 제일검인 의적단 두목 무치와 바다를 평정한 해적선의 주인 해랑. 한 배에...</td>\n",
       "      <td>해적: 도깨비 깃발 2022 코미디,액션 KimJoung-hoon KangHa-ne...</td>\n",
       "    </tr>\n",
       "    <tr>\n",
       "      <th>4</th>\n",
       "      <td>해리 포터 20주년: 리턴 투 호그와트</td>\n",
       "      <td>2022</td>\n",
       "      <td>다큐멘터리,가족</td>\n",
       "      <td>EranCreevy,JoePearlman,CaseyPatterson,GiorgioT...</td>\n",
       "      <td>DanielRadcliffe,RupertGrint,EmmaWatson,BonnieW...</td>\n",
       "      <td>‘해리포터와 마법사의 돌' 20주년 기념 스페셜. 다니엘 래드클리프, 루퍼트 그린트...</td>\n",
       "      <td>해리 포터 20주년: 리턴 투 호그와트 2022 다큐멘터리,가족 EranCreevy...</td>\n",
       "    </tr>\n",
       "    <tr>\n",
       "      <th>...</th>\n",
       "      <td>...</td>\n",
       "      <td>...</td>\n",
       "      <td>...</td>\n",
       "      <td>...</td>\n",
       "      <td>...</td>\n",
       "      <td>...</td>\n",
       "      <td>...</td>\n",
       "    </tr>\n",
       "    <tr>\n",
       "      <th>14667</th>\n",
       "      <td>Flowers and Trees</td>\n",
       "      <td>1932</td>\n",
       "      <td>애니메이션</td>\n",
       "      <td>BurtGillett</td>\n",
       "      <td>ClarenceNash,EstherCampbell,MarionDarlington,P...</td>\n",
       "      <td>A jealous stump threatens two trees that are i...</td>\n",
       "      <td>Flowers and Trees 1932 애니메이션 BurtGillett Clare...</td>\n",
       "    </tr>\n",
       "    <tr>\n",
       "      <th>14668</th>\n",
       "      <td>스킨 게임</td>\n",
       "      <td>1931</td>\n",
       "      <td>드라마</td>\n",
       "      <td>AlfredHitchcock</td>\n",
       "      <td>C.V.France,HelenHaye,JillEsmond,EdmundGwenn,Jo...</td>\n",
       "      <td>부자 가족 힐크리스트는 자신들의 땅에 공장을 짓기 위해 가난한 농부가 보낸 투자사기...</td>\n",
       "      <td>스킨 게임 1931 드라마 AlfredHitchcock C.V.France,Hele...</td>\n",
       "    </tr>\n",
       "    <tr>\n",
       "      <th>14669</th>\n",
       "      <td>리치 앤 스트레인지</td>\n",
       "      <td>1931</td>\n",
       "      <td>드라마,로맨스,코미디,스릴러</td>\n",
       "      <td>AlfredHitchcock</td>\n",
       "      <td>HenryKendall,JoanBarry,PercyMarmont,BettyAmann...</td>\n",
       "      <td>영화는 노동자인 프레드와 그의 부인 에밀리가 그들이 살아있는 동안 평생 뭐든지 할 ...</td>\n",
       "      <td>리치 앤 스트레인지 1931 드라마,로맨스,코미디,스릴러 AlfredHitchcoc...</td>\n",
       "    </tr>\n",
       "    <tr>\n",
       "      <th>14670</th>\n",
       "      <td>공공의 적</td>\n",
       "      <td>1931</td>\n",
       "      <td>드라마,범죄</td>\n",
       "      <td>WilliamA.Wellman</td>\n",
       "      <td>JamesCagney,JeanHarlow,EdwardWoods,JoanBlondel...</td>\n",
       "      <td>금주령 시대, 탐 파워스는 술집, 당구장 등을 어슬렁대며 퍼티 노우즈 같은 불량한 ...</td>\n",
       "      <td>공공의 적 1931 드라마,범죄 WilliamA.Wellman JamesCagney...</td>\n",
       "    </tr>\n",
       "    <tr>\n",
       "      <th>14671</th>\n",
       "      <td>증기선 윌리</td>\n",
       "      <td>1928</td>\n",
       "      <td>애니메이션</td>\n",
       "      <td>UbIwerks</td>\n",
       "      <td>WaltDisney</td>\n",
       "      <td>첫 미키 마우스 애니메이션 개봉작이자 동시 녹음을 활용한 최초의 애니메이션. 배 위...</td>\n",
       "      <td>증기선 윌리 1928 애니메이션 UbIwerks WaltDisney 첫 미키 마우스...</td>\n",
       "    </tr>\n",
       "  </tbody>\n",
       "</table>\n",
       "<p>14672 rows × 7 columns</p>\n",
       "</div>"
      ],
      "text/plain": [
       "                       title release            genre  \\\n",
       "0                         효자    2022           공포,코미디   \n",
       "1                    황무지의 괴물    2022       공포,스릴러,드라마   \n",
       "2                        홈 팀    2022          코미디,스포츠   \n",
       "3                 해적: 도깨비 깃발    2022           코미디,액션   \n",
       "4      해리 포터 20주년: 리턴 투 호그와트    2022         다큐멘터리,가족   \n",
       "...                      ...     ...              ...   \n",
       "14667      Flowers and Trees    1932            애니메이션   \n",
       "14668                  스킨 게임    1931              드라마   \n",
       "14669             리치 앤 스트레인지    1931  드라마,로맨스,코미디,스릴러   \n",
       "14670                  공공의 적    1931           드라마,범죄   \n",
       "14671                 증기선 윌리    1928            애니메이션   \n",
       "\n",
       "                                                director  \\\n",
       "0                                            LeeHoon-guk   \n",
       "1                                                          \n",
       "2                           CharlesKinnane,DanielKinnane   \n",
       "3                                          KimJoung-hoon   \n",
       "4      EranCreevy,JoePearlman,CaseyPatterson,GiorgioT...   \n",
       "...                                                  ...   \n",
       "14667                                        BurtGillett   \n",
       "14668                                    AlfredHitchcock   \n",
       "14669                                    AlfredHitchcock   \n",
       "14670                                   WilliamA.Wellman   \n",
       "14671                                           UbIwerks   \n",
       "\n",
       "                                                  actors  \\\n",
       "0      KimRoi-ha,LeeCheol-min,JungKyung-ho,ParkHyo-jo...   \n",
       "1      InmaCuesta,AsierFlores,RobertoÁlamo,AlejandraH...   \n",
       "2      KevinJames,TaylorLautner,RobSchneider,JackieSa...   \n",
       "3      KangHa-neul,HanHyo-joo,LeeKwang-soo,KwonSang-w...   \n",
       "4      DanielRadcliffe,RupertGrint,EmmaWatson,BonnieW...   \n",
       "...                                                  ...   \n",
       "14667  ClarenceNash,EstherCampbell,MarionDarlington,P...   \n",
       "14668  C.V.France,HelenHaye,JillEsmond,EdmundGwenn,Jo...   \n",
       "14669  HenryKendall,JoanBarry,PercyMarmont,BettyAmann...   \n",
       "14670  JamesCagney,JeanHarlow,EdwardWoods,JoanBlondel...   \n",
       "14671                                         WaltDisney   \n",
       "\n",
       "                                                synopsis  \\\n",
       "0      엄마가 돌아가시고 얼마 지나지 않아 닥친 태풍 소식에 5명의 형제들은 함께 산소를 ...   \n",
       "1      19세기 외딴 황무지에 세상과 단절된 채 살아가는 가족이 있다. 이 집의 어린 아들...   \n",
       "2      자격 정지 처분을 받은 NFL 감독 숀 페이턴. 아들이 선수로 뛰는 형편없는 유소년...   \n",
       "3      자칭 고려 제일검인 의적단 두목 무치와 바다를 평정한 해적선의 주인 해랑. 한 배에...   \n",
       "4      ‘해리포터와 마법사의 돌' 20주년 기념 스페셜. 다니엘 래드클리프, 루퍼트 그린트...   \n",
       "...                                                  ...   \n",
       "14667  A jealous stump threatens two trees that are i...   \n",
       "14668  부자 가족 힐크리스트는 자신들의 땅에 공장을 짓기 위해 가난한 농부가 보낸 투자사기...   \n",
       "14669  영화는 노동자인 프레드와 그의 부인 에밀리가 그들이 살아있는 동안 평생 뭐든지 할 ...   \n",
       "14670  금주령 시대, 탐 파워스는 술집, 당구장 등을 어슬렁대며 퍼티 노우즈 같은 불량한 ...   \n",
       "14671  첫 미키 마우스 애니메이션 개봉작이자 동시 녹음을 활용한 최초의 애니메이션. 배 위...   \n",
       "\n",
       "                                              input_text  \n",
       "0      효자 2022 공포,코미디 LeeHoon-guk KimRoi-ha,LeeCheol-...  \n",
       "1      황무지의 괴물 2022 공포,스릴러,드라마   InmaCuesta,AsierFlor...  \n",
       "2      홈 팀 2022 코미디,스포츠 CharlesKinnane,DanielKinnane ...  \n",
       "3      해적: 도깨비 깃발 2022 코미디,액션 KimJoung-hoon KangHa-ne...  \n",
       "4      해리 포터 20주년: 리턴 투 호그와트 2022 다큐멘터리,가족 EranCreevy...  \n",
       "...                                                  ...  \n",
       "14667  Flowers and Trees 1932 애니메이션 BurtGillett Clare...  \n",
       "14668  스킨 게임 1931 드라마 AlfredHitchcock C.V.France,Hele...  \n",
       "14669  리치 앤 스트레인지 1931 드라마,로맨스,코미디,스릴러 AlfredHitchcoc...  \n",
       "14670  공공의 적 1931 드라마,범죄 WilliamA.Wellman JamesCagney...  \n",
       "14671  증기선 윌리 1928 애니메이션 UbIwerks WaltDisney 첫 미키 마우스...  \n",
       "\n",
       "[14672 rows x 7 columns]"
      ]
     },
     "execution_count": 53,
     "metadata": {},
     "output_type": "execute_result"
    }
   ],
   "source": [
    "df['input_text'] = input_text\n",
    "# df.head()"
   ]
  },
  {
   "cell_type": "markdown",
   "metadata": {},
   "source": [
    "2. feature vectorization"
   ]
  },
  {
   "cell_type": "code",
   "execution_count": 124,
   "metadata": {},
   "outputs": [],
   "source": [
    "from sklearn.feature_extraction.text import TfidfVectorizer\n",
    "\n",
    "# tfidf = TfidfVectorizer(ngram_range=(1,2), min_df=0.01, max_df=0.99)\n",
    "tfidf = TfidfVectorizer()\n",
    "tfidf_matrix = tfidf.fit_transform(input_text)"
   ]
  },
  {
   "cell_type": "code",
   "execution_count": 125,
   "metadata": {},
   "outputs": [
    {
     "data": {
      "text/plain": [
       "(1, 343578)"
      ]
     },
     "execution_count": 125,
     "metadata": {},
     "output_type": "execute_result"
    }
   ],
   "source": [
    "# 계산이 느리지 않아서 희소행렬의 문제 및 시간의 제약이 크게 없다.\n",
    "tfidf_matrix[1].shape"
   ]
  },
  {
   "cell_type": "markdown",
   "metadata": {},
   "source": [
    "3. recommendation system"
   ]
  },
  {
   "cell_type": "code",
   "execution_count": 126,
   "metadata": {},
   "outputs": [
    {
     "data": {
      "text/plain": [
       "((14672, 14672), numpy.ndarray)"
      ]
     },
     "execution_count": 126,
     "metadata": {},
     "output_type": "execute_result"
    }
   ],
   "source": [
    "# cos U \n",
    "from sklearn.metrics.pairwise import cosine_similarity\n",
    "cos_sim = cosine_similarity(tfidf_matrix, tfidf_matrix)\n",
    "cos_sim.shape, type(cos_sim)"
   ]
  },
  {
   "cell_type": "code",
   "execution_count": 127,
   "metadata": {},
   "outputs": [],
   "source": [
    "indices = pd.Series(df.index, index=df.title)"
   ]
  },
  {
   "cell_type": "code",
   "execution_count": 128,
   "metadata": {},
   "outputs": [],
   "source": [
    "# 추천함수 상위 10개\n",
    "def get_recommendation(title, cos_sim=cos_sim):\n",
    "    index = indices[title]\n",
    "    sim_scores = pd.Series(cos_sim[index])\n",
    "    movie_indices = sim_scores.sort_values(ascending=False).head(11).tail(10).index\n",
    "    result = df.title.iloc[movie_indices]\n",
    "    return result"
   ]
  },
  {
   "cell_type": "code",
   "execution_count": 137,
   "metadata": {},
   "outputs": [
    {
     "data": {
      "text/plain": [
       "5427        스파이더맨: 홈커밍\n",
       "7840          더 마인즈 아이\n",
       "2726     스파이더맨: 파 프롬 홈\n",
       "3999      어벤져스: 인피니티 워\n",
       "12126          스파이더맨 2\n",
       "11391          스파이더맨 3\n",
       "8324      어메이징 스파이더맨 2\n",
       "6937          닥터 스트레인지\n",
       "5058          크레이지 특공대\n",
       "1871             닥터 데스\n",
       "Name: title, dtype: object"
      ]
     },
     "execution_count": 137,
     "metadata": {},
     "output_type": "execute_result"
    }
   ],
   "source": [
    "get_recommendation('스파이더맨: 노 웨이 홈') # "
   ]
  },
  {
   "cell_type": "code",
   "execution_count": 129,
   "metadata": {},
   "outputs": [
    {
     "data": {
      "text/plain": [
       "12500       반지의 제왕: 두 개의 탑\n",
       "12340        반지의 제왕: 왕의 귀환\n",
       "9432            호빗: 뜻밖의 여정\n",
       "8069          호빗: 다섯 군대 전투\n",
       "2787         성기사단: 어둠의 마법사\n",
       "11843                   킹콩\n",
       "10899               러블리 본즈\n",
       "4350                 모털 엔진\n",
       "283      잉글리시 북 클럽: 반지의 제왕\n",
       "13184                프라이트너\n",
       "Name: title, dtype: object"
      ]
     },
     "execution_count": 129,
     "metadata": {},
     "output_type": "execute_result"
    }
   ],
   "source": [
    "get_recommendation('반지의 제왕: 반지 원정대')"
   ]
  },
  {
   "cell_type": "code",
   "execution_count": 130,
   "metadata": {},
   "outputs": [
    {
     "data": {
      "text/plain": [
       "6649       서울역\n",
       "3956        염력\n",
       "10249      도가니\n",
       "9129       사이비\n",
       "9226     롤러코스터\n",
       "8719        거인\n",
       "5849       더 킹\n",
       "3296       기생충\n",
       "4393       마약왕\n",
       "10527     부당거래\n",
       "Name: title, dtype: object"
      ]
     },
     "execution_count": 130,
     "metadata": {},
     "output_type": "execute_result"
    }
   ],
   "source": [
    "get_recommendation('부산행')"
   ]
  },
  {
   "cell_type": "code",
   "execution_count": 131,
   "metadata": {},
   "outputs": [
    {
     "data": {
      "text/plain": [
       "8887                터키\n",
       "8723             갓즈 포켓\n",
       "14647          외로운 유령들\n",
       "9080     신데렐라: 트랩 오브 허\n",
       "9134            사랑과 전쟁\n",
       "10864        부다페스트 로큰롤\n",
       "12919        미키의 크리스마스\n",
       "1160         추억의 검정고무신\n",
       "3886                윌리\n",
       "14562         플루토와 소시지\n",
       "Name: title, dtype: object"
      ]
     },
     "execution_count": 131,
     "metadata": {},
     "output_type": "execute_result"
    }
   ],
   "source": [
    "get_recommendation('증기선 윌리') # 애니메이션"
   ]
  },
  {
   "cell_type": "code",
   "execution_count": 132,
   "metadata": {},
   "outputs": [
    {
     "data": {
      "text/plain": [
       "10141            삼국지: 명장 관우\n",
       "1433                신해석 삼국지\n",
       "246                   진삼국무쌍\n",
       "4187            삼국지: 황건적의 난\n",
       "11123            삼국지: 용의 부활\n",
       "9284              대명겁: 천하대전\n",
       "4440     로스트 바이킹: 전쟁의 신의 아들\n",
       "1520           삼국지 : 무신 조자룡\n",
       "191                       킨\n",
       "3148                   도술혈전\n",
       "Name: title, dtype: object"
      ]
     },
     "execution_count": 132,
     "metadata": {},
     "output_type": "execute_result"
    }
   ],
   "source": [
    "get_recommendation('삼국지 관운장: 청룡언월도') # keyword 관우"
   ]
  },
  {
   "cell_type": "code",
   "execution_count": 133,
   "metadata": {},
   "outputs": [
    {
     "data": {
      "text/plain": [
       "11952                          배트맨 비긴즈\n",
       "9235     레고 배트맨: 더 무비 - DC 수퍼히어로즈 유나이트\n",
       "9798                        다크 나이트 라이즈\n",
       "5756                         레고 배트맨 무비\n",
       "13325                          배트맨 포에버\n",
       "1072                    토네이도: 지구 재앙의 날\n",
       "409                             아웃브레이크\n",
       "6026                      감염: 지구 최후의 날\n",
       "8648                              닌자터틀\n",
       "6727                      배트맨: 더 킬링 조크\n",
       "Name: title, dtype: object"
      ]
     },
     "execution_count": 133,
     "metadata": {},
     "output_type": "execute_result"
    }
   ],
   "source": [
    "get_recommendation('다크 나이트')"
   ]
  },
  {
   "cell_type": "code",
   "execution_count": 134,
   "metadata": {},
   "outputs": [
    {
     "data": {
      "text/plain": [
       "12946          그린 마일\n",
       "8408              설계\n",
       "3533     해브 어 나이스 데이\n",
       "12452         언디스퓨티드\n",
       "11162          멋진 하루\n",
       "1023            프리즈너\n",
       "11431            미스트\n",
       "5522             빠삐용\n",
       "14216           사부출마\n",
       "14383      돈을 갖고 튀어라\n",
       "Name: title, dtype: object"
      ]
     },
     "execution_count": 134,
     "metadata": {},
     "output_type": "execute_result"
    }
   ],
   "source": [
    "get_recommendation('쇼생크 탈출')"
   ]
  },
  {
   "cell_type": "markdown",
   "metadata": {},
   "source": [
    "4. 결과 도출 및 저장"
   ]
  },
  {
   "cell_type": "code",
   "execution_count": null,
   "metadata": {},
   "outputs": [],
   "source": [
    "ab_list = df['title'][:]\n",
    "len(ab_list), # ab_list"
   ]
  },
  {
   "cell_type": "code",
   "execution_count": 153,
   "metadata": {},
   "outputs": [
    {
     "data": {
      "text/html": [
       "<div>\n",
       "<style scoped>\n",
       "    .dataframe tbody tr th:only-of-type {\n",
       "        vertical-align: middle;\n",
       "    }\n",
       "\n",
       "    .dataframe tbody tr th {\n",
       "        vertical-align: top;\n",
       "    }\n",
       "\n",
       "    .dataframe thead th {\n",
       "        text-align: right;\n",
       "    }\n",
       "</style>\n",
       "<table border=\"1\" class=\"dataframe\">\n",
       "  <thead>\n",
       "    <tr style=\"text-align: right;\">\n",
       "      <th></th>\n",
       "      <th>0</th>\n",
       "      <th>1</th>\n",
       "      <th>2</th>\n",
       "      <th>3</th>\n",
       "      <th>4</th>\n",
       "      <th>5</th>\n",
       "      <th>6</th>\n",
       "      <th>7</th>\n",
       "      <th>8</th>\n",
       "      <th>9</th>\n",
       "    </tr>\n",
       "  </thead>\n",
       "  <tbody>\n",
       "    <tr>\n",
       "      <th>효자</th>\n",
       "      <td>수상한 동거</td>\n",
       "      <td>괴물</td>\n",
       "      <td>손님</td>\n",
       "      <td>맨홀</td>\n",
       "      <td>내 생애 가장 아름다운 일주일</td>\n",
       "      <td>절대연필</td>\n",
       "      <td>바람아 안개를 걷어가다오</td>\n",
       "      <td>엄마의 레시피</td>\n",
       "      <td>Z 파이터스</td>\n",
       "      <td>지구를 지켜라!</td>\n",
       "    </tr>\n",
       "    <tr>\n",
       "      <th>황무지의 괴물</th>\n",
       "      <td>다른 길이 있다</td>\n",
       "      <td>쾌걸 조로</td>\n",
       "      <td>맨 인 더 다크 2</td>\n",
       "      <td>룸</td>\n",
       "      <td>네레우스: 바다의 괴물</td>\n",
       "      <td>하우스 오브 데몬</td>\n",
       "      <td>트롤 킹</td>\n",
       "      <td>사하라</td>\n",
       "      <td>셰터드</td>\n",
       "      <td>늑대의 아이들</td>\n",
       "    </tr>\n",
       "    <tr>\n",
       "      <th>홈 팀</th>\n",
       "      <td>휴비의 핼러윈</td>\n",
       "      <td>리디큘러스 6</td>\n",
       "      <td>쇼핑몰 캅 2</td>\n",
       "      <td>다 큰 녀석들</td>\n",
       "      <td>넌 실수였어</td>\n",
       "      <td>척 앤 래리</td>\n",
       "      <td>다 큰 녀석들 2</td>\n",
       "      <td>두 오버</td>\n",
       "      <td>2개의 심장</td>\n",
       "      <td>픽셀</td>\n",
       "    </tr>\n",
       "    <tr>\n",
       "      <th>해적: 도깨비 깃발</th>\n",
       "      <td>엘리아스 : 바다의 보물을 찾아라!</td>\n",
       "      <td>레오나르도 다 빈치</td>\n",
       "      <td>톰과 제리: 보물섬 대소동</td>\n",
       "      <td>꼬마잠수함 올리</td>\n",
       "      <td>탐정: 더 비기닝</td>\n",
       "      <td>군용탈보</td>\n",
       "      <td>캐리비안의 해적: 세상의 끝에서</td>\n",
       "      <td>페루 - 보물을 품은 그곳으로</td>\n",
       "      <td>소림사 2017: 7인의 고수</td>\n",
       "      <td>용문비갑</td>\n",
       "    </tr>\n",
       "    <tr>\n",
       "      <th>해리 포터 20주년: 리턴 투 호그와트</th>\n",
       "      <td>해리 포터와 불사조 기사단</td>\n",
       "      <td>해리 포터와 혼혈 왕자</td>\n",
       "      <td>해리 포터와 죽음의 성물 2</td>\n",
       "      <td>해리 포터와 아즈카반의 죄수</td>\n",
       "      <td>해리 포터와 비밀의 방</td>\n",
       "      <td>해리 포터와 불의 잔</td>\n",
       "      <td>해리 포터와 죽음의 성물 1</td>\n",
       "      <td>해리 포터와 마법사의 돌</td>\n",
       "      <td>신 테니스의 왕자 베스트 게임즈!! 복식경기 스페셜</td>\n",
       "      <td>신 테니스의 왕자- 베스트 게임즈!! 테즈카 vs 아토베</td>\n",
       "    </tr>\n",
       "    <tr>\n",
       "      <th>...</th>\n",
       "      <td>...</td>\n",
       "      <td>...</td>\n",
       "      <td>...</td>\n",
       "      <td>...</td>\n",
       "      <td>...</td>\n",
       "      <td>...</td>\n",
       "      <td>...</td>\n",
       "      <td>...</td>\n",
       "      <td>...</td>\n",
       "      <td>...</td>\n",
       "    </tr>\n",
       "    <tr>\n",
       "      <th>그랜드 호텔</th>\n",
       "      <td>미스터 마구</td>\n",
       "      <td>굿바이 마이 라이프</td>\n",
       "      <td>스미스씨 워싱톤에 가다</td>\n",
       "      <td>위대한 독재자</td>\n",
       "      <td>몬스터 호텔 3</td>\n",
       "      <td>밀리언 달러 호텔</td>\n",
       "      <td>그랜드 부다페스트 호텔</td>\n",
       "      <td>비욘드</td>\n",
       "      <td>트로트는 인생이다</td>\n",
       "      <td>아문센</td>\n",
       "    </tr>\n",
       "    <tr>\n",
       "      <th>Flowers and Trees</th>\n",
       "      <td>Fire in the Blood</td>\n",
       "      <td>Cobra Mafia</td>\n",
       "      <td>왕자가 된 소녀들</td>\n",
       "      <td>링링</td>\n",
       "      <td>물속의 도시</td>\n",
       "      <td>Lost in White</td>\n",
       "      <td>디지몬 세이버즈 더 무비 궁극파워! 버스트 모드 발동!!</td>\n",
       "      <td>Soul of Rock</td>\n",
       "      <td>Arena of the Street Fighter</td>\n",
       "      <td>The Tortoise and the Hare</td>\n",
       "    </tr>\n",
       "    <tr>\n",
       "      <th>스킨 게임</th>\n",
       "      <td>더 퍼지: 최초의 시작</td>\n",
       "      <td>듀플렉스</td>\n",
       "      <td>영 앤 이노센트</td>\n",
       "      <td>해리의 소동</td>\n",
       "      <td>허비: 돌아오다</td>\n",
       "      <td>39 계단</td>\n",
       "      <td>덤보</td>\n",
       "      <td>오 마이 파더!</td>\n",
       "      <td>더 디바이스</td>\n",
       "      <td>용재강호</td>\n",
       "    </tr>\n",
       "    <tr>\n",
       "      <th>리치 앤 스트레인지</th>\n",
       "      <td>럭키 원스</td>\n",
       "      <td>데스 룰렛</td>\n",
       "      <td>까시</td>\n",
       "      <td>리노의 도박사</td>\n",
       "      <td>크루즈 패밀리</td>\n",
       "      <td>비와 당신의 이야기</td>\n",
       "      <td>듀엣</td>\n",
       "      <td>저스트 프렌드</td>\n",
       "      <td>나의 연기 워크샵</td>\n",
       "      <td>서브웨이</td>\n",
       "    </tr>\n",
       "    <tr>\n",
       "      <th>증기선 윌리</th>\n",
       "      <td>터키</td>\n",
       "      <td>갓즈 포켓</td>\n",
       "      <td>외로운 유령들</td>\n",
       "      <td>신데렐라: 트랩 오브 허</td>\n",
       "      <td>사랑과 전쟁</td>\n",
       "      <td>부다페스트 로큰롤</td>\n",
       "      <td>미키의 크리스마스</td>\n",
       "      <td>추억의 검정고무신</td>\n",
       "      <td>윌리</td>\n",
       "      <td>플루토와 소시지</td>\n",
       "    </tr>\n",
       "  </tbody>\n",
       "</table>\n",
       "<p>14127 rows × 10 columns</p>\n",
       "</div>"
      ],
      "text/plain": [
       "                                         0             1                2  \\\n",
       "효자                                  수상한 동거            괴물               손님   \n",
       "황무지의 괴물                           다른 길이 있다         쾌걸 조로       맨 인 더 다크 2   \n",
       "홈 팀                                휴비의 핼러윈       리디큘러스 6          쇼핑몰 캅 2   \n",
       "해적: 도깨비 깃발             엘리아스 : 바다의 보물을 찾아라!    레오나르도 다 빈치   톰과 제리: 보물섬 대소동   \n",
       "해리 포터 20주년: 리턴 투 호그와트       해리 포터와 불사조 기사단  해리 포터와 혼혈 왕자  해리 포터와 죽음의 성물 2   \n",
       "...                                    ...           ...              ...   \n",
       "그랜드 호텔                              미스터 마구    굿바이 마이 라이프     스미스씨 워싱톤에 가다   \n",
       "Flowers and Trees        Fire in the Blood   Cobra Mafia        왕자가 된 소녀들   \n",
       "스킨 게임                         더 퍼지: 최초의 시작          듀플렉스         영 앤 이노센트   \n",
       "리치 앤 스트레인지                           럭키 원스         데스 룰렛               까시   \n",
       "증기선 윌리                                  터키         갓즈 포켓          외로운 유령들   \n",
       "\n",
       "                                     3                 4              5  \\\n",
       "효자                                  맨홀  내 생애 가장 아름다운 일주일           절대연필   \n",
       "황무지의 괴물                              룸      네레우스: 바다의 괴물      하우스 오브 데몬   \n",
       "홈 팀                            다 큰 녀석들            넌 실수였어         척 앤 래리   \n",
       "해적: 도깨비 깃발                    꼬마잠수함 올리         탐정: 더 비기닝           군용탈보   \n",
       "해리 포터 20주년: 리턴 투 호그와트  해리 포터와 아즈카반의 죄수      해리 포터와 비밀의 방    해리 포터와 불의 잔   \n",
       "...                                ...               ...            ...   \n",
       "그랜드 호텔                         위대한 독재자          몬스터 호텔 3      밀리언 달러 호텔   \n",
       "Flowers and Trees                   링링            물속의 도시  Lost in White   \n",
       "스킨 게임                           해리의 소동          허비: 돌아오다          39 계단   \n",
       "리치 앤 스트레인지                     리노의 도박사           크루즈 패밀리     비와 당신의 이야기   \n",
       "증기선 윌리                   신데렐라: 트랩 오브 허            사랑과 전쟁      부다페스트 로큰롤   \n",
       "\n",
       "                                                     6                 7  \\\n",
       "효자                                       바람아 안개를 걷어가다오           엄마의 레시피   \n",
       "황무지의 괴물                                           트롤 킹               사하라   \n",
       "홈 팀                                          다 큰 녀석들 2              두 오버   \n",
       "해적: 도깨비 깃발                           캐리비안의 해적: 세상의 끝에서  페루 - 보물을 품은 그곳으로   \n",
       "해리 포터 20주년: 리턴 투 호그와트                  해리 포터와 죽음의 성물 1     해리 포터와 마법사의 돌   \n",
       "...                                                ...               ...   \n",
       "그랜드 호텔                                    그랜드 부다페스트 호텔               비욘드   \n",
       "Flowers and Trees      디지몬 세이버즈 더 무비 궁극파워! 버스트 모드 발동!!      Soul of Rock   \n",
       "스킨 게임                                               덤보          오 마이 파더!   \n",
       "리치 앤 스트레인지                                          듀엣           저스트 프렌드   \n",
       "증기선 윌리                                       미키의 크리스마스         추억의 검정고무신   \n",
       "\n",
       "                                                  8  \\\n",
       "효자                                           Z 파이터스   \n",
       "황무지의 괴물                                         셰터드   \n",
       "홈 팀                                          2개의 심장   \n",
       "해적: 도깨비 깃발                         소림사 2017: 7인의 고수   \n",
       "해리 포터 20주년: 리턴 투 호그와트  신 테니스의 왕자 베스트 게임즈!! 복식경기 스페셜   \n",
       "...                                             ...   \n",
       "그랜드 호텔                                    트로트는 인생이다   \n",
       "Flowers and Trees       Arena of the Street Fighter   \n",
       "스킨 게임                                        더 디바이스   \n",
       "리치 앤 스트레인지                                나의 연기 워크샵   \n",
       "증기선 윌리                                           윌리   \n",
       "\n",
       "                                                     9  \n",
       "효자                                            지구를 지켜라!  \n",
       "황무지의 괴물                                        늑대의 아이들  \n",
       "홈 팀                                                 픽셀  \n",
       "해적: 도깨비 깃발                                        용문비갑  \n",
       "해리 포터 20주년: 리턴 투 호그와트  신 테니스의 왕자- 베스트 게임즈!! 테즈카 vs 아토베  \n",
       "...                                                ...  \n",
       "그랜드 호텔                                             아문센  \n",
       "Flowers and Trees            The Tortoise and the Hare  \n",
       "스킨 게임                                             용재강호  \n",
       "리치 앤 스트레인지                                        서브웨이  \n",
       "증기선 윌리                                        플루토와 소시지  \n",
       "\n",
       "[14127 rows x 10 columns]"
      ]
     },
     "execution_count": 153,
     "metadata": {},
     "output_type": "execute_result"
    }
   ],
   "source": [
    "df_result = pd.DataFrame()    \n",
    "for i in ab_list:\n",
    "    try : \n",
    "        s = pd.DataFrame(get_recommendation(i))\n",
    "        s.columns = [i]   # 컬럼네임 title => 영화제목으로 변경\n",
    "        # s.rename(columns={'title':i})\n",
    "        s.reset_index(drop=True, inplace=True) # 인덱스, 컨캣 시 에러를 띄우는 인덱스 정렬용.\n",
    "        df_result = pd.concat([df_result, s], axis=1)  # 열 방향으로 컨캣\n",
    "    except:\n",
    "        # print(i)  # 키 중복으로 겟 레커멘드가. 영화를 특정하지 못함. 인덱스 반환으로 제목 확인. 중복된 제목임.\n",
    "        pass\n",
    "df_result.T"
   ]
  },
  {
   "cell_type": "code",
   "execution_count": 168,
   "metadata": {},
   "outputs": [],
   "source": [
    "df_result.T.to_csv('result_model_0404.csv', index=True, encoding='utf-8-sig')"
   ]
  },
  {
   "cell_type": "markdown",
   "metadata": {},
   "source": [
    "#### comment :\n",
    "    - n gram 방식을 취하면 상대적으로 감독 - 출연배우 / 배우 - 배우 조합에 따른 결과가 유사성이 높아질 수 있다. "
   ]
  },
  {
   "cell_type": "code",
   "execution_count": 151,
   "metadata": {},
   "outputs": [
    {
     "name": "stdout",
     "output_type": "stream",
     "text": [
      "[12096, 13544]\n"
     ]
    },
    {
     "data": {
      "text/plain": [
       "[6202]"
      ]
     },
     "execution_count": 151,
     "metadata": {},
     "output_type": "execute_result"
    }
   ],
   "source": [
    "# 추가 사용 가능 함수들 정리\n",
    "\n",
    "def get_index(title, df=df):\n",
    "    index = df.index[(df['title'] == title)].to_list()\n",
    "    return index \n",
    "\n",
    "def get_title(index, df=df):\n",
    "    title = df['title'][(df.index == index)], df['synopsis'][index]\n",
    "    return title\n",
    "\n",
    "# 중복검출기 영화이름을 치면. 인덱스 반환\n",
    "# print(df.index[(df['title'] == '연인')].to_list())\n",
    "\n",
    "# get_index('부산행')\n",
    "get_index('핵소 고지')"
   ]
  },
  {
   "cell_type": "code",
   "execution_count": 149,
   "metadata": {},
   "outputs": [
    {
     "data": {
      "text/plain": [
       "[6202]"
      ]
     },
     "execution_count": 149,
     "metadata": {},
     "output_type": "execute_result"
    }
   ],
   "source": [
    "get_index('핵소 고지')"
   ]
  },
  {
   "cell_type": "code",
   "execution_count": 150,
   "metadata": {},
   "outputs": [
    {
     "data": {
      "text/plain": [
       "(6202    핵소 고지\n",
       " Name: title, dtype: object,\n",
       " '비폭력주의자인 도스는 전쟁으로부터 조국과 소중한 사람들을 지키기 위해 총을 들지 않아도 되는 의무병으로 육군에 자진 입대한다. 총을 들 수 없다는 이유로 필수 훈련 중 하나인 총기 훈련 마저 거부한 도스는 동료 병사들과 군 전체의 비난과 조롱을 받게 된다. 결국 군사재판까지 받게 되지만 끝까지 자신의 신념을 굽히지 않은 도스에게 군 상부는 오키나와 전투에 총기 없이 의무병으로 참전할 것을 허락하는데…')"
      ]
     },
     "execution_count": 150,
     "metadata": {},
     "output_type": "execute_result"
    }
   ],
   "source": [
    "def get_title(index, df=df):\n",
    "    title = df['title'][(df.index == index)], df['synopsis'][index]\n",
    "    return title\n",
    "\n",
    "get_title(6202)"
   ]
  }
 ],
 "metadata": {
  "interpreter": {
   "hash": "e08354e700eb3ddbac8177cd6172bbfd21b8370c2ad096419acef00e0fcc09a0"
  },
  "kernelspec": {
   "display_name": "Python 3.8.8 ('vv')",
   "language": "python",
   "name": "python3"
  },
  "language_info": {
   "codemirror_mode": {
    "name": "ipython",
    "version": 3
   },
   "file_extension": ".py",
   "mimetype": "text/x-python",
   "name": "python",
   "nbconvert_exporter": "python",
   "pygments_lexer": "ipython3",
   "version": "3.8.8"
  },
  "orig_nbformat": 4
 },
 "nbformat": 4,
 "nbformat_minor": 2
}
