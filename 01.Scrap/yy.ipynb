{
 "cells": [
  {
   "cell_type": "code",
   "execution_count": null,
   "metadata": {},
   "outputs": [],
   "source": [
    "# $ pip install webdriver-manager\n",
    "# ! pip install webdriver-manager"
   ]
  },
  {
   "cell_type": "code",
   "execution_count": 125,
   "metadata": {},
   "outputs": [],
   "source": [
    "# 현재버전 크롬 사용하는 설정 잡시 봉인.\n",
    "# from selenium import webdriver\n",
    "# from selenium.webdriver.chrome.service import Service\n",
    "# from webdriver_manager.chrome import ChromeDriverManager\n",
    "\n",
    "\n",
    "# def set_chrome_driver():\n",
    "#     chrome_options = webdriver.ChromeOptions()\n",
    "#     driver = webdriver.Chrome(service=Service(ChromeDriverManager().install()), options=chrome_options)\n",
    "#     driver.maximize_window()\n",
    "#     return driver"
   ]
  },
  {
   "cell_type": "code",
   "execution_count": 134,
   "metadata": {},
   "outputs": [
    {
     "name": "stderr",
     "output_type": "stream",
     "text": [
      "\n",
      "\n",
      "====== WebDriver manager ======\n",
      "Current google-chrome version is 101.0.4951\n",
      "Get LATEST chromedriver version for 101.0.4951 google-chrome\n",
      "Driver [C:\\Users\\jlune\\.wdm\\drivers\\chromedriver\\win32\\101.0.4951.41\\chromedriver.exe] found in cache\n"
     ]
    }
   ],
   "source": [
    "from selenium import webdriver\n",
    "from selenium.webdriver.common.by import By\n",
    "from selenium.webdriver.common.keys import Keys\n",
    "import time\n",
    "\n",
    "# 현재 OS에 깔린 버전으로 크롬을 사용키 위한 설정.\n",
    "from selenium.webdriver.chrome.service import Service\n",
    "from webdriver_manager.chrome import ChromeDriverManager\n",
    "chrome_options = webdriver.ChromeOptions()\n",
    "\n",
    "driver = webdriver.Chrome(service=Service(ChromeDriverManager().install()), options=chrome_options)\n",
    "driver.maximize_window()"
   ]
  },
  {
   "cell_type": "code",
   "execution_count": 136,
   "metadata": {},
   "outputs": [],
   "source": [
    "keyword = \"나이키\""
   ]
  },
  {
   "cell_type": "code",
   "execution_count": 137,
   "metadata": {},
   "outputs": [],
   "source": [
    "def crawl_joongo(keyword):\n",
    "    url = f\"https://m.joongna.com/search-list/product?searchword={keyword}\"\n",
    "    driver.get(url)\n",
    "    driver.implicitly_wait(10)\n",
    "    \n",
    "    for _ in range(9):\n",
    "        driver.find_element(By.CSS_SELECTOR, \"button.SearchList_moreButton__11RNU\").click()\n",
    "        time.sleep(0.5)\n",
    "    \n",
    "    title_elements = driver.find_elements(By.CSS_SELECTOR,\"span.ProductItemV2_title__1KDby\")\n",
    "    price_elements = driver.find_elements(By.CSS_SELECTOR,\"p.ProductItemV2_price__1a5yb.mt3\")\n",
    "    # url_elements = driver.find_elements(By.CSS_SELECTOR,\"a.ProductItemV2_itemImage__3fgX3 radius2\")\n",
    "    url_elements = driver.find_elements(By.CSS_SELECTOR, \"div.ProductItemV2_productItem__3uTGe > a\")\n",
    "\n",
    "    titles = [element.text for element in title_elements]\n",
    "    prices = [element.text for element in price_elements]\n",
    "    # product_url = [element.text for element in url_elements]\n",
    "    product_url = [element.get_attribute('href') for element in url_elements]\n",
    "    \n",
    "    return titles, prices, product_url "
   ]
  },
  {
   "cell_type": "code",
   "execution_count": 138,
   "metadata": {},
   "outputs": [],
   "source": [
    "result = crawl_joongo(\"나이키\")"
   ]
  },
  {
   "cell_type": "code",
   "execution_count": null,
   "metadata": {},
   "outputs": [],
   "source": [
    "print(result)"
   ]
  },
  {
   "cell_type": "code",
   "execution_count": null,
   "metadata": {},
   "outputs": [],
   "source": [
    "<span class=\"ProductDetailComponent_parcelFeeYn__11Yg4\">배송비 포함</span>"
   ]
  },
  {
   "cell_type": "code",
   "execution_count": null,
   "metadata": {},
   "outputs": [],
   "source": [
    "#root > div.page.pd_b52.pd_t56 > div:nth-child(2) > div:nth-child(2) > div > div > div > span"
   ]
  },
  {
   "cell_type": "code",
   "execution_count": 163,
   "metadata": {},
   "outputs": [
    {
     "data": {
      "text/plain": [
       "''"
      ]
     },
     "execution_count": 163,
     "metadata": {},
     "output_type": "execute_result"
    }
   ],
   "source": [
    "driver.find_element(By.CSS_SELECTOR, \"span.ProductDetailComponent_parcelFeeYn__11Yg4\").text"
   ]
  },
  {
   "cell_type": "code",
   "execution_count": 144,
   "metadata": {},
   "outputs": [
    {
     "data": {
      "text/plain": [
       "[<selenium.webdriver.remote.webelement.WebElement (session=\"a2fcd396f34520f214706cd1a431de98\", element=\"42bd61cb-9156-4cb4-9a00-dc1817a01ee1\")>,\n",
       " <selenium.webdriver.remote.webelement.WebElement (session=\"a2fcd396f34520f214706cd1a431de98\", element=\"4deece45-9b24-4f3a-b9be-485cf7899a4e\")>]"
      ]
     },
     "execution_count": 144,
     "metadata": {},
     "output_type": "execute_result"
    }
   ],
   "source": [
    "driver.find_elements(By.CSS_SELECTOR, \"p.ProductDetailComponent_tag__1sc7f\")"
   ]
  },
  {
   "cell_type": "code",
   "execution_count": 149,
   "metadata": {},
   "outputs": [
    {
     "data": {
      "text/plain": [
       "['', '배송비 포함']"
      ]
     },
     "execution_count": 149,
     "metadata": {},
     "output_type": "execute_result"
    }
   ],
   "source": [
    "[element.text for element in delivery_detail_elements]"
   ]
  },
  {
   "cell_type": "code",
   "execution_count": null,
   "metadata": {},
   "outputs": [],
   "source": []
  },
  {
   "cell_type": "code",
   "execution_count": 164,
   "metadata": {},
   "outputs": [],
   "source": [
    "def crawl_joongo_detail(product_link):\n",
    "    url= product_link\n",
    "    driver.get(url)\n",
    "    driver.implicitly_wait(10)\n",
    "    \n",
    "    views_element = driver.find_element(By.CSS_SELECTOR,\"span.c_orange\")\n",
    "    delivery_element = driver.find_elements(By.CSS_SELECTOR,\"span.ProductDetailComponent_parcelFeeYn__11Yg4\")[-1]\n",
    "    seller_level_element = driver.find_element(By.CSS_SELECTOR,\"span.Store_levelName__3p6UM\")\n",
    "    wish_element = driver.find_element(By.XPATH,'//*[@id=\"root\"]/div[1]/div[2]/div[3]/div[2]/div/p')\n",
    "    delivery_detail_elements = driver.find_elements(By.CSS_SELECTOR, \"p.ProductDetailComponent_tag__1sc7f\")\n",
    "\n",
    "    views = views_element.text\n",
    "    delivery = delivery_element.text\n",
    "    seller_lever = seller_level_element.text\n",
    "    wish = wish_element.text\n",
    "    delivery_detail = [element.text for element in delivery_detail_elements]\n",
    "    \n",
    "    return views, delivery, seller_lever, wish, delivery_detail"
   ]
  },
  {
   "cell_type": "code",
   "execution_count": 165,
   "metadata": {},
   "outputs": [
    {
     "data": {
      "text/plain": [
       "('11', '배송비 포함', '실버 Lv.3', '찜 0', ['직거래', '택배거래'])"
      ]
     },
     "execution_count": 165,
     "metadata": {},
     "output_type": "execute_result"
    }
   ],
   "source": [
    "crawl_joongo_detail(\"https://m.joongna.com/product-detail/45119410?transactionId=1653219189276_485870907575566630&abTestType=null&productPositionNo=7\")"
   ]
  },
  {
   "cell_type": "code",
   "execution_count": null,
   "metadata": {},
   "outputs": [],
   "source": []
  }
 ],
 "metadata": {
  "interpreter": {
   "hash": "28e38b1f1bc98bed4fd3cff808fdfc28798b76629b1b76a56f272136b93fdde1"
  },
  "kernelspec": {
   "display_name": "Python 3.8.8 ('vv')",
   "language": "python",
   "name": "python3"
  },
  "language_info": {
   "codemirror_mode": {
    "name": "ipython",
    "version": 3
   },
   "file_extension": ".py",
   "mimetype": "text/x-python",
   "name": "python",
   "nbconvert_exporter": "python",
   "pygments_lexer": "ipython3",
   "version": "3.8.8"
  },
  "orig_nbformat": 4
 },
 "nbformat": 4,
 "nbformat_minor": 2
}
