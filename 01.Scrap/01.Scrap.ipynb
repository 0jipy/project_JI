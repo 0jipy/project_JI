{
 "cells": [
  {
   "cell_type": "code",
   "execution_count": 2,
   "metadata": {},
   "outputs": [],
   "source": [
    "import urllib.request\n",
    "import urllib.parse\n",
    "\n",
    "import scrapy\n",
    "import requests\n",
    "from scrapy.http import TextResponse"
   ]
  },
  {
   "cell_type": "markdown",
   "metadata": {},
   "source": [
    "headers = {\"User-Agent\": 'Mozilla/5.0 (Windows NT 10.0; Win64; x64) AppleWebKit/537.36 (KHTML, like Gecko) Chrome/99.0.4844.51 Safari/537.36'}\n"
   ]
  },
  {
   "cell_type": "code",
   "execution_count": 1,
   "metadata": {},
   "outputs": [],
   "source": [
    "# !scrapy startproject justwatch\n",
    "# !rm -rf justwatch"
   ]
  },
  {
   "cell_type": "code",
   "execution_count": 6,
   "metadata": {},
   "outputs": [
    {
     "name": "stdout",
     "output_type": "stream",
     "text": [
      "Overwriting justwatch/justwatch/selenium_test.py\n"
     ]
    }
   ],
   "source": [
    "%%writefile justwatch/justwatch/selenium_test.py\n",
    "\n",
    "\n",
    "from selenium import webdriver\n",
    "from selenium.webdriver.chrome.options import Options\n",
    "\n",
    "CHROMEDRIVER_PATH = '0.Scrap\\justwatch\\justwatch\\drivers\\chromedriver.exe'\n",
    "WINDOW_SIZE = \"1920,1080\"\n",
    " \n",
    "chrome_options = Options()\n",
    "# chrome_options.add_argument( \"--headless\" )     # 크롬창이 열리지 않음\n",
    "# chrome_options.add_argument( \"--no-sandbox\" )   # GUI를 사용할 수 없는 환경에서 설정, linux, docker 등\n",
    "# chrome_options.add_argument( \"--disable-gpu\" )  # GUI를 사용할 수 없는 환경에서 설정, linux, docker 등\n",
    "# chrome_options.add_argument(f\"--window-size={ WINDOW_SIZE }\")  # 브라우저가 설정한 창크기로 실행됩니다.\n",
    "chrome_options.add_argument('--start-maximized')  # 브라우저가 최대화된 상태로 실행됩니다.\n",
    "chrome_options.add_argument('Content-Type=application/json; charset=utf-8')\n",
    " \n",
    "driver = webdriver.Chrome( executable_path=CHROMEDRIVER_PATH, chrome_options=chrome_options )\n",
    "driver.get( 'https://news.naver.com' )"
   ]
  },
  {
   "cell_type": "markdown",
   "metadata": {},
   "source": [
    "### 본파일 작성. py에 직접 잘성함. 코드 다 돌리지 말것."
   ]
  },
  {
   "cell_type": "code",
   "execution_count": 61,
   "metadata": {},
   "outputs": [
    {
     "data": {
      "text/plain": [
       "<200 https://www.justwatch.com/kr/%EB%8F%99%EC%98%81%EC%83%81%EC%84%9C%EB%B9%84%EC%8A%A4/netflix?content_type=movie&release_year_from=2022>"
      ]
     },
     "execution_count": 61,
     "metadata": {},
     "output_type": "execute_result"
    }
   ],
   "source": [
    "# from fake_useragent import UserAgent\n",
    "\n",
    "# url = 'https://www.justwatch.com/kr/%EB%8F%99%EC%98%81%EC%83%81%EC%84%9C%EB%B9%84%EC%8A%A4/netflix?content_type=movie&release_year_from=2022'\n",
    "# headers = {\"User-Agent\": 'Mozilla/5.0 (Windows NT 10.0; Win64; x64) AppleWebKit/537.36 (KHTML, like Gecko) Chrome/99.0.4844.51 Safari/537.36'}\n",
    "# req = requests.get(url, headers=headers)\n",
    "# respon = TextResponse(req.url, body=req.text, encoding=\"utf-8\") \n",
    "# respon"
   ]
  },
  {
   "cell_type": "code",
   "execution_count": 71,
   "metadata": {},
   "outputs": [
    {
     "data": {
      "text/plain": [
       "<200 https://www.justwatch.com/kr/%EC%98%81%ED%99%94/the-adam-project>"
      ]
     },
     "execution_count": 71,
     "metadata": {},
     "output_type": "execute_result"
    }
   ],
   "source": [
    "url = 'https://www.justwatch.com/kr/%EC%98%81%ED%99%94/the-adam-project'\n",
    "headers = {\"User-Agent\": 'Mozilla/5.0 (Windows NT 10.0; Win64; x64) AppleWebKit/537.36 (KHTML, like Gecko) Chrome/99.0.4844.51 Safari/537.36'}\n",
    "req = requests.get(url, headers=headers)\n",
    "response = TextResponse(req.url, body=req.text, encoding=\"utf-8\") \n",
    "response\n"
   ]
  },
  {
   "cell_type": "code",
   "execution_count": null,
   "metadata": {},
   "outputs": [],
   "source": [
    "response.css('picture').extract()"
   ]
  },
  {
   "cell_type": "code",
   "execution_count": 130,
   "metadata": {},
   "outputs": [
    {
     "data": {
      "text/plain": [
       "[]"
      ]
     },
     "execution_count": 130,
     "metadata": {},
     "output_type": "execute_result"
    }
   ],
   "source": [
    "response.css('source[srcset=\"*\"]').extract()"
   ]
  },
  {
   "cell_type": "code",
   "execution_count": 122,
   "metadata": {},
   "outputs": [
    {
     "name": "stdout",
     "output_type": "stream",
     "text": [
      "[]\n"
     ]
    }
   ],
   "source": [
    "a = response.css(\".title-poster title-poster--no-radius-bottom\").extract()\n",
    "print(a)"
   ]
  },
  {
   "cell_type": "code",
   "execution_count": 177,
   "metadata": {},
   "outputs": [
    {
     "data": {
      "text/plain": [
       "['<source type=\"image/jpeg\" media=\"(min-width: 992px)\" srcset=\"https://www.justwatch.com/images/backdrop/267617674/s1440/the-adam-project, https://www.justwatch.com/images/backdrop/267617674/s1920/the-adam-project 2x\" data-v-707e3238><img alt=\"애덤 프로젝트\" src=\"https://www.justwatch.com/images/backdrop/267617674/s1440/the-adam-project\" loading=\"eager\" class=\"picture-comp__img\" data-v-707e3238></source>']"
      ]
     },
     "execution_count": 177,
     "metadata": {},
     "output_type": "execute_result"
    }
   ],
   "source": [
    "response.css('source > source > source > source > source > source  ').extract()"
   ]
  },
  {
   "cell_type": "code",
   "execution_count": 288,
   "metadata": {},
   "outputs": [],
   "source": [
    "a = response.css('picture > source[srcset]').extract()"
   ]
  },
  {
   "cell_type": "code",
   "execution_count": 260,
   "metadata": {},
   "outputs": [
    {
     "data": {
      "text/plain": [
       "'<source type=\"image/webp\" media=\"(min-width: 0px)\" srcset=\"appassets/img/logo/JustWatch-logo-large.webp\"><img src=\"appassets/img/logo/JustWatch-logo-large.png\" alt=\"JustWatch\"></source>'"
      ]
     },
     "execution_count": 260,
     "metadata": {},
     "output_type": "execute_result"
    }
   ],
   "source": [
    "a[0]"
   ]
  },
  {
   "cell_type": "code",
   "execution_count": 261,
   "metadata": {},
   "outputs": [
    {
     "data": {
      "text/plain": [
       "'<source type=\"image/webp\" media=\"(max-width: 479px)\" srcset=\"https://www.justwatch.com/images/backdrop/267617674/s480/the-adam-project.webp, https://www.justwatch.com/images/backdrop/267617674/s640/the-adam-project.webp 2x\" data-v-707e3238><source type=\"image/jpeg\" media=\"(max-width: 479px)\" srcset=\"https://www.justwatch.com/images/backdrop/267617674/s480/the-adam-project, https://www.justwatch.com/images/backdrop/267617674/s640/the-adam-project 2x\" data-v-707e3238><source type=\"image/webp\" media=\"(max-width: 991px)\" srcset=\"https://www.justwatch.com/images/backdrop/267617674/s640/the-adam-project.webp, https://www.justwatch.com/images/backdrop/267617674/s1440/the-adam-project.webp 2x\" data-v-707e3238><source type=\"image/jpeg\" media=\"(max-width: 991px)\" srcset=\"https://www.justwatch.com/images/backdrop/267617674/s640/the-adam-project, https://www.justwatch.com/images/backdrop/267617674/s1440/the-adam-project 2x\" data-v-707e3238><source type=\"image/webp\" media=\"(min-width: 992px)\" srcset=\"https://www.justwatch.com/images/backdrop/267617674/s1440/the-adam-project.webp, https://www.justwatch.com/images/backdrop/267617674/s1920/the-adam-project.webp 2x\" data-v-707e3238><source type=\"image/jpeg\" media=\"(min-width: 992px)\" srcset=\"https://www.justwatch.com/images/backdrop/267617674/s1440/the-adam-project, https://www.justwatch.com/images/backdrop/267617674/s1920/the-adam-project 2x\" data-v-707e3238><img alt=\"애덤 프로젝트\" src=\"https://www.justwatch.com/images/backdrop/267617674/s1440/the-adam-project\" loading=\"eager\" class=\"picture-comp__img\" data-v-707e3238></source></source></source></source></source></source>'"
      ]
     },
     "execution_count": 261,
     "metadata": {},
     "output_type": "execute_result"
    }
   ],
   "source": [
    "a[1]"
   ]
  },
  {
   "cell_type": "code",
   "execution_count": 262,
   "metadata": {},
   "outputs": [
    {
     "data": {
      "text/plain": [
       "'<source type=\"image/webp\" media=\"(min-width: 0px)\" srcset=\"https://www.justwatch.com/images/icon/207360008/s100/icon.webp\" data-srcset=\"\"><img alt=\"Netflix\" title=\"Netflix\" src=\"https://www.justwatch.com/images/icon/207360008/s100\" class=\"  price-comparison__grid__row__icon\"></source>'"
      ]
     },
     "execution_count": 262,
     "metadata": {},
     "output_type": "execute_result"
    }
   ],
   "source": [
    "a[2]"
   ]
  },
  {
   "cell_type": "code",
   "execution_count": 213,
   "metadata": {},
   "outputs": [
    {
     "data": {
      "text/plain": [
       "3"
      ]
     },
     "execution_count": 213,
     "metadata": {},
     "output_type": "execute_result"
    }
   ],
   "source": [
    "len(a)"
   ]
  },
  {
   "cell_type": "code",
   "execution_count": 13,
   "metadata": {},
   "outputs": [
    {
     "data": {
      "text/plain": [
       "[]"
      ]
     },
     "execution_count": 13,
     "metadata": {},
     "output_type": "execute_result"
    }
   ],
   "source": [
    "response.xpath('//*[@id=\"base\"]/div[2]/div/div[1]/div/aside/div[1]/div[1]/picture')"
   ]
  },
  {
   "cell_type": "code",
   "execution_count": null,
   "metadata": {},
   "outputs": [],
   "source": [
    "response.css(\"#base\").extract()\n"
   ]
  },
  {
   "cell_type": "code",
   "execution_count": null,
   "metadata": {},
   "outputs": [],
   "source": [
    "response.css('#base > div.jw-info-box > div > div.jw-info-box__container-sidebar > div > aside > div.hidden-sm.visible-md.visible-lg.title-sidebar__desktop > div.title-poster.title-poster--no-radius-bottom > picture')"
   ]
  },
  {
   "cell_type": "code",
   "execution_count": null,
   "metadata": {},
   "outputs": [],
   "source": [
    "response.body"
   ]
  },
  {
   "cell_type": "code",
   "execution_count": 66,
   "metadata": {},
   "outputs": [
    {
     "data": {
      "text/plain": [
       "(40,\n",
       " ['https://www.justwatch.com/kr/영화/das-privileg-die-auserwahlten',\n",
       "  'https://www.justwatch.com/kr/영화/restless-2022',\n",
       "  'https://www.justwatch.com/kr/영화/neoneun-nayi-ufo',\n",
       "  'https://www.justwatch.com/kr/영화/eoleobeorin-sigan-sogeseo',\n",
       "  'https://www.justwatch.com/kr/영화/tegsaseu-jeongitob-hagsal-2022',\n",
       "  'https://www.justwatch.com/kr/영화/behind-the-scenes-with-jane-campion',\n",
       "  'https://www.justwatch.com/kr/영화/moreolsenseu',\n",
       "  'https://www.justwatch.com/kr/영화/ai-love-you',\n",
       "  'https://www.justwatch.com/kr/영화/the-weekend-away',\n",
       "  'https://www.justwatch.com/kr/영화/tyler-perrys-a-madea-homecoming',\n",
       "  'https://www.justwatch.com/kr/영화/bigbeogeu',\n",
       "  'https://www.justwatch.com/kr/영화/boiji-anhneun-ggeun',\n",
       "  'https://www.justwatch.com/kr/영화/fistful-of-vengeance',\n",
       "  'https://www.justwatch.com/kr/영화/downfall-the-case-against-boeing',\n",
       "  'https://www.justwatch.com/kr/영화/haejeog-doggaebi-gisbal',\n",
       "  'https://www.justwatch.com/kr/영화/heart-shot',\n",
       "  'https://www.justwatch.com/kr/영화/the-adam-project',\n",
       "  'https://www.justwatch.com/kr/영화/forgive-us-our-trespasses',\n",
       "  'https://www.justwatch.com/kr/영화/munich-the-edge-of-war',\n",
       "  'https://www.justwatch.com/kr/영화/tol-geol-2',\n",
       "  'https://www.justwatch.com/kr/영화/ali-wong-don-wong',\n",
       "  'https://www.justwatch.com/kr/영화/whindersson-nunes-e-de-mim-mesmo',\n",
       "  'https://www.justwatch.com/kr/영화/intu-deo-windeu',\n",
       "  'https://www.justwatch.com/kr/영화/cat-burglar',\n",
       "  'https://www.justwatch.com/kr/영화/seuru-mai-windo',\n",
       "  'https://www.justwatch.com/kr/영화/surviving-paradise-a-family-tale',\n",
       "  'https://www.justwatch.com/kr/영화/erax',\n",
       "  'https://www.justwatch.com/kr/영화/mo-gilligan-theres-mo-to-life',\n",
       "  'https://www.justwatch.com/kr/영화/the-tinder-swindler',\n",
       "  'https://www.justwatch.com/kr/영화/looop-lapeta',\n",
       "  'https://www.justwatch.com/kr/영화/the-house-2022',\n",
       "  'https://www.justwatch.com/kr/영화/brazen',\n",
       "  'https://www.justwatch.com/kr/영화/home-team',\n",
       "  'https://www.justwatch.com/kr/영화/hwangmujiyi-goemul',\n",
       "  'https://www.justwatch.com/kr/영화/my-fathers-violin',\n",
       "  'https://www.justwatch.com/kr/영화/ask-taktikleri',\n",
       "  'https://www.justwatch.com/kr/영화/perfect-strangers',\n",
       "  'https://www.justwatch.com/kr/영화/four-to-dinner',\n",
       "  'https://www.justwatch.com/kr/영화/how-i-fell-in-love-with-a-gangster',\n",
       "  'https://www.justwatch.com/kr/영화/royeol-teuriteumeonteu'])"
      ]
     },
     "execution_count": 66,
     "metadata": {},
     "output_type": "execute_result"
    }
   ],
   "source": [
    "links = response.xpath('//*[@id=\"base\"]/div[3]/div/div[2]/div[1]/div/div/a/@href').extract()\n",
    "links = list(map(response.urljoin, links))\n",
    "len(links), links"
   ]
  },
  {
   "cell_type": "code",
   "execution_count": 1,
   "metadata": {},
   "outputs": [
    {
     "ename": "NameError",
     "evalue": "name 'requests' is not defined",
     "output_type": "error",
     "traceback": [
      "\u001b[1;31m---------------------------------------------------------------------------\u001b[0m",
      "\u001b[1;31mNameError\u001b[0m                                 Traceback (most recent call last)",
      "\u001b[1;32mc:\\Users\\jlune\\carbon\\project_JI\\0.Scrap\\01.Scrap.ipynb Cell 10'\u001b[0m in \u001b[0;36m<cell line: 3>\u001b[1;34m()\u001b[0m\n\u001b[0;32m      <a href='vscode-notebook-cell:/c%3A/Users/jlune/carbon/project_JI/0.Scrap/01.Scrap.ipynb#ch0000009?line=0'>1</a>\u001b[0m url \u001b[39m=\u001b[39m \u001b[39m'\u001b[39m\u001b[39mhttps://www.justwatch.com/kr/영화/das-privileg-die-auserwahlten\u001b[39m\u001b[39m'\u001b[39m\n\u001b[0;32m      <a href='vscode-notebook-cell:/c%3A/Users/jlune/carbon/project_JI/0.Scrap/01.Scrap.ipynb#ch0000009?line=1'>2</a>\u001b[0m headers \u001b[39m=\u001b[39m {\u001b[39m\"\u001b[39m\u001b[39mUser-Agent\u001b[39m\u001b[39m\"\u001b[39m: \u001b[39m'\u001b[39m\u001b[39mMozilla/5.0 (Windows NT 10.0; Win64; x64) AppleWebKit/537.36 (KHTML, like Gecko) Chrome/99.0.4844.51 Safari/537.36\u001b[39m\u001b[39m'\u001b[39m}\n\u001b[1;32m----> <a href='vscode-notebook-cell:/c%3A/Users/jlune/carbon/project_JI/0.Scrap/01.Scrap.ipynb#ch0000009?line=2'>3</a>\u001b[0m req \u001b[39m=\u001b[39m requests\u001b[39m.\u001b[39mget(url, headers\u001b[39m=\u001b[39mheaders)\n\u001b[0;32m      <a href='vscode-notebook-cell:/c%3A/Users/jlune/carbon/project_JI/0.Scrap/01.Scrap.ipynb#ch0000009?line=3'>4</a>\u001b[0m response \u001b[39m=\u001b[39m TextResponse(req\u001b[39m.\u001b[39murl, body\u001b[39m=\u001b[39mreq\u001b[39m.\u001b[39mtext, encoding\u001b[39m=\u001b[39m\u001b[39m\"\u001b[39m\u001b[39mutf-8\u001b[39m\u001b[39m\"\u001b[39m) \n\u001b[0;32m      <a href='vscode-notebook-cell:/c%3A/Users/jlune/carbon/project_JI/0.Scrap/01.Scrap.ipynb#ch0000009?line=4'>5</a>\u001b[0m response\n",
      "\u001b[1;31mNameError\u001b[0m: name 'requests' is not defined"
     ]
    }
   ],
   "source": [
    "url = 'https://www.justwatch.com/kr/영화/das-privileg-die-auserwahlten'\n",
    "headers = {\"User-Agent\": 'Mozilla/5.0 (Windows NT 10.0; Win64; x64) AppleWebKit/537.36 (KHTML, like Gecko) Chrome/99.0.4844.51 Safari/537.36'}\n",
    "req = requests.get(url, headers=headers)\n",
    "response = TextResponse(req.url, body=req.text, encoding=\"utf-8\") \n",
    "response\n"
   ]
  },
  {
   "cell_type": "code",
   "execution_count": 69,
   "metadata": {},
   "outputs": [],
   "source": [
    "\n",
    "title = response.css(\"div.title-block > div > h1::text\").get().strip()\n",
    "opening_date = response.css(\"div.title-block > div > span::text\").get().replace(\"(\",\"\").replace(\")\",\"\").strip()\n",
    "rating = response.css(\"div.title-info visible-xs visible-sm >div.jw-scoring-listing__rating > a::text\").get()\n",
    "just_rating = response.css('div.detail-infos > div > div > div > a::text')[0].get().strip()\n",
    "imdb_rating = response.css('div.detail-infos > div > div > div > a::text')[1].get().strip()\n",
    "genre = response.xpath('//*[@id=\"base\"]/div[2]/div/div[2]/div[2]/div/div[1]/div[1]/div/div[2]/span/text()').getall()     # 뽑아낸 값이 리스트형태로 뽑힘 str 형태로 바꿔야함 모르겠음..\n",
    "genre = \",\".join(genre).replace(\" \",\"\")\n",
    "runtime = response.xpath('//*[@id=\"base\"]/div[2]/div/div[2]/div[2]/div/div[1]/div[1]/div[3]/div[2]/text()').getall()\n",
    "runtime = \",\".join(runtime).replace(\" \",\"\")\n",
    "director = response.xpath('//*[@id=\"base\"]/div[2]/div/div[2]/div[2]/div/div[1]/div[1]/div[4]/div[2]/span/a/text()').getall() # 뽑아낸 값이 리스트형태로 뽑힘 str 형태로 바꿔야함 모르겠음..\n",
    "director = \",\".join(director).replace(\" \",\"\")\n",
    "actors = response.xpath('//*[@id=\"base\"]/div[2]/div/div[2]/div[2]/div/div[1]/div[3]/div/div/a/text()').getall() # 뽑아낸 값이 리스트형태로 뽑힘 str 형태로 바꿔야함 모르겠음...\n",
    "actors = \",\".join(actors).replace(\" \",\"\")\n",
    "synopsis = response.xpath('//*[@id=\"base\"]/div[2]/div/div[2]/div[2]/div/div[1]/div[4]/p/span/text()').get()\n",
    "\n",
    "\n",
    "\n",
    "\n",
    "# try:\n",
    "#     item['synopsis'] = response.xpath('//*[@id=\"base\"]/div[2]/div/div[2]/div[2]/div/div[1]/div[4]/p/span/text()').get()\n",
    "# except:\n",
    "#     item['synopsis']=None\n",
    "#print(\"제목:\",title_kor, \"개봉일:\",opening_date,\"저스트와치 평점:\", just_rating,\"IMDB 평점:\",imdb_rating, \"장르:\",genre, \"재생시간:\",runtime, \"감독:\",director,\"출연자:\", actors, \"시놉시스:\",synopsis)\n",
    "# # print(actors_list)    # 함수값 안에서의 출연진 값이 print 값으로 표시됨\n",
    "# yield item"
   ]
  },
  {
   "cell_type": "code",
   "execution_count": 70,
   "metadata": {},
   "outputs": [
    {
     "name": "stdout",
     "output_type": "stream",
     "text": [
      "애덤 프로젝트,2022,None,81%,6.9 (26k),액션,코미디,SF,드라마,1시간46분,ShawnLevy,RyanReynolds,WalkerScobell,MarkRuffalo,JenniferGarner,ZoeSaldana,CatherineKeener,AlexMallariJr.,BraxtonBjerken,KasraWong,LucieGuest,DonaldSales,EstherMingLi,BenWilkinson,MiloShandel\n"
     ]
    }
   ],
   "source": [
    "print(title, opening_date, rating, just_rating, imdb_rating, genre, runtime, director, actors, sep=',')"
   ]
  },
  {
   "cell_type": "code",
   "execution_count": 8,
   "metadata": {},
   "outputs": [
    {
     "data": {
      "text/plain": [
       "(str,\n",
       " '최고급 사립학교에 다니는 부유한 10대 소년과 친구들. 초자연적인 일들이 연달아 일어나자 사건의 실체를 추적하기 시작하고, 마침내 추악한 음모가 모습을 드러낸다.')"
      ]
     },
     "execution_count": 8,
     "metadata": {},
     "output_type": "execute_result"
    }
   ],
   "source": [
    "type(synopsis), synopsis"
   ]
  },
  {
   "cell_type": "code",
   "execution_count": 9,
   "metadata": {},
   "outputs": [
    {
     "data": {
      "text/plain": [
       "'더 프리빌리지'"
      ]
     },
     "execution_count": 9,
     "metadata": {},
     "output_type": "execute_result"
    }
   ],
   "source": [
    "# c = response.css(\"div.title-block > div > h1::text\").get().strip()\n",
    "# c"
   ]
  },
  {
   "cell_type": "code",
   "execution_count": 10,
   "metadata": {},
   "outputs": [],
   "source": [
    "import pandas as pd"
   ]
  },
  {
   "cell_type": "markdown",
   "metadata": {},
   "source": [
    "## test css"
   ]
  },
  {
   "cell_type": "code",
   "execution_count": 11,
   "metadata": {},
   "outputs": [
    {
     "name": "stdout",
     "output_type": "stream",
     "text": [
      "<200 https://www.justwatch.com/kr/%EC%98%81%ED%99%94/das-privileg-die-auserwahlten>\n"
     ]
    }
   ],
   "source": [
    "txt = response\n",
    "print(txt)"
   ]
  },
  {
   "cell_type": "code",
   "execution_count": null,
   "metadata": {},
   "outputs": [],
   "source": [
    "response.text"
   ]
  },
  {
   "cell_type": "code",
   "execution_count": 12,
   "metadata": {},
   "outputs": [],
   "source": [
    "# 장르,감독 배우\n",
    "\n",
    "genre = response.xpath('//*[@id=\"base\"]/div[2]/div/div[2]/div[2]/div/div[1]/div[1]/div/div[2]/span/text()').getall()     # 뽑아낸 값이 리스트형태로 뽑힘 str 형태로 바꿔야함 모르겠음..\n",
    "genre = \",\".join(genre).replace(\" \",\"\")\n",
    "runtime = response.xpath('//*[@id=\"base\"]/div[2]/div/div[2]/div[2]/div/div[1]/div[1]/div[3]/div[2]/text()').getall()\n",
    "runtime = \",\".join(runtime).replace(\" \",\"\")\n",
    "director = response.xpath('//*[@id=\"base\"]/div[2]/div/div[2]/div[2]/div/div[1]/div[1]/div[4]/div[2]/span/a/text()').getall() # 뽑아낸 값이 리스트형태로 뽑힘 str 형태로 바꿔야함 모르겠음..\n",
    "director = \",\".join(director).replace(\" \",\"\")\n",
    "actors = response.xpath('//*[@id=\"base\"]/div[2]/div/div[2]/div[2]/div/div[1]/div[3]/div/div/a/text()').getall() # 뽑아낸 값이 리스트형태로 뽑힘 str 형태로 바꿔야함 모르겠음...\n",
    "actors = \",\".join(actors).replace(\" \",\"\")"
   ]
  },
  {
   "cell_type": "code",
   "execution_count": 21,
   "metadata": {},
   "outputs": [
    {
     "name": "stdout",
     "output_type": "stream",
     "text": [
      "SF,스릴러,드라마,공포/  /1시간47분/  /FelixFuchssteiner,KatharinaSchöde/  /MaxSchimmelpfennig,LeavanAcken,TijanMarei,MilenaTscharntke,LiseRisomOlsen,RomanKnizka,NadeshdaBrennicke,HorstJanson,CarolineHartig,JeanetteSpassova,OlegTikhomirov,MauriceLattke,RojanJuanBarani\n"
     ]
    }
   ],
   "source": [
    "print(genre, runtime, director, actors, sep='/  /')"
   ]
  },
  {
   "cell_type": "code",
   "execution_count": 88,
   "metadata": {},
   "outputs": [
    {
     "data": {
      "text/plain": [
       "'드라마 '"
      ]
     },
     "execution_count": 88,
     "metadata": {},
     "output_type": "execute_result"
    }
   ],
   "source": [
    "response.xpath('//*[@id=\"base\"]/div[2]/div/div[1]/div/aside/div[1]/div[3]/div[2]/div[2]/span/text()').extract_first()"
   ]
  },
  {
   "cell_type": "code",
   "execution_count": 39,
   "metadata": {},
   "outputs": [
    {
     "name": "stdout",
     "output_type": "stream",
     "text": [
      "\"제목:\",더 프리빌리지, \"개봉일:\",2022,\"저스트와치 평점:\", 59%,\"IMDB 평점:\",4.6 (3k), \"장르:\",SF,스릴러,드라마,공포, \"재생시간:\",1시간47분, \"감독:\",FelixFuchssteiner,KatharinaSchöde,\"출연자:\", MaxSchimmelpfennig,LeavanAcken,TijanMarei,MilenaTscharntke,LiseRisomOlsen,RomanKnizka,NadeshdaBrennicke,HorstJanson,CarolineHartig,JeanetteSpassova,OlegTikhomirov,MauriceLattke,RojanJuanBarani, \"시놉시스:\",최고급 사립학교에 다니는 부유한 10대 소년과 친구들. 초자연적인 일들이 연달아 일어나자 사건의 실체를 추적하기 시작하고, 마침내 추악한 음모가 모습을 드러낸다.\n"
     ]
    }
   ],
   "source": [
    "url = 'https://www.justwatch.com/kr/영화/das-privileg-die-auserwahlten'\n",
    "headers = {\"User-Agent\": 'Mozilla/5.0 (Windows NT 10.0; Win64; x64) AppleWebKit/537.36 (KHTML, like Gecko) Chrome/99.0.4844.51 Safari/537.36'}\n",
    "req = requests.get(url, headers=headers)\n",
    "response = TextResponse(req.url, body=req.text, encoding=\"utf-8\") \n",
    "response\n",
    "\n",
    "\n",
    "title = response.css(\"div.title-block > div > h1::text\").get().strip()\n",
    "opening_date = response.css(\"div.title-block > div > span::text\").get().replace(\"(\",\"\").replace(\")\",\"\").strip()\n",
    "rating = response.css(\"div.title-info visible-xs visible-sm >div.jw-scoring-listing__rating > a::text\").get()\n",
    "just_rating = response.css('div.detail-infos > div > div > div > a::text')[0].get().strip()\n",
    "imdb_rating = response.css('div.detail-infos > div > div > div > a::text')[1].get().strip()\n",
    "genre = response.xpath('//*[@id=\"base\"]/div[2]/div/div[2]/div[2]/div/div[1]/div[1]/div/div[2]/span/text()').getall()     # 뽑아낸 값이 리스트형태로 뽑힘 str 형태로 바꿔야함 모르겠음..\n",
    "genre = \",\".join(genre).replace(\" \",\"\")\n",
    "runtime = response.xpath('//*[@id=\"base\"]/div[2]/div/div[2]/div[2]/div/div[1]/div[1]/div[3]/div[2]/text()').getall()\n",
    "runtime = \",\".join(runtime).replace(\" \",\"\")\n",
    "director = response.xpath('//*[@id=\"base\"]/div[2]/div/div[2]/div[2]/div/div[1]/div[1]/div[4]/div[2]/span/a/text()').getall() # 뽑아낸 값이 리스트형태로 뽑힘 str 형태로 바꿔야함 모르겠음..\n",
    "director = \",\".join(director).replace(\" \",\"\")\n",
    "actors = response.xpath('//*[@id=\"base\"]/div[2]/div/div[2]/div[2]/div/div[1]/div[3]/div/div/a/text()').getall() # 뽑아낸 값이 리스트형태로 뽑힘 str 형태로 바꿔야함 모르겠음...\n",
    "actors = \",\".join(actors).replace(\" \",\"\")\n",
    "synopsis = response.xpath('//*[@id=\"base\"]/div[2]/div/div[2]/div[2]/div/div[1]/div[4]/p/span/text()').get()\n",
    "\n",
    "try:\n",
    "    synopsis = response.xpath('//*[@id=\"base\"]/div[2]/div/div[2]/div[2]/div/div[1]/div[4]/p/span/text()').get()\n",
    "except:\n",
    "    synopsis = None\n",
    "print(f'\"제목:\",{title}, \"개봉일:\",{opening_date},\"저스트와치 평점:\", {just_rating},\"IMDB 평점:\",{imdb_rating}, \"장르:\",{genre}, \"재생시간:\",{runtime}, \"감독:\",{director},\"출연자:\", {actors}, \"시놉시스:\",{synopsis}' ,sep=\"/\")\n",
    "# print(actors_list)    # 함수값 안에서의 출연진 값이 print 값으로 표시됨\n",
    "# yield item"
   ]
  },
  {
   "cell_type": "code",
   "execution_count": 50,
   "metadata": {},
   "outputs": [
    {
     "data": {
      "text/plain": [
       "'낙원에서 살아남기:   가족의 이야기'"
      ]
     },
     "execution_count": 50,
     "metadata": {},
     "output_type": "execute_result"
    }
   ],
   "source": [
    "\n",
    "t1 = '  낙원에서 살아남기:   가족의 이야기   '\n",
    "t1.strip()"
   ]
  },
  {
   "cell_type": "code",
   "execution_count": 73,
   "metadata": {},
   "outputs": [
    {
     "data": {
      "text/plain": [
       "['https://www.justwatch.com/kr/%EB%8F%99%EC%98%81%EC%83%81%EC%84%9C%EB%B9%84%EC%8A%A4/netflix?content_type=movie&release_year_from=2000&release_year_until=2000',\n",
       " 'https://www.justwatch.com/kr/%EB%8F%99%EC%98%81%EC%83%81%EC%84%9C%EB%B9%84%EC%8A%A4/netflix?content_type=movie&release_year_from=2001&release_year_until=2001',\n",
       " 'https://www.justwatch.com/kr/%EB%8F%99%EC%98%81%EC%83%81%EC%84%9C%EB%B9%84%EC%8A%A4/netflix?content_type=movie&release_year_from=2002&release_year_until=2002',\n",
       " 'https://www.justwatch.com/kr/%EB%8F%99%EC%98%81%EC%83%81%EC%84%9C%EB%B9%84%EC%8A%A4/netflix?content_type=movie&release_year_from=2003&release_year_until=2003',\n",
       " 'https://www.justwatch.com/kr/%EB%8F%99%EC%98%81%EC%83%81%EC%84%9C%EB%B9%84%EC%8A%A4/netflix?content_type=movie&release_year_from=2004&release_year_until=2004',\n",
       " 'https://www.justwatch.com/kr/%EB%8F%99%EC%98%81%EC%83%81%EC%84%9C%EB%B9%84%EC%8A%A4/netflix?content_type=movie&release_year_from=2005&release_year_until=2005',\n",
       " 'https://www.justwatch.com/kr/%EB%8F%99%EC%98%81%EC%83%81%EC%84%9C%EB%B9%84%EC%8A%A4/netflix?content_type=movie&release_year_from=2006&release_year_until=2006',\n",
       " 'https://www.justwatch.com/kr/%EB%8F%99%EC%98%81%EC%83%81%EC%84%9C%EB%B9%84%EC%8A%A4/netflix?content_type=movie&release_year_from=2007&release_year_until=2007',\n",
       " 'https://www.justwatch.com/kr/%EB%8F%99%EC%98%81%EC%83%81%EC%84%9C%EB%B9%84%EC%8A%A4/netflix?content_type=movie&release_year_from=2008&release_year_until=2008',\n",
       " 'https://www.justwatch.com/kr/%EB%8F%99%EC%98%81%EC%83%81%EC%84%9C%EB%B9%84%EC%8A%A4/netflix?content_type=movie&release_year_from=2009&release_year_until=2009',\n",
       " 'https://www.justwatch.com/kr/%EB%8F%99%EC%98%81%EC%83%81%EC%84%9C%EB%B9%84%EC%8A%A4/netflix?content_type=movie&release_year_from=2010&release_year_until=2010',\n",
       " 'https://www.justwatch.com/kr/%EB%8F%99%EC%98%81%EC%83%81%EC%84%9C%EB%B9%84%EC%8A%A4/netflix?content_type=movie&release_year_from=2011&release_year_until=2011',\n",
       " 'https://www.justwatch.com/kr/%EB%8F%99%EC%98%81%EC%83%81%EC%84%9C%EB%B9%84%EC%8A%A4/netflix?content_type=movie&release_year_from=2012&release_year_until=2012',\n",
       " 'https://www.justwatch.com/kr/%EB%8F%99%EC%98%81%EC%83%81%EC%84%9C%EB%B9%84%EC%8A%A4/netflix?content_type=movie&release_year_from=2013&release_year_until=2013',\n",
       " 'https://www.justwatch.com/kr/%EB%8F%99%EC%98%81%EC%83%81%EC%84%9C%EB%B9%84%EC%8A%A4/netflix?content_type=movie&release_year_from=2014&release_year_until=2014',\n",
       " 'https://www.justwatch.com/kr/%EB%8F%99%EC%98%81%EC%83%81%EC%84%9C%EB%B9%84%EC%8A%A4/netflix?content_type=movie&release_year_from=2015&release_year_until=2015',\n",
       " 'https://www.justwatch.com/kr/%EB%8F%99%EC%98%81%EC%83%81%EC%84%9C%EB%B9%84%EC%8A%A4/netflix?content_type=movie&release_year_from=2016&release_year_until=2016',\n",
       " 'https://www.justwatch.com/kr/%EB%8F%99%EC%98%81%EC%83%81%EC%84%9C%EB%B9%84%EC%8A%A4/netflix?content_type=movie&release_year_from=2017&release_year_until=2017',\n",
       " 'https://www.justwatch.com/kr/%EB%8F%99%EC%98%81%EC%83%81%EC%84%9C%EB%B9%84%EC%8A%A4/netflix?content_type=movie&release_year_from=2018&release_year_until=2018',\n",
       " 'https://www.justwatch.com/kr/%EB%8F%99%EC%98%81%EC%83%81%EC%84%9C%EB%B9%84%EC%8A%A4/netflix?content_type=movie&release_year_from=2019&release_year_until=2019',\n",
       " 'https://www.justwatch.com/kr/%EB%8F%99%EC%98%81%EC%83%81%EC%84%9C%EB%B9%84%EC%8A%A4/netflix?content_type=movie&release_year_from=2020&release_year_until=2020',\n",
       " 'https://www.justwatch.com/kr/%EB%8F%99%EC%98%81%EC%83%81%EC%84%9C%EB%B9%84%EC%8A%A4/netflix?content_type=movie&release_year_from=2021&release_year_until=2021']"
      ]
     },
     "execution_count": 73,
     "metadata": {},
     "output_type": "execute_result"
    }
   ],
   "source": [
    "input_urls = []\n",
    "for year in map(str, range(2000, 2022)):\n",
    "    add_netflix = 'https://www.justwatch.com/kr/%EB%8F%99%EC%98%81%EC%83%81%EC%84%9C%EB%B9%84%EC%8A%A4/netflix?content_type=movie&release_year_from={}&release_year_until={}'.format(year, year)    \n",
    "    input_urls.append(add_netflix)\n",
    "input_urls\n",
    "    "
   ]
  },
  {
   "cell_type": "code",
   "execution_count": 72,
   "metadata": {},
   "outputs": [
    {
     "data": {
      "text/plain": [
       "[]"
      ]
     },
     "execution_count": 72,
     "metadata": {},
     "output_type": "execute_result"
    }
   ],
   "source": [
    "input_urls"
   ]
  },
  {
   "cell_type": "markdown",
   "metadata": {},
   "source": [
    "삼성 네이버증권 테스트"
   ]
  },
  {
   "cell_type": "code",
   "execution_count": 74,
   "metadata": {},
   "outputs": [
    {
     "data": {
      "text/plain": [
       "<200 https://finance.naver.com/item/main.naver?code=005930>"
      ]
     },
     "execution_count": 74,
     "metadata": {},
     "output_type": "execute_result"
    }
   ],
   "source": [
    "from fake_useragent import UserAgent\n",
    "\n",
    "url = 'https://finance.naver.com/item/main.naver?code=005930'\n",
    "headers = {\"User-Agent\": 'Mozilla/5.0 (Windows NT 10.0; Win64; x64) AppleWebKit/537.36 (KHTML, like Gecko) Chrome/99.0.4844.51 Safari/537.36'}\n",
    "req = requests.get(url, headers=headers)\n",
    "response = TextResponse(req.url, body=req.text, encoding=\"utf-8\") \n",
    "response"
   ]
  },
  {
   "cell_type": "code",
   "execution_count": null,
   "metadata": {},
   "outputs": [],
   "source": [
    "print(response.text)"
   ]
  },
  {
   "cell_type": "code",
   "execution_count": 150,
   "metadata": {},
   "outputs": [
    {
     "ename": "SyntaxError",
     "evalue": "EOL while scanning string literal (1917117402.py, line 2)",
     "output_type": "error",
     "traceback": [
      "\u001b[1;36m  Input \u001b[1;32mIn [150]\u001b[1;36m\u001b[0m\n\u001b[1;33m    response.css('#tab_con1 >).getall()\u001b[0m\n\u001b[1;37m                                       ^\u001b[0m\n\u001b[1;31mSyntaxError\u001b[0m\u001b[1;31m:\u001b[0m EOL while scanning string literal\n"
     ]
    }
   ],
   "source": [
    "# get 또는 getall\n",
    "response.css('#tab_con1 >).getall()"
   ]
  },
  {
   "cell_type": "code",
   "execution_count": 141,
   "metadata": {},
   "outputs": [
    {
     "data": {
      "text/plain": [
       "'<em id=\"_market_sum\">\\n\\t\\t\\t\\t\\t\\t\\t\\t\\n\\t\\t\\t\\t\\t\\t\\t\\t\\n\\t\\t\\t\\t\\t\\t\\t\\t\\t\\n\\t\\t\\t\\t\\t\\t\\t\\t\\t\\n\\t\\t\\t\\t\\t\\t\\t\\t\\t\\t\\n\\t\\t\\t\\t\\t\\t\\t\\t\\t\\t\\n\\t\\t\\t\\t\\t\\t\\t\\t\\t\\t417조\\n\\t\\t\\t\\t\\t\\t\\t\\t\\t\\t\\n\\t\\t\\t\\t\\t\\t\\t\\t\\t\\t\\t8,848\\n\\t\\t\\t\\t\\t\\t\\t\\t\\t\\t\\n\\t\\t\\t\\t\\t\\t\\t\\t\\t\\n\\t\\t\\t\\t\\t\\t\\t\\t</em>'"
      ]
     },
     "execution_count": 141,
     "metadata": {},
     "output_type": "execute_result"
    }
   ],
   "source": [
    "response.css('#_market_sum').get()"
   ]
  },
  {
   "cell_type": "code",
   "execution_count": null,
   "metadata": {},
   "outputs": [],
   "source": [
    "dir(response.css('#_market_sum'))"
   ]
  },
  {
   "cell_type": "code",
   "execution_count": 116,
   "metadata": {},
   "outputs": [
    {
     "data": {
      "text/plain": [
       "['\\n\\t\\t\\t\\t\\t\\t\\t\\t\\n\\t\\t\\t\\t\\t\\t\\t\\t\\n\\t\\t\\t\\t\\t\\t\\t\\t\\t\\n\\t\\t\\t\\t\\t\\t\\t\\t\\t\\n\\t\\t\\t\\t\\t\\t\\t\\t\\t\\t\\n\\t\\t\\t\\t\\t\\t\\t\\t\\t\\t\\n\\t\\t\\t\\t\\t\\t\\t\\t\\t\\t417조\\n\\t\\t\\t\\t\\t\\t\\t\\t\\t\\t\\n\\t\\t\\t\\t\\t\\t\\t\\t\\t\\t\\t8,848\\n\\t\\t\\t\\t\\t\\t\\t\\t\\t\\t\\n\\t\\t\\t\\t\\t\\t\\t\\t\\t\\n\\t\\t\\t\\t\\t\\t\\t\\t']"
      ]
     },
     "execution_count": 116,
     "metadata": {},
     "output_type": "execute_result"
    }
   ],
   "source": [
    "response.css('#_market_sum::text').getall()"
   ]
  },
  {
   "cell_type": "code",
   "execution_count": 118,
   "metadata": {},
   "outputs": [
    {
     "data": {
      "text/plain": [
       "list"
      ]
     },
     "execution_count": 118,
     "metadata": {},
     "output_type": "execute_result"
    }
   ],
   "source": [
    "type(response.css('#_market_sum::text').getall())"
   ]
  },
  {
   "cell_type": "code",
   "execution_count": 120,
   "metadata": {},
   "outputs": [],
   "source": [
    "sam = response.css('#_market_sum::text').get()"
   ]
  },
  {
   "cell_type": "code",
   "execution_count": 144,
   "metadata": {},
   "outputs": [],
   "source": [
    "# 조인 컴프리헨션 \n",
    "ss = \"\".join(sam)\n",
    "\n",
    "# replace(/[^a-z|A-Z|0-9|ㄱ-ㅎ|가-힣]"
   ]
  },
  {
   "cell_type": "code",
   "execution_count": 145,
   "metadata": {},
   "outputs": [
    {
     "data": {
      "text/plain": [
       "('\\n\\t\\t\\t\\t\\t\\t\\t\\t\\n\\t\\t\\t\\t\\t\\t\\t\\t\\n\\t\\t\\t\\t\\t\\t\\t\\t\\t\\n\\t\\t\\t\\t\\t\\t\\t\\t\\t\\n\\t\\t\\t\\t\\t\\t\\t\\t\\t\\t\\n\\t\\t\\t\\t\\t\\t\\t\\t\\t\\t\\n\\t\\t\\t\\t\\t\\t\\t\\t\\t\\t417조\\n\\t\\t\\t\\t\\t\\t\\t\\t\\t\\t\\n\\t\\t\\t\\t\\t\\t\\t\\t\\t\\t\\t8,848\\n\\t\\t\\t\\t\\t\\t\\t\\t\\t\\t\\n\\t\\t\\t\\t\\t\\t\\t\\t\\t\\n\\t\\t\\t\\t\\t\\t\\t\\t',\n",
       " str)"
      ]
     },
     "execution_count": 145,
     "metadata": {},
     "output_type": "execute_result"
    }
   ],
   "source": [
    "ss, type(ss)"
   ]
  },
  {
   "cell_type": "code",
   "execution_count": 148,
   "metadata": {},
   "outputs": [],
   "source": [
    "a = ss.replace(\"\\n\", \"\").replace(\"\\t\",\"\") + '억원'"
   ]
  },
  {
   "cell_type": "code",
   "execution_count": 149,
   "metadata": {},
   "outputs": [
    {
     "data": {
      "text/plain": [
       "'417조8,848억원'"
      ]
     },
     "execution_count": 149,
     "metadata": {},
     "output_type": "execute_result"
    }
   ],
   "source": [
    "a = 141-----lfals;la"
   ]
  },
  {
   "cell_type": "code",
   "execution_count": 137,
   "metadata": {},
   "outputs": [
    {
     "data": {
      "text/plain": [
       "'\\n\\t\\t\\t\\t\\t\\t\\t\\t\\n\\t\\t\\t\\t\\t\\t\\t\\t\\n\\t\\t\\t\\t\\t\\t\\t\\t\\t\\n\\t\\t\\t\\t\\t\\t\\t\\t\\t\\n\\t\\t\\t\\t\\t\\t\\t\\t\\t\\t\\n\\t\\t\\t\\t\\t\\t\\t\\t\\t\\t\\n\\t\\t\\t\\t\\t\\t\\t\\t\\t\\t417조\\n\\t\\t\\t\\t\\t\\t\\t\\t\\t\\t\\n\\t\\t\\t\\t\\t\\t\\t\\t\\t\\t\\t8,848\\n\\t\\t\\t\\t\\t\\t\\t\\t\\t\\t\\n\\t\\t\\t\\t\\t\\t\\t\\t\\t\\n\\t\\t\\t\\t\\t\\t\\t\\t'"
      ]
     },
     "execution_count": 137,
     "metadata": {},
     "output_type": "execute_result"
    }
   ],
   "source": [
    "ss.replace('[^0-9|ㄱ-ㅎ|가-힣]',\"\")"
   ]
  },
  {
   "cell_type": "code",
   "execution_count": 117,
   "metadata": {},
   "outputs": [
    {
     "ename": "AttributeError",
     "evalue": "'list' object has no attribute 'replace'",
     "output_type": "error",
     "traceback": [
      "\u001b[1;31m---------------------------------------------------------------------------\u001b[0m",
      "\u001b[1;31mAttributeError\u001b[0m                            Traceback (most recent call last)",
      "\u001b[1;32mc:\\Users\\jlune\\carbon\\project_JI\\0.Scrap\\01.Scrap.ipynb Cell 33'\u001b[0m in \u001b[0;36m<cell line: 1>\u001b[1;34m()\u001b[0m\n\u001b[1;32m----> <a href='vscode-notebook-cell:/c%3A/Users/jlune/carbon/project_JI/0.Scrap/01.Scrap.ipynb#ch0000050?line=0'>1</a>\u001b[0m response\u001b[39m.\u001b[39;49mcss(\u001b[39m'\u001b[39;49m\u001b[39m#_market_sum::text\u001b[39;49m\u001b[39m'\u001b[39;49m)\u001b[39m.\u001b[39;49mgetall()\u001b[39m.\u001b[39;49mreplace(\u001b[39m'\u001b[39m\u001b[39m\\n\u001b[39;00m\u001b[39m'\u001b[39m,\u001b[39m\"\u001b[39m\u001b[39m\"\u001b[39m)\n",
      "\u001b[1;31mAttributeError\u001b[0m: 'list' object has no attribute 'replace'"
     ]
    }
   ],
   "source": [
    "response.css('#_market_sum::text').getall().replace('\\n',\"\")"
   ]
  },
  {
   "cell_type": "code",
   "execution_count": 1,
   "metadata": {},
   "outputs": [],
   "source": [
    "import sys"
   ]
  },
  {
   "cell_type": "code",
   "execution_count": 2,
   "metadata": {},
   "outputs": [],
   "source": [
    "sys.stdin.readline()"
   ]
  },
  {
   "cell_type": "code",
   "execution_count": null,
   "metadata": {},
   "outputs": [],
   "source": [
    "import MySQLdb"
   ]
  }
 ],
 "metadata": {
  "interpreter": {
   "hash": "b3ba2566441a7c06988d0923437866b63cedc61552a5af99d1f4fb67d367b25f"
  },
  "kernelspec": {
   "display_name": "Python 3.8.8 ('base')",
   "language": "python",
   "name": "python3"
  },
  "language_info": {
   "codemirror_mode": {
    "name": "ipython",
    "version": 3
   },
   "file_extension": ".py",
   "mimetype": "text/x-python",
   "name": "python",
   "nbconvert_exporter": "python",
   "pygments_lexer": "ipython3",
   "version": "3.8.8"
  },
  "orig_nbformat": 4
 },
 "nbformat": 4,
 "nbformat_minor": 2
}
