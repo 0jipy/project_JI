{
 "cells": [
  {
   "cell_type": "markdown",
   "metadata": {},
   "source": [
    "## DB insert 0403\n",
    "    - path 입력받아 DB insert : MySQL, AWS EC2  "
   ]
  },
  {
   "cell_type": "code",
   "execution_count": 6,
   "metadata": {},
   "outputs": [
    {
     "name": "stdout",
     "output_type": "stream",
     "text": [
      "Collecting pymysql\n",
      "  Using cached PyMySQL-1.0.2-py3-none-any.whl (43 kB)\n",
      "Installing collected packages: pymysql\n",
      "Successfully installed pymysql-1.0.2\n"
     ]
    }
   ],
   "source": [
    "# install\n",
    "\n",
    "!pip install pymysql"
   ]
  },
  {
   "cell_type": "code",
   "execution_count": 2,
   "metadata": {},
   "outputs": [],
   "source": [
    "import pandas as pd\n",
    "import numpy as np"
   ]
  },
  {
   "cell_type": "code",
   "execution_count": 3,
   "metadata": {},
   "outputs": [],
   "source": [
    "# df를 읽어올때 keep_default_na=False 옵션으로 NaN 값을 None으로 바꾸어 \n",
    "# MySQL 데이터 추가 시 에러를 방지한다. \n",
    "# 파일 패스를 지정해 주고 사용하면 된다.\n",
    "\n",
    "path = './synopsis_filter.csv'"
   ]
  },
  {
   "cell_type": "code",
   "execution_count": 4,
   "metadata": {},
   "outputs": [
    {
     "data": {
      "text/plain": [
       "serial         0\n",
       "title          0\n",
       "release        0\n",
       "just_rating    0\n",
       "imdb_rating    0\n",
       "runtime        0\n",
       "synopsis       0\n",
       "director       0\n",
       "actors         0\n",
       "genre          0\n",
       "poster_link    0\n",
       "netflix        0\n",
       "disney         0\n",
       "wavve          0\n",
       "watcha         0\n",
       "dtype: int64"
      ]
     },
     "execution_count": 4,
     "metadata": {},
     "output_type": "execute_result"
    }
   ],
   "source": [
    "# 데이터프레임 생성 # NaN 결측값을 확인한다.\n",
    "data = pd.read_csv(path, keep_default_na=False)\n",
    "data.isnull().sum()"
   ]
  },
  {
   "cell_type": "code",
   "execution_count": null,
   "metadata": {},
   "outputs": [],
   "source": [
    "import pymysql\n",
    "\n",
    "# DB에 connect\n",
    "conn = pymysql.connect(host='3.35.111.73',\n",
    "                       port=3306,\n",
    "                       user='carbon',\n",
    "                       password='1111',\n",
    "                #        db='JI_MOVIS',\n",
    "                       db='testdb',\n",
    "                       charset='utf8mb4')\n",
    "\n",
    "# 커서 생성\n",
    "cursor = conn.cursor()\n",
    "\n",
    "\"\"\" 쿼리문 작성 및 실행 \"\"\"\n",
    "\n",
    "# testdb 에 Base 테이블 생성\n",
    "sql1 = '''CREATE TABLE testdb.test_1\n",
    "        (       \n",
    "                MV_NO int(13) NOT NULL PRIMARY KEY,\n",
    "                TITLE varchar(4000),\n",
    "                OPEN_DATE varchar(1000),\n",
    "                JUST_RATING varchar(1000),\n",
    "                IMDB_RATING varchar(1000),\n",
    "                RUNTIME varchar(500),\n",
    "                SYNOPSIS varchar(4000),\n",
    "                DIRECTOR varchar(1000),\n",
    "                ACTORS varchar(4000),\n",
    "                GENRE varchar(4000),\n",
    "                POSTER_LINK varchar(1000),\n",
    "                NETFLIX int,\n",
    "                DISNEY int,\n",
    "                WAVVE int,\n",
    "                WATCHA int\n",
    "        ) '''\n",
    "        \n",
    "cursor.execute(sql1)\n",
    "\n",
    "# user table 에 값 insert\n",
    "sql2 = '''INSERT INTO test_1 (MV_NO, TITLE, OPEN_DATE, JUST_RATING, IMDB_RATING, \n",
    "                RUNTIME, SYNOPSIS, DIRECTOR, ACTORS, GENRE, POSTER_LINK, NETFLIX, DISNEY, WAVVE, WATCHA) \n",
    "                VALUES(%s, %s, %s, %s, %s, %s, %s, %s, %s, %s, %s, %s, %s, %s, %s)'''\n",
    "                \n",
    "for idx in range(len(data)):\n",
    "    cursor.execute(sql2, tuple(data.values[idx]))  # data.values[idx] 는 배열이기에 튜플타입을 활용한다. \n",
    "\n",
    "conn.commit()\n",
    "conn.close()\n",
    "\n",
    "# with 방법을 고려하는 것도 가능하다. 오픈 클로즈 필요없이 with 구문이 끝나면 자동 종료된다. \n",
    "# 에러가 났을때 연결이 close() 되지 않는 것을 방지하는 차원에서 사용가능.\n",
    "\n",
    "# with conn:\n",
    "#     with conn.cursor() as cur:\n",
    "#         cur.execute(sql1)\n",
    "#         cur.execute(sql2, (value))\n",
    "#         cur.execute(sql2, (value))\n",
    "#         conn.commit()\n",
    "### 커밋 후 with 구문으로 자동 종료."
   ]
  },
  {
   "cell_type": "markdown",
   "metadata": {},
   "source": [
    "- MySQL data를 확인해보도록 하자. ROW에 입력되는 데이터는 다음과 같다."
   ]
  },
  {
   "cell_type": "code",
   "execution_count": null,
   "metadata": {},
   "outputs": [],
   "source": [
    "data.columns            # 컬럼 확인.\n",
    "data.values[1]          # ROW data 확인\n",
    "tuple(data.values[0])   # tuple 형태로 변환된 값 확인.  "
   ]
  },
  {
   "cell_type": "markdown",
   "metadata": {},
   "source": [
    "# 실제 사용 코드  _ 0401"
   ]
  },
  {
   "cell_type": "code",
   "execution_count": null,
   "metadata": {},
   "outputs": [],
   "source": [
    "import pymysql\n",
    "\n",
    "# DB에 connect\n",
    "conn = pymysql.connect(host='3.35.111.73',\n",
    "                       port=3306,\n",
    "                       user='carbon',\n",
    "                       password='1111',\n",
    "                       db='JI_MOVIS',  \n",
    "                       charset='utf8')\n",
    "\n",
    "# 커서 생성\n",
    "cursor = conn.cursor()\n",
    "\n",
    "\"\"\" 쿼리문 작성 및 실행 \"\"\"\n",
    "\n",
    "# testdb 에 Base 테이블 생성\n",
    "sql1 = '''CREATE TABLE JI_MOVIS.base\n",
    "        (       \n",
    "                MV_NO int(13) NOT NULL PRIMARY KEY,\n",
    "                TITLE varchar(4000),\n",
    "                OPEN_DATE varchar(1000),\n",
    "                JUST_RATING varchar(1000),\n",
    "                IMDB_RATING varchar(1000),\n",
    "                RUNTIME varchar(500),\n",
    "                SYNOPSIS text(65535),\n",
    "                DIRECTOR varchar(1000),\n",
    "                ACTORS text(100),\n",
    "                GENRE varchar(4000),\n",
    "                POSTER_LINK varchar(1000),\n",
    "                NETFLIX int,\n",
    "                DISNEY int,\n",
    "                WAVVE int,\n",
    "                WATCHA int\n",
    "        ) '''\n",
    "        \n",
    "cursor.execute(sql1)\n",
    "\n",
    "# user table 에 값 insert\n",
    "sql2 = '''INSERT INTO base (MV_NO, TITLE, OPEN_DATE, JUST_RATING, IMDB_RATING, \n",
    "                RUNTIME, SYNOPSIS, DIRECTOR, ACTORS, GENRE, POSTER_LINK, NETFLIX, DISNEY, WAVVE, WATCHA) \n",
    "                VALUES(%s, %s, %s, %s, %s, %s, %s, %s, %s, %s, %s, %s, %s, %s, %s)'''\n",
    "                \n",
    "for idx in range(len(data)):\n",
    "    cursor.execute(sql2, tuple(data.values[idx]))  # data.values[idx] 는 배열이기에 튜플타입을 활용한다. \n",
    "\n",
    "conn.commit()\n",
    "conn.close()"
   ]
  },
  {
   "cell_type": "markdown",
   "metadata": {},
   "source": [
    "- 0401 통합 movie 파일 올려두기 위해 남겨둔 부분.  에러 (리버풀 이슈) 수정해서 \n",
    "    - 시놉 전처리 없이 올라갈 수 있어.. 혹시 특수문자나 따로 전처리가 필요하다면 재작업 가능!\n",
    "- 0401 db 개별 ott id 매겨서 올려두기"
   ]
  },
  {
   "cell_type": "code",
   "execution_count": 14,
   "metadata": {},
   "outputs": [],
   "source": [
    "import pandas as pd "
   ]
  },
  {
   "cell_type": "code",
   "execution_count": 24,
   "metadata": {},
   "outputs": [],
   "source": [
    "# path = '0401_netflix.csv'\n",
    "# path = '0401_disney.csv'\n",
    "# path = '0401_wavve.csv'\n",
    "# path = '0401_watcha.csv'\n",
    "# paht = '0401_movie_db.csv'"
   ]
  },
  {
   "cell_type": "code",
   "execution_count": 173,
   "metadata": {},
   "outputs": [
    {
     "data": {
      "text/plain": [
       "serial         0\n",
       "title          0\n",
       "release        0\n",
       "just_rating    0\n",
       "imdb_rating    0\n",
       "runtime        0\n",
       "synopsis       0\n",
       "director       0\n",
       "actors         0\n",
       "genre          0\n",
       "poster_link    0\n",
       "netflix        0\n",
       "disney         0\n",
       "wavve          0\n",
       "watcha         0\n",
       "dtype: int64"
      ]
     },
     "execution_count": 173,
     "metadata": {},
     "output_type": "execute_result"
    }
   ],
   "source": [
    "# 데이터프레임 생성 # NaN 결측값을 확인한다.\n",
    "data = pd.read_csv('0401_movie_db.csv', keep_default_na=False)\n",
    "data.isnull().sum()"
   ]
  },
  {
   "cell_type": "code",
   "execution_count": 175,
   "metadata": {},
   "outputs": [],
   "source": [
    "import pymysql\n",
    "\n",
    "# DB에 connect\n",
    "conn = pymysql.connect(host='3.35.111.73',\n",
    "                       port=3306,\n",
    "                       user='carbon',\n",
    "                       password='1111',\n",
    "                       db='FOR_YM',  \n",
    "                       charset='utf8mb4')\n",
    "\n",
    "# 커서 생성\n",
    "cursor = conn.cursor()\n",
    "\n",
    "\"\"\" 쿼리문 작성 및 실행 \"\"\"\n",
    "\n",
    "# testdb 에 Base 테이블 생성\n",
    "# sql1 = '''CREATE TABLE JI_MOVIS.base\n",
    "#         (       \n",
    "#                 MV_NO int(13) NOT NULL PRIMARY KEY,\n",
    "#                 TITLE varchar(4000),\n",
    "#                 OPEN_DATE varchar(1000),\n",
    "#                 JUST_RATING varchar(1000),\n",
    "#                 IMDB_RATING varchar(1000),\n",
    "#                 RUNTIME varchar(500),\n",
    "#                 SYNOPSIS text(65535),\n",
    "#                 DIRECTOR varchar(1000),\n",
    "#                 ACTORS text(100),\n",
    "#                 GENRE varchar(4000),\n",
    "#                 POSTER_LINK varchar(1000),\n",
    "#                 NETFLIX int,\n",
    "#                 DISNEY int,\n",
    "#                 WAVVE int,\n",
    "#                 WATCHA int\n",
    "#         ) '''\n",
    "        \n",
    "# cursor.execute(sql1)\n",
    "\n",
    "# user table 에 값 insert\n",
    "sql2 = '''INSERT INTO MOVIE (id, title, opening_date, just_rating, imdb_rating, runtime, \n",
    "                                synopsis, director, actors, genre, poster_link, netflix, \n",
    "                                disneyplus, wavve, watcha) VALUES(%s, %s, %s, %s, %s, %s, %s, %s, %s, %s, %s, %s, %s, %s, %s)'''\n",
    "                \n",
    "for idx in range(len(data)):\n",
    "    cursor.execute(sql2, tuple(data.values[idx]))  # data.values[idx] 는 배열이기에 튜플타입을 활용한다. \n",
    "\n",
    "conn.commit()\n",
    "conn.close()"
   ]
  },
  {
   "cell_type": "markdown",
   "metadata": {},
   "source": [
    "# 범인 검거 \n",
    " - 웨이브 데이터의  리버풀이란 영화. index는 7931번 \n",
    "- \\U00100003 >>> 삭제하면 문제안됨.\n",
    "- 그에따라 전체 무비 데이터도 시놉 전처리 없이 들어갈 수 있어!!\n",
    "  "
   ]
  },
  {
   "cell_type": "code",
   "execution_count": null,
   "metadata": {},
   "outputs": [],
   "source": [
    "'''\n",
    "개인적인 여정을 고요하게 담은 영화. 배가 아르헨티나 최남단 지점에 정박하자, \n",
    "\\n선원인 패럴은 어머니의 생사를 확인하려고 20년만에 고향을 방문한다. 패럴은 술을 마시면서 시간을 보내다 집에 도착한다. \n",
    "\\n하지만 20년 만에 돌아온 집에서 노환으로 누운 어머니를 만나는 기쁨도 잠시, \n",
    "패럴은 예상치도 못했던 가족의 비밀을 알게 된다.\n",
    "\\n\n",
    "\n",
    "\\U00100003  <<< 요기 요놈이 포함되면 에러를 일으킵니다!\n",
    "\n",
    "리산드로 알론소 감독은 전통적인 관찰 방식으로 패럴의 무심함을 관찰한다. \n",
    "카메라가 담은 패럴의 삶은 지루하고, \\n그는 남겨두고 온 사람들에 대해 무還？求? \n",
    "아르헨티나의 설원을 익스트림 롱샷으로 담은 장면에서 패럴의 침묵과 느릿한 걸음걸이는 \n",
    "\\n영화의 차가운 기운과 어울린다. 시종일관 정적으로 움직이는 카메라는 패럴의 삶뿐만 아니라 \n",
    "우리의 삶이 더 나아갈 곳이 없다는 \\n것을 보여준다. 서서히 비극을 전개하면서, 패럴이 고뇌하는 순간마다 \n",
    "미세한 감정을 잡아내는 연출력이 돋보이는 작품이다.\n",
    "'''"
   ]
  },
  {
   "cell_type": "code",
   "execution_count": 161,
   "metadata": {},
   "outputs": [],
   "source": [
    "# 변경된 리버풀 시놉 찾기  >>> \n",
    "data.loc[7931, 'synopsis'] = '''개인적인 여정을 고요하게 담은 영화. 배가 아르헨티나 최남단 지점에 정박하자, \n",
    "선원인 패럴은 어머니의 생사를 확인하려고 20년만에 고향을 방문한다. 패럴은 술을 마시면서 시간을 보내다 집에 도착한다. \n",
    "하지만 20년 만에 돌아온 집에서 노환으로 누운 어머니를 만나는 기쁨도 잠시, 패럴은 예상치도 못했던 가족의 비밀을 알게 된다.\n",
    "리산드로 알론소 감독은 전통적인 관찰 방식으로 패럴의 무심함을 관찰한다. 카메라가 담은 패럴의 삶은 지루하고, \n",
    "그는 남겨두고 온 사람들에 대해 무還？求? 아르헨티나의 설원을 익스트림 롱샷으로 담은 장면에서 패럴의 침묵과 느릿한 걸음걸이는 \n",
    "영화의 차가운 기운과 어울린다. 시종일관 정적으로 움직이는 카메라는 패럴의 삶뿐만 아니라 우리의 삶이 더 나아갈 곳이 없다는 \n",
    "것을 보여준다. 서서히 비극을 전개하면서, 패럴이 고뇌하는 순간마다 미세한 감정을 잡아내는 연출력이 돋보이는 작품이다.'''"
   ]
  },
  {
   "cell_type": "markdown",
   "metadata": {},
   "source": []
  },
  {
   "cell_type": "code",
   "execution_count": null,
   "metadata": {},
   "outputs": [],
   "source": [
    "['title_kor' 'opening_date' 'just_rating' 'imdb_rating' 'runtime'\n",
    " 'synopsis' 'director' 'actors' 'genre' 'posterLink' 'netflix' 'disney'\n",
    " 'wavve' 'watcha']"
   ]
  }
 ],
 "metadata": {
  "interpreter": {
   "hash": "e08354e700eb3ddbac8177cd6172bbfd21b8370c2ad096419acef00e0fcc09a0"
  },
  "kernelspec": {
   "display_name": "Python 3.8.8 ('vv')",
   "language": "python",
   "name": "python3"
  },
  "language_info": {
   "codemirror_mode": {
    "name": "ipython",
    "version": 3
   },
   "file_extension": ".py",
   "mimetype": "text/x-python",
   "name": "python",
   "nbconvert_exporter": "python",
   "pygments_lexer": "ipython3",
   "version": "3.7.1"
  },
  "orig_nbformat": 4
 },
 "nbformat": 4,
 "nbformat_minor": 2
}
