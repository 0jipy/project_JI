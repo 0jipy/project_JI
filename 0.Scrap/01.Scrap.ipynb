{
 "cells": [
  {
   "cell_type": "code",
   "execution_count": 3,
   "metadata": {},
   "outputs": [],
   "source": [
    "import urllib.request\n",
    "import urllib.parse\n",
    "\n",
    "import scrapy\n",
    "import requests\n",
    "from scrapy.http import TextResponse"
   ]
  },
  {
   "cell_type": "code",
   "execution_count": 1,
   "metadata": {},
   "outputs": [],
   "source": [
    "# !scrapy startproject justwatch\n",
    "# !rm -rf justwatch"
   ]
  },
  {
   "cell_type": "code",
   "execution_count": 6,
   "metadata": {},
   "outputs": [
    {
     "name": "stdout",
     "output_type": "stream",
     "text": [
      "Overwriting justwatch/justwatch/selenium_test.py\n"
     ]
    }
   ],
   "source": [
    "%%writefile justwatch/justwatch/selenium_test.py\n",
    "\n",
    "\n",
    "from selenium import webdriver\n",
    "from selenium.webdriver.chrome.options import Options\n",
    "\n",
    "CHROMEDRIVER_PATH = '0.Scrap\\justwatch\\justwatch\\drivers\\chromedriver.exe'\n",
    "WINDOW_SIZE = \"1920,1080\"\n",
    " \n",
    "chrome_options = Options()\n",
    "# chrome_options.add_argument( \"--headless\" )     # 크롬창이 열리지 않음\n",
    "# chrome_options.add_argument( \"--no-sandbox\" )   # GUI를 사용할 수 없는 환경에서 설정, linux, docker 등\n",
    "# chrome_options.add_argument( \"--disable-gpu\" )  # GUI를 사용할 수 없는 환경에서 설정, linux, docker 등\n",
    "# chrome_options.add_argument(f\"--window-size={ WINDOW_SIZE }\")  # 브라우저가 설정한 창크기로 실행됩니다.\n",
    "chrome_options.add_argument('--start-maximized')  # 브라우저가 최대화된 상태로 실행됩니다.\n",
    "chrome_options.add_argument('Content-Type=application/json; charset=utf-8')\n",
    " \n",
    "driver = webdriver.Chrome( executable_path=CHROMEDRIVER_PATH, chrome_options=chrome_options )\n",
    "driver.get( 'https://news.naver.com' )"
   ]
  },
  {
   "cell_type": "code",
   "execution_count": 10,
   "metadata": {},
   "outputs": [
    {
     "name": "stdout",
     "output_type": "stream",
     "text": [
      "Overwriting justwatch/justwatch/items.py\n"
     ]
    }
   ],
   "source": [
    "%%writefile justwatch/justwatch/items.py\n",
    "import scrapy\n",
    "\n",
    "class JustwatchItem(scrapy.Item):\n",
    "    title = scrapy.Field()"
   ]
  },
  {
   "cell_type": "code",
   "execution_count": 1,
   "metadata": {},
   "outputs": [
    {
     "name": "stdout",
     "output_type": "stream",
     "text": [
      "Writing justwatch/justwatch/spiders/spider.py\n"
     ]
    }
   ],
   "source": [
    "# %%writefile justwatch/justwatch/spiders/spider.py\n",
    "\n",
    "# aw"
   ]
  },
  {
   "cell_type": "code",
   "execution_count": 4,
   "metadata": {},
   "outputs": [
    {
     "data": {
      "text/plain": [
       "<200 https://www.justwatch.com/kr/%EB%8F%99%EC%98%81%EC%83%81%EC%84%9C%EB%B9%84%EC%8A%A4/netflix?content_type=movie&release_year_from=2022>"
      ]
     },
     "execution_count": 4,
     "metadata": {},
     "output_type": "execute_result"
    }
   ],
   "source": [
    "from fake_useragent import UserAgent\n",
    "\n",
    "url = 'https://www.justwatch.com/kr/%EB%8F%99%EC%98%81%EC%83%81%EC%84%9C%EB%B9%84%EC%8A%A4/netflix?content_type=movie&release_year_from=2022'\n",
    "headers = {\"User-Agent\": 'Mozilla/5.0 (Windows NT 10.0; Win64; x64) AppleWebKit/537.36 (KHTML, like Gecko) Chrome/99.0.4844.51 Safari/537.36'}\n",
    "req = requests.get(url, headers=headers)\n",
    "response = TextResponse(req.url, body=req.text, encoding=\"utf-8\") \n",
    "response"
   ]
  },
  {
   "cell_type": "code",
   "execution_count": null,
   "metadata": {},
   "outputs": [],
   "source": [
    "response.text"
   ]
  },
  {
   "cell_type": "code",
   "execution_count": 8,
   "metadata": {},
   "outputs": [
    {
     "data": {
      "text/plain": [
       "['https://www.justwatch.com/kr/영화/das-privileg-die-auserwahlten',\n",
       " 'https://www.justwatch.com/kr/영화/restless-2022',\n",
       " 'https://www.justwatch.com/kr/영화/neoneun-nayi-ufo',\n",
       " 'https://www.justwatch.com/kr/영화/tegsaseu-jeongitob-hagsal-2022',\n",
       " 'https://www.justwatch.com/kr/영화/behind-the-scenes-with-jane-campion',\n",
       " 'https://www.justwatch.com/kr/영화/eoleobeorin-sigan-sogeseo',\n",
       " 'https://www.justwatch.com/kr/영화/moreolsenseu',\n",
       " 'https://www.justwatch.com/kr/영화/ai-love-you',\n",
       " 'https://www.justwatch.com/kr/영화/the-weekend-away',\n",
       " 'https://www.justwatch.com/kr/영화/tyler-perrys-a-madea-homecoming',\n",
       " 'https://www.justwatch.com/kr/영화/bigbeogeu',\n",
       " 'https://www.justwatch.com/kr/영화/boiji-anhneun-ggeun',\n",
       " 'https://www.justwatch.com/kr/영화/fistful-of-vengeance',\n",
       " 'https://www.justwatch.com/kr/영화/downfall-the-case-against-boeing',\n",
       " 'https://www.justwatch.com/kr/영화/heart-shot',\n",
       " 'https://www.justwatch.com/kr/영화/haejeog-doggaebi-gisbal',\n",
       " 'https://www.justwatch.com/kr/영화/munich-the-edge-of-war',\n",
       " 'https://www.justwatch.com/kr/영화/forgive-us-our-trespasses',\n",
       " 'https://www.justwatch.com/kr/영화/tol-geol-2',\n",
       " 'https://www.justwatch.com/kr/영화/ali-wong-don-wong',\n",
       " 'https://www.justwatch.com/kr/영화/seuru-mai-windo',\n",
       " 'https://www.justwatch.com/kr/영화/ms-pat-yall-wanna-hear-something-crazy',\n",
       " 'https://www.justwatch.com/kr/영화/whindersson-nunes-e-de-mim-mesmo',\n",
       " 'https://www.justwatch.com/kr/영화/intu-deo-windeu',\n",
       " 'https://www.justwatch.com/kr/영화/cat-burglar',\n",
       " 'https://www.justwatch.com/kr/영화/erax',\n",
       " 'https://www.justwatch.com/kr/영화/surviving-paradise-a-family-tale',\n",
       " 'https://www.justwatch.com/kr/영화/mo-gilligan-theres-mo-to-life',\n",
       " 'https://www.justwatch.com/kr/영화/the-tinder-swindler',\n",
       " 'https://www.justwatch.com/kr/영화/looop-lapeta',\n",
       " 'https://www.justwatch.com/kr/영화/the-house-2022',\n",
       " 'https://www.justwatch.com/kr/영화/brazen',\n",
       " 'https://www.justwatch.com/kr/영화/home-team',\n",
       " 'https://www.justwatch.com/kr/영화/hwangmujiyi-goemul',\n",
       " 'https://www.justwatch.com/kr/영화/my-fathers-violin',\n",
       " 'https://www.justwatch.com/kr/영화/ask-taktikleri',\n",
       " 'https://www.justwatch.com/kr/영화/perfect-strangers',\n",
       " 'https://www.justwatch.com/kr/영화/four-to-dinner',\n",
       " 'https://www.justwatch.com/kr/영화/how-i-fell-in-love-with-a-gangster',\n",
       " 'https://www.justwatch.com/kr/영화/royeol-teuriteumeonteu']"
      ]
     },
     "execution_count": 8,
     "metadata": {},
     "output_type": "execute_result"
    }
   ],
   "source": [
    "links = response.xpath('//*[@id=\"base\"]/div[3]/div/div[2]/div[1]/div/div/a/@href').extract()\n",
    "links = list(map(response.urljoin, links))\n",
    "links\n",
    "# print(response.text)"
   ]
  },
  {
   "cell_type": "code",
   "execution_count": 35,
   "metadata": {},
   "outputs": [
    {
     "data": {
      "text/plain": [
       "<200 https://www.justwatch.com/kr/%EC%98%81%ED%99%94/das-privileg-die-auserwahlten>"
      ]
     },
     "execution_count": 35,
     "metadata": {},
     "output_type": "execute_result"
    }
   ],
   "source": [
    "url = 'https://www.justwatch.com/kr/영화/das-privileg-die-auserwahlten'\n",
    "headers = {\"User-Agent\": 'Mozilla/5.0 (Windows NT 10.0; Win64; x64) AppleWebKit/537.36 (KHTML, like Gecko) Chrome/99.0.4844.51 Safari/537.36'}\n",
    "req = requests.get(url, headers=headers)\n",
    "response = TextResponse(req.url, body=req.text, encoding=\"utf-8\") \n",
    "response"
   ]
  },
  {
   "cell_type": "code",
   "execution_count": 126,
   "metadata": {},
   "outputs": [],
   "source": [
    "\n",
    "title = response.css(\"div.title-block > div > h1::text\").get().strip()\n",
    "opening_date = response.css(\"div.title-block > div > span::text\").get().replace(\"(\",\"\").replace(\")\",\"\").strip()\n",
    "rating = response.css(\"div.title-info visible-xs visible-sm >div.jw-scoring-listing__rating > a::text\").get()\n",
    "just_rating = response.css('div.detail-infos > div > div > div > a::text')[0].get().strip()\n",
    "imdb_rating = response.css('div.detail-infos > div > div > div > a::text')[1].get().strip()\n",
    "genre = response.xpath('//*[@id=\"base\"]/div[2]/div/div[2]/div[2]/div/div[1]/div[1]/div/div[2]/span/text()').getall()     # 뽑아낸 값이 리스트형태로 뽑힘 str 형태로 바꿔야함 모르겠음..\n",
    "genre = \",\".join(genre).replace(\" \",\"\")\n",
    "runtime = response.xpath('//*[@id=\"base\"]/div[2]/div/div[2]/div[2]/div/div[1]/div[1]/div[3]/div[2]/text()').getall()\n",
    "runtime = \",\".join(runtime).replace(\" \",\"\")\n",
    "director = response.xpath('//*[@id=\"base\"]/div[2]/div/div[2]/div[2]/div/div[1]/div[1]/div[4]/div[2]/span/a/text()').getall() # 뽑아낸 값이 리스트형태로 뽑힘 str 형태로 바꿔야함 모르겠음..\n",
    "director = \",\".join(director).replace(\" \",\"\")\n",
    "actors = response.xpath('//*[@id=\"base\"]/div[2]/div/div[2]/div[2]/div/div[1]/div[3]/div/div/a/text()').getall() # 뽑아낸 값이 리스트형태로 뽑힘 str 형태로 바꿔야함 모르겠음...\n",
    "actors = \",\".join(actors).replace(\" \",\"\")\n",
    "synopsis = response.xpath('//*[@id=\"base\"]/div[2]/div/div[2]/div[2]/div/div[1]/div[4]/p/span/text()').get()\n",
    "\n",
    "\n",
    "\n",
    "\n",
    "# try:\n",
    "#     item['synopsis'] = response.xpath('//*[@id=\"base\"]/div[2]/div/div[2]/div[2]/div/div[1]/div[4]/p/span/text()').get()\n",
    "# except:\n",
    "#     item['synopsis']=None\n",
    "#print(\"제목:\",title_kor, \"개봉일:\",opening_date,\"저스트와치 평점:\", just_rating,\"IMDB 평점:\",imdb_rating, \"장르:\",genre, \"재생시간:\",runtime, \"감독:\",director,\"출연자:\", actors, \"시놉시스:\",synopsis)\n",
    "# # print(actors_list)    # 함수값 안에서의 출연진 값이 print 값으로 표시됨\n",
    "# yield item"
   ]
  },
  {
   "cell_type": "code",
   "execution_count": 125,
   "metadata": {},
   "outputs": [
    {
     "name": "stdout",
     "output_type": "stream",
     "text": [
      "더 프리빌리지,2022,None,59%,4.6 (3k),드라마,공포,SF,스릴러,1시간47분,FelixFuchssteiner,KatharinaSchöde,MaxSchimmelpfennig,LeavanAcken,TijanMarei,MilenaTscharntke,LiseRisomOlsen,RomanKnizka,NadeshdaBrennicke,HorstJanson,CarolineHartig,JeanetteSpassova,OlegTikhomirov,MauriceLattke,RojanJuanBarani\n"
     ]
    }
   ],
   "source": [
    "print(title, opening_date, rating, just_rating, imdb_rating, genre, runtime, director, actors, sep=',')"
   ]
  },
  {
   "cell_type": "code",
   "execution_count": 128,
   "metadata": {},
   "outputs": [
    {
     "data": {
      "text/plain": [
       "str"
      ]
     },
     "execution_count": 128,
     "metadata": {},
     "output_type": "execute_result"
    }
   ],
   "source": [
    "type(synopsis)"
   ]
  },
  {
   "cell_type": "code",
   "execution_count": 119,
   "metadata": {},
   "outputs": [
    {
     "data": {
      "text/plain": [
       "'4.6 (3k)'"
      ]
     },
     "execution_count": 119,
     "metadata": {},
     "output_type": "execute_result"
    }
   ],
   "source": [
    "# just_rating.strip()\n",
    "# opening_date.strip()\n",
    "imdb_rating.strip()"
   ]
  },
  {
   "cell_type": "code",
   "execution_count": null,
   "metadata": {},
   "outputs": [],
   "source": []
  },
  {
   "cell_type": "code",
   "execution_count": 54,
   "metadata": {},
   "outputs": [
    {
     "data": {
      "text/plain": [
       "'더 프리빌리지'"
      ]
     },
     "execution_count": 54,
     "metadata": {},
     "output_type": "execute_result"
    }
   ],
   "source": [
    "c = response.css(\"div.title-block > div > h1::text\").get().strip()\n",
    "c"
   ]
  },
  {
   "cell_type": "code",
   "execution_count": 130,
   "metadata": {},
   "outputs": [],
   "source": [
    "import pandas as pd"
   ]
  },
  {
   "cell_type": "code",
   "execution_count": 131,
   "metadata": {},
   "outputs": [],
   "source": [
    "list_data = ['2019-01-02',3.14,'ABC',100,True]\n",
    "series_data = pd.Series(list_data)"
   ]
  },
  {
   "cell_type": "code",
   "execution_count": null,
   "metadata": {},
   "outputs": [],
   "source": []
  },
  {
   "cell_type": "markdown",
   "metadata": {},
   "source": [
    "## test css"
   ]
  },
  {
   "cell_type": "code",
   "execution_count": 57,
   "metadata": {},
   "outputs": [
    {
     "name": "stdout",
     "output_type": "stream",
     "text": [
      "<200 https://www.justwatch.com/kr/%EC%98%81%ED%99%94/das-privileg-die-auserwahlten>\n"
     ]
    }
   ],
   "source": [
    "txt = response\n",
    "print(txt)"
   ]
  },
  {
   "cell_type": "code",
   "execution_count": null,
   "metadata": {},
   "outputs": [],
   "source": [
    "response.text"
   ]
  },
  {
   "cell_type": "code",
   "execution_count": 106,
   "metadata": {},
   "outputs": [],
   "source": [
    "# 장르,감독 배우\n",
    "\n",
    "\n",
    "genre = response.xpath('//*[@id=\"base\"]/div[2]/div/div[2]/div[2]/div/div[1]/div[1]/div/div[2]/span/text()').getall()     # 뽑아낸 값이 리스트형태로 뽑힘 str 형태로 바꿔야함 모르겠음..\n",
    "genre = \",\".join(genre).replace(\" \",\"\")\n",
    "runtime = response.xpath('//*[@id=\"base\"]/div[2]/div/div[2]/div[2]/div/div[1]/div[1]/div[3]/div[2]/text()').getall()\n",
    "runtime = \",\".join(runtime).replace(\" \",\"\")\n",
    "director = response.xpath('//*[@id=\"base\"]/div[2]/div/div[2]/div[2]/div/div[1]/div[1]/div[4]/div[2]/span/a/text()').getall() # 뽑아낸 값이 리스트형태로 뽑힘 str 형태로 바꿔야함 모르겠음..\n",
    "director = \",\".join(director).replace(\" \",\"\")\n",
    "actors = response.xpath('//*[@id=\"base\"]/div[2]/div/div[2]/div[2]/div/div[1]/div[3]/div/div/a/text()').getall() # 뽑아낸 값이 리스트형태로 뽑힘 str 형태로 바꿔야함 모르겠음...\n",
    "actors = \",\".join(actors).replace(\" \",\"\")"
   ]
  },
  {
   "cell_type": "code",
   "execution_count": 107,
   "metadata": {},
   "outputs": [
    {
     "data": {
      "text/plain": [
       "('드라마,공포,SF,스릴러',\n",
       " '1시간47분',\n",
       " 'FelixFuchssteiner,KatharinaSchöde',\n",
       " 'MaxSchimmelpfennig,LeavanAcken,TijanMarei,MilenaTscharntke,LiseRisomOlsen,RomanKnizka,NadeshdaBrennicke,HorstJanson,CarolineHartig,JeanetteSpassova,OlegTikhomirov,MauriceLattke,RojanJuanBarani')"
      ]
     },
     "execution_count": 107,
     "metadata": {},
     "output_type": "execute_result"
    }
   ],
   "source": [
    "genre, runtime, director, actors"
   ]
  },
  {
   "cell_type": "code",
   "execution_count": 88,
   "metadata": {},
   "outputs": [
    {
     "data": {
      "text/plain": [
       "'드라마 '"
      ]
     },
     "execution_count": 88,
     "metadata": {},
     "output_type": "execute_result"
    }
   ],
   "source": [
    "response.xpath('//*[@id=\"base\"]/div[2]/div/div[1]/div/aside/div[1]/div[3]/div[2]/div[2]/span/text()').extract_first()"
   ]
  },
  {
   "cell_type": "code",
   "execution_count": 98,
   "metadata": {},
   "outputs": [],
   "source": [
    "a = response.xpath('//*[@id=\"base\"]/div[2]/div/div[1]/div/aside/div[1]/div[3]/div[2]/div[2]/span/text()').extract()\n",
    "a = \",\".join(a).replace(\" \",\"\")"
   ]
  },
  {
   "cell_type": "code",
   "execution_count": 99,
   "metadata": {},
   "outputs": [
    {
     "data": {
      "text/plain": [
       "'드라마,공포,SF,스릴러'"
      ]
     },
     "execution_count": 99,
     "metadata": {},
     "output_type": "execute_result"
    }
   ],
   "source": [
    "a"
   ]
  },
  {
   "cell_type": "code",
   "execution_count": 100,
   "metadata": {},
   "outputs": [
    {
     "data": {
      "text/plain": [
       "str"
      ]
     },
     "execution_count": 100,
     "metadata": {},
     "output_type": "execute_result"
    }
   ],
   "source": [
    "type(a)"
   ]
  },
  {
   "cell_type": "code",
   "execution_count": null,
   "metadata": {},
   "outputs": [],
   "source": []
  }
 ],
 "metadata": {
  "interpreter": {
   "hash": "b3ba2566441a7c06988d0923437866b63cedc61552a5af99d1f4fb67d367b25f"
  },
  "kernelspec": {
   "display_name": "Python 3.8.8 ('base')",
   "language": "python",
   "name": "python3"
  },
  "language_info": {
   "codemirror_mode": {
    "name": "ipython",
    "version": 3
   },
   "file_extension": ".py",
   "mimetype": "text/x-python",
   "name": "python",
   "nbconvert_exporter": "python",
   "pygments_lexer": "ipython3",
   "version": "3.8.8"
  },
  "orig_nbformat": 4
 },
 "nbformat": 4,
 "nbformat_minor": 2
}
