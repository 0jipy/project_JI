{
 "cells": [
  {
   "cell_type": "code",
   "execution_count": 2,
   "metadata": {},
   "outputs": [
    {
     "name": "stdout",
     "output_type": "stream",
     "text": [
      "Collecting bs4\n",
      "  Downloading bs4-0.0.1.tar.gz (1.1 kB)\n",
      "  Preparing metadata (setup.py): started\n",
      "  Preparing metadata (setup.py): finished with status 'done'\n",
      "Requirement already satisfied: beautifulsoup4 in c:\\users\\jlune\\.conda\\envs\\vv\\lib\\site-packages (from bs4) (4.9.3)\n",
      "Requirement already satisfied: soupsieve>1.2 in c:\\users\\jlune\\.conda\\envs\\vv\\lib\\site-packages (from beautifulsoup4->bs4) (2.2.1)\n",
      "Building wheels for collected packages: bs4\n",
      "  Building wheel for bs4 (setup.py): started\n",
      "  Building wheel for bs4 (setup.py): finished with status 'done'\n",
      "  Created wheel for bs4: filename=bs4-0.0.1-py3-none-any.whl size=1273 sha256=cc6f97006e324a95c02d0594cbd93fea0868dc84461348d360b047faaf226c6f\n",
      "  Stored in directory: c:\\users\\jlune\\appdata\\local\\pip\\cache\\wheels\\75\\78\\21\\68b124549c9bdc94f822c02fb9aa3578a669843f9767776bca\n",
      "Successfully built bs4\n",
      "Installing collected packages: bs4\n",
      "Successfully installed bs4-0.0.1\n"
     ]
    }
   ],
   "source": [
    "!pip install selenium\n",
    "!pip install bs4"
   ]
  },
  {
   "cell_type": "code",
   "execution_count": 1,
   "metadata": {},
   "outputs": [
    {
     "name": "stderr",
     "output_type": "stream",
     "text": [
      "<ipython-input-1-d3dcf679450e>:5: DeprecationWarning: executable_path has been deprecated, please pass in a Service object\n",
      "  driver = webdriver.Chrome(r\"C:\\Users\\jlune\\carbon\\project_JI\\01.Selenium\\chromedriver_win32_99\\chromedriver.exe\")\n"
     ]
    }
   ],
   "source": [
    "from selenium import webdriver\n",
    "from bs4 import BeautifulSoup\n",
    "\n",
    "# Chrome 의 경우 chromedriver 의 위치를 지정해준다.\n",
    "driver = webdriver.Chrome(r\"C:\\Users\\jlune\\carbon\\project_JI\\01.Selenium\\chromedriver_win32_99\\chromedriver.exe\")\n",
    "# 암묵적으로 웹 자원 로드를 위해 3초까지 기다려 주는 옵션.\n",
    "driver.implicitly_wait(3)\n",
    "driver.get(\"https://m.kinolights.com/\")\n",
    "# driver.get(\"https://m.kinolights.com/title/3111\")  # 악마는 프라다를 입는다. 제목이나 다른것들을 가져와 보자. 테스트 거거"
   ]
  },
  {
   "cell_type": "code",
   "execution_count": 2,
   "metadata": {},
   "outputs": [],
   "source": [
    "req = driver.page_source\n",
    "soup = BeautifulSoup(req, 'html.parser')"
   ]
  },
  {
   "cell_type": "code",
   "execution_count": 3,
   "metadata": {},
   "outputs": [
    {
     "data": {
      "text/plain": [
       "'키노라이츠 – 영화 드라마 보기 전 필수 앱'"
      ]
     },
     "execution_count": 3,
     "metadata": {},
     "output_type": "execute_result"
    }
   ],
   "source": [
    "soup.title.text"
   ]
  },
  {
   "cell_type": "code",
   "execution_count": null,
   "metadata": {},
   "outputs": [],
   "source": [
    "print(soup)"
   ]
  },
  {
   "cell_type": "code",
   "execution_count": 5,
   "metadata": {},
   "outputs": [
    {
     "data": {
      "text/plain": [
       "[<h3 class=\"home-title\" data-v-7d2da874=\"\">오늘의 ‘왓챠’ 랭킹</h3>]"
      ]
     },
     "execution_count": 5,
     "metadata": {},
     "output_type": "execute_result"
    }
   ],
   "source": [
    "soup.select(\"#contents > div.main-content-wrap > div > section:nth-child(1) > div > div > div:nth-child(6) > div > div > div > h3\")"
   ]
  },
  {
   "cell_type": "code",
   "execution_count": null,
   "metadata": {},
   "outputs": [],
   "source": [
    "soup.select(\".home-title\")"
   ]
  },
  {
   "cell_type": "code",
   "execution_count": null,
   "metadata": {},
   "outputs": [],
   "source": [
    "soup"
   ]
  },
  {
   "cell_type": "code",
   "execution_count": 7,
   "metadata": {},
   "outputs": [
    {
     "name": "stderr",
     "output_type": "stream",
     "text": [
      "<ipython-input-7-ff89b201f824>:2: DeprecationWarning: executable_path has been deprecated, please pass in a Service object\n",
      "  driver = webdriver.Chrome(r\"C:\\Users\\jlune\\carbon\\project_JI\\01.Selenium\\chromedriver_win32_99\\chromedriver.exe\")\n"
     ]
    }
   ],
   "source": [
    "# Chrome 의 경우 chromedriver 의 위치를 지정해준다.\n",
    "driver = webdriver.Chrome(r\"C:\\Users\\jlune\\carbon\\project_JI\\01.Selenium\\chromedriver_win32_99\\chromedriver.exe\")\n",
    "# 암묵적으로 웹 자원 로드를 위해 3초까지 기다려 주는 옵션.\n",
    "driver.implicitly_wait(3)\n",
    "# driver.get(\"https://m.kinolights.com/\")\n",
    "driver.get(\"https://m.kinolights.com/title/3111\")  # 악마는 프라다를 입는다. 제목이나 다른것들을 가져와 보자. 테스트 거거\n",
    "req = driver.page_source\n",
    "soup2 = BeautifulSoup(req, 'html.parser')"
   ]
  },
  {
   "cell_type": "code",
   "execution_count": null,
   "metadata": {},
   "outputs": [],
   "source": [
    "//*[@id=\"contents\"]/div[2]/div[5]/div[1]/h3"
   ]
  },
  {
   "cell_type": "code",
   "execution_count": 18,
   "metadata": {},
   "outputs": [
    {
     "data": {
      "text/plain": [
       "'악마는 프라다를 입는다'"
      ]
     },
     "execution_count": 18,
     "metadata": {},
     "output_type": "execute_result"
    }
   ],
   "source": [
    "soup2.select_one(\".title-kr\").text"
   ]
  },
  {
   "cell_type": "code",
   "execution_count": 14,
   "metadata": {},
   "outputs": [
    {
     "name": "stdout",
     "output_type": "stream",
     "text": [
      "[<h3 class=\"title-kr\" data-v-7662a41b=\"\">악마는 프라다를 입는다</h3>]\n"
     ]
    }
   ],
   "source": [
    "print(soup2.select(\".title-kr\"))"
   ]
  },
  {
   "cell_type": "code",
   "execution_count": 19,
   "metadata": {},
   "outputs": [
    {
     "data": {
      "text/plain": [
       "[<p class=\"metadata\" data-v-7662a41b=\"\"><span class=\"metadata-item\" data-v-7662a41b=\"\">드라마 ·</span><span class=\"metadata-item\" data-v-7662a41b=\"\">2006</span></p>,\n",
       " <p class=\"synopsis\" data-v-7662a41b=\"\">최고의 패션 매거진 런웨이에 기적 같이 입사했지만 화려한 세계가 낯설기만 한 앤드리아. 편집장 미란다의 비서로 일하며 칼 같은 질타와 불가능해보이는 미션에 고군분투한다.</p>,\n",
       " <p data-v-635e77f5=\"\">앤드리아(앤해서웨이) 옷이 계속 바뀌는 장면 제일 짜릿</p>,\n",
       " <p data-v-635e77f5=\"\">덧없이 화려함 속에는 보이지 않는 스트레스가 뒤따르는 법.</p>,\n",
       " <p data-v-635e77f5=\"\"></p>,\n",
       " <p class=\"hidden\" data-v-7662a41b=\"\">악마는 프라다를 입는다 다시보기: 스트리밍, 다운로드(구매, 대여)</p>,\n",
       " <p class=\"hidden\" data-v-7662a41b=\"\">현재\n",
       " 디즈니+에서 악마는 프라다를 입는다을(를) 볼 수 있으며 웨이브, 티빙, 네이버 시리즈온, Google Play 무비 (자막), seezn, Apple TV+에서 유료 다운로드하실 수 있습니다.</p>]"
      ]
     },
     "execution_count": 19,
     "metadata": {},
     "output_type": "execute_result"
    }
   ],
   "source": [
    "soup2.select(\"p\")"
   ]
  },
  {
   "cell_type": "code",
   "execution_count": 31,
   "metadata": {},
   "outputs": [],
   "source": [
    "driver.get(\"https://m.kinolights.com/title/3111/reviews\")"
   ]
  },
  {
   "cell_type": "code",
   "execution_count": 32,
   "metadata": {},
   "outputs": [],
   "source": [
    "req = driver.page_source\n",
    "soup = BeautifulSoup(req,'html.parser')"
   ]
  },
  {
   "cell_type": "code",
   "execution_count": 23,
   "metadata": {},
   "outputs": [
    {
     "data": {
      "text/plain": [
       "[<p data-v-635e77f5=\"\">앤드리아(앤해서웨이) 옷이 계속 바뀌는 장면 제일 짜릿</p>,\n",
       " <p data-v-635e77f5=\"\">덧없이 화려함 속에는 보이지 않는 스트레스가 뒤따르는 법.</p>,\n",
       " <p data-v-635e77f5=\"\"></p>,\n",
       " <p data-v-635e77f5=\"\"></p>,\n",
       " <p data-v-635e77f5=\"\"></p>,\n",
       " <p data-v-635e77f5=\"\"></p>,\n",
       " <p data-v-635e77f5=\"\"></p>,\n",
       " <p data-v-635e77f5=\"\"></p>,\n",
       " <p data-v-635e77f5=\"\"></p>,\n",
       " <p data-v-635e77f5=\"\"></p>]"
      ]
     },
     "execution_count": 23,
     "metadata": {},
     "output_type": "execute_result"
    }
   ],
   "source": [
    "soup.select(\"p\")"
   ]
  },
  {
   "cell_type": "code",
   "execution_count": null,
   "metadata": {},
   "outputs": [],
   "source": [
    "#contents > div.all-review-container > div.review-area > div:nth-child(9) > div > div.review-wrap > a:nth-child(1) > div"
   ]
  },
  {
   "cell_type": "code",
   "execution_count": 33,
   "metadata": {},
   "outputs": [
    {
     "data": {
      "text/plain": [
       "[<div class=\"review-title\" data-v-635e77f5=\"\">\n",
       "           나이먹을수록 더 크게 다가오는 영화\n",
       "         </div>,\n",
       " <div class=\"review-title\" data-v-635e77f5=\"\">\n",
       "           일상 드라마 중에 이만한 영화는 없지 않을까? 각본도 연기도 모두 좋았던 영화.\n",
       "         </div>,\n",
       " <div class=\"review-title\" data-v-635e77f5=\"\">\n",
       "           명품으로 잔뜩 꾸민 평작.\n",
       "         </div>,\n",
       " <div class=\"review-title\" data-v-635e77f5=\"\">\n",
       "           촘촘한 스토리의 전개 속에 직장에 의외로 존재하는 독특한 두 캐릭터의 개성과 표현이 매력\n",
       "         </div>,\n",
       " <div class=\"review-title\" data-v-635e77f5=\"\">\n",
       "           왜 메릴 스트립을 롤모델로 꼽는지 알겠다\n",
       "         </div>,\n",
       " <div class=\"review-title\" data-v-635e77f5=\"\">\n",
       "           너는 무엇에든, 한 번이라도 이토록 뜨거운 사람이었는가.\n",
       " 저들의 길에 동의할 순 없을 지언정\n",
       " 경의를 보내지 않을 수 없음에\n",
       " 서글프다\n",
       "         </div>,\n",
       " <div class=\"review-title\" data-v-635e77f5=\"\">\n",
       "           겉모습이 다가 아니라는 교훈과\n",
       " (이 영화를)볼 때마다 다이어트+패션의 중요성을 상기하는 나 ㅋㅋㅋ\n",
       "         </div>,\n",
       " <div class=\"review-title\" data-v-635e77f5=\"\">\n",
       "           스토리보다는 오히려 연기쪽으로 더 좋았던 작품\n",
       "         </div>,\n",
       " <div class=\"review-title\" data-v-635e77f5=\"\">\n",
       "           사회초년생들이 느끼게될 사회의 잔혹함을 코메디로 승화시켰다\n",
       "         </div>,\n",
       " <div class=\"review-title\" data-v-635e77f5=\"\">\n",
       "           고등학교 때 부터 3번은 돌려본 인생 명작\n",
       "         </div>,\n",
       " <div class=\"review-title\" data-v-635e77f5=\"\">\n",
       "           명품과 명배우, 명연기\n",
       "         </div>,\n",
       " <div class=\"review-title\" data-v-635e77f5=\"\">\n",
       "           비합리한 행위들의 결과가 합리적?\n",
       "         </div>,\n",
       " <div class=\"review-title\" data-v-635e77f5=\"\">\n",
       "           일과 사랑 사이에서 고민될 때 도움 될 만한, 참고서 같은 영화.\n",
       "         </div>,\n",
       " <div class=\"review-title\" data-v-635e77f5=\"\">\n",
       "           이 영화가 재밌다는 이야기만 듣고 이제서야 본 영화\n",
       " 어린 앤 해서웨이 보는 재미가 있고 영화 인턴을 재밌게 봤다면 이 영화도 재미있게 볼 듯\n",
       " 메릴 스트립 연기는 미쳤다\n",
       "         </div>,\n",
       " <div class=\"review-title\" data-v-635e77f5=\"\">\n",
       "           손에 꼽을만한 드라마 명작\n",
       "         </div>,\n",
       " <div class=\"review-title\" data-v-635e77f5=\"\">\n",
       "           워너비들의 삶을 살짝 엿보기\n",
       "         </div>,\n",
       " <div class=\"review-title\" data-v-635e77f5=\"\">\n",
       "           직장 관련 영화를 코미디 장르라고 하지만 심도 있고 짜임새가 있습니다. 언기, 영상, 스토리 모두 좋네요.\n",
       "         </div>,\n",
       " <div class=\"review-title\" data-v-635e77f5=\"\">\n",
       "           다른 영화들과 달리 크게 힘든일 또는 힘들게하는사람 때문에 그 힘든모든것들을 탈출하거나 하지않고 그냥 잔잔하면서 패션 주 내용이라 좋았다\n",
       "         </div>,\n",
       " <div class=\"review-title\" data-v-635e77f5=\"\">\n",
       "           자신의 목표를 향해 나아가는 사람과 그녀를 이해 못 하는 주위 사람들의 생각의 차이를 느낄 수 있는 영화.\n",
       " 머물러 있으려는 내 자신에게 임펙트를 주는 영화.\n",
       "         </div>,\n",
       " <div class=\"review-title\" data-v-635e77f5=\"\">\n",
       "           기대하고 봤는데 진짜 뭔지를 모르겠음 그냥 ㄵ임 뭐가 재미있는지?\n",
       "         </div>,\n",
       " <div class=\"review-title\" data-v-635e77f5=\"\">\n",
       "           마치 스릴러를 보는 것 같았다. 이것은 스릴러로서 나의 평점이다. 영화 내내 주인공을 조마조마하게 바라보다가, 마지막 10분에서는 마음이 산산이 부서지는 것 같았다.\n",
       "         </div>,\n",
       " <div class=\"review-title\" data-v-635e77f5=\"\">\n",
       "           누구나 다 겪는 여느 사회 초년생의 좌충우돌 천방지축 적응기\n",
       "         </div>,\n",
       " <div class=\"review-title\" data-v-635e77f5=\"\">\n",
       "           그곳에 맞는 옷과 성격이 있다.\n",
       "         </div>,\n",
       " <div class=\"review-title\" data-v-635e77f5=\"\">\n",
       "           그럭저럭.\n",
       "         </div>,\n",
       " <div class=\"review-title\" data-v-635e77f5=\"\">\n",
       "           잘못된 패션은 없지만 무슨옷을 입었는지는 알아야 되는 이유.\n",
       "         </div>,\n",
       " <div class=\"review-title\" data-v-635e77f5=\"\">\n",
       "           프로가 되는길이란 무척 어렵고 험한길이다. 모두에게나 다 자기에게 맞는 옷이있다는것을.\n",
       "         </div>,\n",
       " <div class=\"review-title\" data-v-635e77f5=\"\">\n",
       "           이 영화는 무엇보다 연출이 너무 좋다..\n",
       "         </div>,\n",
       " <div class=\"review-title\" data-v-635e77f5=\"\">\n",
       "           너무나 재밌었다. 결말도 완벽!\n",
       "         </div>,\n",
       " <div class=\"review-title\" data-v-635e77f5=\"\">\n",
       "           영화도 정말 좋고 말하고자 하는 게 무엇인지도 알겠지만 방법을 좀 달리 했으면 더 좋았을 것\n",
       "         </div>,\n",
       " <div class=\"review-title\" data-v-635e77f5=\"\">\n",
       "           일년에 한번 이상은 꼭 보는 영화. 내게 삶에 대한 어떤 동기부여를 준다.\n",
       "         </div>,\n",
       " <div class=\"review-title\" data-v-635e77f5=\"\">\n",
       "           너무 사랑해 ㅠㅠㅠㅠ\n",
       "         </div>,\n",
       " <div class=\"review-title\" data-v-635e77f5=\"\">\n",
       "           .\n",
       "         </div>,\n",
       " <div class=\"review-title\" data-v-635e77f5=\"\">\n",
       "           앤 해서웨이의 눈물나는 역경딛기\n",
       "         </div>,\n",
       " <div class=\"review-title\" data-v-635e77f5=\"\">\n",
       "           ❤️\n",
       "         </div>,\n",
       " <div class=\"review-title\" data-v-635e77f5=\"\">\n",
       "           서로의 소중함이 다른 그 시선\n",
       "         </div>,\n",
       " <div class=\"review-title\" data-v-635e77f5=\"\">\n",
       "           남친 개빡쳐\n",
       "         </div>,\n",
       " <div class=\"review-title\" data-v-635e77f5=\"\">\n",
       "           사회 초년생의 유쾌한 이야기로 공감과 웃음을 준다.\n",
       "         </div>]"
      ]
     },
     "execution_count": 33,
     "metadata": {},
     "output_type": "execute_result"
    }
   ],
   "source": [
    "soup.select(\".review-title\")"
   ]
  },
  {
   "cell_type": "code",
   "execution_count": null,
   "metadata": {},
   "outputs": [],
   "source": []
  }
 ],
 "metadata": {
  "interpreter": {
   "hash": "e08354e700eb3ddbac8177cd6172bbfd21b8370c2ad096419acef00e0fcc09a0"
  },
  "kernelspec": {
   "display_name": "Python 3.8.8 ('vv')",
   "language": "python",
   "name": "python3"
  },
  "language_info": {
   "codemirror_mode": {
    "name": "ipython",
    "version": 3
   },
   "file_extension": ".py",
   "mimetype": "text/x-python",
   "name": "python",
   "nbconvert_exporter": "python",
   "pygments_lexer": "ipython3",
   "version": "3.8.8"
  },
  "orig_nbformat": 4
 },
 "nbformat": 4,
 "nbformat_minor": 2
}
