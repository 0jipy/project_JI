{
  "cells": [
    {
      "cell_type": "markdown",
      "metadata": {
        "id": "jy7US1am99rK"
      },
      "source": [
        "### playnomore\n",
        "- http://playnomore.co.kr/\n",
        "- scrapy에서 fake-useragent 사용\n",
        "- scrapy를 실행할때 아규먼트를 설정해서 실행\n",
        "- pipelines에서 데이터 베이스로 데이터를 저장"
      ]
    },
    {
      "cell_type": "code",
      "execution_count": 1,
      "metadata": {
        "id": "ShzDboaD99rO"
      },
      "outputs": [],
      "source": [
        "import scrapy\n",
        "import requests\n",
        "from scrapy.http import TextResponse"
      ]
    },
    {
      "cell_type": "markdown",
      "metadata": {
        "id": "s-gl8LUx99rP"
      },
      "source": [
        "#### 1. 프로젝트 생성"
      ]
    },
    {
      "cell_type": "code",
      "execution_count": 6,
      "metadata": {
        "id": "c14-fOE499rP",
        "outputId": "68fd9e54-a356-4612-90cb-b3d7ba57c08f"
      },
      "outputs": [
        {
          "name": "stderr",
          "output_type": "stream",
          "text": [
            "rm: cannot remove 'playnomore': Device or resource busy\n"
          ]
        },
        {
          "name": "stdout",
          "output_type": "stream",
          "text": [
            "New Scrapy project 'playnomore', using template directory 'C:\\ProgramData\\Anaconda3\\lib\\site-packages\\scrapy\\templates\\project', created in:\n",
            "    c:\\Users\\jlune\\carbon\\01.MachineLearning\\91.크롤링\\playnomore\n",
            "\n",
            "You can start your first spider with:\n",
            "    cd playnomore\n",
            "    scrapy genspider example example.com\n"
          ]
        }
      ],
      "source": [
        "!rm -rf playnomore\n",
        "!scrapy startproject playnomore"
      ]
    },
    {
      "cell_type": "markdown",
      "metadata": {
        "id": "AfLmk_hd99rQ"
      },
      "source": [
        "#### 2. items.py\n",
        "- title, price, img, link"
      ]
    },
    {
      "cell_type": "code",
      "execution_count": 2,
      "metadata": {
        "id": "aBo4MAlS99rQ",
        "outputId": "0ac728e1-ae27-4e3c-f93e-d2195cd92546"
      },
      "outputs": [
        {
          "name": "stdout",
          "output_type": "stream",
          "text": [
            "Overwriting playnomore/playnomore/items.py\n"
          ]
        }
      ],
      "source": [
        "%%writefile playnomore/playnomore/items.py\n",
        "import scrapy\n",
        "\n",
        "class PlaynomoreItem(scrapy.Item):\n",
        "    title = scrapy.Field()\n",
        "    price = scrapy.Field()\n",
        "    img = scrapy.Field()\n",
        "    link = scrapy.Field()"
      ]
    },
    {
      "cell_type": "markdown",
      "metadata": {
        "id": "6pj7L9-z99rR"
      },
      "source": [
        "#### 3. xpath 확인\n",
        "- 링크\n",
        "- 링크 -> 상세페이지(제목, 이미지URL, 가격)\n",
        "- fake_useragent 설치\n",
        "    - pip install fake_useragent"
      ]
    },
    {
      "cell_type": "code",
      "execution_count": 3,
      "metadata": {
        "id": "Rn3qLRan99rR",
        "outputId": "0d034391-cc14-4240-d8e9-2dae750c48a4"
      },
      "outputs": [
        {
          "data": {
            "text/plain": [
              "<200 http://playnomore.co.kr/category/bag/24/>"
            ]
          },
          "execution_count": 3,
          "metadata": {},
          "output_type": "execute_result"
        }
      ],
      "source": [
        "from fake_useragent import UserAgent\n",
        "url = \"http://playnomore.co.kr/category/bag/24/\"\n",
        "# headers = { \"User-Agent\": UserAgent().chrome }\n",
        "headers = { \"User-Agent\": \"Mozilla/5.0 (Macintosh; Intel Mac OS X 10_15_1) AppleWebKit/537.36 (KHTML, like Gecko) Chrome/78.0.3904.108 Safari/537.36\" }\n",
        "req = requests.get(url, headers=headers)\n",
        "response = TextResponse(req.url, body=req.text, encoding=\"utf-8\") \n",
        "response"
      ]
    },
    {
      "cell_type": "code",
      "execution_count": 4,
      "metadata": {
        "id": "mhzq_4Hf99rS"
      },
      "outputs": [],
      "source": [
        "# 링크\n",
        "links = response.xpath(\n",
        "    '//*[@id=\"contents\"]/div[2]/div/ul/li/div/a/@href'\n",
        ").extract()\n",
        "links = list(map(response.urljoin, links))\n",
        "# urljoin이란 기능은 전체 URl \"http://playnomore.co.kr/category/bag/24/\" 에 + 세부 url을 붙여주는 기능을 한다."
      ]
    },
    {
      "cell_type": "code",
      "execution_count": 17,
      "metadata": {},
      "outputs": [
        {
          "data": {
            "text/plain": [
              "'/product/detail.html?product_no=572&cate_no=24&display_group=1'"
            ]
          },
          "execution_count": 17,
          "metadata": {},
          "output_type": "execute_result"
        }
      ],
      "source": [
        "# links = response.xpath(\n",
        "#     '//*[@id=\"contents\"]/div[2]/div/ul/li/div/a/@href'\n",
        "# ).extract()\n",
        "# links[0]"
      ]
    },
    {
      "cell_type": "code",
      "execution_count": 16,
      "metadata": {},
      "outputs": [
        {
          "data": {
            "text/plain": [
              "['http://playnomore.co.kr/product/detail.html?product_no=572&cate_no=24&display_group=1',\n",
              " 'http://playnomore.co.kr/product/detail.html?product_no=574&cate_no=24&display_group=1',\n",
              " 'http://playnomore.co.kr/product/detail.html?product_no=507&cate_no=24&display_group=1',\n",
              " 'http://playnomore.co.kr/product/detail.html?product_no=506&cate_no=24&display_group=1',\n",
              " 'http://playnomore.co.kr/product/detail.html?product_no=580&cate_no=24&display_group=1',\n",
              " 'http://playnomore.co.kr/product/detail.html?product_no=581&cate_no=24&display_group=1',\n",
              " 'http://playnomore.co.kr/product/detail.html?product_no=552&cate_no=24&display_group=1',\n",
              " 'http://playnomore.co.kr/product/detail.html?product_no=534&cate_no=24&display_group=1',\n",
              " 'http://playnomore.co.kr/product/detail.html?product_no=532&cate_no=24&display_group=1',\n",
              " 'http://playnomore.co.kr/product/detail.html?product_no=575&cate_no=24&display_group=1',\n",
              " 'http://playnomore.co.kr/product/detail.html?product_no=573&cate_no=24&display_group=1',\n",
              " 'http://playnomore.co.kr/product/detail.html?product_no=545&cate_no=24&display_group=1',\n",
              " 'http://playnomore.co.kr/product/detail.html?product_no=547&cate_no=24&display_group=1',\n",
              " 'http://playnomore.co.kr/product/detail.html?product_no=546&cate_no=24&display_group=1',\n",
              " 'http://playnomore.co.kr/product/detail.html?product_no=582&cate_no=24&display_group=1']"
            ]
          },
          "execution_count": 16,
          "metadata": {},
          "output_type": "execute_result"
        }
      ],
      "source": [
        "# links"
      ]
    },
    {
      "cell_type": "code",
      "execution_count": 5,
      "metadata": {},
      "outputs": [
        {
          "data": {
            "text/plain": [
              "['http://playnomore.co.kr/product/detail.html?product_no=572&cate_no=24&display_group=1',\n",
              " 'http://playnomore.co.kr/product/detail.html?product_no=574&cate_no=24&display_group=1',\n",
              " 'http://playnomore.co.kr/product/detail.html?product_no=507&cate_no=24&display_group=1',\n",
              " 'http://playnomore.co.kr/product/detail.html?product_no=506&cate_no=24&display_group=1',\n",
              " 'http://playnomore.co.kr/product/detail.html?product_no=580&cate_no=24&display_group=1',\n",
              " 'http://playnomore.co.kr/product/detail.html?product_no=581&cate_no=24&display_group=1',\n",
              " 'http://playnomore.co.kr/product/detail.html?product_no=552&cate_no=24&display_group=1',\n",
              " 'http://playnomore.co.kr/product/detail.html?product_no=534&cate_no=24&display_group=1',\n",
              " 'http://playnomore.co.kr/product/detail.html?product_no=532&cate_no=24&display_group=1',\n",
              " 'http://playnomore.co.kr/product/detail.html?product_no=575&cate_no=24&display_group=1',\n",
              " 'http://playnomore.co.kr/product/detail.html?product_no=573&cate_no=24&display_group=1',\n",
              " 'http://playnomore.co.kr/product/detail.html?product_no=545&cate_no=24&display_group=1',\n",
              " 'http://playnomore.co.kr/product/detail.html?product_no=547&cate_no=24&display_group=1',\n",
              " 'http://playnomore.co.kr/product/detail.html?product_no=546&cate_no=24&display_group=1',\n",
              " 'http://playnomore.co.kr/product/detail.html?product_no=582&cate_no=24&display_group=1']"
            ]
          },
          "execution_count": 5,
          "metadata": {},
          "output_type": "execute_result"
        }
      ],
      "source": [
        "links"
      ]
    },
    {
      "cell_type": "code",
      "execution_count": 6,
      "metadata": {
        "id": "OncSb1Yf99rS",
        "outputId": "a9cbf6b5-357b-44b0-8679-022b54a87139"
      },
      "outputs": [
        {
          "data": {
            "text/plain": [
              "<200 http://playnomore.co.kr/product/20off-180-micro-baguette-white/572/?cate_no=24&display_group=1>"
            ]
          },
          "execution_count": 6,
          "metadata": {},
          "output_type": "execute_result"
        }
      ],
      "source": [
        "# 상세페이지 : 제목, 가격, 이미지URL\n",
        "url = links[0]\n",
        "headers = { \"User-Agent\": \"Mozilla/5.0 (Macintosh; Intel Mac OS X 10_15_1) AppleWebKit/537.36 (KHTML, like Gecko) Chrome/78.0.3904.108 Safari/537.36\" }\n",
        "req = requests.get(url, headers=headers)\n",
        "response = TextResponse(req.url, body=req.text, encoding=\"utf-8\") \n",
        "response"
      ]
    },
    {
      "cell_type": "code",
      "execution_count": 7,
      "metadata": {
        "id": "2WNJI-tS99rT",
        "outputId": "9ba291f6-d18b-45c4-a8c8-7b382b5ad1b8"
      },
      "outputs": [
        {
          "data": {
            "text/plain": [
              "('20%off  MICRO BAGUETTE white',\n",
              " '$ 144',\n",
              " 'http://playnomore.co.kr/web/product/big/202007/ad23b70dcdd2091e4b243dd198c6f414.jpg',\n",
              " [],\n",
              " ['20%off ', ' MICRO BAGUETTE ', 'white'])"
            ]
          },
          "execution_count": 7,
          "metadata": {},
          "output_type": "execute_result"
        }
      ],
      "source": [
        "title1 = response.xpath(\n",
        "        '//*[@id=\"contents\"]/div[1]/div[1]/div[2]/div[1]/font/text()'\n",
        "    ).extract()\n",
        "    # //*[@id=\"contents\"]/div[1]/div[1]/div[2]/div[1]\n",
        "    # //*[@id=\"contents\"]/div[1]/div[1]/div[2]/div[1]/text()[1]\n",
        "title2 = response.xpath(\n",
        "        '//*[@id=\"contents\"]/div[1]/div[1]/div[2]/div[1]/text()'\n",
        "    ).extract()\n",
        "title = \"\".join(title1) + \"\".join(title2)\n",
        "price = response.xpath(\n",
        "        '//*[@id=\"contents\"]/div[1]/div[1]/div[2]/div[2]/text()'\n",
        "    ).extract()[0]\n",
        "img = \"http:\" + response.xpath(\n",
        "        '//*[@id=\"contents\"]/div[1]/div[1]/div[1]/div[1]/img/@src'\n",
        "    ).extract()[0]\n",
        "title, price, img, title1, title2"
      ]
    },
    {
      "cell_type": "markdown",
      "metadata": {
        "id": "yyhAUiqF99rT"
      },
      "source": [
        "#### 4. spider.py\n",
        "- scrapy-fake-useragent 설치\n",
        "    - pip install scrapy-fake-useragent"
      ]
    },
    {
      "cell_type": "code",
      "execution_count": 8,
      "metadata": {
        "id": "EH4m4kyg99rT",
        "outputId": "3fd972c3-2930-4814-aeeb-bc4d5c9a66c2"
      },
      "outputs": [
        {
          "name": "stdout",
          "output_type": "stream",
          "text": [
            "fake-useragent                     0.1.11\n",
            "scrapy-fake-useragent              1.4.4\n"
          ]
        }
      ],
      "source": [
        "!pip list | grep fake"
      ]
    },
    {
      "cell_type": "code",
      "execution_count": 9,
      "metadata": {
        "id": "E98Vk3ZR99rU",
        "outputId": "b171ab84-de05-40ba-d9e1-5bb5416e4e54"
      },
      "outputs": [
        {
          "name": "stdout",
          "output_type": "stream",
          "text": [
            "Overwriting playnomore/playnomore/spiders/spider.py\n"
          ]
        }
      ],
      "source": [
        "%%writefile playnomore/playnomore/spiders/spider.py\n",
        "import scrapy\n",
        "from playnomore.items import PlaynomoreItem\n",
        "\n",
        "class PlaynomoreSpider(scrapy.Spider):\n",
        "    name = \"Playnomore\"\n",
        "    custom_settings = {\n",
        "        'DOWNLOADER_MIDDLEWARES': {\n",
        "            'scrapy.downloadermiddlewares.useragent.UserAgentMiddleware': None,\n",
        "            'scrapy_fake_useragent.middleware.RandomUserAgentMiddleware': 400,\n",
        "        }\n",
        "    }\n",
        "    \n",
        "    def start_requests(self):\n",
        "        url = \"http://playnomore.co.kr/category/bag/24/\"\n",
        "        yield scrapy.Request(url, callback=self.parse)\n",
        "        \n",
        "    def parse(self, response):\n",
        "        links = response.xpath('//*[@id=\"contents\"]/div[2]/div/ul/li/div/a/@href').extract()\n",
        "        links = list(map(response.urljoin, links))\n",
        "        for link in links:\n",
        "            yield scrapy.Request(link, callback=self.page_parse)\n",
        "    \n",
        "    def page_parse(self, response):\n",
        "        item = PlaynomoreItem()\n",
        "        title1 = response.xpath('//*[@id=\"contents\"]/div[1]/div[1]/div[2]/div[1]/font/text()').extract()\n",
        "        title2 = response.xpath('//*[@id=\"contents\"]/div[1]/div[1]/div[2]/div[1]/text()').extract()\n",
        "        item[\"title\"] = \"\".join(title1) + \"\".join(title2)\n",
        "        item[\"price\"] = response.xpath('//*[@id=\"contents\"]/div[1]/div[1]/div[2]/div[2]/text()').extract()[0]\n",
        "        item[\"img\"] = \"http:\" + response.xpath('//*[@id=\"contents\"]/div[1]/div[1]/div[1]/div[1]/img/@src').extract()[0]\n",
        "        item[\"link\"] = response.url\n",
        "        yield item"
      ]
    },
    {
      "cell_type": "code",
      "execution_count": 11,
      "metadata": {
        "id": "j2Y37np199rU",
        "outputId": "ac9f6a72-df08-4dde-e18e-a12cb6a4580a"
      },
      "outputs": [
        {
          "name": "stdout",
          "output_type": "stream",
          "text": [
            "Overwriting run.sh\n"
          ]
        }
      ],
      "source": [
        "%%writefile run.sh\n",
        "cd playnomore\n",
        "scrapy crawl Playnomore -o playnomore.csv"
      ]
    },
    {
      "cell_type": "code",
      "execution_count": 12,
      "metadata": {
        "id": "7brKZb2w99rU"
      },
      "outputs": [],
      "source": [
        "!chmod +x run.sh"
      ]
    },
    {
      "cell_type": "code",
      "execution_count": 13,
      "metadata": {
        "collapsed": true,
        "id": "QbKPtNrk99rV",
        "outputId": "8f6c9d5a-7d29-40d9-bf0e-327083a2d39e"
      },
      "outputs": [
        {
          "name": "stderr",
          "output_type": "stream",
          "text": [
            "'.'��(��) ���� �Ǵ� �ܺ� ����, ������ �� �ִ� ���α׷�, �Ǵ�\n",
            "��ġ ������ �ƴմϴ�.\n"
          ]
        }
      ],
      "source": [
        "!./run.sh"
      ]
    },
    {
      "cell_type": "code",
      "execution_count": 10,
      "metadata": {
        "id": "WCzlTkB499rV",
        "outputId": "7cdb2c3a-75a9-4f93-ed3b-af8e7796ffd4"
      },
      "outputs": [
        {
          "data": {
            "text/html": [
              "<div>\n",
              "<style scoped>\n",
              "    .dataframe tbody tr th:only-of-type {\n",
              "        vertical-align: middle;\n",
              "    }\n",
              "\n",
              "    .dataframe tbody tr th {\n",
              "        vertical-align: top;\n",
              "    }\n",
              "\n",
              "    .dataframe thead th {\n",
              "        text-align: right;\n",
              "    }\n",
              "</style>\n",
              "<table border=\"1\" class=\"dataframe\">\n",
              "  <thead>\n",
              "    <tr style=\"text-align: right;\">\n",
              "      <th></th>\n",
              "      <th>img</th>\n",
              "      <th>link</th>\n",
              "      <th>price</th>\n",
              "      <th>title</th>\n",
              "    </tr>\n",
              "  </thead>\n",
              "  <tbody>\n",
              "    <tr>\n",
              "      <th>14</th>\n",
              "      <td>http://playnomore.co.kr/web/product/big/202101...</td>\n",
              "      <td>http://playnomore.co.kr/product/50off-180-rain...</td>\n",
              "      <td>$ 90</td>\n",
              "      <td>50%off  RAINBOW HOBO almond</td>\n",
              "    </tr>\n",
              "  </tbody>\n",
              "</table>\n",
              "</div>"
            ],
            "text/plain": [
              "                                                  img  \\\n",
              "14  http://playnomore.co.kr/web/product/big/202101...   \n",
              "\n",
              "                                                 link price  \\\n",
              "14  http://playnomore.co.kr/product/50off-180-rain...  $ 90   \n",
              "\n",
              "                          title  \n",
              "14  50%off  RAINBOW HOBO almond  "
            ]
          },
          "execution_count": 10,
          "metadata": {},
          "output_type": "execute_result"
        }
      ],
      "source": [
        "import pandas as pd\n",
        "df = pd.read_csv(\"playnomore/playnomore.csv\")\n",
        "df.tail(1)"
      ]
    },
    {
      "cell_type": "markdown",
      "metadata": {
        "id": "55OmuXie99rV"
      },
      "source": [
        "#### 5. argument 설정"
      ]
    },
    {
      "cell_type": "code",
      "execution_count": null,
      "metadata": {
        "id": "1SN5CgGD99rV",
        "outputId": "536c9bdc-bf93-4623-b16e-6055de41a547"
      },
      "outputs": [
        {
          "name": "stdout",
          "output_type": "stream",
          "text": [
            "Overwriting playnomore/playnomore/spiders/spider.py\n"
          ]
        }
      ],
      "source": [
        "%%writefile playnomore/playnomore/spiders/spider.py\n",
        "import scrapy\n",
        "from playnomore.items import PlaynomoreItem\n",
        "\n",
        "class PlaynomoreSpider(scrapy.Spider):\n",
        "    name = \"Playnomore\"\n",
        "    custom_settings = {\n",
        "        'DOWNLOADER_MIDDLEWARES': {\n",
        "            'scrapy.downloadermiddlewares.useragent.UserAgentMiddleware': None,\n",
        "            'scrapy_fake_useragent.middleware.RandomUserAgentMiddleware': 400,\n",
        "        }\n",
        "    }\n",
        "    \n",
        "    def __init__(self, category1=\"bag\", category2=24, **kwargs):\n",
        "        self.start_url = \"http://playnomore.co.kr/category/{}/{}/\".format(category1, category2)\n",
        "        super().__init__(**kwargs)\n",
        "        \n",
        "    def start_requests(self):\n",
        "        url = self.start_url\n",
        "        yield scrapy.Request(url, callback=self.parse)\n",
        "        \n",
        "    def parse(self, response):\n",
        "        links = response.xpath('//*[@id=\"contents\"]/div[2]/div/ul/li/div/a/@href').extract()\n",
        "        links = list(map(response.urljoin, links))\n",
        "        for link in links:\n",
        "            yield scrapy.Request(link, callback=self.page_parse)\n",
        "    \n",
        "    def page_parse(self, response):\n",
        "        item = PlaynomoreItem()\n",
        "        title1 = response.xpath('//*[@id=\"contents\"]/div[1]/div[1]/div[2]/div[1]/font/text()').extract()\n",
        "        title2 = response.xpath('//*[@id=\"contents\"]/div[1]/div[1]/div[2]/div[1]/text()').extract()\n",
        "        item[\"title\"] = \"\".join(title1) + \"\".join(title2)\n",
        "        item[\"price\"] = response.xpath('//*[@id=\"contents\"]/div[1]/div[1]/div[2]/div[2]/text()').extract()[0]\n",
        "        item[\"img\"] = \"http:\" + response.xpath('//*[@id=\"contents\"]/div[1]/div[1]/div[1]/div[1]/img/@src').extract()[0]\n",
        "        item[\"link\"] = response.url\n",
        "        yield item"
      ]
    },
    {
      "cell_type": "code",
      "execution_count": null,
      "metadata": {
        "id": "citX5OWx99rW",
        "outputId": "ee0fa543-2454-4b58-a4c6-0c92c31a9c59"
      },
      "outputs": [
        {
          "name": "stdout",
          "output_type": "stream",
          "text": [
            "Overwriting run.sh\n"
          ]
        }
      ],
      "source": [
        "%%writefile run.sh\n",
        "cd playnomore\n",
        "scrapy crawl Playnomore -o playnomore2.csv -a category1=apparel -a category2=26"
      ]
    },
    {
      "cell_type": "code",
      "execution_count": null,
      "metadata": {
        "collapsed": true,
        "id": "Er4c9iP199rW",
        "outputId": "ff7b14cd-34d2-4d87-844d-f5d8fd8c56b3"
      },
      "outputs": [
        {
          "name": "stderr",
          "output_type": "stream",
          "text": [
            "'.'��(��) ���� �Ǵ� �ܺ� ����, ������ �� �ִ� ���α׷�, �Ǵ�\n",
            "��ġ ������ �ƴմϴ�.\n"
          ]
        }
      ],
      "source": [
        "!./run.sh"
      ]
    },
    {
      "cell_type": "code",
      "execution_count": null,
      "metadata": {
        "id": "ZOu4NCZl99rW",
        "outputId": "9ef05300-79d4-4f20-dbb8-7a156a720b0a"
      },
      "outputs": [
        {
          "data": {
            "text/html": [
              "<div>\n",
              "<style scoped>\n",
              "    .dataframe tbody tr th:only-of-type {\n",
              "        vertical-align: middle;\n",
              "    }\n",
              "\n",
              "    .dataframe tbody tr th {\n",
              "        vertical-align: top;\n",
              "    }\n",
              "\n",
              "    .dataframe thead th {\n",
              "        text-align: right;\n",
              "    }\n",
              "</style>\n",
              "<table border=\"1\" class=\"dataframe\">\n",
              "  <thead>\n",
              "    <tr style=\"text-align: right;\">\n",
              "      <th></th>\n",
              "      <th>img</th>\n",
              "      <th>link</th>\n",
              "      <th>price</th>\n",
              "      <th>title</th>\n",
              "    </tr>\n",
              "  </thead>\n",
              "  <tbody>\n",
              "    <tr>\n",
              "      <th>14</th>\n",
              "      <td>http://playnomore.co.kr/web/product/big/202007...</td>\n",
              "      <td>http://playnomore.co.kr/product/20off-180-micr...</td>\n",
              "      <td>$ 144</td>\n",
              "      <td>20%off  MICRO BAGUETTE white</td>\n",
              "    </tr>\n",
              "  </tbody>\n",
              "</table>\n",
              "</div>"
            ],
            "text/plain": [
              "                                                  img  \\\n",
              "14  http://playnomore.co.kr/web/product/big/202007...   \n",
              "\n",
              "                                                 link  price  \\\n",
              "14  http://playnomore.co.kr/product/20off-180-micr...  $ 144   \n",
              "\n",
              "                           title  \n",
              "14  20%off  MICRO BAGUETTE white  "
            ]
          },
          "execution_count": 34,
          "metadata": {},
          "output_type": "execute_result"
        }
      ],
      "source": [
        "import pandas as pd\n",
        "df = pd.read_csv(\"playnomore/playnomore2.csv\")\n",
        "df.tail(1)"
      ]
    },
    {
      "cell_type": "code",
      "execution_count": null,
      "metadata": {},
      "outputs": [
        {
          "data": {
            "text/plain": [
              "0     http://playnomore.co.kr/web/product/big/202101...\n",
              "1     http://playnomore.co.kr/web/product/big/201910...\n",
              "2     http://playnomore.co.kr/web/product/big/202007...\n",
              "3     http://playnomore.co.kr/web/product/big/202009...\n",
              "4     http://playnomore.co.kr/web/product/big/202103...\n",
              "5     http://playnomore.co.kr/web/product/big/201910...\n",
              "6     http://playnomore.co.kr/web/product/big/201910...\n",
              "7     http://playnomore.co.kr/web/product/big/202007...\n",
              "8     http://playnomore.co.kr/web/product/big/202007...\n",
              "9     http://playnomore.co.kr/web/product/big/202101...\n",
              "10    http://playnomore.co.kr/web/product/big/202101...\n",
              "11    http://playnomore.co.kr/web/product/big/202007...\n",
              "12    http://playnomore.co.kr/web/product/big/202102...\n",
              "13    http://playnomore.co.kr/web/product/big/202007...\n",
              "14    http://playnomore.co.kr/web/product/big/202007...\n",
              "Name: img, dtype: object"
            ]
          },
          "execution_count": 37,
          "metadata": {},
          "output_type": "execute_result"
        }
      ],
      "source": [
        "df[\"img\"]"
      ]
    },
    {
      "cell_type": "markdown",
      "metadata": {
        "id": "97RBbFi-99rW"
      },
      "source": [
        "#### 6. Mongodb에 저장\n",
        "- pymongo를 pipelines.py에 적용\n",
        "- pip install pymongo==2.8.1"
      ]
    },
    {
      "cell_type": "code",
      "execution_count": null,
      "metadata": {
        "id": "p-pas_dN99rW",
        "outputId": "07042f7f-5b90-4611-f640-c83bad0ab8eb"
      },
      "outputs": [
        {
          "name": "stdout",
          "output_type": "stream",
          "text": [
            "pymongo               2.8.1    \r\n"
          ]
        }
      ],
      "source": [
        "!pip list | grep pymongo"
      ]
    },
    {
      "cell_type": "code",
      "execution_count": null,
      "metadata": {
        "id": "e59wpoVe99rW"
      },
      "outputs": [],
      "source": [
        "import pymongo"
      ]
    },
    {
      "cell_type": "code",
      "execution_count": null,
      "metadata": {
        "id": "NMolBtZB99rW",
        "outputId": "25c782ad-c5f2-4ca9-9630-662e48fe04cd"
      },
      "outputs": [
        {
          "data": {
            "text/plain": [
              "MongoClient(host=['3.35.111.73:27017'], document_class=dict, tz_aware=False, connect=True)"
            ]
          },
          "execution_count": 41,
          "metadata": {},
          "output_type": "execute_result"
        }
      ],
      "source": [
        "# client = pymongo.MongoClient('mongodb://13.125.153.195:27017/')\n",
        "# client\n",
        "# 내거 3.35.111.73으로 설정\n",
        "client = pymongo.MongoClient('mongodb://3.35.111.73:27017/')\n",
        "client"
      ]
    },
    {
      "cell_type": "code",
      "execution_count": null,
      "metadata": {
        "id": "5ZeJWbux99rX",
        "outputId": "5eb8b506-9276-4905-e353-01687fcdd833"
      },
      "outputs": [
        {
          "data": {
            "text/plain": [
              "Collection(Database(MongoClient(host=['3.35.111.73:27017'], document_class=dict, tz_aware=False, connect=True), 'playnomore'), 'shoes')"
            ]
          },
          "execution_count": 42,
          "metadata": {},
          "output_type": "execute_result"
        }
      ],
      "source": [
        "db = client.playnomore\n",
        "collection = db.shoes\n",
        "collection"
      ]
    },
    {
      "cell_type": "code",
      "execution_count": null,
      "metadata": {
        "id": "DapmP7uF99rX",
        "outputId": "aa4f4341-2065-413b-efd5-cb7a475b1381"
      },
      "outputs": [
        {
          "ename": "TypeError",
          "evalue": "'Collection' object is not callable. If you meant to call the 'insert' method on a 'Collection' object it is failing because no such method exists.",
          "output_type": "error",
          "traceback": [
            "\u001b[1;31m---------------------------------------------------------------------------\u001b[0m",
            "\u001b[1;31mTypeError\u001b[0m                                 Traceback (most recent call last)",
            "\u001b[1;32m<ipython-input-43-263c6f274aaf>\u001b[0m in \u001b[0;36m<module>\u001b[1;34m\u001b[0m\n\u001b[0;32m      1\u001b[0m \u001b[0mdata\u001b[0m \u001b[1;33m=\u001b[0m \u001b[1;33m{\u001b[0m\u001b[1;34m\"title\"\u001b[0m\u001b[1;33m:\u001b[0m\u001b[1;34m\"신발\"\u001b[0m\u001b[1;33m}\u001b[0m\u001b[1;33m\u001b[0m\u001b[1;33m\u001b[0m\u001b[0m\n\u001b[1;32m----> 2\u001b[1;33m \u001b[0mcollection\u001b[0m\u001b[1;33m.\u001b[0m\u001b[0minsert\u001b[0m\u001b[1;33m(\u001b[0m\u001b[0mdata\u001b[0m\u001b[1;33m)\u001b[0m\u001b[1;33m\u001b[0m\u001b[1;33m\u001b[0m\u001b[0m\n\u001b[0m",
            "\u001b[1;32mC:\\ProgramData\\Anaconda3\\lib\\site-packages\\pymongo\\collection.py\u001b[0m in \u001b[0;36m__call__\u001b[1;34m(self, *args, **kwargs)\u001b[0m\n\u001b[0;32m   2582\u001b[0m                             \u001b[1;34m\"exists.\"\u001b[0m \u001b[1;33m%\u001b[0m\u001b[1;33m\u001b[0m\u001b[1;33m\u001b[0m\u001b[0m\n\u001b[0;32m   2583\u001b[0m                             self.__name)\n\u001b[1;32m-> 2584\u001b[1;33m         raise TypeError(\"'Collection' object is not callable. If you meant to \"\n\u001b[0m\u001b[0;32m   2585\u001b[0m                         \u001b[1;34m\"call the '%s' method on a 'Collection' object it is \"\u001b[0m\u001b[1;33m\u001b[0m\u001b[1;33m\u001b[0m\u001b[0m\n\u001b[0;32m   2586\u001b[0m                         \u001b[1;34m\"failing because no such method exists.\"\u001b[0m \u001b[1;33m%\u001b[0m\u001b[1;33m\u001b[0m\u001b[1;33m\u001b[0m\u001b[0m\n",
            "\u001b[1;31mTypeError\u001b[0m: 'Collection' object is not callable. If you meant to call the 'insert' method on a 'Collection' object it is failing because no such method exists."
          ]
        }
      ],
      "source": [
        "data = {\"title\":\"신발\"}\n",
        "collection.insert(data)"
      ]
    },
    {
      "cell_type": "markdown",
      "metadata": {
        "id": "_HeFUXpK99rX"
      },
      "source": [
        "##### Mongodb 모듈 파일 생성"
      ]
    },
    {
      "cell_type": "code",
      "execution_count": null,
      "metadata": {
        "id": "rBQqK-EV99rX",
        "outputId": "9b06956c-5883-451e-ab85-b19a39e51bf5"
      },
      "outputs": [
        {
          "name": "stdout",
          "output_type": "stream",
          "text": [
            "Writing playnomore/playnomore/mongodb.py\n"
          ]
        }
      ],
      "source": [
        "%%writefile playnomore/playnomore/mongodb.py\n",
        "import pymongo\n",
        "\n",
        "client = pymongo.MongoClient('mongodb://13.125.153.195:27017/')\n",
        "db = client.playnomore\n",
        "collection = db.shoes"
      ]
    },
    {
      "cell_type": "code",
      "execution_count": null,
      "metadata": {
        "id": "NWIQjjyB99rX",
        "outputId": "857df00f-68db-437a-a884-ff5489b9a424"
      },
      "outputs": [
        {
          "name": "stdout",
          "output_type": "stream",
          "text": [
            "Overwriting playnomore/playnomore/pipelines.py\n"
          ]
        }
      ],
      "source": [
        "%%writefile playnomore/playnomore/pipelines.py\n",
        "from .mongodb import collection\n",
        "\n",
        "class PlaynomorePipeline(object):\n",
        "    \n",
        "    def process_item(self, item, spider):\n",
        "        \n",
        "        data = { \"title\": item[\"title\"], \n",
        "                 \"price\": item[\"price\"],\n",
        "                 \"img\": item[\"img\"], \n",
        "                 \"link\": item[\"link\"],\n",
        "               }\n",
        "        \n",
        "        collection.insert(data)\n",
        "        \n",
        "        return item"
      ]
    },
    {
      "cell_type": "code",
      "execution_count": null,
      "metadata": {
        "id": "PwoMvJCn99rX"
      },
      "outputs": [],
      "source": [
        "!echo \"ITEM_PIPELINES = {\"  >> playnomore/playnomore/settings.py"
      ]
    },
    {
      "cell_type": "code",
      "execution_count": null,
      "metadata": {
        "id": "D1MdcAGP99rX"
      },
      "outputs": [],
      "source": [
        "!echo \"   'playnomore.pipelines.PlaynomorePipeline': 300,\" >> playnomore/playnomore/settings.py"
      ]
    },
    {
      "cell_type": "code",
      "execution_count": null,
      "metadata": {
        "id": "2MuNTnxn99rY"
      },
      "outputs": [],
      "source": [
        "!echo \"}\" >> playnomore/playnomore/settings.py"
      ]
    },
    {
      "cell_type": "code",
      "execution_count": null,
      "metadata": {
        "id": "1HGhgFGw99rY",
        "outputId": "8f118865-2ae2-4378-a33f-958c05014bd7"
      },
      "outputs": [
        {
          "name": "stdout",
          "output_type": "stream",
          "text": [
            "#HTTPCACHE_IGNORE_HTTP_CODES = []\r\n",
            "#HTTPCACHE_STORAGE = 'scrapy.extensions.httpcache.FilesystemCacheStorage'\r\n",
            "ITEM_PIPELINES = {\r\n",
            "    playnomore.pipelines.PlaynomorePipeline: 300,\r\n",
            "}\r\n"
          ]
        }
      ],
      "source": [
        "!tail -n 5 playnomore/playnomore/settings.py"
      ]
    },
    {
      "cell_type": "code",
      "execution_count": null,
      "metadata": {
        "id": "S7933v6499rY",
        "outputId": "1c2a5207-8e8e-4ce5-ddc9-a9a9fe7bc89c"
      },
      "outputs": [
        {
          "name": "stdout",
          "output_type": "stream",
          "text": [
            "cd playnomore\r\n",
            "scrapy crawl Playnomore -o playnomore2.csv -a category1=shoes -a category2=25\r\n"
          ]
        }
      ],
      "source": [
        "!cat run.sh"
      ]
    },
    {
      "cell_type": "code",
      "execution_count": null,
      "metadata": {
        "id": "wuWut6PN99rY",
        "outputId": "c9951b68-5717-4a7a-d093-1025c03da1ee"
      },
      "outputs": [
        {
          "name": "stdout",
          "output_type": "stream",
          "text": [
            "Traceback (most recent call last):\r\n",
            "  File \"/home/ubuntu/.pyenv/versions/python3/bin/scrapy\", line 8, in <module>\r\n",
            "    sys.exit(execute())\r\n",
            "  File \"/home/ubuntu/.pyenv/versions/3.6.9/envs/python3/lib/python3.6/site-packages/scrapy/cmdline.py\", line 114, in execute\r\n",
            "    settings = get_project_settings()\r\n",
            "  File \"/home/ubuntu/.pyenv/versions/3.6.9/envs/python3/lib/python3.6/site-packages/scrapy/utils/project.py\", line 69, in get_project_settings\r\n",
            "    settings.setmodule(settings_module_path, priority='project')\r\n",
            "  File \"/home/ubuntu/.pyenv/versions/3.6.9/envs/python3/lib/python3.6/site-packages/scrapy/settings/__init__.py\", line 294, in setmodule\r\n",
            "    module = import_module(module)\r\n",
            "  File \"/home/ubuntu/.pyenv/versions/3.6.9/lib/python3.6/importlib/__init__.py\", line 126, in import_module\r\n",
            "    return _bootstrap._gcd_import(name[level:], package, level)\r\n",
            "  File \"<frozen importlib._bootstrap>\", line 994, in _gcd_import\r\n",
            "  File \"<frozen importlib._bootstrap>\", line 971, in _find_and_load\r\n",
            "  File \"<frozen importlib._bootstrap>\", line 955, in _find_and_load_unlocked\r\n",
            "  File \"<frozen importlib._bootstrap>\", line 665, in _load_unlocked\r\n",
            "  File \"<frozen importlib._bootstrap_external>\", line 678, in exec_module\r\n",
            "  File \"<frozen importlib._bootstrap>\", line 219, in _call_with_frames_removed\r\n",
            "  File \"/home/ubuntu/python3/notebook/scrapy/playnomore/playnomore/settings.py\", line 92, in <module>\r\n",
            "    playnomore.pipelines.PlaynomorePipeline: 300,\r\n",
            "NameError: name 'playnomore' is not defined\r\n"
          ]
        }
      ],
      "source": [
        "!./run.sh"
      ]
    },
    {
      "cell_type": "code",
      "execution_count": null,
      "metadata": {
        "id": "UjdeAgfE99rY"
      },
      "outputs": [],
      "source": []
    },
    {
      "cell_type": "code",
      "execution_count": null,
      "metadata": {
        "id": "IIu7Zl6Y99rY"
      },
      "outputs": [],
      "source": []
    },
    {
      "cell_type": "code",
      "execution_count": null,
      "metadata": {
        "id": "BQ49b0Ou99rY"
      },
      "outputs": [],
      "source": []
    },
    {
      "cell_type": "code",
      "execution_count": null,
      "metadata": {
        "id": "Fn9p2TF999rY"
      },
      "outputs": [],
      "source": []
    },
    {
      "cell_type": "code",
      "execution_count": null,
      "metadata": {
        "id": "y2eJ6got99rY"
      },
      "outputs": [],
      "source": []
    }
  ],
  "metadata": {
    "colab": {
      "name": "04_scrapy_playnomore.ipynb",
      "provenance": []
    },
    "kernelspec": {
      "display_name": "Python 3",
      "language": "python",
      "name": "python3"
    },
    "language_info": {
      "codemirror_mode": {
        "name": "ipython",
        "version": 3
      },
      "file_extension": ".py",
      "mimetype": "text/x-python",
      "name": "python",
      "nbconvert_exporter": "python",
      "pygments_lexer": "ipython3",
      "version": "3.8.8"
    }
  },
  "nbformat": 4,
  "nbformat_minor": 0
}
